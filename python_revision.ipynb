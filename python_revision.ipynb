{
 "cells": [
  {
   "cell_type": "markdown",
   "id": "ea7a0961-a471-424f-bd12-270d315cbad9",
   "metadata": {},
   "source": [
    "# Data types "
   ]
  },
  {
   "cell_type": "markdown",
   "id": "10a10931-9b2e-484f-9515-cdc6dc858781",
   "metadata": {},
   "source": [
    "#why?\n",
    "#Numeric,text,dates\n",
    "- int,float,complex\n",
    "- text==>string\n",
    "- boolean==>True ,False\n",
    "- sequence==>multiple data\n",
    "   - list\n",
    "   - tuple\n",
    "   - set\n",
    "   - dict"
   ]
  },
  {
   "cell_type": "markdown",
   "id": "7edb49cc-d501-492b-8c5f-9294962ff5c3",
   "metadata": {},
   "source": [
    "# Mutable and immutable\n"
   ]
  },
  {
   "cell_type": "code",
   "execution_count": null,
   "id": "a2a7b87f-715b-43cc-b394-8731be82e341",
   "metadata": {},
   "outputs": [],
   "source": [
    "Mutable: LDS(list,dict,set)\n",
    "immutable: int,string,tupl"
   ]
  },
  {
   "cell_type": "markdown",
   "id": "b0afaf38-22aa-41f8-958b-65f58fd5f24a",
   "metadata": {},
   "source": [
    "\n",
    "Ordered==>slicing and indexing\n",
    "string\n",
    "- upper\n",
    "- lower\n",
    "- title\n",
    "- capitalize\n",
    "- len\n",
    "- count\n",
    "\n",
    "\n",
    "\n",
    "list\n",
    "- append\n",
    "- extend\n",
    "- insert\n",
    "- pop\n",
    "- remove\n",
    "- reverse\n",
    "- sorted\n",
    "- index\n",
    "- copy\n",
    "\n",
    "tuple\n",
    "- len\n",
    "- count\n",
    "- index\n",
    "\n",
    "Dict(key)\n",
    "- items\n",
    "- popitem\n",
    "- keys()\n",
    "- value()\n",
    "\n"
   ]
  },
  {
   "cell_type": "code",
   "execution_count": 5,
   "id": "0fd01336-c2d4-4af5-93d8-e92ae9e868f2",
   "metadata": {},
   "outputs": [
    {
     "data": {
      "text/plain": [
       "dict_items([('name', 'chetana'), ('city', 'Ratnagiri'), ('course', 'AI')])"
      ]
     },
     "execution_count": 5,
     "metadata": {},
     "output_type": "execute_result"
    }
   ],
   "source": [
    "d={\"name\":\"chetana\",\"city\":\"Ratnagiri\",\"course\":\"AI\"}\n",
    "d.items()"
   ]
  },
  {
   "cell_type": "code",
   "execution_count": 11,
   "id": "928f9d5f-2778-46b5-a8f5-92c9d8be92e5",
   "metadata": {},
   "outputs": [
    {
     "name": "stdout",
     "output_type": "stream",
     "text": [
      "chetana\n",
      "Ratnagiri\n",
      "AI\n"
     ]
    }
   ],
   "source": [
    "for value in d.values():\n",
    "    print(value)"
   ]
  },
  {
   "cell_type": "code",
   "execution_count": 13,
   "id": "88684f16-779a-4b59-a7c7-a6f8f552a731",
   "metadata": {},
   "outputs": [
    {
     "name": "stdout",
     "output_type": "stream",
     "text": [
      "name\n",
      "city\n",
      "course\n"
     ]
    }
   ],
   "source": [
    "for key in d.keys():\n",
    "    print(key)"
   ]
  },
  {
   "cell_type": "code",
   "execution_count": 14,
   "id": "f439edda-3cae-4ade-be72-0b9a9c5982eb",
   "metadata": {},
   "outputs": [
    {
     "name": "stdout",
     "output_type": "stream",
     "text": [
      "name chetana\n",
      "city Ratnagiri\n",
      "course AI\n"
     ]
    }
   ],
   "source": [
    "for key,value in d.items():\n",
    "    print(key,value)"
   ]
  },
  {
   "cell_type": "code",
   "execution_count": 7,
   "id": "ee51d65a-138d-45ac-8ec2-414bc072626b",
   "metadata": {},
   "outputs": [
    {
     "name": "stdout",
     "output_type": "stream",
     "text": [
      "4\n",
      "5\n",
      "6\n",
      "6\n"
     ]
    }
   ],
   "source": [
    "l=[4,5,6,6]\n",
    "for i in l:\n",
    "    print(i)\n",
    "    "
   ]
  },
  {
   "cell_type": "code",
   "execution_count": null,
   "id": "9a6d01ad-0416-472b-8694-65852bc9ee02",
   "metadata": {},
   "outputs": [],
   "source": [
    "#What are the diff data types in python?\n",
    "#what is the diff between list/tuple, set/list\n",
    "list/tuple\n",
    "list: mutable,[],ordered\n",
    "tuple: immutable,(),ordered\n",
    "\n",
    "set/list\n",
    "set: mutable,unordered\n",
    "list: mutable, ordered"
   ]
  },
  {
   "cell_type": "markdown",
   "id": "aab69507-802c-41b8-8372-08aca120a4dc",
   "metadata": {},
   "source": [
    "contrl flow statement\n",
    "- if else: single condition\n",
    "- if elif: more than 1 conditions: independent\n",
    "- nested if: more than 1 conditions: dependent"
   ]
  },
  {
   "cell_type": "code",
   "execution_count": 18,
   "id": "29363578-2bfd-43ed-ac9d-54bb5a7ebb7d",
   "metadata": {},
   "outputs": [
    {
     "name": "stdin",
     "output_type": "stream",
     "text": [
      "enter age: 1\n"
     ]
    },
    {
     "name": "stdout",
     "output_type": "stream",
     "text": [
      "not eligible\n"
     ]
    }
   ],
   "source": [
    "#Voting eligibility with 1 condition: \n",
    "#age>18,voting_id_card==yes==>eligible\n",
    "#age<18: not eligible\n",
    "#age>18,voting_id_card==no==>plz bring voting id card\n",
    "age=int(input(\"enter age:\"))\n",
    "\n",
    "if age>18:   #34\n",
    "    voting_id_card=input(\"Do you have voting id card?\")\n",
    "    if voting_id_card==\"yes\":\n",
    "        print(\"Eligible\")\n",
    "    else:\n",
    "        print(\"plz bring id card\")\n",
    "else:\n",
    "    print(\"not eligible\")\n",
    "        "
   ]
  },
  {
   "cell_type": "code",
   "execution_count": 21,
   "id": "62503258-b29c-46d8-8cc5-27b8d4598a59",
   "metadata": {},
   "outputs": [
    {
     "name": "stdin",
     "output_type": "stream",
     "text": [
      " -\n"
     ]
    },
    {
     "name": "stdout",
     "output_type": "stream",
     "text": [
      "-33\n"
     ]
    }
   ],
   "source": [
    "#calculator\n",
    "n1=45\n",
    "n2=78\n",
    "operator=input()\n",
    "if operator==\"+\":\n",
    "    print(n1+n2)\n",
    "elif operator==\"-\":\n",
    "    print(n1-n2)\n"
   ]
  },
  {
   "cell_type": "code",
   "execution_count": 22,
   "id": "8f71dee7-4b71-4515-9670-efd75ac8bf22",
   "metadata": {},
   "outputs": [],
   "source": [
    "#Loops: repeating\n",
    "#range,sequence\n",
    "#for ,while\n",
    "#for: range():limited\n",
    "#while: limited ,unlimeted\n"
   ]
  },
  {
   "cell_type": "markdown",
   "id": "a854e53c-d0e6-4f55-84b2-46a403e1353f",
   "metadata": {},
   "source": [
    "# functions"
   ]
  },
  {
   "cell_type": "code",
   "execution_count": 23,
   "id": "fe592f3d-b037-4ac7-bc0d-57403cb23fae",
   "metadata": {},
   "outputs": [],
   "source": [
    "# we can write a code in a block to do specific job\n",
    "#we can reuse or recall function whenever we want\n",
    "def add (a,b):\n",
    "    return a+b"
   ]
  },
  {
   "cell_type": "code",
   "execution_count": 26,
   "id": "d3e5ea5a-dbef-427a-bee3-8d28f1330208",
   "metadata": {},
   "outputs": [
    {
     "name": "stdout",
     "output_type": "stream",
     "text": [
      "a\n",
      "i\n",
      "u\n",
      "o\n"
     ]
    }
   ],
   "source": [
    "#list conprehension: one liner of python\n",
    "#[result for loop if condition]\n",
    "l=[\"a\",\"v\",\"i\",\"u\",\"o\"]\n",
    "#seperate vowels from this\n",
    "vowels=\"aeiou\"  #initializatio\n",
    "for char in l:\n",
    "    if char in vowels:\n",
    "        print(char)"
   ]
  },
  {
   "cell_type": "code",
   "execution_count": 27,
   "id": "00a502a8-4bc0-490d-9698-2470e0d920d0",
   "metadata": {},
   "outputs": [
    {
     "data": {
      "text/plain": [
       "['a', 'i', 'u', 'o']"
      ]
     },
     "execution_count": 27,
     "metadata": {},
     "output_type": "execute_result"
    }
   ],
   "source": [
    "[char for char in l if char in vowels]"
   ]
  },
  {
   "cell_type": "markdown",
   "id": "439e38f1-8826-4214-8413-661dfdd80007",
   "metadata": {},
   "source": [
    "# Questions from assignment"
   ]
  },
  {
   "cell_type": "code",
   "execution_count": 33,
   "id": "dcd32bbe-bb17-46ca-a2e9-c8db054d6cd8",
   "metadata": {},
   "outputs": [
    {
     "name": "stdin",
     "output_type": "stream",
     "text": [
      "enter numnber 2\n"
     ]
    },
    {
     "name": "stdout",
     "output_type": "stream",
     "text": [
      "prime\n"
     ]
    }
   ],
   "source": [
    "#Print prime numbers from 1 to 20 using a for loop.\n",
    "#1,number itself\n",
    "#13: 13%1==0 and 13%13==0\n",
    "#13%4!=0\n",
    "num=int(input(\"enter numnber\"))  #7\n",
    "for i in range(2,num):   #1,2,3,4,5,6\n",
    "    if num%i==0:  #45%3\n",
    "        print(\"not prime\")\n",
    "        break\n",
    "else:\n",
    "    print(\"prime\")\n",
    "\n",
    "\n"
   ]
  },
  {
   "cell_type": "code",
   "execution_count": 32,
   "id": "93872061-e4fb-4433-8473-fda25fe723df",
   "metadata": {},
   "outputs": [
    {
     "name": "stdout",
     "output_type": "stream",
     "text": [
      "2\n",
      "3\n",
      "5\n",
      "7\n",
      "11\n",
      "13\n",
      "17\n",
      "19\n"
     ]
    }
   ],
   "source": [
    "for num in range(2,21):    \n",
    "    is_prime=True\n",
    "    for i in range(2,num):\n",
    "        if num%i==0:\n",
    "            is_prime=False\n",
    "            break\n",
    "    if is_prime:\n",
    "        print(num)\n",
    "\n",
    "#step1\n",
    "#outer:1st for loop num=6\n",
    "#inner:1st inner for loop:(2,6)==2,3,4,5\n",
    "#if 6%2"
   ]
  },
  {
   "cell_type": "code",
   "execution_count": 35,
   "id": "3d85b9c9-9743-4de9-899f-4c512befd57a",
   "metadata": {},
   "outputs": [
    {
     "name": "stdout",
     "output_type": "stream",
     "text": [
      "34\n"
     ]
    }
   ],
   "source": [
    "#Build a program that calculates the sum of digits of a given number using a for loop.\n",
    "num=1783456   #int\n",
    "#string\n",
    "#total\n",
    "total=0   #num\n",
    "num_str=str(num)\n",
    "for i in num_str:  #\"1783456\"\n",
    "    total=total+int(i)\n",
    "print(total)"
   ]
  },
  {
   "cell_type": "code",
   "execution_count": 37,
   "id": "02bd8ff2-ce35-4d39-b31b-c4b8da1f91f0",
   "metadata": {},
   "outputs": [],
   "source": [
    "s=\"1245\"\n",
    "l=[123,34]"
   ]
  },
  {
   "cell_type": "code",
   "execution_count": null,
   "id": "2a948d94-27c8-4378-b470-e6592d8b491c",
   "metadata": {},
   "outputs": [],
   "source": []
  }
 ],
 "metadata": {
  "kernelspec": {
   "display_name": "Python 3 (ipykernel)",
   "language": "python",
   "name": "python3"
  },
  "language_info": {
   "codemirror_mode": {
    "name": "ipython",
    "version": 3
   },
   "file_extension": ".py",
   "mimetype": "text/x-python",
   "name": "python",
   "nbconvert_exporter": "python",
   "pygments_lexer": "ipython3",
   "version": "3.11.7"
  }
 },
 "nbformat": 4,
 "nbformat_minor": 5
}
