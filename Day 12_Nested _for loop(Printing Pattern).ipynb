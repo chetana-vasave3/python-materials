{
 "cells": [
  {
   "cell_type": "markdown",
   "id": "4a658924-57e6-4db7-97ae-d520d47bea5e",
   "metadata": {},
   "source": [
    "# Printing Patterns"
   ]
  },
  {
   "cell_type": "markdown",
   "id": "3b9be4e0-6b7e-4d9f-aed5-512dd0d68a62",
   "metadata": {},
   "source": [
    "#### We require 5 things"
   ]
  },
  {
   "cell_type": "markdown",
   "id": "28e2275e-7a01-4a47-bebc-2ae6d49ee5c2",
   "metadata": {},
   "source": [
    "- 1. Input : How Many rows\n",
    "- 2. Two For loops : one for rows and one for columns\n",
    "- 3. range(start,stop,step)\n",
    "- 4. Print() or \\n: empty print fn /New line \n",
    "- 5. end=\" \"                                         \n",
    "                                         \n",
    "                                         "
   ]
  },
  {
   "cell_type": "code",
   "execution_count": 1,
   "id": "b6b14411-44c9-40e0-83f3-759e228ab50d",
   "metadata": {},
   "outputs": [
    {
     "name": "stdout",
     "output_type": "stream",
     "text": [
      "Hello\n",
      "Everyone\n"
     ]
    }
   ],
   "source": [
    "print(\"Hello\")\n",
    "print(\"Everyone\")"
   ]
  },
  {
   "cell_type": "code",
   "execution_count": 5,
   "id": "d413ca64-38b9-40b3-98ba-ace2667fdc2d",
   "metadata": {},
   "outputs": [
    {
     "name": "stdout",
     "output_type": "stream",
     "text": [
      "hello Everyone\n"
     ]
    }
   ],
   "source": [
    "print(\"hello\", end=\" \")\n",
    "print(\"Everyone\")"
   ]
  },
  {
   "cell_type": "code",
   "execution_count": 12,
   "id": "8775492c-5fb0-4973-bb1a-9a49aad82f0b",
   "metadata": {},
   "outputs": [
    {
     "name": "stdout",
     "output_type": "stream",
     "text": [
      "# \n",
      "# # \n",
      "# # # \n",
      "# # # # \n",
      "# # # # # \n"
     ]
    }
   ],
   "source": [
    "for row in range(1,6):  #row=3\n",
    "    for column in range(row):   #Range(start,stop,step)  (0,3)  0,1,2\n",
    "        print(\"#\", end=\" \")\n",
    "    print()  #new line\n",
    "#2nd for loop row=3\n",
    "    #for "
   ]
  },
  {
   "cell_type": "code",
   "execution_count": 13,
   "id": "6517a1f0-5920-4594-ba66-6232ad68ad77",
   "metadata": {},
   "outputs": [
    {
     "name": "stdout",
     "output_type": "stream",
     "text": [
      "# # # # # \n",
      "# # # # # \n",
      "# # # # # \n",
      "# # # # # \n",
      "# # # # # \n"
     ]
    }
   ],
   "source": [
    "for row in range(1,6):    #no of rows=5,    6\n",
    "    for column in range(1,6):   # 1,5\n",
    "        print(\"#\", end=\" \")\n",
    "    print() \n",
    "#first outer for loop row=1\n",
    "#inner for loop"
   ]
  },
  {
   "cell_type": "code",
   "execution_count": 14,
   "id": "9e082bea-430a-480d-bdfc-7abed54abd0d",
   "metadata": {},
   "outputs": [
    {
     "name": "stdout",
     "output_type": "stream",
     "text": [
      "# \n",
      "# \n",
      "# \n",
      "# \n",
      "# \n"
     ]
    }
   ],
   "source": [
    "for row in range(1,6):    \n",
    "    for column in range(1,2):   \n",
    "        print(\"#\", end=\" \")\n",
    "    print()\n",
    "#outer for loop : row=1\n",
    "#inner for loop : column(1,2)  #\n",
    "#outer for loop : row=2\n",
    "#inner for loop : column(1,2)"
   ]
  },
  {
   "cell_type": "code",
   "execution_count": 15,
   "id": "d77c89e2-6d0b-4598-987b-04259900cfa7",
   "metadata": {},
   "outputs": [
    {
     "name": "stdout",
     "output_type": "stream",
     "text": [
      "* \n",
      "* * \n",
      "* * * \n",
      "* * * * \n",
      "* * * * * \n"
     ]
    }
   ],
   "source": [
    "for row in range(1,6):      0\n",
    "    for column in range(0,row):   \n",
    "        print(\"*\", end=\" \")\n",
    "    print()\n",
    "#outer loop==> row=1\n",
    "#inner for lop==>0,1   *\n",
    "\n",
    "#outer loop==>row=2\n",
    "#inner for lop==>0,2 : two times   * *\n",
    "    \n",
    "#outer loop==>row=3\n",
    "#inner for lop==>0,3 ==>0,1,2  * * *\n",
    "#outer loop\n",
    "#inner for lop\n",
    "#outer loop\n",
    "#inner for lop"
   ]
  },
  {
   "cell_type": "code",
   "execution_count": 20,
   "id": "ca1abf92-60ee-43e7-ad81-d809b18c2864",
   "metadata": {},
   "outputs": [
    {
     "name": "stdout",
     "output_type": "stream",
     "text": [
      "Hello$\n",
      "\n",
      "Hello$\n",
      "\n",
      "Hello$\n",
      "\n",
      "Hello$\n",
      "\n",
      "Hello$\n",
      "\n"
     ]
    }
   ],
   "source": [
    "for row in range(1,6):  #5 rows\n",
    "    print(\"Hello\",end=\"$\")\n",
    "    print(\"\\n\")"
   ]
  },
  {
   "cell_type": "code",
   "execution_count": 24,
   "id": "b779522c-cfc1-44d7-9972-dd192548d9d6",
   "metadata": {},
   "outputs": [
    {
     "name": "stdin",
     "output_type": "stream",
     "text": [
      "Enter Number of Riws: 6\n"
     ]
    },
    {
     "name": "stdout",
     "output_type": "stream",
     "text": [
      "+\n",
      "\n",
      "\n",
      "+\n",
      "\n",
      "\n",
      "+\n",
      "\n",
      "\n",
      "+\n",
      "\n",
      "\n",
      "+\n",
      "\n",
      "\n",
      "+\n",
      "\n",
      "\n"
     ]
    }
   ],
   "source": [
    "no_of_rows=int(input(\"Enter Number of Riws:\"))  #5\n",
    "for row in range(1,no_of_rows+1):\n",
    "    print(\"+\")\n",
    "    print(\"\\n\")"
   ]
  },
  {
   "cell_type": "code",
   "execution_count": 33,
   "id": "b709482b-165b-4027-bc8b-7c6392587978",
   "metadata": {},
   "outputs": [
    {
     "name": "stdout",
     "output_type": "stream",
     "text": [
      "# # # # \n",
      "# # # # \n",
      "# # # # \n",
      "# # # # "
     ]
    }
   ],
   "source": [
    "for row in range(4):  #0,4\n",
    "    print(\"#\",end=\" \")\n",
    "print()\n",
    "for row in range(4):  #0,4\n",
    "    print(\"#\",end=\" \")\n",
    "print()\n",
    "for row in range(4):  #0,4\n",
    "    print(\"#\",end=\" \")\n",
    "print()\n",
    "for row in range(4):  #0,4\n",
    "    print(\"#\",end=\" \")\n"
   ]
  },
  {
   "cell_type": "code",
   "execution_count": 34,
   "id": "a40803e6-f84c-40b2-ad5a-a68de4d4dd59",
   "metadata": {},
   "outputs": [
    {
     "name": "stdout",
     "output_type": "stream",
     "text": [
      "# # # # \n",
      "# # # # \n",
      "# # # # \n",
      "# # # # \n"
     ]
    }
   ],
   "source": [
    "#outer for loop and inner for loop\n",
    "for row in range(4):\n",
    "    for column in range(4):\n",
    "        print(\"#\",end=\" \")\n",
    "    print()\n",
    "# outer for loop: row=1\n",
    "# inner for loop: col=0,4==>0,1,2,3"
   ]
  },
  {
   "cell_type": "code",
   "execution_count": 35,
   "id": "c6cc7079-c366-44e9-97a0-1ee4cecd96ad",
   "metadata": {},
   "outputs": [
    {
     "name": "stdout",
     "output_type": "stream",
     "text": [
      "# \n",
      "# # \n",
      "# # # \n",
      "# # # # "
     ]
    }
   ],
   "source": [
    "for row in range(1):  #0,1\n",
    "    print(\"#\",end=\" \")\n",
    "print()\n",
    "for row in range(2):  #0,2\n",
    "    print(\"#\",end=\" \")\n",
    "print()\n",
    "for row in range(3):  #0,3\n",
    "    print(\"#\",end=\" \")\n",
    "print()\n",
    "for row in range(4):  #0,4\n",
    "    print(\"#\",end=\" \")"
   ]
  },
  {
   "cell_type": "code",
   "execution_count": 37,
   "id": "3245a06a-b2cf-445b-b0dd-fdfe5e4b8291",
   "metadata": {},
   "outputs": [
    {
     "name": "stdout",
     "output_type": "stream",
     "text": [
      "# \n",
      "# # \n",
      "# # # \n",
      "# # # # \n"
     ]
    }
   ],
   "source": [
    "for row in range(1,5):  #0,4  : 4 rows\n",
    "    for column in range(row):   #0,row\n",
    "        print(\"#\" , end=\" \")\n",
    "    print()\n",
    "#outer ==> 1\n",
    "#inner==>0,1   #\n",
    "#outer ==> 2\n",
    "#inner==>0,2  # #\n",
    "\n",
    "#outer ==> 2\n",
    "#inner==>0,2  2times  # #\n",
    "\n",
    "#outer ==> 3\n",
    "#inner==>0,3  3 times  # # #"
   ]
  },
  {
   "cell_type": "code",
   "execution_count": 41,
   "id": "8059f22b-424e-4a05-b752-053474fecc54",
   "metadata": {},
   "outputs": [
    {
     "name": "stdout",
     "output_type": "stream",
     "text": [
      "# \n",
      "\n",
      "# # \n",
      "\n",
      "# # # \n",
      "\n",
      "# # # # \n",
      "\n"
     ]
    }
   ],
   "source": [
    "for row in range(1,5):  #0,4  : 4 rows\n",
    "        print(\"# \" * row )\n",
    "        print()\n",
    "#row=1\n",
    "# #\n",
    "#row=2\n",
    "#  # #"
   ]
  },
  {
   "cell_type": "code",
   "execution_count": 44,
   "id": "7553bb85-c267-4e6b-bc98-9aad2d76728a",
   "metadata": {},
   "outputs": [
    {
     "name": "stdout",
     "output_type": "stream",
     "text": [
      "* * * * * * * * * * \n",
      "* * * * * * * * * \n",
      "* * * * * * * * \n",
      "* * * * * * * \n",
      "* * * * * * \n",
      "* * * * * \n",
      "* * * * \n",
      "* * * \n",
      "* * \n",
      "* \n"
     ]
    }
   ],
   "source": [
    "# # # #\n",
    "# # #\n",
    "# #\n",
    "#\n",
    "for row in range(1,11):\n",
    "    for column in range(0,11-row):\n",
    "        print(\"*\",end=\" \")\n",
    "    print()\n",
    "\n",
    "\n",
    "#outer  row=1\n",
    "#inner col=0==>0,9   * * *\n",
    "\n",
    "\n",
    "#outer  row=2\n",
    "#inner col=0==>0,8  *\n",
    "\n",
    "\n",
    "#outer  row=3\n",
    "#inner col=0==>0,2   * *\n",
    "        "
   ]
  },
  {
   "cell_type": "code",
   "execution_count": 49,
   "id": "dce5b09b-4815-4a9a-a168-33e31e3c592a",
   "metadata": {},
   "outputs": [
    {
     "name": "stdin",
     "output_type": "stream",
     "text": [
      "Enter No.of rows 5\n"
     ]
    },
    {
     "name": "stdout",
     "output_type": "stream",
     "text": [
      "* * * * * \n",
      "* * * * \n",
      "* * * \n",
      "* * \n",
      "* \n"
     ]
    }
   ],
   "source": [
    "no_of_rows=int(input(\"Enter No.of rows\"))  #5\n",
    "for row in range(1,no_of_rows+1):\n",
    "    for column in range(0,no_of_rows+1-row):\n",
    "        print(\"*\",end=\" \")\n",
    "    print()\n",
    "\n",
    "\n",
    "#outer row=1\n",
    "#inner 0,5+1-1  (0,5)  * * * * *\n",
    "\n",
    "#outer  row =2\n",
    "#inner 0,5+1-2 ==>(0,4)  * * * *\n",
    "\n",
    "#outer  row=3\n",
    "#inner col(1,2)  *\n",
    "\n",
    "#oter row=4\n",
    "#inner col(1,1) \n"
   ]
  },
  {
   "cell_type": "code",
   "execution_count": null,
   "id": "cdf6eb64-7bba-4404-a011-dd17931c1dd0",
   "metadata": {},
   "outputs": [],
   "source": [
    "#Pattern print\n",
    "# 1\n",
    "# 1 2 \n",
    "# 1 2 3\n",
    "# 1 2 3 4\n",
    "# 1 2 3 4 5\n",
    "\n",
    "While loop"
   ]
  },
  {
   "cell_type": "code",
   "execution_count": 1,
   "id": "438f8c05-148a-47d4-a44a-460c0dfabca6",
   "metadata": {},
   "outputs": [
    {
     "name": "stdout",
     "output_type": "stream",
     "text": [
      "1 \n",
      "1 2 \n",
      "1 2 3 \n",
      "1 2 3 4 \n",
      "1 2 3 4 5 \n"
     ]
    }
   ],
   "source": [
    "for row in range(1,6):\n",
    "    for col in range(1,row+1):\n",
    "        print(col,end=\" \")\n",
    "    print()\n",
    "#outer row=2\n",
    "#inner col (1,3)  1 2"
   ]
  },
  {
   "cell_type": "code",
   "execution_count": 2,
   "id": "cc69d1ce-782a-42ba-9b13-71f427028dfd",
   "metadata": {},
   "outputs": [
    {
     "name": "stdout",
     "output_type": "stream",
     "text": [
      "1 2 3 4 5 \n",
      "1 2 3 4 5 \n",
      "1 2 3 4 5 \n",
      "1 2 3 4 5 \n",
      "1 2 3 4 5 \n"
     ]
    }
   ],
   "source": [
    "# 1 2 3 4 5\n",
    "# 1 2 3 4 5 \n",
    "# 1 2 3 4 5\n",
    "# 1 2 3 4 5\n",
    "# 1 2 3 4 5\n",
    "for row in range(1,6):\n",
    "    for col in range(1,6):\n",
    "        print(col,end=\" \")\n",
    "    print()"
   ]
  },
  {
   "cell_type": "code",
   "execution_count": 5,
   "id": "56f3f600-ca11-4282-8ce0-7276769cb69d",
   "metadata": {},
   "outputs": [
    {
     "name": "stdout",
     "output_type": "stream",
     "text": [
      "1 2 3 4 5 \n",
      "1 2 3 4 \n",
      "1 2 3 \n",
      "1 2 \n",
      "1 \n"
     ]
    }
   ],
   "source": [
    "# 1 2 3 4 5\n",
    "# 1 2 3 4 \n",
    "# 1 2 3 \n",
    "# 1 2 \n",
    "# 1 \n",
    "for row in range(1,6):\n",
    "    for col in range(1,6-row+1):\n",
    "        print(col,end=\" \")\n",
    "    print()\n",
    "\n",
    "#outer row=2\n",
    "#inner col(1,7-2)==>1,5"
   ]
  },
  {
   "cell_type": "code",
   "execution_count": null,
   "id": "5059d85b-3d7c-4351-aa20-0a10dd444649",
   "metadata": {},
   "outputs": [],
   "source": []
  }
 ],
 "metadata": {
  "kernelspec": {
   "display_name": "Python 3 (ipykernel)",
   "language": "python",
   "name": "python3"
  },
  "language_info": {
   "codemirror_mode": {
    "name": "ipython",
    "version": 3
   },
   "file_extension": ".py",
   "mimetype": "text/x-python",
   "name": "python",
   "nbconvert_exporter": "python",
   "pygments_lexer": "ipython3",
   "version": "3.11.7"
  }
 },
 "nbformat": 4,
 "nbformat_minor": 5
}
