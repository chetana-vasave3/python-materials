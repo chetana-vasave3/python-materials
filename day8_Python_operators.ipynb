{
 "cells": [
  {
   "cell_type": "markdown",
   "id": "3acac0a6-1403-4650-9283-87f9f7b465e1",
   "metadata": {},
   "source": [
    "- 1. Arithemtic Operators(+,-,*,/)\n",
    "- 2. Assignment Operator\n",
    "- 3. Logical Operator\n",
    "- 4. Identity Operators(is ,is not)\n",
    "- 5. Membership Operator(in, not in)\n",
    "- 6. Bitwise operator\n",
    "- 7. Relational/Comparision operators(<,>,<=,>=,==,!=)\n"
   ]
  },
  {
   "cell_type": "markdown",
   "id": "ebb3753d-e479-40c4-a4d0-0fc78d9821b8",
   "metadata": {},
   "source": [
    "Operator Precedence\n"
   ]
  },
  {
   "cell_type": "markdown",
   "id": "9897d454-14c9-406d-bbfc-b7379f894b83",
   "metadata": {},
   "source": [
    "# Assignment Operator"
   ]
  },
  {
   "cell_type": "markdown",
   "id": "9c9851e2-6d45-443c-bccc-a2101d7ddbf3",
   "metadata": {},
   "source": [
    "- =\n"
   ]
  },
  {
   "cell_type": "code",
   "execution_count": 1,
   "id": "17761b3c-f158-48b9-bbda-a33f6133f7c4",
   "metadata": {},
   "outputs": [],
   "source": [
    "a=12"
   ]
  },
  {
   "cell_type": "code",
   "execution_count": 2,
   "id": "5a420eb5-2929-4efd-a45e-f1f260540062",
   "metadata": {},
   "outputs": [
    {
     "data": {
      "text/plain": [
       "17"
      ]
     },
     "execution_count": 2,
     "metadata": {},
     "output_type": "execute_result"
    }
   ],
   "source": [
    "#a+5\n",
    "a=a+5\n",
    "a"
   ]
  },
  {
   "cell_type": "code",
   "execution_count": 3,
   "id": "2d68c95e-ec45-47a2-af7f-11072514ca2c",
   "metadata": {},
   "outputs": [
    {
     "data": {
      "text/plain": [
       "110"
      ]
     },
     "execution_count": 3,
     "metadata": {},
     "output_type": "execute_result"
    }
   ],
   "source": [
    "a=100\n",
    "#a=a+10\n",
    "a+=10\n",
    "a"
   ]
  },
  {
   "cell_type": "code",
   "execution_count": 4,
   "id": "515428e5-b4ee-488f-a0bf-128c92768069",
   "metadata": {},
   "outputs": [
    {
     "data": {
      "text/plain": [
       "100"
      ]
     },
     "execution_count": 4,
     "metadata": {},
     "output_type": "execute_result"
    }
   ],
   "source": [
    "#a=a-10\n",
    "a-=10\n",
    "a"
   ]
  },
  {
   "cell_type": "markdown",
   "id": "70928570-115d-4cb8-bf9e-e0c229bc4305",
   "metadata": {},
   "source": [
    "- *=\n",
    "- /="
   ]
  },
  {
   "cell_type": "code",
   "execution_count": null,
   "id": "d4ebe693-0294-4701-b352-ae119a7ccb16",
   "metadata": {},
   "outputs": [],
   "source": [
    "%===>"
   ]
  },
  {
   "cell_type": "code",
   "execution_count": 5,
   "id": "27ed9106-9769-4526-be94-88d9c0794d7e",
   "metadata": {},
   "outputs": [
    {
     "data": {
      "text/plain": [
       "0"
      ]
     },
     "execution_count": 5,
     "metadata": {},
     "output_type": "execute_result"
    }
   ],
   "source": [
    "10%5   #modulus/remainder"
   ]
  },
  {
   "cell_type": "code",
   "execution_count": 6,
   "id": "cc05e5f6-e72c-4fc9-86f4-1db05396c03d",
   "metadata": {},
   "outputs": [
    {
     "data": {
      "text/plain": [
       "2"
      ]
     },
     "execution_count": 6,
     "metadata": {},
     "output_type": "execute_result"
    }
   ],
   "source": [
    "12%5"
   ]
  },
  {
   "cell_type": "code",
   "execution_count": 7,
   "id": "5a010509-a9ee-4b3a-acef-2393473bd6b8",
   "metadata": {},
   "outputs": [
    {
     "data": {
      "text/plain": [
       "2.4"
      ]
     },
     "execution_count": 7,
     "metadata": {},
     "output_type": "execute_result"
    }
   ],
   "source": [
    "12/5  #division"
   ]
  },
  {
   "cell_type": "code",
   "execution_count": 8,
   "id": "bf021746-7c4b-403e-8567-719750a85dfa",
   "metadata": {},
   "outputs": [
    {
     "data": {
      "text/plain": [
       "2"
      ]
     },
     "execution_count": 8,
     "metadata": {},
     "output_type": "execute_result"
    }
   ],
   "source": [
    "12//5   #//: floor division: Qotient"
   ]
  },
  {
   "cell_type": "code",
   "execution_count": 9,
   "id": "f96fc085-cebc-4597-b8b6-db4c65bf6f91",
   "metadata": {},
   "outputs": [
    {
     "data": {
      "text/plain": [
       "2"
      ]
     },
     "execution_count": 9,
     "metadata": {},
     "output_type": "execute_result"
    }
   ],
   "source": [
    "8//4"
   ]
  },
  {
   "cell_type": "code",
   "execution_count": 10,
   "id": "ab0ecd2b-43a4-4272-946b-cbf495312e74",
   "metadata": {},
   "outputs": [
    {
     "data": {
      "text/plain": [
       "0"
      ]
     },
     "execution_count": 10,
     "metadata": {},
     "output_type": "execute_result"
    }
   ],
   "source": [
    "8%4"
   ]
  },
  {
   "cell_type": "markdown",
   "id": "baca34bb-161c-4fbd-91c3-ec9377dad884",
   "metadata": {},
   "source": [
    "# Logical Operators"
   ]
  },
  {
   "cell_type": "markdown",
   "id": "1bdca5fd-9df4-4d27-b3d7-eea362dd2d3f",
   "metadata": {},
   "source": [
    "- and\n",
    "- or\n",
    "- not"
   ]
  },
  {
   "cell_type": "code",
   "execution_count": 13,
   "id": "d62985e7-e53a-4a58-8c07-8628d7694140",
   "metadata": {},
   "outputs": [
    {
     "data": {
      "text/plain": [
       "True"
      ]
     },
     "execution_count": 13,
     "metadata": {},
     "output_type": "execute_result"
    }
   ],
   "source": [
    "a=100\n",
    "b=50\n",
    "a >=100 and b<=50"
   ]
  },
  {
   "cell_type": "code",
   "execution_count": 14,
   "id": "a60e1e76-dba7-4974-af17-63ca81306d69",
   "metadata": {},
   "outputs": [
    {
     "data": {
      "text/plain": [
       "True"
      ]
     },
     "execution_count": 14,
     "metadata": {},
     "output_type": "execute_result"
    }
   ],
   "source": [
    "a<200 or b<50"
   ]
  },
  {
   "cell_type": "code",
   "execution_count": 17,
   "id": "4ca67df2-c968-4636-993e-58e166da9cc9",
   "metadata": {},
   "outputs": [
    {
     "name": "stdin",
     "output_type": "stream",
     "text": [
      "Enter your Age: 45\n",
      "Do you have voter id card?(yes/no) yes\n"
     ]
    },
    {
     "name": "stdout",
     "output_type": "stream",
     "text": [
      "you are eligible\n"
     ]
    }
   ],
   "source": [
    "age=int(input(\"Enter your Age:\"))\n",
    "voter_id=input(\"Do you have voter id card?(yes/no)\")\n",
    "if age>18 and voter_id==\"yes\":\n",
    "    print(\"you are eligible\")\n",
    "else:\n",
    "    print(\"you are not eligible\")\n",
    "    "
   ]
  },
  {
   "cell_type": "code",
   "execution_count": 18,
   "id": "80fcdd57-ff60-42fb-b6ab-1a815e83a8bd",
   "metadata": {},
   "outputs": [
    {
     "data": {
      "text/plain": [
       "False"
      ]
     },
     "execution_count": 18,
     "metadata": {},
     "output_type": "execute_result"
    }
   ],
   "source": [
    "l=[1,4,5]\n",
    "1 not in l"
   ]
  },
  {
   "cell_type": "markdown",
   "id": "c30fe8ca-24d1-43e8-b08d-7a954ad409a3",
   "metadata": {},
   "source": [
    "- is\n",
    "- is not"
   ]
  },
  {
   "cell_type": "code",
   "execution_count": 19,
   "id": "1b2f6208-847d-47ce-9d47-152c7c3915b2",
   "metadata": {},
   "outputs": [
    {
     "name": "stdout",
     "output_type": "stream",
     "text": [
      "yes\n"
     ]
    }
   ],
   "source": [
    "a=123\n",
    "b=34.8\n",
    "if type(a) is int:\n",
    "    print(\"yes\")"
   ]
  },
  {
   "cell_type": "code",
   "execution_count": 20,
   "id": "77255e38-bea9-49e1-985b-5b68fc1d0b90",
   "metadata": {},
   "outputs": [
    {
     "name": "stdout",
     "output_type": "stream",
     "text": [
      "yes\n"
     ]
    }
   ],
   "source": [
    "if type(b) is not int:\n",
    "    print(\"yes\")\n",
    "else:\n",
    "     print(\"no\")"
   ]
  },
  {
   "cell_type": "code",
   "execution_count": 22,
   "id": "6abab047-ab98-4932-9d9c-8e58cc63d434",
   "metadata": {},
   "outputs": [
    {
     "name": "stdout",
     "output_type": "stream",
     "text": [
      "yes\n"
     ]
    }
   ],
   "source": [
    "a=100\n",
    "b=80\n",
    "if a!=50 and b<=100:\n",
    "    print(\"yes\")\n",
    "else:\n",
    "    print(\"no\")\n"
   ]
  },
  {
   "cell_type": "markdown",
   "id": "3a7605b7-da52-48e8-9d2d-ba469be12979",
   "metadata": {},
   "source": [
    "# Bitwise operators"
   ]
  },
  {
   "cell_type": "markdown",
   "id": "8477d54f-f808-4cd7-b4de-76040ca82d3a",
   "metadata": {},
   "source": [
    "& and operator\n",
    "| or operator"
   ]
  },
  {
   "cell_type": "code",
   "execution_count": 23,
   "id": "0dd126a5-2d0c-451e-9427-65e0e506bd8f",
   "metadata": {},
   "outputs": [
    {
     "data": {
      "text/plain": [
       "8"
      ]
     },
     "execution_count": 23,
     "metadata": {},
     "output_type": "execute_result"
    }
   ],
   "source": [
    " 12&10"
   ]
  },
  {
   "cell_type": "code",
   "execution_count": 24,
   "id": "34a444f5-ac7b-4f09-af55-5cd8dfdd6e22",
   "metadata": {},
   "outputs": [],
   "source": [
    "#int to binary:16 8 4 2 1\n",
    "#4 digit or 8 digit binary(1 and 0)\n",
    "#e.g. 20==>1 0 1 0 0  =>0 0 0 1 0 1 0 0\n",
    "#12==>binary===>1 1 0 0\n",
    "#10==>1 0 1 0\n",
    "#1 1 1 0\n",
    "#1==>binary==>0 0 0 1\n",
    "\n",
    "#15==>binary:1 1 1 1\n",
    "#16==>0 0 0 1 0 0 0 0"
   ]
  },
  {
   "cell_type": "code",
   "execution_count": 25,
   "id": "f26e62f7-b153-4b9f-970d-7e875bce66aa",
   "metadata": {},
   "outputs": [
    {
     "data": {
      "text/plain": [
       "14"
      ]
     },
     "execution_count": 25,
     "metadata": {},
     "output_type": "execute_result"
    }
   ],
   "source": [
    "12 | 10"
   ]
  },
  {
   "cell_type": "code",
   "execution_count": 26,
   "id": "2484717d-c437-494c-b2eb-5e4d21490e64",
   "metadata": {},
   "outputs": [
    {
     "data": {
      "text/plain": [
       "4"
      ]
     },
     "execution_count": 26,
     "metadata": {},
     "output_type": "execute_result"
    }
   ],
   "source": [
    "5 & 4\n",
    "\n",
    "#0 1 0 1\n",
    "#0 1 0 0\n",
    "#ans=0100"
   ]
  },
  {
   "cell_type": "code",
   "execution_count": 27,
   "id": "e4d5af1b-85c5-49f7-8cfe-22da4c3d3532",
   "metadata": {},
   "outputs": [
    {
     "data": {
      "text/plain": [
       "5"
      ]
     },
     "execution_count": 27,
     "metadata": {},
     "output_type": "execute_result"
    }
   ],
   "source": [
    "5 | 4"
   ]
  },
  {
   "cell_type": "markdown",
   "id": "80f9f1b3-24d6-445f-9f8e-f413cfcb7a5f",
   "metadata": {},
   "source": [
    "# operatpr precedence"
   ]
  },
  {
   "cell_type": "code",
   "execution_count": 29,
   "id": "335bbae4-c583-470f-acf9-99531c625790",
   "metadata": {},
   "outputs": [
    {
     "data": {
      "text/plain": [
       "1"
      ]
     },
     "execution_count": 29,
     "metadata": {},
     "output_type": "execute_result"
    }
   ],
   "source": [
    "1**4"
   ]
  },
  {
   "cell_type": "code",
   "execution_count": null,
   "id": "34c7d709-094f-4013-a9d9-c76f9c4bc32f",
   "metadata": {},
   "outputs": [],
   "source": []
  },
  {
   "cell_type": "markdown",
   "id": "25263316-af1c-4d76-995a-5690fec4ebd8",
   "metadata": {},
   "source": [
    "- () : parenthesis\n",
    "- ** :Power/raise to: Exponent\n",
    "- +a,-b: unary plus,unary minus\n",
    "- *,-,+,%,//,/\n",
    "- & | : Bitwise and /Bitwise or\n",
    "- << ,>> : Bitwise shift operator\n",
    "-  ==, <=\n",
    "- not in ,in\n"
   ]
  },
  {
   "cell_type": "markdown",
   "id": "ba61cf31-c34f-4343-87ea-5b9f22f516c6",
   "metadata": {},
   "source": [
    "# << ,>> : Bitwise shift operator"
   ]
  },
  {
   "cell_type": "code",
   "execution_count": 30,
   "id": "568ee007-beaa-4174-8071-54219f118008",
   "metadata": {},
   "outputs": [
    {
     "name": "stdout",
     "output_type": "stream",
     "text": [
      "3\n"
     ]
    }
   ],
   "source": [
    "#left-right associativity\n",
    "print(5*2//3)"
   ]
  },
  {
   "cell_type": "code",
   "execution_count": 31,
   "id": "f2ba813c-c066-448c-ba6b-98a20d6dce75",
   "metadata": {},
   "outputs": [
    {
     "data": {
      "text/plain": [
       "10"
      ]
     },
     "execution_count": 31,
     "metadata": {},
     "output_type": "execute_result"
    }
   ],
   "source": [
    "5*2"
   ]
  },
  {
   "cell_type": "code",
   "execution_count": 32,
   "id": "2298832a-f7da-4f2c-8f96-53df47e18c48",
   "metadata": {},
   "outputs": [
    {
     "data": {
      "text/plain": [
       "3"
      ]
     },
     "execution_count": 32,
     "metadata": {},
     "output_type": "execute_result"
    }
   ],
   "source": [
    "10//3"
   ]
  },
  {
   "cell_type": "code",
   "execution_count": 33,
   "id": "ae045f8d-7c82-46da-9431-cecb01ecdc67",
   "metadata": {},
   "outputs": [
    {
     "name": "stdout",
     "output_type": "stream",
     "text": [
      "0\n"
     ]
    }
   ],
   "source": [
    "print(5*(2//3))"
   ]
  },
  {
   "cell_type": "code",
   "execution_count": 34,
   "id": "da444dc6-de1d-4fbd-8deb-deb24e17e008",
   "metadata": {},
   "outputs": [
    {
     "name": "stdout",
     "output_type": "stream",
     "text": [
      "14134776518227074636666380005943348126619871175004951664972849610340958208\n"
     ]
    }
   ],
   "source": [
    "#right-left associativity(exponent(**)\n",
    "print(2**3**5)\n"
   ]
  },
  {
   "cell_type": "code",
   "execution_count": 35,
   "id": "7a7be3cf-3060-4186-a2e1-d853ae970dbd",
   "metadata": {},
   "outputs": [
    {
     "data": {
      "text/plain": [
       "243"
      ]
     },
     "execution_count": 35,
     "metadata": {},
     "output_type": "execute_result"
    }
   ],
   "source": [
    "3**5"
   ]
  },
  {
   "cell_type": "code",
   "execution_count": 37,
   "id": "756fbff6-700d-4902-b772-d3f5990b0ead",
   "metadata": {},
   "outputs": [
    {
     "data": {
      "text/plain": [
       "14134776518227074636666380005943348126619871175004951664972849610340958208"
      ]
     },
     "execution_count": 37,
     "metadata": {},
     "output_type": "execute_result"
    }
   ],
   "source": [
    "2**243"
   ]
  },
  {
   "cell_type": "code",
   "execution_count": 38,
   "id": "2407417b-e13f-4656-84a4-c5b3e0070912",
   "metadata": {},
   "outputs": [
    {
     "name": "stdout",
     "output_type": "stream",
     "text": [
      "32768\n"
     ]
    }
   ],
   "source": [
    "print((2**3)**5)\n"
   ]
  },
  {
   "cell_type": "code",
   "execution_count": null,
   "id": "88755ce1-724f-4948-8460-beac9835c0f7",
   "metadata": {},
   "outputs": [],
   "source": []
  }
 ],
 "metadata": {
  "kernelspec": {
   "display_name": "Python 3 (ipykernel)",
   "language": "python",
   "name": "python3"
  },
  "language_info": {
   "codemirror_mode": {
    "name": "ipython",
    "version": 3
   },
   "file_extension": ".py",
   "mimetype": "text/x-python",
   "name": "python",
   "nbconvert_exporter": "python",
   "pygments_lexer": "ipython3",
   "version": "3.11.7"
  }
 },
 "nbformat": 4,
 "nbformat_minor": 5
}
