{
 "cells": [
  {
   "cell_type": "markdown",
   "id": "ecc5fd38-e47d-45f8-9c9a-c2f1ca5367e3",
   "metadata": {},
   "source": [
    "- For Loop\n",
    "- while Loop"
   ]
  },
  {
   "cell_type": "markdown",
   "id": "03620194-e2a6-447c-af95-c8b8c32d4446",
   "metadata": {},
   "source": [
    "Looping, repeating something"
   ]
  },
  {
   "cell_type": "markdown",
   "id": "24e6964a-45c8-404b-b268-9d8427c1b495",
   "metadata": {},
   "source": [
    "- string,list,tuple,set,dict===>iterable objects\n",
    "- ordered -->string,list,tuple,dict\n",
    "- unordered ==>set\n"
   ]
  },
  {
   "cell_type": "code",
   "execution_count": 1,
   "id": "384ef8e6-5eef-4787-858c-93e49baf3aeb",
   "metadata": {},
   "outputs": [],
   "source": [
    "a=1235   #we cant apply for loop on int\n"
   ]
  },
  {
   "cell_type": "markdown",
   "id": "7adc36b9-88be-4e1c-868a-406c3cc92fe1",
   "metadata": {},
   "source": [
    "# For loop: limit"
   ]
  },
  {
   "cell_type": "markdown",
   "id": "e1370de5-078f-411d-817c-ea7dd3d4922c",
   "metadata": {},
   "source": [
    "#### Print first 20 numbers"
   ]
  },
  {
   "cell_type": "code",
   "execution_count": 3,
   "id": "df32677d-6cf8-4f6e-b5d2-2c8eee163fdc",
   "metadata": {},
   "outputs": [
    {
     "name": "stdout",
     "output_type": "stream",
     "text": [
      "1\n",
      "2\n",
      "3\n",
      "4\n",
      "5\n",
      "6\n",
      "7\n",
      "8\n",
      "9\n",
      "10\n",
      "11\n",
      "12\n",
      "13\n",
      "14\n",
      "15\n",
      "16\n",
      "17\n",
      "18\n",
      "19\n",
      "20\n"
     ]
    }
   ],
   "source": [
    "#syntax\n",
    "#if condition:\n",
    "#     statement\n",
    "#syntax of for loop\n",
    "#for variable in range(start,stop,step):   #slicing : l[start:stop:step]\n",
    "     #statement\n",
    "\n",
    "for num in range(1,21):  #stop value : extra\n",
    "    print(num)\n",
    "#first for loop num=1\n",
    "# 1\n",
    "# 2\n",
    "# .\n",
    "# .\n",
    "\n",
    "#start value==>bydefault 0\n",
    "#stop value ==>last \n",
    "#step value ==>1"
   ]
  },
  {
   "cell_type": "code",
   "execution_count": 4,
   "id": "90db67ab-1cf5-47a9-b89b-7c5e53706d30",
   "metadata": {},
   "outputs": [
    {
     "name": "stdout",
     "output_type": "stream",
     "text": [
      "[1, 2, 3, 4, 5, 6, 7, 8, 9, 10, 11, 12, 13, 14, 15, 16, 17, 18, 19, 20]\n"
     ]
    }
   ],
   "source": [
    "#initialization\n",
    "list1=[]   #[1,2,3,4...20]\n",
    "for num in range(1,21):  #stop value : extra\n",
    "    # print(num)\n",
    "    list1.append(num)\n",
    "print(list1)"
   ]
  },
  {
   "cell_type": "code",
   "execution_count": 6,
   "id": "d50361b1-3137-4a8d-864e-9ac27f4a39c2",
   "metadata": {},
   "outputs": [
    {
     "name": "stdout",
     "output_type": "stream",
     "text": [
      "[0, 3, 6, 9, 12, 15, 18]\n"
     ]
    }
   ],
   "source": [
    "#initialization\n",
    "list1=[]   #[1,2,3,4...20]\n",
    "for num in range(0,21,3):  #stop value : extra\n",
    "    # print(num)\n",
    "    list1.append(num)\n",
    "print(list1)"
   ]
  },
  {
   "cell_type": "markdown",
   "id": "ef43dee9-33ca-4291-9bc2-1cfa8bc3a45a",
   "metadata": {},
   "source": [
    "#### Repeat \"python\" word 100 times"
   ]
  },
  {
   "cell_type": "code",
   "execution_count": 7,
   "id": "5888958c-037a-43f0-964d-58f7e707d491",
   "metadata": {},
   "outputs": [
    {
     "data": {
      "text/plain": [
       "'pythonpythonpythonpythonpythonpythonpythonpythonpythonpythonpythonpythonpythonpythonpythonpythonpythonpythonpythonpythonpythonpythonpythonpythonpythonpythonpythonpythonpythonpythonpythonpythonpythonpythonpythonpythonpythonpythonpythonpythonpythonpythonpythonpythonpythonpythonpythonpythonpythonpythonpythonpythonpythonpythonpythonpythonpythonpythonpythonpythonpythonpythonpythonpythonpythonpythonpythonpythonpythonpythonpythonpythonpythonpythonpythonpythonpythonpythonpythonpythonpythonpythonpythonpythonpythonpythonpythonpythonpythonpythonpythonpythonpythonpythonpythonpythonpythonpythonpythonpython'"
      ]
     },
     "execution_count": 7,
     "metadata": {},
     "output_type": "execute_result"
    }
   ],
   "source": [
    "\"python\"*100"
   ]
  },
  {
   "cell_type": "code",
   "execution_count": 11,
   "id": "25565856-1d56-4da4-bc82-5e7537c7b5d5",
   "metadata": {},
   "outputs": [
    {
     "name": "stdout",
     "output_type": "stream",
     "text": [
      "1\n",
      "pythonpythonpythonpython\n",
      "2\n",
      "pythonpythonpythonpython\n",
      "3\n",
      "pythonpythonpythonpython\n",
      "4\n",
      "pythonpythonpythonpython\n",
      "5\n",
      "pythonpythonpythonpython\n",
      "6\n",
      "pythonpythonpythonpython\n",
      "7\n",
      "pythonpythonpythonpython\n",
      "8\n",
      "pythonpythonpythonpython\n",
      "9\n",
      "pythonpythonpythonpython\n",
      "10\n",
      "pythonpythonpythonpython\n",
      "11\n",
      "pythonpythonpythonpython\n",
      "12\n",
      "pythonpythonpythonpython\n",
      "13\n",
      "pythonpythonpythonpython\n",
      "14\n",
      "pythonpythonpythonpython\n",
      "15\n",
      "pythonpythonpythonpython\n",
      "16\n",
      "pythonpythonpythonpython\n",
      "17\n",
      "pythonpythonpythonpython\n",
      "18\n",
      "pythonpythonpythonpython\n",
      "19\n",
      "pythonpythonpythonpython\n",
      "20\n",
      "pythonpythonpythonpython\n",
      "21\n",
      "pythonpythonpythonpython\n",
      "22\n",
      "pythonpythonpythonpython\n",
      "23\n",
      "pythonpythonpythonpython\n",
      "24\n",
      "pythonpythonpythonpython\n",
      "25\n",
      "pythonpythonpythonpython\n",
      "26\n",
      "pythonpythonpythonpython\n",
      "27\n",
      "pythonpythonpythonpython\n",
      "28\n",
      "pythonpythonpythonpython\n",
      "29\n",
      "pythonpythonpythonpython\n",
      "30\n",
      "pythonpythonpythonpython\n",
      "31\n",
      "pythonpythonpythonpython\n",
      "32\n",
      "pythonpythonpythonpython\n",
      "33\n",
      "pythonpythonpythonpython\n",
      "34\n",
      "pythonpythonpythonpython\n",
      "35\n",
      "pythonpythonpythonpython\n",
      "36\n",
      "pythonpythonpythonpython\n",
      "37\n",
      "pythonpythonpythonpython\n",
      "38\n",
      "pythonpythonpythonpython\n",
      "39\n",
      "pythonpythonpythonpython\n",
      "40\n",
      "pythonpythonpythonpython\n",
      "41\n",
      "pythonpythonpythonpython\n",
      "42\n",
      "pythonpythonpythonpython\n",
      "43\n",
      "pythonpythonpythonpython\n",
      "44\n",
      "pythonpythonpythonpython\n",
      "45\n",
      "pythonpythonpythonpython\n",
      "46\n",
      "pythonpythonpythonpython\n",
      "47\n",
      "pythonpythonpythonpython\n",
      "48\n",
      "pythonpythonpythonpython\n",
      "49\n",
      "pythonpythonpythonpython\n",
      "50\n",
      "pythonpythonpythonpython\n",
      "51\n",
      "pythonpythonpythonpython\n",
      "52\n",
      "pythonpythonpythonpython\n",
      "53\n",
      "pythonpythonpythonpython\n",
      "54\n",
      "pythonpythonpythonpython\n",
      "55\n",
      "pythonpythonpythonpython\n",
      "56\n",
      "pythonpythonpythonpython\n",
      "57\n",
      "pythonpythonpythonpython\n",
      "58\n",
      "pythonpythonpythonpython\n",
      "59\n",
      "pythonpythonpythonpython\n",
      "60\n",
      "pythonpythonpythonpython\n",
      "61\n",
      "pythonpythonpythonpython\n",
      "62\n",
      "pythonpythonpythonpython\n",
      "63\n",
      "pythonpythonpythonpython\n",
      "64\n",
      "pythonpythonpythonpython\n",
      "65\n",
      "pythonpythonpythonpython\n",
      "66\n",
      "pythonpythonpythonpython\n",
      "67\n",
      "pythonpythonpythonpython\n",
      "68\n",
      "pythonpythonpythonpython\n",
      "69\n",
      "pythonpythonpythonpython\n",
      "70\n",
      "pythonpythonpythonpython\n",
      "71\n",
      "pythonpythonpythonpython\n",
      "72\n",
      "pythonpythonpythonpython\n",
      "73\n",
      "pythonpythonpythonpython\n",
      "74\n",
      "pythonpythonpythonpython\n",
      "75\n",
      "pythonpythonpythonpython\n",
      "76\n",
      "pythonpythonpythonpython\n",
      "77\n",
      "pythonpythonpythonpython\n",
      "78\n",
      "pythonpythonpythonpython\n",
      "79\n",
      "pythonpythonpythonpython\n",
      "80\n",
      "pythonpythonpythonpython\n",
      "81\n",
      "pythonpythonpythonpython\n",
      "82\n",
      "pythonpythonpythonpython\n",
      "83\n",
      "pythonpythonpythonpython\n",
      "84\n",
      "pythonpythonpythonpython\n",
      "85\n",
      "pythonpythonpythonpython\n",
      "86\n",
      "pythonpythonpythonpython\n",
      "87\n",
      "pythonpythonpythonpython\n",
      "88\n",
      "pythonpythonpythonpython\n",
      "89\n",
      "pythonpythonpythonpython\n",
      "90\n",
      "pythonpythonpythonpython\n",
      "91\n",
      "pythonpythonpythonpython\n",
      "92\n",
      "pythonpythonpythonpython\n",
      "93\n",
      "pythonpythonpythonpython\n",
      "94\n",
      "pythonpythonpythonpython\n",
      "95\n",
      "pythonpythonpythonpython\n",
      "96\n",
      "pythonpythonpythonpython\n",
      "97\n",
      "pythonpythonpythonpython\n",
      "98\n",
      "pythonpythonpythonpython\n",
      "99\n",
      "pythonpythonpythonpython\n",
      "100\n",
      "pythonpythonpythonpython\n"
     ]
    }
   ],
   "source": [
    "for num in range(1,101):\n",
    "    print(num)\n",
    "    print(\"python\"*4)\n",
    "\n",
    "#first for loop\n",
    "#num=1\n",
    "#1\n",
    "#pythonpythonpythonpython"
   ]
  },
  {
   "cell_type": "code",
   "execution_count": 13,
   "id": "b5e5b1d3-3971-4674-815a-d5cb744edda8",
   "metadata": {},
   "outputs": [
    {
     "name": "stdout",
     "output_type": "stream",
     "text": [
      "data\n",
      "data\n",
      "data\n",
      "data\n",
      "data\n"
     ]
    }
   ],
   "source": [
    "for data in range(0,10,2):\n",
    "    print(\"data\")\n",
    "#result  data"
   ]
  },
  {
   "cell_type": "markdown",
   "id": "f6ef952d-141e-42f3-921b-204e9011f39d",
   "metadata": {},
   "source": [
    "### sum of first 10 numbers"
   ]
  },
  {
   "cell_type": "code",
   "execution_count": 14,
   "id": "c1fb7e3c-0432-429f-978c-dd636a75bd15",
   "metadata": {},
   "outputs": [
    {
     "data": {
      "text/plain": [
       "55"
      ]
     },
     "execution_count": 14,
     "metadata": {},
     "output_type": "execute_result"
    }
   ],
   "source": [
    "1+2+3+4+5+6+7+8+9+10"
   ]
  },
  {
   "cell_type": "code",
   "execution_count": 16,
   "id": "19377254-79e9-471a-ae3f-7e904d78626a",
   "metadata": {},
   "outputs": [
    {
     "name": "stdout",
     "output_type": "stream",
     "text": [
      "55\n"
     ]
    }
   ],
   "source": [
    "#initialization\n",
    "total=0  #6\n",
    "for i in range(1,11):\n",
    "    total=total+i\n",
    "#1st for loop i=3\n",
    "#total=total+i\n",
    "#3+3\n",
    "print(total)"
   ]
  },
  {
   "cell_type": "code",
   "execution_count": 17,
   "id": "5c8fe073-4446-48f1-a20a-abc96a09153b",
   "metadata": {},
   "outputs": [
    {
     "name": "stdout",
     "output_type": "stream",
     "text": [
      "55\n"
     ]
    }
   ],
   "source": [
    "total=0  #6\n",
    "for i in range(1,11):\n",
    "    # total=total+i\n",
    "    total+=i\n",
    "\n",
    "print(total)"
   ]
  },
  {
   "cell_type": "code",
   "execution_count": 19,
   "id": "d001fcc3-c92d-4611-89fe-f329e3f7faca",
   "metadata": {},
   "outputs": [
    {
     "data": {
      "text/plain": [
       "10"
      ]
     },
     "execution_count": 19,
     "metadata": {},
     "output_type": "execute_result"
    }
   ],
   "source": [
    "a=0\n",
    "a=a+10\n",
    "a"
   ]
  },
  {
   "cell_type": "code",
   "execution_count": 20,
   "id": "98e703e4-7b4b-4e38-8cf7-e7ef3aea11d1",
   "metadata": {},
   "outputs": [
    {
     "data": {
      "text/plain": [
       "10"
      ]
     },
     "execution_count": 20,
     "metadata": {},
     "output_type": "execute_result"
    }
   ],
   "source": [
    "a=0\n",
    "a+=10\n",
    "a"
   ]
  },
  {
   "cell_type": "code",
   "execution_count": 21,
   "id": "14903303-7e9b-44f2-926d-ff54dedb8fa6",
   "metadata": {},
   "outputs": [
    {
     "data": {
      "text/plain": [
       "5"
      ]
     },
     "execution_count": 21,
     "metadata": {},
     "output_type": "execute_result"
    }
   ],
   "source": [
    "a=10\n",
    "a=a-5\n",
    "a"
   ]
  },
  {
   "cell_type": "code",
   "execution_count": 22,
   "id": "c1e5d4f9-feb3-454d-ab79-11b31345f031",
   "metadata": {},
   "outputs": [
    {
     "data": {
      "text/plain": [
       "95"
      ]
     },
     "execution_count": 22,
     "metadata": {},
     "output_type": "execute_result"
    }
   ],
   "source": [
    "a=100\n",
    "a-=5\n",
    "a"
   ]
  },
  {
   "cell_type": "code",
   "execution_count": 23,
   "id": "e665abf9-1c78-4cc6-b2d3-42474805ca69",
   "metadata": {},
   "outputs": [
    {
     "name": "stdout",
     "output_type": "stream",
     "text": [
      "500500\n"
     ]
    }
   ],
   "source": [
    "total=0  #6\n",
    "for i in range(1,1001):\n",
    "    # total=total+i\n",
    "    total+=i\n",
    "\n",
    "print(total)"
   ]
  },
  {
   "cell_type": "code",
   "execution_count": 8,
   "id": "3ac7135b-c814-4c3c-8123-2853ac916b33",
   "metadata": {},
   "outputs": [
    {
     "name": "stdin",
     "output_type": "stream",
     "text": [
      "plz enter range: 101\n"
     ]
    },
    {
     "name": "stdout",
     "output_type": "stream",
     "text": [
      "5050\n"
     ]
    }
   ],
   "source": [
    "range1=int(input(\"plz enter range:\"))#100\n",
    "total=0  #6\n",
    "for i in range(1,range1+1):\n",
    "    # total=total+i\n",
    "    total+=i\n",
    "\n",
    "print(total)"
   ]
  },
  {
   "cell_type": "code",
   "execution_count": 24,
   "id": "5ee7fa2f-bb3d-4c7d-b955-641f17c02ced",
   "metadata": {},
   "outputs": [
    {
     "name": "stdout",
     "output_type": "stream",
     "text": [
      "chetana\n"
     ]
    }
   ],
   "source": [
    "print(\"chetana\")"
   ]
  },
  {
   "cell_type": "code",
   "execution_count": 25,
   "id": "e9925345-670c-48f9-9149-679315fd07f7",
   "metadata": {},
   "outputs": [],
   "source": [
    "#print=123"
   ]
  },
  {
   "cell_type": "code",
   "execution_count": 26,
   "id": "ef474c70-4848-47da-ab21-1a2681c00166",
   "metadata": {},
   "outputs": [
    {
     "data": {
      "text/plain": [
       "123"
      ]
     },
     "execution_count": 26,
     "metadata": {},
     "output_type": "execute_result"
    }
   ],
   "source": [
    "print"
   ]
  },
  {
   "cell_type": "code",
   "execution_count": 27,
   "id": "e8ae2f5b-1a72-4173-b8ce-425238cf7d86",
   "metadata": {},
   "outputs": [
    {
     "ename": "TypeError",
     "evalue": "'int' object is not callable",
     "output_type": "error",
     "traceback": [
      "\u001b[1;31m---------------------------------------------------------------------------\u001b[0m",
      "\u001b[1;31mTypeError\u001b[0m                                 Traceback (most recent call last)",
      "Cell \u001b[1;32mIn[27], line 1\u001b[0m\n\u001b[1;32m----> 1\u001b[0m \u001b[38;5;28mprint\u001b[39m(\u001b[38;5;241m12\u001b[39m\u001b[38;5;241m+\u001b[39m\u001b[38;5;241m23\u001b[39m)\n",
      "\u001b[1;31mTypeError\u001b[0m: 'int' object is not callable"
     ]
    }
   ],
   "source": [
    "print(12+23)"
   ]
  },
  {
   "cell_type": "code",
   "execution_count": 9,
   "id": "228e5830-950d-4b86-88fe-82e7aaf58935",
   "metadata": {},
   "outputs": [
    {
     "name": "stdout",
     "output_type": "stream",
     "text": [
      "10\n",
      "9\n",
      "8\n",
      "7\n",
      "6\n",
      "5\n",
      "4\n",
      "3\n",
      "2\n",
      "1\n"
     ]
    }
   ],
   "source": [
    "for i in range(10,0,-1):\n",
    "    print(i)\n",
    "#10,9,8,7,6,5,4,3,2,1"
   ]
  },
  {
   "cell_type": "code",
   "execution_count": 10,
   "id": "44937fc0-2117-432a-a855-f222641bc421",
   "metadata": {},
   "outputs": [
    {
     "name": "stdout",
     "output_type": "stream",
     "text": [
      "10\n",
      "8\n",
      "6\n",
      "4\n",
      "2\n"
     ]
    }
   ],
   "source": [
    "for i in range(10,0,-2):\n",
    "    print(i)\n",
    "#10,8,6,4,2"
   ]
  },
  {
   "cell_type": "code",
   "execution_count": 11,
   "id": "5aa726cb-7b09-412c-8e84-3ed41a49b328",
   "metadata": {},
   "outputs": [
    {
     "data": {
      "text/plain": [
       "3628800"
      ]
     },
     "execution_count": 11,
     "metadata": {},
     "output_type": "execute_result"
    }
   ],
   "source": [
    "#multiplication of first 10 numbers\n",
    "1*2*3*4*5*6*7*8*9*10\n",
    "#multiple cursor==>ctrl+alt"
   ]
  },
  {
   "cell_type": "code",
   "execution_count": 12,
   "id": "4b431d14-81fb-4f38-8a28-9620019ad7e0",
   "metadata": {},
   "outputs": [
    {
     "data": {
      "text/plain": [
       "3628800"
      ]
     },
     "execution_count": 12,
     "metadata": {},
     "output_type": "execute_result"
    }
   ],
   "source": [
    "#inintialization\n",
    "mult=1  #6\n",
    "for i in range(1,11):\n",
    "    mult=mult*i\n",
    "#i=3\n",
    "#2*3\n",
    "mult"
   ]
  },
  {
   "cell_type": "code",
   "execution_count": 13,
   "id": "40ab00bd-82e9-4297-a38b-3ff51587dd74",
   "metadata": {},
   "outputs": [
    {
     "name": "stdin",
     "output_type": "stream",
     "text": [
      "plz enter range 50\n"
     ]
    },
    {
     "data": {
      "text/plain": [
       "30414093201713378043612608166064768844377641568960512000000000000"
      ]
     },
     "execution_count": 13,
     "metadata": {},
     "output_type": "execute_result"
    }
   ],
   "source": [
    "range1=int(input(\"plz enter range\"))\n",
    "mult=1  #6\n",
    "for i in range(1,range1+1):\n",
    "    mult=mult*i\n",
    "#i=3\n",
    "#2*3\n",
    "mult"
   ]
  },
  {
   "cell_type": "markdown",
   "id": "3a35bc0b-ccd2-4027-afcc-716d78eca76e",
   "metadata": {},
   "source": [
    "## calculate square and squareroot of first 10 numbers"
   ]
  },
  {
   "cell_type": "code",
   "execution_count": 14,
   "id": "e86a0fbc-b6ed-48b0-afae-48831f494621",
   "metadata": {},
   "outputs": [
    {
     "name": "stdout",
     "output_type": "stream",
     "text": [
      "[1, 4, 9, 16, 25, 36, 49, 64, 81, 100]\n",
      "[1.0, 1.4142135623730951, 1.7320508075688772, 2.0, 2.23606797749979, 2.449489742783178, 2.6457513110645907, 2.8284271247461903, 3.0, 3.1622776601683795]\n"
     ]
    }
   ],
   "source": [
    "square=[]\n",
    "squareroot=[]\n",
    "for i in range(1,11):\n",
    "    square.append(i**2)\n",
    "    squareroot.append(i**0.5)\n",
    "\n",
    "print(square)\n",
    "print(squareroot)"
   ]
  },
  {
   "cell_type": "code",
   "execution_count": 19,
   "id": "331c46e8-3407-4796-a46f-a4154e0210d2",
   "metadata": {},
   "outputs": [
    {
     "name": "stdout",
     "output_type": "stream",
     "text": [
      "[1.0, 4.0, 9.0, 16.0, 25.0, 36.0, 49.0, 64.0, 81.0, 100.0]\n",
      "[1.0, 1.4142135623730951, 1.7320508075688772, 2.0, 2.23606797749979, 2.449489742783178, 2.6457513110645907, 2.8284271247461903, 3.0, 3.1622776601683795]\n"
     ]
    }
   ],
   "source": [
    "import math\n",
    "#from math import sqrt,pow\n",
    "square=[]\n",
    "squareroot=[]\n",
    "for i in range(1,11):\n",
    "    square.append(math.pow(i,2))\n",
    "    squareroot.append(math.sqrt(i))\n",
    "\n",
    "print(square)\n",
    "print(squareroot)"
   ]
  },
  {
   "cell_type": "code",
   "execution_count": null,
   "id": "edea3fa6-dd07-436f-ae04-762b408fb251",
   "metadata": {},
   "outputs": [],
   "source": []
  },
  {
   "cell_type": "code",
   "execution_count": null,
   "id": "6d3dc84a-f8d1-4d88-9bb8-4c7409d3ddee",
   "metadata": {},
   "outputs": [],
   "source": []
  },
  {
   "cell_type": "code",
   "execution_count": null,
   "id": "b12ca3cb-dc0e-4841-aabd-c42ec87a9daf",
   "metadata": {},
   "outputs": [],
   "source": []
  },
  {
   "cell_type": "code",
   "execution_count": null,
   "id": "5741a48d-5373-4302-94d4-54cca301a162",
   "metadata": {},
   "outputs": [],
   "source": []
  },
  {
   "cell_type": "markdown",
   "id": "cd47e671-1cbb-4cf9-bc38-a1b0df6a3128",
   "metadata": {},
   "source": [
    "### string,list,tuple,set,dict\n",
    "Applying For loop on list"
   ]
  },
  {
   "cell_type": "code",
   "execution_count": 17,
   "id": "07030979-ec1c-4d9c-9ca4-3a290ebfe503",
   "metadata": {},
   "outputs": [
    {
     "name": "stdout",
     "output_type": "stream",
     "text": [
      "1\n",
      "9\n",
      "25\n",
      "49\n",
      "9604\n",
      "25\n",
      "4\n",
      "64\n",
      "81\n",
      "0\n",
      "36\n",
      "36\n"
     ]
    }
   ],
   "source": [
    "l=[1,3,5,7,98,5,2,8,9,0,6,6]\n",
    "#square\n",
    "for num in l:\n",
    "    print(num*num)\n",
    "    "
   ]
  },
  {
   "cell_type": "code",
   "execution_count": 20,
   "id": "c2cddc80-721d-44df-9009-8f6b2b9dddf7",
   "metadata": {},
   "outputs": [
    {
     "name": "stdout",
     "output_type": "stream",
     "text": [
      "[1, 9, 25, 49, 9604, 25, 4, 64, 81, 0, 36, 36]\n"
     ]
    }
   ],
   "source": [
    "l=[1,3,5,7,98,5,2,8,9,0,6,6]\n",
    "sqr=[]\n",
    "#square\n",
    "for num in l:\n",
    "    sqr.append(num*num)\n",
    "print(sqr)"
   ]
  },
  {
   "cell_type": "markdown",
   "id": "b7485527-66a8-4932-8d67-012f6c01ea81",
   "metadata": {},
   "source": [
    "### task"
   ]
  },
  {
   "cell_type": "code",
   "execution_count": 21,
   "id": "336a1182-acfe-4bb2-b3ba-e97f008ec81c",
   "metadata": {},
   "outputs": [],
   "source": [
    "l=[1,3,5,7,98,5,2,8,9,0,6,6,0,1,2,3,5,9,8,6,7,17,13]\n",
    "#seperate even and odd no\n",
    "l1=[1,4,3,4,6,6,\"data\",\"Python\",\"Science\"]\n",
    "#seperate text data"
   ]
  },
  {
   "cell_type": "code",
   "execution_count": 22,
   "id": "480276dd-b884-444e-8e37-e1b76d4f07ca",
   "metadata": {},
   "outputs": [
    {
     "name": "stdout",
     "output_type": "stream",
     "text": [
      "[98, 2, 8, 0, 6, 6, 0, 2, 8, 6]\n",
      "[1, 3, 5, 7, 5, 9, 1, 3, 5, 9, 7, 17, 13]\n"
     ]
    }
   ],
   "source": [
    "l=[1,3,5,7,98,5,2,8,9,0,6,6,0,1,2,3,5,9,8,6,7,17,13]\n",
    "#seperate even and odd no\n",
    "even=[]\n",
    "odd=[]\n",
    "for num in l:  #98\n",
    "    if num%2==0:\n",
    "        even.append(num)\n",
    "    else:\n",
    "        odd.append(num)\n",
    "print(even)\n",
    "print(odd)\n",
    "    "
   ]
  },
  {
   "cell_type": "code",
   "execution_count": 23,
   "id": "7c9576c8-af91-4124-834c-49fc17e45f44",
   "metadata": {},
   "outputs": [
    {
     "name": "stdout",
     "output_type": "stream",
     "text": [
      "data\n",
      "Python\n",
      "Science\n"
     ]
    }
   ],
   "source": [
    "l1=[1,4,3,4,6,6,\"data\",\"Python\",\"Science\"]\n",
    "#seperate text data\n",
    "for i in l1:\n",
    "    if type(i)==str:\n",
    "        print(i)\n",
    "    "
   ]
  },
  {
   "cell_type": "code",
   "execution_count": 28,
   "id": "f29ddb54-a469-42c3-8796-15a1358caf16",
   "metadata": {},
   "outputs": [
    {
     "name": "stdout",
     "output_type": "stream",
     "text": [
      "data\n",
      "Python\n",
      "Science\n"
     ]
    }
   ],
   "source": [
    "l1=[1,4,3,4,6,6,\"data\",\"Python\",\"Science\"]\n",
    "for i in l1:  #1==>int\n",
    "    if str(i).isalpha()==True:\n",
    "        print(i)\n",
    "    "
   ]
  },
  {
   "cell_type": "code",
   "execution_count": 25,
   "id": "59bc353c-72b8-4074-92ad-eeb41bbef882",
   "metadata": {},
   "outputs": [
    {
     "data": {
      "text/plain": [
       "True"
      ]
     },
     "execution_count": 25,
     "metadata": {},
     "output_type": "execute_result"
    }
   ],
   "source": [
    "\"data\".isalpha()"
   ]
  },
  {
   "cell_type": "code",
   "execution_count": 30,
   "id": "1cee0676-3d1f-4059-bdcf-66c508375c4a",
   "metadata": {},
   "outputs": [
    {
     "name": "stdout",
     "output_type": "stream",
     "text": [
      "data analysis\n",
      "Python\n",
      "Science\n"
     ]
    }
   ],
   "source": [
    "l1=[1,4,3,4,6,6,\"data analysis\",\"Python\",\"Science\"]\n",
    "for i in l1:\n",
    "    if type(i)==str:\n",
    "        print(i)\n",
    "    "
   ]
  },
  {
   "cell_type": "code",
   "execution_count": 32,
   "id": "5cc5a777-5ec1-4dca-b111-aad832db2230",
   "metadata": {},
   "outputs": [
    {
     "data": {
      "text/plain": [
       "['data analysis']"
      ]
     },
     "execution_count": 32,
     "metadata": {},
     "output_type": "execute_result"
    }
   ],
   "source": [
    "s=\"data analysis\"\n",
    "s.split(\",\")  #string to list"
   ]
  },
  {
   "cell_type": "markdown",
   "id": "e943f43e-f057-4e44-8a9f-ad6e208ed033",
   "metadata": {},
   "source": [
    "### Homework"
   ]
  },
  {
   "cell_type": "code",
   "execution_count": 6,
   "id": "304d607e-53ea-4931-975f-ed2cc9a639f9",
   "metadata": {},
   "outputs": [
    {
     "name": "stdout",
     "output_type": "stream",
     "text": [
      "[2, 4, 6, 3, 23, 2]\n",
      "[-1, -5, -6, -5, -10]\n"
     ]
    }
   ],
   "source": [
    "l=[-1,2,4,6,3,23,-5,-6,2,-5,-10]\n",
    "#seperate positive numbers and negative number\n",
    "positive=[]\n",
    "negative=[]\n",
    "for i in l:\n",
    "    if i>0:\n",
    "        positive.append(i)\n",
    "    elif i==0:\n",
    "        print(\"0 is present in list which is neutral\")\n",
    "    else:\n",
    "        negative.append(i)\n",
    "print(positive)\n",
    "print(negative)\n",
    "        \n",
    "        "
   ]
  },
  {
   "cell_type": "code",
   "execution_count": 7,
   "id": "42b3dc6d-9453-47fb-a62e-1799a201c5d0",
   "metadata": {},
   "outputs": [
    {
     "data": {
      "text/plain": [
       "120"
      ]
     },
     "execution_count": 7,
     "metadata": {},
     "output_type": "execute_result"
    }
   ],
   "source": [
    "#factorial of a given number using for loop\n",
    "#5\n",
    "6*5*4*3*2*1"
   ]
  },
  {
   "cell_type": "code",
   "execution_count": 9,
   "id": "2bfbc23e-461e-4236-9dc7-3d4f5a78363e",
   "metadata": {},
   "outputs": [
    {
     "name": "stdin",
     "output_type": "stream",
     "text": [
      "enter number: 10\n"
     ]
    },
    {
     "name": "stdout",
     "output_type": "stream",
     "text": [
      "3628800\n"
     ]
    }
   ],
   "source": [
    "num=int(input(\"enter number:\"))\n",
    "fact=1\n",
    "for i in range(1,num+1):\n",
    "    fact=fact*i\n",
    "print(fact)\n",
    "\n",
    "    \n",
    "            "
   ]
  },
  {
   "cell_type": "code",
   "execution_count": 10,
   "id": "33cfef00-3f1b-455e-a323-c63e428a33fe",
   "metadata": {},
   "outputs": [],
   "source": [
    "import math\n"
   ]
  },
  {
   "cell_type": "code",
   "execution_count": 11,
   "id": "692936ba-4c77-4e3b-b537-d6364bae8a27",
   "metadata": {},
   "outputs": [
    {
     "name": "stdout",
     "output_type": "stream",
     "text": [
      "['__doc__', '__loader__', '__name__', '__package__', '__spec__', 'acos', 'acosh', 'asin', 'asinh', 'atan', 'atan2', 'atanh', 'cbrt', 'ceil', 'comb', 'copysign', 'cos', 'cosh', 'degrees', 'dist', 'e', 'erf', 'erfc', 'exp', 'exp2', 'expm1', 'fabs', 'factorial', 'floor', 'fmod', 'frexp', 'fsum', 'gamma', 'gcd', 'hypot', 'inf', 'isclose', 'isfinite', 'isinf', 'isnan', 'isqrt', 'lcm', 'ldexp', 'lgamma', 'log', 'log10', 'log1p', 'log2', 'modf', 'nan', 'nextafter', 'perm', 'pi', 'pow', 'prod', 'radians', 'remainder', 'sin', 'sinh', 'sqrt', 'tan', 'tanh', 'tau', 'trunc', 'ulp']\n"
     ]
    }
   ],
   "source": [
    "print(dir(math))"
   ]
  },
  {
   "cell_type": "code",
   "execution_count": 14,
   "id": "af75d7d6-47b7-42ac-bfa3-5cd1022ee775",
   "metadata": {},
   "outputs": [
    {
     "data": {
      "text/plain": [
       "3628800"
      ]
     },
     "execution_count": 14,
     "metadata": {},
     "output_type": "execute_result"
    }
   ],
   "source": [
    "# from math import factorial,sqrt\n",
    "math.factorial(10)"
   ]
  },
  {
   "cell_type": "markdown",
   "id": "dc53935c-28c8-43fe-84e3-67858cda7d3b",
   "metadata": {},
   "source": [
    "### Table of a Number"
   ]
  },
  {
   "cell_type": "code",
   "execution_count": 17,
   "id": "7a331fb5-17ae-4ce6-8510-4fe424e10c7b",
   "metadata": {},
   "outputs": [
    {
     "name": "stdin",
     "output_type": "stream",
     "text": [
      "enter num: 4\n"
     ]
    },
    {
     "name": "stdout",
     "output_type": "stream",
     "text": [
      "4\n",
      "8\n",
      "12\n",
      "16\n",
      "20\n",
      "24\n",
      "28\n",
      "32\n",
      "36\n",
      "40\n"
     ]
    }
   ],
   "source": [
    "#10\n",
    "num=int(input(\"enter num:\"))  #5\n",
    "for i in range(1,11):\n",
    "    print(num*i)\n",
    "#1st for loop: 5*1=5\n",
    "#2nd for loop: 5*2=10 "
   ]
  },
  {
   "cell_type": "code",
   "execution_count": 27,
   "id": "0254af61-874c-4a35-ba56-702461e00d20",
   "metadata": {},
   "outputs": [
    {
     "name": "stdin",
     "output_type": "stream",
     "text": [
      "enter num: 5\n"
     ]
    },
    {
     "name": "stdout",
     "output_type": "stream",
     "text": [
      "5 * 1 = 5\n",
      "5 * 2 = 10\n",
      "5 * 3 = 15\n",
      "5 * 4 = 20\n",
      "5 * 5 = 25\n",
      "5 * 6 = 30\n",
      "5 * 7 = 35\n",
      "5 * 8 = 40\n",
      "5 * 9 = 45\n",
      "5 * 10 = 50\n"
     ]
    }
   ],
   "source": [
    "#5 x 1=5\n",
    "#5 x 2=10\n",
    "num=int(input(\"enter num:\"))  #5\n",
    "for i in range(1,11):\n",
    "    print(num,\"*\",i,\"=\",num*i)"
   ]
  },
  {
   "cell_type": "markdown",
   "id": "eed709da-b9c1-4eb1-8c8e-4dbb2ad1c0f4",
   "metadata": {},
   "source": [
    "## f-string"
   ]
  },
  {
   "cell_type": "markdown",
   "id": "f36d4c34-b5cf-4be0-8078-ec93d0954ad5",
   "metadata": {},
   "source": [
    "- formatted string\n",
    "- output format\n",
    "- syntax : print(f\"student name is {variable}\""
   ]
  },
  {
   "cell_type": "code",
   "execution_count": 24,
   "id": "7372b77b-5fd3-4639-837b-8c3b8233d75b",
   "metadata": {},
   "outputs": [
    {
     "name": "stdin",
     "output_type": "stream",
     "text": [
      "plz enter your name: chetana\n",
      "plz enter your sirname: vasave\n"
     ]
    },
    {
     "name": "stdout",
     "output_type": "stream",
     "text": [
      "student fullname name is: chetana vasave\n",
      "student name is chetana vasave\n"
     ]
    }
   ],
   "source": [
    "name=input(\"plz enter your name:\")\n",
    "sirname=input(\"plz enter your sirname:\")\n",
    "print(\"student fullname name is:\",name+\" \"+sirname)\n",
    "print(f\"student name is {name} {sirname}\")"
   ]
  },
  {
   "cell_type": "code",
   "execution_count": 26,
   "id": "e10b71e6-e00e-4b36-a651-7e42b6005d93",
   "metadata": {},
   "outputs": [
    {
     "name": "stdin",
     "output_type": "stream",
     "text": [
      "enter num: 5\n"
     ]
    },
    {
     "name": "stdout",
     "output_type": "stream",
     "text": [
      "5 * 1 = 5\n",
      "5 * 2 = 10\n",
      "5 * 3 = 15\n",
      "5 * 4 = 20\n",
      "5 * 5 = 25\n",
      "5 * 6 = 30\n",
      "5 * 7 = 35\n",
      "5 * 8 = 40\n",
      "5 * 9 = 45\n",
      "5 * 10 = 50\n"
     ]
    }
   ],
   "source": [
    "num=int(input(\"enter num:\"))  #5\n",
    "for i in range(1,11):\n",
    "    # print(num,\"*\",i,\"=\",num*i)\n",
    "    print(f\"{num} * {i} = {num*i}\")"
   ]
  },
  {
   "cell_type": "markdown",
   "id": "9130c165-14eb-4cb1-bf0e-1fbe9968d41a",
   "metadata": {},
   "source": [
    "### counting element from list"
   ]
  },
  {
   "cell_type": "code",
   "execution_count": 29,
   "id": "65ae006e-6215-4ce5-a05e-7cdc0b55e2eb",
   "metadata": {},
   "outputs": [
    {
     "data": {
      "text/plain": [
       "3"
      ]
     },
     "execution_count": 29,
     "metadata": {},
     "output_type": "execute_result"
    }
   ],
   "source": [
    "l=[12,1,2,2,3,1,1,2,3,3]\n",
    "l.count(1)"
   ]
  },
  {
   "cell_type": "code",
   "execution_count": 33,
   "id": "d265a23d-1473-49ba-aaca-fbf327d04623",
   "metadata": {},
   "outputs": [
    {
     "name": "stdin",
     "output_type": "stream",
     "text": [
      "enter element: 12\n"
     ]
    },
    {
     "name": "stdout",
     "output_type": "stream",
     "text": [
      "1\n"
     ]
    }
   ],
   "source": [
    "#using for loop\n",
    "l=[12,1,2,2,3,1,1,2,3,3]\n",
    "#initialization\n",
    "count_of_element=0  #3\n",
    "target_element=int(input(\"enter element:\"))  #3\n",
    "for item in l:  #3\n",
    "    if item==target_element: #3==3\n",
    "        count_of_element=count_of_element+1\n",
    "print(count_of_element)\n",
    "\n",
    "    \n",
    "    \n",
    "    \n",
    "    "
   ]
  },
  {
   "cell_type": "markdown",
   "id": "b3030dfb-21a9-42c6-aa46-84e4d02824be",
   "metadata": {},
   "source": [
    "#### counting character from string"
   ]
  },
  {
   "cell_type": "code",
   "execution_count": null,
   "id": "e1784822-74b6-47ba-8c2a-de7c48de9c4d",
   "metadata": {},
   "outputs": [],
   "source": []
  },
  {
   "cell_type": "code",
   "execution_count": 37,
   "id": "c2d993ef-7fd7-4bd4-a532-6d2ee1684023",
   "metadata": {},
   "outputs": [
    {
     "data": {
      "text/plain": [
       "2"
      ]
     },
     "execution_count": 37,
     "metadata": {},
     "output_type": "execute_result"
    }
   ],
   "source": [
    "s=\"data science\"  #character by character\n",
    "s.count(\"a\")"
   ]
  },
  {
   "cell_type": "code",
   "execution_count": 38,
   "id": "91fcfa53-1ddc-442d-a5a0-81121c12ee2a",
   "metadata": {},
   "outputs": [
    {
     "data": {
      "text/plain": [
       "1"
      ]
     },
     "execution_count": 38,
     "metadata": {},
     "output_type": "execute_result"
    }
   ],
   "source": [
    "s.count(\"data\")"
   ]
  },
  {
   "cell_type": "markdown",
   "id": "8b0b332e-ef8e-4327-b6e5-f92ea33324f6",
   "metadata": {},
   "source": [
    "#### counting single char"
   ]
  },
  {
   "cell_type": "code",
   "execution_count": 39,
   "id": "484c2cdc-7fe0-4c18-afd0-284b3ff83576",
   "metadata": {},
   "outputs": [
    {
     "name": "stdin",
     "output_type": "stream",
     "text": [
      "enter element: data\n"
     ]
    },
    {
     "name": "stdout",
     "output_type": "stream",
     "text": [
      "0\n"
     ]
    }
   ],
   "source": [
    "count_of_char=0  #3\n",
    "target_char=(input(\"enter element:\"))  #3\n",
    "for char in s:  #d\n",
    "    if char==target_char: #3==3\n",
    "        count_of_char=count_of_char+1\n",
    "print(count_of_char)"
   ]
  },
  {
   "cell_type": "markdown",
   "id": "e52d3aad-c46e-407a-83e0-a40effddb701",
   "metadata": {},
   "source": [
    "#### counting single char +word"
   ]
  },
  {
   "cell_type": "code",
   "execution_count": 40,
   "id": "9a3b0c0c-f2ed-401c-84d0-18567a33ac5e",
   "metadata": {},
   "outputs": [
    {
     "data": {
      "text/plain": [
       "['data', 'science']"
      ]
     },
     "execution_count": 40,
     "metadata": {},
     "output_type": "execute_result"
    }
   ],
   "source": [
    "s=\"data science\" #list\n",
    "s.split()"
   ]
  },
  {
   "cell_type": "code",
   "execution_count": 52,
   "id": "8272061d-ac4b-4f2c-b7df-bf3058cd9d07",
   "metadata": {},
   "outputs": [
    {
     "name": "stdin",
     "output_type": "stream",
     "text": [
      "enter element: z\n"
     ]
    },
    {
     "name": "stdout",
     "output_type": "stream",
     "text": [
      "0\n"
     ]
    }
   ],
   "source": [
    "s=\"data science\"  #string to list\n",
    "count_of_char=0  #2\n",
    "target_char=(input(\"enter element:\"))  #data\n",
    "for char in s:  #a\n",
    "    if char==target_char: #d==a\n",
    "        count_of_char=count_of_char+1\n",
    "else:\n",
    "    s_list=s.split()   #[\"data\",\"science\"]\n",
    "    for j in s_list:\n",
    "        if j==target_char:\n",
    "            count_of_char=count_of_char+1\n",
    "            \n",
    "print(count_of_char)"
   ]
  },
  {
   "cell_type": "markdown",
   "id": "6498dc9a-ef7b-4ad9-bf2f-98d24ec2de6c",
   "metadata": {},
   "source": [
    "### Calculate Average"
   ]
  },
  {
   "cell_type": "code",
   "execution_count": 56,
   "id": "2396897c-3a02-49a9-ad0c-f273a504fb77",
   "metadata": {},
   "outputs": [
    {
     "name": "stdout",
     "output_type": "stream",
     "text": [
      "['Counter', 'Decimal', 'Fraction', 'LinearRegression', 'NormalDist', 'StatisticsError', '_SQRT2', '__all__', '__annotations__', '__builtins__', '__cached__', '__doc__', '__file__', '__loader__', '__name__', '__package__', '__spec__', '_coerce', '_convert', '_decimal_sqrt_of_frac', '_exact_ratio', '_fail_neg', '_float_sqrt_of_frac', '_integer_sqrt_of_frac_rto', '_isfinite', '_mean_stdev', '_normal_dist_inv_cdf', '_sqrt_bit_width', '_ss', '_sum', 'bisect_left', 'bisect_right', 'correlation', 'covariance', 'defaultdict', 'erf', 'exp', 'fabs', 'fmean', 'fsum', 'geometric_mean', 'groupby', 'harmonic_mean', 'hypot', 'linear_regression', 'log', 'math', 'mean', 'median', 'median_grouped', 'median_high', 'median_low', 'mode', 'mul', 'multimode', 'namedtuple', 'numbers', 'pstdev', 'pvariance', 'quantiles', 'random', 'reduce', 'repeat', 'sqrt', 'stdev', 'sys', 'tau', 'variance']\n"
     ]
    }
   ],
   "source": [
    "l=[1,2,4,6,67,4,4,56,7]\n",
    "#sum,min,max,len\n",
    "import statistics\n",
    "print(dir(statistics))"
   ]
  },
  {
   "cell_type": "code",
   "execution_count": 57,
   "id": "e831bcf4-d84a-453e-83d6-5a4b915a5e3a",
   "metadata": {},
   "outputs": [
    {
     "data": {
      "text/plain": [
       "16.77777777777778"
      ]
     },
     "execution_count": 57,
     "metadata": {},
     "output_type": "execute_result"
    }
   ],
   "source": [
    "statistics.mean(l)"
   ]
  },
  {
   "cell_type": "code",
   "execution_count": 58,
   "id": "d6b743cf-6d91-4ae3-add5-f803ceb8cb74",
   "metadata": {},
   "outputs": [
    {
     "data": {
      "text/plain": [
       "151"
      ]
     },
     "execution_count": 58,
     "metadata": {},
     "output_type": "execute_result"
    }
   ],
   "source": [
    "sum(l)"
   ]
  },
  {
   "cell_type": "code",
   "execution_count": 59,
   "id": "df14925f-7de6-4aee-b823-9f06d8e78612",
   "metadata": {},
   "outputs": [
    {
     "data": {
      "text/plain": [
       "16.77777777777778"
      ]
     },
     "execution_count": 59,
     "metadata": {},
     "output_type": "execute_result"
    }
   ],
   "source": [
    "#avg=total/len\n",
    "total=0\n",
    "for i in l:\n",
    "    total=total+i\n",
    "avg=total/len(l)\n",
    "avg\n",
    "    "
   ]
  },
  {
   "cell_type": "markdown",
   "id": "770063f2-9102-4b1b-9b1f-c4e364b6b925",
   "metadata": {},
   "source": [
    "### Reverse each word in list"
   ]
  },
  {
   "cell_type": "code",
   "execution_count": 60,
   "id": "ee04c6ac-6472-441c-a4ae-775911cc4c76",
   "metadata": {},
   "outputs": [
    {
     "data": {
      "text/plain": [
       "'atad'"
      ]
     },
     "execution_count": 60,
     "metadata": {},
     "output_type": "execute_result"
    }
   ],
   "source": [
    "a=\"data\"\n",
    "a[::-1]"
   ]
  },
  {
   "cell_type": "code",
   "execution_count": 62,
   "id": "2ecf42c6-c869-4007-b20a-e46924b850ea",
   "metadata": {},
   "outputs": [
    {
     "data": {
      "text/plain": [
       "'anatehc'"
      ]
     },
     "execution_count": 62,
     "metadata": {},
     "output_type": "execute_result"
    }
   ],
   "source": [
    "\"chetana\"[::-1]"
   ]
  },
  {
   "cell_type": "code",
   "execution_count": 61,
   "id": "91c326b1-90df-4d60-933b-bdb57231f2d3",
   "metadata": {},
   "outputs": [
    {
     "data": {
      "text/plain": [
       "['analysis', 'science', 'data']"
      ]
     },
     "execution_count": 61,
     "metadata": {},
     "output_type": "execute_result"
    }
   ],
   "source": [
    "l=[\"data\",\"science\",\"analysis\"]\n",
    "l[::-1]"
   ]
  },
  {
   "cell_type": "code",
   "execution_count": 64,
   "id": "97f929c8-4af5-4fa9-9fe3-427af3dce87b",
   "metadata": {},
   "outputs": [
    {
     "data": {
      "text/plain": [
       "['atad', 'ecneics', 'sisylana']"
      ]
     },
     "execution_count": 64,
     "metadata": {},
     "output_type": "execute_result"
    }
   ],
   "source": [
    "l=[\"data\",\"science\",\"analysis\"]\n",
    "reverse=[]\n",
    "for word in l:  #science\n",
    "    r=word[::-1]  #rwdfghd\n",
    "    reverse.append(r)\n",
    "    \n",
    "reverse    "
   ]
  },
  {
   "cell_type": "markdown",
   "id": "85ce5a36-cef7-4e52-bc59-4d8be5e278aa",
   "metadata": {},
   "source": [
    "### Task"
   ]
  },
  {
   "cell_type": "code",
   "execution_count": 70,
   "id": "141cc698-dce7-4082-9ceb-ceda3da694e5",
   "metadata": {},
   "outputs": [],
   "source": [
    "# 1.find colors startswith letter \"b\"\n",
    "colors=[\"red\",\"blue\",\"green\",\"black\"]   #startswith()\n",
    "# 2. Find palindromes : nayan\n",
    "list1=[\"python\",\"radar\",\"nayan\",\"data\",\"level\"]"
   ]
  },
  {
   "cell_type": "code",
   "execution_count": 69,
   "id": "d84df8bc-6f90-4c36-963c-bd828991ca92",
   "metadata": {},
   "outputs": [
    {
     "name": "stdout",
     "output_type": "stream",
     "text": [
      "blue\n",
      "black\n",
      "bjhcj\n"
     ]
    }
   ],
   "source": [
    "colors=[\"red\",\"blue\",\"green\",\"black\",\"bjhcj\"]\n",
    "for word in colors:\n",
    "    if word.startswith(\"b\"):\n",
    "        print(word)"
   ]
  },
  {
   "cell_type": "code",
   "execution_count": 71,
   "id": "834394fb-9461-49ba-83a4-ae3aefa2034e",
   "metadata": {},
   "outputs": [
    {
     "data": {
      "text/plain": [
       "'level'"
      ]
     },
     "execution_count": 71,
     "metadata": {},
     "output_type": "execute_result"
    }
   ],
   "source": [
    "\"level\"[::-1]"
   ]
  },
  {
   "cell_type": "code",
   "execution_count": 72,
   "id": "e810b990-f8eb-47cb-9759-5681b19b9dce",
   "metadata": {},
   "outputs": [
    {
     "data": {
      "text/plain": [
       "['radar', 'nayan', 'level']"
      ]
     },
     "execution_count": 72,
     "metadata": {},
     "output_type": "execute_result"
    }
   ],
   "source": [
    "list1=[\"python\",\"radar\",\"nayan\",\"data\",\"level\"]\n",
    "palindromes=[]\n",
    "for i in list1:  #radar\n",
    "    if i ==i[::-1] : #radar==radar\n",
    "        palindromes.append(i)\n",
    "palindromes\n",
    "        \n",
    "    "
   ]
  },
  {
   "cell_type": "markdown",
   "id": "64e7ff9d-9940-4e04-9e34-9b84513288ec",
   "metadata": {},
   "source": [
    "# Homework"
   ]
  },
  {
   "cell_type": "code",
   "execution_count": 1,
   "id": "61241b4f-decb-41f1-ac8a-b857c7b3b46f",
   "metadata": {},
   "outputs": [],
   "source": [
    "#1.reverse digits in a given tuple\n",
    "t=(123,345,678,213,567,890)\n",
    "#2. find minimum and maximum number from list without using fn\n",
    "l=[0,12,3,4,5,2,2,34,4,5566,7,7,89,9]"
   ]
  },
  {
   "cell_type": "code",
   "execution_count": 2,
   "id": "34e4e3af-20b6-473d-8d20-dde0c5b4a611",
   "metadata": {},
   "outputs": [
    {
     "data": {
      "text/plain": [
       "'anatehc'"
      ]
     },
     "execution_count": 2,
     "metadata": {},
     "output_type": "execute_result"
    }
   ],
   "source": [
    "i=123\n",
    "s=\"chetana\"  #ordered: indexing ,slicing\n",
    "s[::-1]"
   ]
  },
  {
   "cell_type": "code",
   "execution_count": 3,
   "id": "54e51060-c8a0-4d5c-ae16-0f04b2a123d4",
   "metadata": {},
   "outputs": [
    {
     "ename": "TypeError",
     "evalue": "'int' object is not subscriptable",
     "output_type": "error",
     "traceback": [
      "\u001b[1;31m---------------------------------------------------------------------------\u001b[0m",
      "\u001b[1;31mTypeError\u001b[0m                                 Traceback (most recent call last)",
      "Cell \u001b[1;32mIn[3], line 1\u001b[0m\n\u001b[1;32m----> 1\u001b[0m i[::\u001b[38;5;241m-\u001b[39m\u001b[38;5;241m1\u001b[39m]\n",
      "\u001b[1;31mTypeError\u001b[0m: 'int' object is not subscriptable"
     ]
    }
   ],
   "source": [
    "i[::-1]"
   ]
  },
  {
   "cell_type": "code",
   "execution_count": 9,
   "id": "5470fc26-7d5b-4535-bcff-b12ed70dd710",
   "metadata": {},
   "outputs": [
    {
     "data": {
      "text/plain": [
       "(321, 543, 876, 312, 765, 98)"
      ]
     },
     "execution_count": 9,
     "metadata": {},
     "output_type": "execute_result"
    }
   ],
   "source": [
    "t=(123,345,678,213,567,890)  #int\n",
    "reverse_digits=[]\n",
    "for i in t:  #345\n",
    "    integer=str(i)  #\"345\"\n",
    "    reverse_int=integer[::-1]  #\"543\"\n",
    "    reverse_digits.append(int(reverse_int))  #543\n",
    "tuple(reverse_digits )\n",
    "#098"
   ]
  },
  {
   "cell_type": "code",
   "execution_count": 11,
   "id": "7939db87-e91d-489e-acfe-c69bc1fbc931",
   "metadata": {},
   "outputs": [
    {
     "name": "stdout",
     "output_type": "stream",
     "text": [
      "5566\n",
      "0\n"
     ]
    }
   ],
   "source": [
    "#2. find minimum and maximum number from list without using fn\n",
    "l=[0,12,3,4,5,2,2,34,4,5566,7,7,89,9]\n",
    "print(max(l))\n",
    "print(min(l))\n"
   ]
  },
  {
   "cell_type": "code",
   "execution_count": 22,
   "id": "1b9188f5-4fab-4ab4-a7fa-f6b5fdd382f4",
   "metadata": {},
   "outputs": [
    {
     "name": "stdin",
     "output_type": "stream",
     "text": [
      "Please enter elements: [1,2,4,5]\n"
     ]
    },
    {
     "name": "stdout",
     "output_type": "stream",
     "text": [
      "maximum: 5\n",
      "mimimum: 1\n"
     ]
    }
   ],
   "source": [
    "\n",
    "l=eval(input(\"Please enter elements:\"))\n",
    "maximum=l[-1]  #9\n",
    "minimum=l[-1]  #0\n",
    "for num in l:   #3\n",
    "    if num>maximum:  #34>12  true\n",
    "        maximum=num #0\n",
    "    if num<minimum:  #0<9  True\n",
    "        minimum=num\n",
    "        \n",
    "print(\"maximum:\",maximum)\n",
    "print(\"mimimum:\",minimum)\n",
    "    "
   ]
  },
  {
   "cell_type": "code",
   "execution_count": null,
   "id": "65827da8-0db8-4326-9e93-4e6965d5dd7b",
   "metadata": {},
   "outputs": [],
   "source": []
  }
 ],
 "metadata": {
  "kernelspec": {
   "display_name": "Python 3 (ipykernel)",
   "language": "python",
   "name": "python3"
  },
  "language_info": {
   "codemirror_mode": {
    "name": "ipython",
    "version": 3
   },
   "file_extension": ".py",
   "mimetype": "text/x-python",
   "name": "python",
   "nbconvert_exporter": "python",
   "pygments_lexer": "ipython3",
   "version": "3.11.7"
  }
 },
 "nbformat": 4,
 "nbformat_minor": 5
}
