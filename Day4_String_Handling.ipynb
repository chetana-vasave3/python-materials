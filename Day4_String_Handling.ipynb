{
 "cells": [
  {
   "cell_type": "markdown",
   "id": "e21cfced-8839-4562-bb93-b4f3bd7ec3c5",
   "metadata": {},
   "source": [
    "# Mutable and immutable"
   ]
  },
  {
   "cell_type": "markdown",
   "id": "2f388fc2-9c9d-45b1-816e-0e00da95ea3d",
   "metadata": {},
   "source": [
    "- Mutable: we can change,add and remove after decalration(LDS)==>List,Dict,Set\n",
    "- Immutable: we cant change ,add and remove after declaration===>int,float,string"
   ]
  },
  {
   "cell_type": "code",
   "execution_count": 1,
   "id": "ce2ef5a1-67b6-4a7e-9eef-7c576498bcac",
   "metadata": {},
   "outputs": [
    {
     "name": "stdout",
     "output_type": "stream",
     "text": [
      "I am Learning Data Analysis\n"
     ]
    }
   ],
   "source": [
    "s=\"I am Learning Python\"\n",
    "print(s.replace(\"Python\",\"Data Analysis\"))  #Temporary"
   ]
  },
  {
   "cell_type": "code",
   "execution_count": 2,
   "id": "3cbc10b3-81c2-4dd0-938e-1adf1813039f",
   "metadata": {},
   "outputs": [
    {
     "name": "stdout",
     "output_type": "stream",
     "text": [
      "I am Learning Python\n"
     ]
    }
   ],
   "source": [
    "print(s)\n"
   ]
  },
  {
   "cell_type": "code",
   "execution_count": 3,
   "id": "19068d38-fa5e-4420-95f5-00cf4ceb16b3",
   "metadata": {},
   "outputs": [],
   "source": [
    "i=123"
   ]
  },
  {
   "cell_type": "code",
   "execution_count": 5,
   "id": "92b34394-7e7f-4129-b50b-505139b49848",
   "metadata": {},
   "outputs": [],
   "source": [
    "list1=[1,2,3,4]\n",
    "list1.append(500)  #permenent"
   ]
  },
  {
   "cell_type": "code",
   "execution_count": 6,
   "id": "9edbb54f-b559-48da-9b25-60533406a464",
   "metadata": {},
   "outputs": [
    {
     "name": "stdout",
     "output_type": "stream",
     "text": [
      "[1, 2, 3, 4, 500]\n"
     ]
    }
   ],
   "source": [
    "print(list1)"
   ]
  },
  {
   "cell_type": "markdown",
   "id": "6a4b07fe-f240-4e49-9c2c-9ec99d001ece",
   "metadata": {},
   "source": [
    "# string ==text==str()"
   ]
  },
  {
   "cell_type": "markdown",
   "id": "98573172-2548-48b6-a3ce-8b780d397310",
   "metadata": {},
   "source": [
    "- 'python',\"python\",\"\"\"python\"\"\"\n",
    "- immutable\n",
    "- orderd"
   ]
  },
  {
   "cell_type": "markdown",
   "id": "593d570c-8581-4144-b7ad-616cd27479b2",
   "metadata": {},
   "source": [
    "## String Operators"
   ]
  },
  {
   "cell_type": "markdown",
   "id": "29097c2b-9e4e-42ff-a138-fce2dba4b577",
   "metadata": {},
   "source": [
    "##### + (plus operator)"
   ]
  },
  {
   "cell_type": "code",
   "execution_count": 7,
   "id": "0777008d-4d54-4f4f-b398-90e6995aee82",
   "metadata": {},
   "outputs": [
    {
     "data": {
      "text/plain": [
       "15"
      ]
     },
     "execution_count": 7,
     "metadata": {},
     "output_type": "execute_result"
    }
   ],
   "source": [
    "a=6\n",
    "b=9\n",
    "a+b"
   ]
  },
  {
   "cell_type": "code",
   "execution_count": 11,
   "id": "8dca97ca-8e38-4dbf-8f57-56591790289b",
   "metadata": {},
   "outputs": [
    {
     "data": {
      "text/plain": [
       "'data   analysis'"
      ]
     },
     "execution_count": 11,
     "metadata": {},
     "output_type": "execute_result"
    }
   ],
   "source": [
    "a=\"data\"\n",
    "b=\"analysis\"\n",
    "a+\"   \"+b  #concatination: join"
   ]
  },
  {
   "cell_type": "markdown",
   "id": "eb593a76-680b-41e2-babf-8706bc60afb0",
   "metadata": {},
   "source": [
    "#### * (into operator)"
   ]
  },
  {
   "cell_type": "code",
   "execution_count": 12,
   "id": "1c85335d-10eb-4d73-8ef3-a8d0e53a58bc",
   "metadata": {},
   "outputs": [
    {
     "name": "stdout",
     "output_type": "stream",
     "text": [
      "datadatadatadatadatadatadatadatadatadata\n"
     ]
    }
   ],
   "source": [
    "print(a*10)\n",
    "#rept()"
   ]
  },
  {
   "cell_type": "markdown",
   "id": "3f059173-e12b-4cff-a94d-4cdb1e8b0eca",
   "metadata": {},
   "source": [
    "##### in operator"
   ]
  },
  {
   "cell_type": "code",
   "execution_count": 14,
   "id": "029777be-669a-41d7-a6d3-1267d4317c2f",
   "metadata": {},
   "outputs": [
    {
     "data": {
      "text/plain": [
       "False"
      ]
     },
     "execution_count": 14,
     "metadata": {},
     "output_type": "execute_result"
    }
   ],
   "source": [
    "#memborship operator\n",
    "string1=\"Data science\"\n",
    "\"S\" in string1"
   ]
  },
  {
   "cell_type": "code",
   "execution_count": 16,
   "id": "7ea30901-401e-413e-b947-1448923dd93e",
   "metadata": {},
   "outputs": [
    {
     "data": {
      "text/plain": [
       "True"
      ]
     },
     "execution_count": 16,
     "metadata": {},
     "output_type": "execute_result"
    }
   ],
   "source": [
    "\"Data\" in string1"
   ]
  },
  {
   "cell_type": "code",
   "execution_count": 17,
   "id": "4f47257d-b10c-42b4-b46e-321f0ce2446b",
   "metadata": {},
   "outputs": [
    {
     "data": {
      "text/plain": [
       "True"
      ]
     },
     "execution_count": 17,
     "metadata": {},
     "output_type": "execute_result"
    }
   ],
   "source": [
    "x=\"science\"\n",
    "x in string1"
   ]
  },
  {
   "cell_type": "markdown",
   "id": "d2ef8565-e2e4-4eda-8a42-af1a3f42a22c",
   "metadata": {},
   "source": [
    "##### not in operator"
   ]
  },
  {
   "cell_type": "code",
   "execution_count": 18,
   "id": "3d2f0c6e-edf2-4882-af87-2b05e1997c21",
   "metadata": {},
   "outputs": [
    {
     "data": {
      "text/plain": [
       "True"
      ]
     },
     "execution_count": 18,
     "metadata": {},
     "output_type": "execute_result"
    }
   ],
   "source": [
    "string1=\"Data science\"\n",
    "\"S\" not in string1"
   ]
  },
  {
   "cell_type": "code",
   "execution_count": 19,
   "id": "ce8d5f34-59af-44d8-9bf9-8de74b1f3289",
   "metadata": {},
   "outputs": [
    {
     "data": {
      "text/plain": [
       "False"
      ]
     },
     "execution_count": 19,
     "metadata": {},
     "output_type": "execute_result"
    }
   ],
   "source": [
    "\"Data\" not in string1"
   ]
  },
  {
   "cell_type": "markdown",
   "id": "cae2779e-a264-4275-98c8-bb2209b2046d",
   "metadata": {},
   "source": [
    "Functions in string\n",
    "- upper()\n",
    "- lower()\n",
    "- title()\n",
    "- capitalize()\n",
    "- replace()\n",
    "- count()\n",
    "- chr()  /char()\n",
    "- ord()  /code()\n",
    "- len()\n"
   ]
  },
  {
   "cell_type": "code",
   "execution_count": 1,
   "id": "56d18e1e-727c-4300-bfb1-62fec88ec9da",
   "metadata": {},
   "outputs": [],
   "source": [
    "s=\"i am learining python\"\n"
   ]
  },
  {
   "cell_type": "code",
   "execution_count": 2,
   "id": "56230ff0-887c-4f88-a3c4-982d8d548467",
   "metadata": {},
   "outputs": [
    {
     "data": {
      "text/plain": [
       "'I AM LEARINING PYTHON'"
      ]
     },
     "execution_count": 2,
     "metadata": {},
     "output_type": "execute_result"
    }
   ],
   "source": [
    "s.upper()   #atribute/arguments"
   ]
  },
  {
   "cell_type": "code",
   "execution_count": 3,
   "id": "20382672-b6a9-46b4-84f1-7db333040144",
   "metadata": {},
   "outputs": [
    {
     "data": {
      "text/plain": [
       "'i am learining python'"
      ]
     },
     "execution_count": 3,
     "metadata": {},
     "output_type": "execute_result"
    }
   ],
   "source": [
    "s.lower()"
   ]
  },
  {
   "cell_type": "code",
   "execution_count": 29,
   "id": "404c958c-13c6-404f-b225-94a70df8565e",
   "metadata": {},
   "outputs": [
    {
     "data": {
      "text/plain": [
       "'i am learining python'"
      ]
     },
     "execution_count": 29,
     "metadata": {},
     "output_type": "execute_result"
    }
   ],
   "source": [
    "s  #immutable"
   ]
  },
  {
   "cell_type": "code",
   "execution_count": 4,
   "id": "c644753d-d67f-45bf-91c2-fff357e9e875",
   "metadata": {},
   "outputs": [
    {
     "data": {
      "text/plain": [
       "'I Am Learining Python'"
      ]
     },
     "execution_count": 4,
     "metadata": {},
     "output_type": "execute_result"
    }
   ],
   "source": [
    "s.title()   #proper()"
   ]
  },
  {
   "cell_type": "code",
   "execution_count": 31,
   "id": "69b38ee3-a48a-4d76-bcd9-7db2861433c0",
   "metadata": {},
   "outputs": [
    {
     "data": {
      "text/plain": [
       "'I am learining python'"
      ]
     },
     "execution_count": 31,
     "metadata": {},
     "output_type": "execute_result"
    }
   ],
   "source": [
    "s.capitalize()"
   ]
  },
  {
   "cell_type": "code",
   "execution_count": 5,
   "id": "32fdabfa-6eb3-41de-8ce4-8db134b8e9bc",
   "metadata": {},
   "outputs": [
    {
     "data": {
      "text/plain": [
       "'i am learining DA'"
      ]
     },
     "execution_count": 5,
     "metadata": {},
     "output_type": "execute_result"
    }
   ],
   "source": [
    "s.replace(\"python\",\"DA\")"
   ]
  },
  {
   "cell_type": "code",
   "execution_count": 34,
   "id": "67405db5-61fe-4d54-8867-2a1add4dc313",
   "metadata": {},
   "outputs": [
    {
     "data": {
      "text/plain": [
       "1"
      ]
     },
     "execution_count": 34,
     "metadata": {},
     "output_type": "execute_result"
    }
   ],
   "source": [
    "s.count(\"p\")"
   ]
  },
  {
   "cell_type": "code",
   "execution_count": 36,
   "id": "e73a0bb1-fe1d-4aa1-ba77-65c8a7d158fe",
   "metadata": {},
   "outputs": [
    {
     "data": {
      "text/plain": [
       "1"
      ]
     },
     "execution_count": 36,
     "metadata": {},
     "output_type": "execute_result"
    }
   ],
   "source": [
    "s.count(\"python\")"
   ]
  },
  {
   "cell_type": "code",
   "execution_count": 37,
   "id": "c84ba821-4ce6-4b47-8e20-728aa44a1d54",
   "metadata": {},
   "outputs": [
    {
     "data": {
      "text/plain": [
       "0"
      ]
     },
     "execution_count": 37,
     "metadata": {},
     "output_type": "execute_result"
    }
   ],
   "source": [
    "s.count(\"z\")"
   ]
  },
  {
   "cell_type": "code",
   "execution_count": 6,
   "id": "563ba422-6411-49cb-91d9-d73db1fedff1",
   "metadata": {},
   "outputs": [],
   "source": [
    "#password creation\n"
   ]
  },
  {
   "cell_type": "code",
   "execution_count": 7,
   "id": "2b0b2bf9-0d6c-40fc-b750-1e494844a065",
   "metadata": {},
   "outputs": [
    {
     "data": {
      "text/plain": [
       "'#'"
      ]
     },
     "execution_count": 7,
     "metadata": {},
     "output_type": "execute_result"
    }
   ],
   "source": [
    "chr(35)   #ASCII code"
   ]
  },
  {
   "cell_type": "code",
   "execution_count": 8,
   "id": "aeeeafd8-b9e0-411f-98a1-6be1b8810d17",
   "metadata": {},
   "outputs": [
    {
     "data": {
      "text/plain": [
       "35"
      ]
     },
     "execution_count": 8,
     "metadata": {},
     "output_type": "execute_result"
    }
   ],
   "source": [
    "ord(\"#\")"
   ]
  },
  {
   "cell_type": "code",
   "execution_count": 9,
   "id": "b9beed6d-7ae3-44e2-9955-8d04d648f714",
   "metadata": {},
   "outputs": [
    {
     "data": {
      "text/plain": [
       "37"
      ]
     },
     "execution_count": 9,
     "metadata": {},
     "output_type": "execute_result"
    }
   ],
   "source": [
    "ord(\"%\")"
   ]
  },
  {
   "cell_type": "code",
   "execution_count": 10,
   "id": "680d92e4-3c76-42a9-a5b6-31460748baa9",
   "metadata": {},
   "outputs": [
    {
     "data": {
      "text/plain": [
       "90"
      ]
     },
     "execution_count": 10,
     "metadata": {},
     "output_type": "execute_result"
    }
   ],
   "source": [
    "ord(\"Z\")"
   ]
  },
  {
   "cell_type": "code",
   "execution_count": 11,
   "id": "63320e6e-af7f-468d-8254-27c7890d199d",
   "metadata": {},
   "outputs": [
    {
     "data": {
      "text/plain": [
       "'Z'"
      ]
     },
     "execution_count": 11,
     "metadata": {},
     "output_type": "execute_result"
    }
   ],
   "source": [
    "chr(90)"
   ]
  },
  {
   "cell_type": "code",
   "execution_count": 13,
   "id": "d744c65f-dfb1-43f9-9a1a-0a870937d3e3",
   "metadata": {},
   "outputs": [
    {
     "data": {
      "text/plain": [
       "21"
      ]
     },
     "execution_count": 13,
     "metadata": {},
     "output_type": "execute_result"
    }
   ],
   "source": [
    "len(s)"
   ]
  },
  {
   "cell_type": "markdown",
   "id": "c2d928ae-addd-4452-8733-6a55e49e2ba4",
   "metadata": {},
   "source": [
    "- strip(): trim fun"
   ]
  },
  {
   "cell_type": "code",
   "execution_count": 33,
   "id": "0f98a3b8-7272-4925-bd70-05f600e51213",
   "metadata": {},
   "outputs": [
    {
     "data": {
      "text/plain": [
       "'data    science'"
      ]
     },
     "execution_count": 33,
     "metadata": {},
     "output_type": "execute_result"
    }
   ],
   "source": [
    "s=\"     data    science   \"\n",
    "s.strip()"
   ]
  },
  {
   "cell_type": "code",
   "execution_count": 34,
   "id": "1a288fab-7bd7-4082-b14b-a8293e2c8163",
   "metadata": {},
   "outputs": [
    {
     "data": {
      "text/plain": [
       "'  data science   '"
      ]
     },
     "execution_count": 34,
     "metadata": {},
     "output_type": "execute_result"
    }
   ],
   "source": [
    "s.replace(\"    \",\" \")"
   ]
  },
  {
   "cell_type": "markdown",
   "id": "1bf9ca89-afe0-4abf-a4a5-2f71d8d088c0",
   "metadata": {},
   "source": [
    "- lstrip()\n",
    "- rstrip()"
   ]
  },
  {
   "cell_type": "code",
   "execution_count": 35,
   "id": "716fcf83-18d3-430a-9eb4-8315c4b209ee",
   "metadata": {},
   "outputs": [
    {
     "data": {
      "text/plain": [
       "'data    science   '"
      ]
     },
     "execution_count": 35,
     "metadata": {},
     "output_type": "execute_result"
    }
   ],
   "source": [
    "s.lstrip()"
   ]
  },
  {
   "cell_type": "code",
   "execution_count": 36,
   "id": "579d4b73-1f57-4b37-9aff-ed30479b9c0d",
   "metadata": {},
   "outputs": [
    {
     "data": {
      "text/plain": [
       "'     data    science'"
      ]
     },
     "execution_count": 36,
     "metadata": {},
     "output_type": "execute_result"
    }
   ],
   "source": [
    "s.rstrip()\n"
   ]
  },
  {
   "cell_type": "markdown",
   "id": "955342dd-7a82-4ce1-8eca-39b1df707371",
   "metadata": {},
   "source": [
    "- split()== string to list ==bydefault space seperated"
   ]
  },
  {
   "cell_type": "code",
   "execution_count": 38,
   "id": "bf6cd15a-6818-44c1-9f2d-e79c501e6572",
   "metadata": {},
   "outputs": [
    {
     "data": {
      "text/plain": [
       "['data', 'science']"
      ]
     },
     "execution_count": 38,
     "metadata": {},
     "output_type": "execute_result"
    }
   ],
   "source": [
    "s=\"data science\"\n",
    "s.split()"
   ]
  },
  {
   "cell_type": "code",
   "execution_count": 40,
   "id": "921df554-b7b1-47c5-904c-0b61e6ce22d9",
   "metadata": {},
   "outputs": [
    {
     "data": {
      "text/plain": [
       "['data ', 'cience']"
      ]
     },
     "execution_count": 40,
     "metadata": {},
     "output_type": "execute_result"
    }
   ],
   "source": [
    "s=\"data science\"\n",
    "s.split(\"s\")"
   ]
  },
  {
   "cell_type": "markdown",
   "id": "762da866-3b7c-4f25-b047-0ca558ca74e2",
   "metadata": {},
   "source": [
    "- join(): list to string"
   ]
  },
  {
   "cell_type": "code",
   "execution_count": 41,
   "id": "d049b280-6556-4094-9f8e-7486ef63fc37",
   "metadata": {},
   "outputs": [
    {
     "data": {
      "text/plain": [
       "'data science'"
      ]
     },
     "execution_count": 41,
     "metadata": {},
     "output_type": "execute_result"
    }
   ],
   "source": [
    "l=[\"data\",\"science\"]\n",
    "\" \".join(l)"
   ]
  },
  {
   "cell_type": "code",
   "execution_count": 42,
   "id": "b8072054-d447-4c7d-bb94-b955bc8c0da9",
   "metadata": {},
   "outputs": [
    {
     "data": {
      "text/plain": [
       "'data@science'"
      ]
     },
     "execution_count": 42,
     "metadata": {},
     "output_type": "execute_result"
    }
   ],
   "source": [
    "l=[\"data\",\"science\"]\n",
    "\"@\".join(l)"
   ]
  },
  {
   "cell_type": "markdown",
   "id": "a4819304-9087-4b73-8928-e1aab4d4de6f",
   "metadata": {},
   "source": [
    "- find(): character or word position/index"
   ]
  },
  {
   "cell_type": "code",
   "execution_count": 44,
   "id": "aabac095-8545-420b-a2d1-bbbb9137a633",
   "metadata": {},
   "outputs": [
    {
     "data": {
      "text/plain": [
       "0"
      ]
     },
     "execution_count": 44,
     "metadata": {},
     "output_type": "execute_result"
    }
   ],
   "source": [
    "s=\"chetana\"\n",
    "s.find(\"che\")\n"
   ]
  },
  {
   "cell_type": "code",
   "execution_count": 46,
   "id": "bcb9fbc4-a450-4b19-bc4c-c18fe3fa3d8b",
   "metadata": {},
   "outputs": [
    {
     "data": {
      "text/plain": [
       "-1"
      ]
     },
     "execution_count": 46,
     "metadata": {},
     "output_type": "execute_result"
    }
   ],
   "source": [
    "s.find(\"z\")"
   ]
  },
  {
   "cell_type": "code",
   "execution_count": 47,
   "id": "c44147ee-b331-458b-9ae3-b8a0042a15cf",
   "metadata": {},
   "outputs": [
    {
     "data": {
      "text/plain": [
       "0"
      ]
     },
     "execution_count": 47,
     "metadata": {},
     "output_type": "execute_result"
    }
   ],
   "source": [
    "s=\"chetana\"\n",
    "s.index(\"che\")\n"
   ]
  },
  {
   "cell_type": "code",
   "execution_count": 48,
   "id": "b6a3b153-e793-4aac-a6c7-6b4763e8d55d",
   "metadata": {},
   "outputs": [
    {
     "ename": "ValueError",
     "evalue": "substring not found",
     "output_type": "error",
     "traceback": [
      "\u001b[1;31m---------------------------------------------------------------------------\u001b[0m",
      "\u001b[1;31mValueError\u001b[0m                                Traceback (most recent call last)",
      "Cell \u001b[1;32mIn[48], line 2\u001b[0m\n\u001b[0;32m      1\u001b[0m s\u001b[38;5;241m=\u001b[39m\u001b[38;5;124m\"\u001b[39m\u001b[38;5;124mchetana\u001b[39m\u001b[38;5;124m\"\u001b[39m\n\u001b[1;32m----> 2\u001b[0m s\u001b[38;5;241m.\u001b[39mindex(\u001b[38;5;124m\"\u001b[39m\u001b[38;5;124mz\u001b[39m\u001b[38;5;124m\"\u001b[39m)\n",
      "\u001b[1;31mValueError\u001b[0m: substring not found"
     ]
    }
   ],
   "source": [
    "s=\"chetana\"\n",
    "s.index(\"z\")"
   ]
  },
  {
   "cell_type": "markdown",
   "id": "83e9843f-3856-48d3-af66-87301f47a664",
   "metadata": {},
   "source": [
    "# Boolean String Function"
   ]
  },
  {
   "cell_type": "markdown",
   "id": "1787ea86-6ce9-4370-b65b-e25f92b17c96",
   "metadata": {},
   "source": [
    "- It gives answers in boolean format(True or False)"
   ]
  },
  {
   "cell_type": "markdown",
   "id": "1ab51a60-1cdf-4514-9398-34a52bdc94df",
   "metadata": {},
   "source": [
    "- 1. startswith()"
   ]
  },
  {
   "cell_type": "code",
   "execution_count": 14,
   "id": "f355d793-4e5b-47bb-b0a0-f4d097335959",
   "metadata": {},
   "outputs": [],
   "source": [
    "s=\"data science\""
   ]
  },
  {
   "cell_type": "code",
   "execution_count": 15,
   "id": "592b2a5c-8c24-4def-bfcb-cfdb4fc61097",
   "metadata": {},
   "outputs": [
    {
     "data": {
      "text/plain": [
       "True"
      ]
     },
     "execution_count": 15,
     "metadata": {},
     "output_type": "execute_result"
    }
   ],
   "source": [
    "s.startswith(\"d\")"
   ]
  },
  {
   "cell_type": "code",
   "execution_count": 16,
   "id": "d11da2bd-fdda-435d-806b-a6f5637e1134",
   "metadata": {},
   "outputs": [
    {
     "data": {
      "text/plain": [
       "False"
      ]
     },
     "execution_count": 16,
     "metadata": {},
     "output_type": "execute_result"
    }
   ],
   "source": [
    "s.startswith(\"Data\")"
   ]
  },
  {
   "cell_type": "markdown",
   "id": "b07d9c29-2d8e-42be-b00f-6eda6a8f5c43",
   "metadata": {},
   "source": [
    "- 2. endswith()"
   ]
  },
  {
   "cell_type": "code",
   "execution_count": 17,
   "id": "88318881-29ce-4a85-abfa-7f3bda000156",
   "metadata": {},
   "outputs": [
    {
     "data": {
      "text/plain": [
       "True"
      ]
     },
     "execution_count": 17,
     "metadata": {},
     "output_type": "execute_result"
    }
   ],
   "source": [
    "s.endswith(\"e\")"
   ]
  },
  {
   "cell_type": "code",
   "execution_count": 18,
   "id": "9096f4d1-241e-4900-bab2-76e685eba3e7",
   "metadata": {},
   "outputs": [
    {
     "data": {
      "text/plain": [
       "False"
      ]
     },
     "execution_count": 18,
     "metadata": {},
     "output_type": "execute_result"
    }
   ],
   "source": [
    "s.endswith(\"z\")"
   ]
  },
  {
   "cell_type": "markdown",
   "id": "65e1a432-1325-499a-9f4f-4fc72dbee63d",
   "metadata": {},
   "source": [
    "- 3.isalpha()==>only alphabets not space"
   ]
  },
  {
   "cell_type": "code",
   "execution_count": 20,
   "id": "15b0e897-cd58-445b-89ad-9e6c179dc8ed",
   "metadata": {},
   "outputs": [],
   "source": [
    "s=\"data science\"\n",
    "s1=\"datascience\"\n",
    "s2=\"data123science\"\n"
   ]
  },
  {
   "cell_type": "code",
   "execution_count": 21,
   "id": "60252520-6325-4877-bc96-9ba1e9857a7a",
   "metadata": {},
   "outputs": [
    {
     "name": "stdout",
     "output_type": "stream",
     "text": [
      "False\n",
      "True\n",
      "False\n"
     ]
    }
   ],
   "source": [
    "print(s.isalpha())\n",
    "print(s1.isalpha())\n",
    "print(s2.isalpha())"
   ]
  },
  {
   "cell_type": "markdown",
   "id": "9f290478-a872-4dbf-ae25-84d441b4c2d3",
   "metadata": {},
   "source": [
    "- 4.isalnum(): only alphabets,only numbers,combination of both but space"
   ]
  },
  {
   "cell_type": "code",
   "execution_count": 23,
   "id": "cb52cf56-6d42-44bc-8256-49203296d9d5",
   "metadata": {},
   "outputs": [
    {
     "name": "stdout",
     "output_type": "stream",
     "text": [
      "False\n",
      "True\n",
      "True\n",
      "True\n"
     ]
    }
   ],
   "source": [
    "s=\"data science\"\n",
    "s1=\"datascience\"\n",
    "s2=\"data123science\"\n",
    "s3=\"1233\"\n",
    "print(s.isalnum())\n",
    "print(s1.isalnum())\n",
    "print(s2.isalnum())\n",
    "print(s3.isalnum())\n",
    "#to create multiple cursor: ctrl+alt"
   ]
  },
  {
   "cell_type": "markdown",
   "id": "959363f5-535f-4354-8c4d-73461861fb7f",
   "metadata": {},
   "source": [
    "- 5. isdigit(): only digits not space"
   ]
  },
  {
   "cell_type": "code",
   "execution_count": 24,
   "id": "408a8917-8fc0-4caf-acf2-576e8e82b1d7",
   "metadata": {},
   "outputs": [
    {
     "name": "stdout",
     "output_type": "stream",
     "text": [
      "False\n",
      "False\n",
      "False\n",
      "True\n"
     ]
    }
   ],
   "source": [
    "s=\"data science\"\n",
    "s1=\"datascience\"\n",
    "s2=\"data123science\"\n",
    "s3=\"1233\"\n",
    "print(s.isdigit())\n",
    "print(s1.isdigit())\n",
    "print(s2.isdigit())\n",
    "print(s3.isdigit())"
   ]
  },
  {
   "cell_type": "markdown",
   "id": "d41c5a71-0d8d-4ad8-8d0f-497bda717036",
   "metadata": {},
   "source": [
    "- 6. islower()"
   ]
  },
  {
   "cell_type": "code",
   "execution_count": 26,
   "id": "0babfa02-d4c8-4dfb-a599-431d03ccf3e1",
   "metadata": {},
   "outputs": [
    {
     "name": "stdout",
     "output_type": "stream",
     "text": [
      "True\n",
      "False\n"
     ]
    }
   ],
   "source": [
    "s1=\"datascience\"\n",
    "s2=\"Datascience\"\n",
    "print(s1.islower())\n",
    "print(s2.islower())"
   ]
  },
  {
   "cell_type": "markdown",
   "id": "64497310-b00d-4046-8696-37363364a652",
   "metadata": {},
   "source": [
    "- 7. isuuper()"
   ]
  },
  {
   "cell_type": "code",
   "execution_count": 29,
   "id": "d812f46e-08f3-48fb-84b3-4afdc03bc603",
   "metadata": {},
   "outputs": [
    {
     "name": "stdout",
     "output_type": "stream",
     "text": [
      "False\n",
      "False\n",
      "True\n"
     ]
    }
   ],
   "source": [
    "s1=\"datascience\"\n",
    "s2=\"Datascience\"\n",
    "s3=\"DATASCIENCE\"\n",
    "print(s1.isupper())\n",
    "print(s2.isupper())\n",
    "print(s3.isupper())"
   ]
  },
  {
   "cell_type": "markdown",
   "id": "82d93cf6-c4ab-4819-8859-f569d80fe9d1",
   "metadata": {},
   "source": [
    "- 8. isspace(): only space"
   ]
  },
  {
   "cell_type": "code",
   "execution_count": 32,
   "id": "74a586b8-4d98-4950-8441-d339af1e1a70",
   "metadata": {},
   "outputs": [
    {
     "name": "stdout",
     "output_type": "stream",
     "text": [
      "False\n",
      "False\n",
      "True\n"
     ]
    }
   ],
   "source": [
    "s1=\"data  science\"\n",
    "s2=\"Datascience\"\n",
    "s3=\"   \"\n",
    "print(s1.isspace())\n",
    "print(s2.isspace())\n",
    "print(s3.isspace())"
   ]
  },
  {
   "cell_type": "code",
   "execution_count": null,
   "id": "d8137f37-f6fb-43a2-af6a-abdc652c5980",
   "metadata": {},
   "outputs": [],
   "source": []
  }
 ],
 "metadata": {
  "kernelspec": {
   "display_name": "Python 3 (ipykernel)",
   "language": "python",
   "name": "python3"
  },
  "language_info": {
   "codemirror_mode": {
    "name": "ipython",
    "version": 3
   },
   "file_extension": ".py",
   "mimetype": "text/x-python",
   "name": "python",
   "nbconvert_exporter": "python",
   "pygments_lexer": "ipython3",
   "version": "3.11.7"
  }
 },
 "nbformat": 4,
 "nbformat_minor": 5
}
