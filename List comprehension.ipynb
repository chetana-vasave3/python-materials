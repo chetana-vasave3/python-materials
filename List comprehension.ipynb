{
 "cells": [
  {
   "cell_type": "markdown",
   "id": "5e17b653-42ec-4e8b-815a-784646496ae1",
   "metadata": {},
   "source": [
    "# Advanced Python Topics\n",
    "One Liner of python\n",
    "- List comprehension\n",
    "- Lambda"
   ]
  },
  {
   "cell_type": "code",
   "execution_count": 1,
   "id": "64759475-ba5c-486a-a561-a7c346cdcfbf",
   "metadata": {},
   "outputs": [],
   "source": [
    "#Syntax of List Comprehension\n",
    "#[expression(result) for item in sequence]\n",
    "#Syntax of List Comprehension with condition\n",
    "#[expression(result) for item in sequence if condition]"
   ]
  },
  {
   "cell_type": "code",
   "execution_count": 3,
   "id": "60127032-c1e0-4c6b-b0a4-420990f92704",
   "metadata": {},
   "outputs": [
    {
     "name": "stdout",
     "output_type": "stream",
     "text": [
      "[1, 4, 9, 16, 25, 36, 49, 64, 81, 100, 121, 144, 169, 196, 225, 256, 289, 324, 361, 400, 441, 484, 529, 576, 625, 676, 729, 784, 841, 900, 961, 1024, 1089, 1156, 1225, 1296, 1369, 1444, 1521, 1600, 1681, 1764, 1849, 1936, 2025, 2116, 2209, 2304, 2401, 2500, 2601, 2704, 2809, 2916, 3025, 3136, 3249, 3364, 3481, 3600, 3721, 3844, 3969, 4096, 4225, 4356, 4489, 4624, 4761, 4900, 5041, 5184, 5329, 5476, 5625, 5776, 5929, 6084, 6241, 6400, 6561, 6724, 6889, 7056, 7225, 7396, 7569, 7744, 7921, 8100, 8281, 8464, 8649, 8836, 9025, 9216, 9409, 9604, 9801, 10000]\n"
     ]
    }
   ],
   "source": [
    "#sqaure of first 100 numbers\n",
    "l=[]\n",
    "for i in range(1,101):\n",
    "    l.append(i**2)\n",
    "print(l)\n",
    "#4 lines code\n"
   ]
  },
  {
   "cell_type": "code",
   "execution_count": 5,
   "id": "9c963820-e378-4c4b-b42d-17fe2f6fb913",
   "metadata": {},
   "outputs": [
    {
     "name": "stdout",
     "output_type": "stream",
     "text": [
      "[1, 4, 9, 16, 25, 36, 49, 64, 81, 100, 121, 144, 169, 196, 225, 256, 289, 324, 361, 400, 441, 484, 529, 576, 625, 676, 729, 784, 841, 900, 961, 1024, 1089, 1156, 1225, 1296, 1369, 1444, 1521, 1600, 1681, 1764, 1849, 1936, 2025, 2116, 2209, 2304, 2401, 2500, 2601, 2704, 2809, 2916, 3025, 3136, 3249, 3364, 3481, 3600, 3721, 3844, 3969, 4096, 4225, 4356, 4489, 4624, 4761, 4900, 5041, 5184, 5329, 5476, 5625, 5776, 5929, 6084, 6241, 6400, 6561, 6724, 6889, 7056, 7225, 7396, 7569, 7744, 7921, 8100, 8281, 8464, 8649, 8836, 9025, 9216, 9409, 9604, 9801, 10000]\n"
     ]
    }
   ],
   "source": [
    "#using list comprehension\n",
    "print([i**2 for i in range(1,101)])"
   ]
  },
  {
   "cell_type": "markdown",
   "id": "5e3c376c-c952-4c0b-a812-1a0d9c6ee900",
   "metadata": {},
   "source": [
    "## With condition"
   ]
  },
  {
   "cell_type": "code",
   "execution_count": 7,
   "id": "30554907-fb41-4b2f-aadd-9cc9d463aa77",
   "metadata": {},
   "outputs": [
    {
     "name": "stdout",
     "output_type": "stream",
     "text": [
      "[2, 4, 6, 8, 10, 12, 14, 16, 18, 20, 22, 24, 26, 28, 30, 32, 34, 36, 38, 40, 42, 44, 46, 48, 50, 52, 54, 56, 58, 60, 62, 64, 66, 68, 70, 72, 74, 76, 78, 80, 82, 84, 86, 88, 90, 92, 94, 96, 98, 100]\n"
     ]
    }
   ],
   "source": [
    "#print all even numbers from 1 to 100\n",
    "even=[]\n",
    "for num in range(1,101):\n",
    "    if num%2==0:\n",
    "        even.append(num)\n",
    "print(even)"
   ]
  },
  {
   "cell_type": "code",
   "execution_count": 9,
   "id": "1204e422-80ac-4dea-8920-026723e59f3f",
   "metadata": {},
   "outputs": [
    {
     "name": "stdout",
     "output_type": "stream",
     "text": [
      "[2, 4, 6, 8, 10, 12, 14, 16, 18, 20, 22, 24, 26, 28, 30, 32, 34, 36, 38, 40, 42, 44, 46, 48, 50, 52, 54, 56, 58, 60, 62, 64, 66, 68, 70, 72, 74, 76, 78, 80, 82, 84, 86, 88, 90, 92, 94, 96, 98, 100]\n"
     ]
    }
   ],
   "source": [
    "#using list comp\n",
    "print([num for num in range(1,101) if num%2==0])"
   ]
  },
  {
   "cell_type": "markdown",
   "id": "9220e779-f587-49d4-be80-4d7d1c27f9bf",
   "metadata": {},
   "source": [
    "## Task"
   ]
  },
  {
   "cell_type": "code",
   "execution_count": 10,
   "id": "e5f4e39e-eb17-4505-9e7c-cd4a5a097679",
   "metadata": {},
   "outputs": [],
   "source": [
    "# 1. Convert all word to uppercase\n",
    "# l=[\"Data\",\"python\",\"science\",\"analysis\"]\n",
    "# 2.Extract all digits from a string\n",
    "# text=\"abc12334\"\n",
    "# 3.Create a list of tuple: (number,square)\n",
    "# (2,4)\n",
    "# 4.Replace negative numbers with 0\n",
    "# l=[1,-2,4,-5,-7]"
   ]
  },
  {
   "cell_type": "code",
   "execution_count": 11,
   "id": "7bc6bd14-5f03-4c3d-9299-90885353edab",
   "metadata": {},
   "outputs": [
    {
     "name": "stdout",
     "output_type": "stream",
     "text": [
      "['DATA', 'PYTHON', 'SCIENCE', 'ANALYSIS']\n"
     ]
    }
   ],
   "source": [
    "l=[\"Data\",\"python\",\"science\",\"analysis\"]\n",
    "l_upper=[]\n",
    "for word in l:\n",
    "    l_upper.append(word.upper())\n",
    "print(l_upper)\n",
    "    \n",
    "    "
   ]
  },
  {
   "cell_type": "code",
   "execution_count": 12,
   "id": "54e6d19d-067f-474a-bee4-cc3c9efec985",
   "metadata": {},
   "outputs": [
    {
     "data": {
      "text/plain": [
       "['DATA', 'PYTHON', 'SCIENCE', 'ANALYSIS']"
      ]
     },
     "execution_count": 12,
     "metadata": {},
     "output_type": "execute_result"
    }
   ],
   "source": [
    "[word.upper() for word in l]"
   ]
  },
  {
   "cell_type": "code",
   "execution_count": 14,
   "id": "a7fff086-8a6c-46c8-b9b5-ff728b369bb7",
   "metadata": {},
   "outputs": [
    {
     "name": "stdout",
     "output_type": "stream",
     "text": [
      "1\n",
      "2\n",
      "3\n",
      "3\n",
      "4\n"
     ]
    }
   ],
   "source": [
    " #2.Extract all digits from a string\n",
    "text=\"abc12334\"\n",
    "for char in text:\n",
    "    if char.isdigit():\n",
    "        print(char)"
   ]
  },
  {
   "cell_type": "code",
   "execution_count": 16,
   "id": "e3a0fe14-eb0e-4014-8722-60451cda8ab6",
   "metadata": {},
   "outputs": [
    {
     "data": {
      "text/plain": [
       "['1', '2', '3', '3', '4']"
      ]
     },
     "execution_count": 16,
     "metadata": {},
     "output_type": "execute_result"
    }
   ],
   "source": [
    "[char for char in text if char.isdigit()]"
   ]
  },
  {
   "cell_type": "code",
   "execution_count": 17,
   "id": "f25d9d10-80a5-4722-b61d-b1a73c16b2ed",
   "metadata": {},
   "outputs": [
    {
     "data": {
      "text/plain": [
       "[(1, 1), (2, 4), (3, 9), (4, 16), (5, 25), (6, 36), (7, 49), (8, 64), (9, 81)]"
      ]
     },
     "execution_count": 17,
     "metadata": {},
     "output_type": "execute_result"
    }
   ],
   "source": [
    "#3.Create a list of tuple: (number,square)\n",
    "# (2,4)\n",
    "l=[]  #[(2,4),(3,9),...]\n",
    "for num in range(1,11):\n",
    "    l.append((num,num**2))\n",
    "l"
   ]
  },
  {
   "cell_type": "code",
   "execution_count": 19,
   "id": "acabbc3f-52f6-4b48-83d2-64ce22a8b293",
   "metadata": {},
   "outputs": [
    {
     "data": {
      "text/plain": [
       "[(2, 4),\n",
       " (4, 16),\n",
       " (6, 36),\n",
       " (8, 64),\n",
       " (10, 100),\n",
       " (12, 144),\n",
       " (14, 196),\n",
       " (16, 256),\n",
       " (18, 324),\n",
       " (20, 400)]"
      ]
     },
     "execution_count": 19,
     "metadata": {},
     "output_type": "execute_result"
    }
   ],
   "source": [
    "[(num,num**2) for num in range(1,21) if num%2==0]"
   ]
  },
  {
   "cell_type": "code",
   "execution_count": 21,
   "id": "13c20423-6b5a-4b17-aecd-613dcd6ca05b",
   "metadata": {},
   "outputs": [
    {
     "data": {
      "text/plain": [
       "[1, 0, 4, 0, 0]"
      ]
     },
     "execution_count": 21,
     "metadata": {},
     "output_type": "execute_result"
    }
   ],
   "source": [
    "#4.Replace negative numbers with 0\n",
    "l=[1,-2,4,-5,-7]\n",
    "l1=[]\n",
    "for num in l:\n",
    "    if num>=0:\n",
    "        l1.append(num)\n",
    "    else:\n",
    "        l1.append(0)\n",
    "l1\n",
    "        \n",
    "        \n",
    "    "
   ]
  },
  {
   "cell_type": "code",
   "execution_count": 22,
   "id": "99854adb-0675-4c80-b001-136df6a03ff3",
   "metadata": {},
   "outputs": [
    {
     "name": "stdout",
     "output_type": "stream",
     "text": [
      "[1, 0, 4, 0, 0]\n"
     ]
    }
   ],
   "source": [
    "print([num if num>=0 else 0 for num in l])"
   ]
  },
  {
   "cell_type": "code",
   "execution_count": null,
   "id": "7d30ce51-dc37-4a93-8e66-0161e0a25c0f",
   "metadata": {},
   "outputs": [],
   "source": []
  }
 ],
 "metadata": {
  "kernelspec": {
   "display_name": "Python 3 (ipykernel)",
   "language": "python",
   "name": "python3"
  },
  "language_info": {
   "codemirror_mode": {
    "name": "ipython",
    "version": 3
   },
   "file_extension": ".py",
   "mimetype": "text/x-python",
   "name": "python",
   "nbconvert_exporter": "python",
   "pygments_lexer": "ipython3",
   "version": "3.11.7"
  }
 },
 "nbformat": 4,
 "nbformat_minor": 5
}
