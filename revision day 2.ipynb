{
 "cells": [
  {
   "cell_type": "markdown",
   "id": "e8f174fd-d1d1-4514-affd-e1ee36d415f9",
   "metadata": {},
   "source": [
    "### Bank ATM withdrwal condition"
   ]
  },
  {
   "cell_type": "code",
   "execution_count": 4,
   "id": "8293d697-f664-453a-986c-200c58403a7c",
   "metadata": {},
   "outputs": [
    {
     "name": "stdout",
     "output_type": "stream",
     "text": [
      "Insufficient balance.\n"
     ]
    }
   ],
   "source": [
    "balance=5000\n",
    "withdraw_amount=20000\n",
    "has_atm_card=True  #bool\n",
    "\n",
    "if has_atm_card:  #true:\n",
    "    if withdraw_amount<=balance:\n",
    "        print(\"Transaction successful.\")\n",
    "    else:\n",
    "        print(\"Insufficient balance.\")\n",
    "else:\n",
    "    print(\"No ATM card found\")"
   ]
  },
  {
   "cell_type": "code",
   "execution_count": 7,
   "id": "bb7c8289-0449-4184-8131-02ae1ec94a2a",
   "metadata": {},
   "outputs": [
    {
     "name": "stdin",
     "output_type": "stream",
     "text": [
      "Enter amount: 500\n",
      "Do you have ATM card?(yes/no): no\n"
     ]
    },
    {
     "name": "stdout",
     "output_type": "stream",
     "text": [
      "No ATM card found\n"
     ]
    }
   ],
   "source": [
    "balance=5000\n",
    "withdraw_amount=int(input(\"Enter amount:\"))\n",
    "has_atm_card=input(\"Do you have ATM card?(yes/no):\")\n",
    "\n",
    "if has_atm_card==\"yes\":  #true:\n",
    "    if withdraw_amount<=balance:\n",
    "        print(\"Transaction successful.\")\n",
    "    else:\n",
    "        print(\"Insufficient balance.\")\n",
    "else:\n",
    "    print(\"No ATM card found\")"
   ]
  },
  {
   "cell_type": "markdown",
   "id": "d6b6c777-5d7f-4016-ba8c-f859ee01f8c4",
   "metadata": {},
   "source": [
    "### count vowels in a string"
   ]
  },
  {
   "cell_type": "code",
   "execution_count": 10,
   "id": "ff7cf04f-de1d-4883-b9b7-655fb4ae8eb5",
   "metadata": {},
   "outputs": [
    {
     "data": {
      "text/plain": [
       "['I', 'a', 'e', 'a', 'i', 'o']"
      ]
     },
     "execution_count": 10,
     "metadata": {},
     "output_type": "execute_result"
    }
   ],
   "source": [
    "s=\"I am learning python\"\n",
    "vowels=\"aeiouAEIOU\"\n",
    "seperate_vowels=[]\n",
    "for char in s:  #I\n",
    "    if char in vowels:\n",
    "        seperate_vowels.append(char)\n",
    "seperate_vowels\n",
    "        \n",
    "        "
   ]
  },
  {
   "cell_type": "code",
   "execution_count": 24,
   "id": "4d031e64-2f23-499e-998e-b8fc2a5d4681",
   "metadata": {},
   "outputs": [
    {
     "name": "stdout",
     "output_type": "stream",
     "text": [
      "Iaeaio"
     ]
    }
   ],
   "source": [
    "s=\"I am learning python\"\n",
    "vowels=\"aeiouAEIOU\"\n",
    "\n",
    "for char in s:  #I\n",
    "    if char in vowels:\n",
    "        print(char,end=\"\")\n",
    "        \n",
    "\n",
    "        "
   ]
  },
  {
   "cell_type": "code",
   "execution_count": 25,
   "id": "78c4408b-59d5-4fb9-b88c-30901d3483a8",
   "metadata": {},
   "outputs": [
    {
     "data": {
      "text/plain": [
       "'iaeaio'"
      ]
     },
     "execution_count": 25,
     "metadata": {},
     "output_type": "execute_result"
    }
   ],
   "source": [
    "s=\"I am learning python\"\n",
    "vowels=\"aeiou\"\n",
    "sepearte_vowel=\"\"\n",
    "for char in s.lower():  #I\n",
    "    if char in vowels:\n",
    "        sepearte_vowel=sepearte_vowel+char\n",
    "sepearte_vowel        "
   ]
  },
  {
   "cell_type": "code",
   "execution_count": 26,
   "id": "dc87ed76-1654-4da3-99cd-5cf5dd9d684f",
   "metadata": {},
   "outputs": [
    {
     "data": {
      "text/plain": [
       "'iaeo'"
      ]
     },
     "execution_count": 26,
     "metadata": {},
     "output_type": "execute_result"
    }
   ],
   "source": [
    "#duplicte vowels not allowed\n",
    "s=\"I am learning python\"\n",
    "vowels=\"aeiou\"\n",
    "sepearte_vowel=\"\"  #ia\n",
    "for char in s.lower():  #a\n",
    "    if char in vowels:  #true\n",
    "        if char not in sepearte_vowel:  #i\n",
    "               sepearte_vowel=sepearte_vowel+char\n",
    "sepearte_vowel "
   ]
  },
  {
   "cell_type": "code",
   "execution_count": 29,
   "id": "5cb3e0c3-5d95-429b-89e6-a3f73d3f73bd",
   "metadata": {},
   "outputs": [
    {
     "data": {
      "text/plain": [
       "{'a', 'e', 'i', 'o'}"
      ]
     },
     "execution_count": 29,
     "metadata": {},
     "output_type": "execute_result"
    }
   ],
   "source": [
    "s=\"I am learning python\"\n",
    "vowels=\"aeiou\"\n",
    "seperate_vowels=[]\n",
    "for char in s.lower():  #I\n",
    "    if char in vowels:\n",
    "        seperate_vowels.append(char)\n",
    "set(seperate_vowels)"
   ]
  },
  {
   "cell_type": "markdown",
   "id": "b39b040d-4e8c-4b34-bf77-f5a67d74d588",
   "metadata": {},
   "source": [
    "### for loop on dictionary"
   ]
  },
  {
   "cell_type": "code",
   "execution_count": 32,
   "id": "f3c5b79c-a73c-41c7-a3ea-168cee08c9ab",
   "metadata": {},
   "outputs": [
    {
     "name": "stdout",
     "output_type": "stream",
     "text": [
      "86\n",
      "74\n"
     ]
    }
   ],
   "source": [
    "l=[13,45,67,86,74]\n",
    "for i in l:\n",
    "    if i>70:\n",
    "        print(i)"
   ]
  },
  {
   "cell_type": "code",
   "execution_count": 42,
   "id": "1d4c6127-a627-4ea6-a98f-b9d5c80ab8fe",
   "metadata": {},
   "outputs": [],
   "source": [
    "marks={\"chetana\":78,\"madhuri\":45,\"aditya\":56,\"gouri\":98}\n",
    "#extract list of students with >70 marks"
   ]
  },
  {
   "cell_type": "code",
   "execution_count": 43,
   "id": "94b03a34-dc8d-4801-bd65-5f2810a8e77d",
   "metadata": {},
   "outputs": [
    {
     "data": {
      "text/plain": [
       "dict_items([('chetana', 78), ('madhuri', 45), ('aditya', 56), ('gouri', 98)])"
      ]
     },
     "execution_count": 43,
     "metadata": {},
     "output_type": "execute_result"
    }
   ],
   "source": [
    "marks.items()"
   ]
  },
  {
   "cell_type": "code",
   "execution_count": 44,
   "id": "3609b34a-b8e4-4ea1-be69-ea9dd7563d7d",
   "metadata": {},
   "outputs": [
    {
     "name": "stdout",
     "output_type": "stream",
     "text": [
      "chetana 78\n",
      "gouri 98\n"
     ]
    }
   ],
   "source": [
    "for name,score in marks.items():   #(key, value)\n",
    "    if score>70:\n",
    "        print(name,score)\n",
    "    \n",
    "\n",
    "\n"
   ]
  },
  {
   "cell_type": "markdown",
   "id": "77dc7312-713c-4d97-8a82-a3d5e4390505",
   "metadata": {},
   "source": [
    "# Task"
   ]
  },
  {
   "cell_type": "code",
   "execution_count": 45,
   "id": "ba87779c-fd8f-477e-835c-c4cd284ac503",
   "metadata": {},
   "outputs": [],
   "source": [
    "# prime number checker\n",
    "#Remove duplicates from the list\n",
    "l=[1,1,1,2,2,3,54,4,2,21,1,12,3,8,9,9,7,6]\n",
    "#Sum of digits for each number in list\n",
    "l=[123,4334,567,445,780,890]"
   ]
  },
  {
   "cell_type": "code",
   "execution_count": 49,
   "id": "ae18b41c-43f0-47c8-8810-3123c92ad68a",
   "metadata": {},
   "outputs": [
    {
     "name": "stdin",
     "output_type": "stream",
     "text": [
      "enter num: 13\n"
     ]
    },
    {
     "name": "stdout",
     "output_type": "stream",
     "text": [
      "prime number\n"
     ]
    }
   ],
   "source": [
    "num=int(input(\"enter num:\"))  #1 and itself===reminder 0  6\n",
    "for i in range(2,num):  #2,3,4,5\n",
    "    if num%i==0:  #6%\n",
    "        print(\"not prime number\")\n",
    "        break\n",
    "else:\n",
    "    print(\"prime number\")\n",
    "    "
   ]
  },
  {
   "cell_type": "code",
   "execution_count": null,
   "id": "1ff0e735-336a-4344-a14f-fbd0a98492c5",
   "metadata": {},
   "outputs": [],
   "source": []
  }
 ],
 "metadata": {
  "kernelspec": {
   "display_name": "Python 3 (ipykernel)",
   "language": "python",
   "name": "python3"
  },
  "language_info": {
   "codemirror_mode": {
    "name": "ipython",
    "version": 3
   },
   "file_extension": ".py",
   "mimetype": "text/x-python",
   "name": "python",
   "nbconvert_exporter": "python",
   "pygments_lexer": "ipython3",
   "version": "3.11.7"
  }
 },
 "nbformat": 4,
 "nbformat_minor": 5
}
