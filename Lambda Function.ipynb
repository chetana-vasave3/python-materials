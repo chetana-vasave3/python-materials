{
 "cells": [
  {
   "cell_type": "markdown",
   "id": "f03edb3e-154b-4ba4-9161-a8117918bcb6",
   "metadata": {},
   "source": [
    "- Anonymous fn--Hide==>No need to decalre or give name to this fn\n",
    "  - def addition():\n",
    "- Lambda fun will take any no. of arguments/Parameters/Variables but it will take only one expressions\n",
    "- immediate answer,when we have only one expression"
   ]
  },
  {
   "cell_type": "code",
   "execution_count": 1,
   "id": "40c0ce79-381f-4831-8b1d-59cda913e247",
   "metadata": {},
   "outputs": [],
   "source": [
    "#syntax\n",
    "#variable=lambda arguments/parameter/variables : expression\n"
   ]
  },
  {
   "cell_type": "code",
   "execution_count": 7,
   "id": "9e1e6a0f-2ad6-4010-8c37-9ff9e69a009e",
   "metadata": {},
   "outputs": [
    {
     "data": {
      "text/plain": [
       "(7, -5)"
      ]
     },
     "execution_count": 7,
     "metadata": {},
     "output_type": "execute_result"
    }
   ],
   "source": [
    "#Addition of 3 numbers\n",
    "def add(a,b,c):\n",
    "    return a+b+c, a-b-c\n",
    "add(1,2,4)"
   ]
  },
  {
   "cell_type": "code",
   "execution_count": 6,
   "id": "96658dab-a26d-4f38-8d7d-9d7ef960d517",
   "metadata": {},
   "outputs": [
    {
     "data": {
      "text/plain": [
       "7"
      ]
     },
     "execution_count": 6,
     "metadata": {},
     "output_type": "execute_result"
    }
   ],
   "source": [
    "x=lambda a,b,c : a+b+c\n",
    "x(1,2,4)"
   ]
  },
  {
   "cell_type": "code",
   "execution_count": null,
   "id": "72fff2ee-ef26-42c3-886c-f4b081655685",
   "metadata": {},
   "outputs": [],
   "source": []
  }
 ],
 "metadata": {
  "kernelspec": {
   "display_name": "Python 3 (ipykernel)",
   "language": "python",
   "name": "python3"
  },
  "language_info": {
   "codemirror_mode": {
    "name": "ipython",
    "version": 3
   },
   "file_extension": ".py",
   "mimetype": "text/x-python",
   "name": "python",
   "nbconvert_exporter": "python",
   "pygments_lexer": "ipython3",
   "version": "3.11.7"
  }
 },
 "nbformat": 4,
 "nbformat_minor": 5
}
