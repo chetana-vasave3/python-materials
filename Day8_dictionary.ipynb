{
 "cells": [
  {
   "cell_type": "markdown",
   "id": "931cc5c3-a06b-4454-84bb-7bcb05e96de8",
   "metadata": {},
   "source": [
    "# Dictionary"
   ]
  },
  {
   "cell_type": "markdown",
   "id": "fa2983f5-65b7-4837-be76-dec746ec0778",
   "metadata": {},
   "source": [
    "- { key: value,key2:value2}\n",
    "- mutable\n",
    "- not allow duplictes(duplicate key not allowed)\n",
    "- ordered: key===>index\n",
    "   - As of python version 3.7 dict are ordered\n",
    "   - in python 3.6 and earlier ,dict are unordered\n",
    "- key: immutable element(string,int,tuple)\n",
    "- value : immutable/mutable elements\n",
    "- any chnages we will do ...we will use key\n",
    "\n"
   ]
  },
  {
   "cell_type": "code",
   "execution_count": 1,
   "id": "3f09f81c-4053-4cb4-b1bf-3853f5e7bf81",
   "metadata": {},
   "outputs": [
    {
     "data": {
      "text/plain": [
       "{'name': 'chetana', 'id': 1, 'course': ['python', 'AI']}"
      ]
     },
     "execution_count": 1,
     "metadata": {},
     "output_type": "execute_result"
    }
   ],
   "source": [
    "data={\"name\":\"chetana\",\"id\":1,\"course\":[\"python\",\"AI\"]}\n",
    "data"
   ]
  },
  {
   "cell_type": "code",
   "execution_count": 3,
   "id": "df94ee4b-a291-4e5e-bb2c-471be432a0eb",
   "metadata": {},
   "outputs": [],
   "source": [
    "d1={1:\"name\",(1,23):\"chetana\"}"
   ]
  },
  {
   "cell_type": "code",
   "execution_count": 4,
   "id": "81ccdf6a-1d6e-4bab-9311-2ba5cd63888b",
   "metadata": {},
   "outputs": [
    {
     "ename": "TypeError",
     "evalue": "unhashable type: 'list'",
     "output_type": "error",
     "traceback": [
      "\u001b[1;31m---------------------------------------------------------------------------\u001b[0m",
      "\u001b[1;31mTypeError\u001b[0m                                 Traceback (most recent call last)",
      "Cell \u001b[1;32mIn[4], line 1\u001b[0m\n\u001b[1;32m----> 1\u001b[0m d2\u001b[38;5;241m=\u001b[39m{[\u001b[38;5;241m1\u001b[39m,\u001b[38;5;241m2\u001b[39m,\u001b[38;5;241m3\u001b[39m]:\u001b[38;5;124m\"\u001b[39m\u001b[38;5;124mname\u001b[39m\u001b[38;5;124m\"\u001b[39m}\n",
      "\u001b[1;31mTypeError\u001b[0m: unhashable type: 'list'"
     ]
    }
   ],
   "source": [
    "d2={[1,2,3]:\"name\"}"
   ]
  },
  {
   "cell_type": "code",
   "execution_count": 5,
   "id": "d86291cd-afd5-4b88-8478-14877cc1d113",
   "metadata": {},
   "outputs": [
    {
     "data": {
      "text/plain": [
       "[4000, 5, 6]"
      ]
     },
     "execution_count": 5,
     "metadata": {},
     "output_type": "execute_result"
    }
   ],
   "source": [
    "l=[4,5,6]\n",
    "l[0]=4000\n",
    "l"
   ]
  },
  {
   "cell_type": "markdown",
   "id": "52e1f416-0084-4c76-b4e2-9ca311539f6c",
   "metadata": {},
   "source": [
    "# Changing Existing value of key"
   ]
  },
  {
   "cell_type": "code",
   "execution_count": null,
   "id": "6a271278-775b-43eb-8384-f2e458766b66",
   "metadata": {},
   "outputs": [],
   "source": [
    "#we can chane value using key name"
   ]
  },
  {
   "cell_type": "code",
   "execution_count": 6,
   "id": "f6167356-7a77-49d9-9233-9087cbd0d346",
   "metadata": {},
   "outputs": [
    {
     "data": {
      "text/plain": [
       "{'name': 'gouri', 'id': 1, 'course': ['python', 'AI']}"
      ]
     },
     "execution_count": 6,
     "metadata": {},
     "output_type": "execute_result"
    }
   ],
   "source": [
    "data[\"name\"]=\"gouri\"  #replace\n",
    "data"
   ]
  },
  {
   "cell_type": "markdown",
   "id": "e154eead-7bf4-44cc-adaf-cc3c631c1395",
   "metadata": {},
   "source": [
    "# adding new key value pair"
   ]
  },
  {
   "cell_type": "code",
   "execution_count": 7,
   "id": "81a2f30b-649d-453e-84f4-6fc911351966",
   "metadata": {},
   "outputs": [
    {
     "data": {
      "text/plain": [
       "{'name': 'gouri', 'id': 1, 'course': ['python', 'AI'], 'city': 'Ratnagiri'}"
      ]
     },
     "execution_count": 7,
     "metadata": {},
     "output_type": "execute_result"
    }
   ],
   "source": [
    "data[\"city\"]=\"Ratnagiri\"\n",
    "data"
   ]
  },
  {
   "cell_type": "code",
   "execution_count": 10,
   "id": "ae0f79e4-8f69-48d6-b957-29f91efd472e",
   "metadata": {},
   "outputs": [
    {
     "data": {
      "text/plain": [
       "{'name': 'gouri',\n",
       " 'id': 1,\n",
       " 'course': ['python', 'AI'],\n",
       " 'city': 'Ratnagiri',\n",
       " 'Name': 'madhuri'}"
      ]
     },
     "execution_count": 10,
     "metadata": {},
     "output_type": "execute_result"
    }
   ],
   "source": [
    "data[\"Name\"]=\"madhuri\"\n",
    "data"
   ]
  },
  {
   "cell_type": "markdown",
   "id": "86514432-4a35-4b9b-bc85-263e0af84d6e",
   "metadata": {},
   "source": [
    "# Removing element from dictionary"
   ]
  },
  {
   "cell_type": "code",
   "execution_count": 11,
   "id": "92b21982-8293-4d9a-8601-aedfe0d44e32",
   "metadata": {},
   "outputs": [
    {
     "data": {
      "text/plain": [
       "{'name': 'gouri',\n",
       " 'id': 1,\n",
       " 'course': ['python', 'AI'],\n",
       " 'city': 'Ratnagiri',\n",
       " 'Name': 'madhuri'}"
      ]
     },
     "execution_count": 11,
     "metadata": {},
     "output_type": "execute_result"
    }
   ],
   "source": [
    "data"
   ]
  },
  {
   "cell_type": "markdown",
   "id": "89ed55e8-a323-4240-83ab-cb5d1c4bd583",
   "metadata": {},
   "source": [
    "#### del keyword"
   ]
  },
  {
   "cell_type": "code",
   "execution_count": 13,
   "id": "3159e639-6d17-4051-9ac7-df05ae837d8a",
   "metadata": {},
   "outputs": [
    {
     "ename": "KeyError",
     "evalue": "'Name'",
     "output_type": "error",
     "traceback": [
      "\u001b[1;31m---------------------------------------------------------------------------\u001b[0m",
      "\u001b[1;31mKeyError\u001b[0m                                  Traceback (most recent call last)",
      "Cell \u001b[1;32mIn[13], line 2\u001b[0m\n\u001b[0;32m      1\u001b[0m \u001b[38;5;66;03m#del keyword\u001b[39;00m\n\u001b[1;32m----> 2\u001b[0m \u001b[38;5;28;01mdel\u001b[39;00m data[\u001b[38;5;124m\"\u001b[39m\u001b[38;5;124mName\u001b[39m\u001b[38;5;124m\"\u001b[39m]\n\u001b[0;32m      3\u001b[0m data\n",
      "\u001b[1;31mKeyError\u001b[0m: 'Name'"
     ]
    }
   ],
   "source": [
    "\n",
    "del data[\"Name\"]\n",
    "data"
   ]
  },
  {
   "cell_type": "code",
   "execution_count": 14,
   "id": "f8281c24-4366-47b3-8499-fc5a1f3bdfeb",
   "metadata": {},
   "outputs": [],
   "source": [
    "l=[1,2,3,4]   #mutable\n",
    "t=(1,2,3,4)   #immutable\n",
    "s={4,10,7,8}   #mutable\n"
   ]
  },
  {
   "cell_type": "code",
   "execution_count": 15,
   "id": "bc5edb7c-7856-4175-94aa-a9709858a837",
   "metadata": {},
   "outputs": [
    {
     "data": {
      "text/plain": [
       "[2, 3, 4]"
      ]
     },
     "execution_count": 15,
     "metadata": {},
     "output_type": "execute_result"
    }
   ],
   "source": [
    "del l[0]\n",
    "l"
   ]
  },
  {
   "cell_type": "code",
   "execution_count": 16,
   "id": "86cc85fd-8c63-4136-871d-f89c8ac48e84",
   "metadata": {},
   "outputs": [
    {
     "ename": "TypeError",
     "evalue": "'tuple' object doesn't support item deletion",
     "output_type": "error",
     "traceback": [
      "\u001b[1;31m---------------------------------------------------------------------------\u001b[0m",
      "\u001b[1;31mTypeError\u001b[0m                                 Traceback (most recent call last)",
      "Cell \u001b[1;32mIn[16], line 1\u001b[0m\n\u001b[1;32m----> 1\u001b[0m \u001b[38;5;28;01mdel\u001b[39;00m t[\u001b[38;5;241m3\u001b[39m]\n",
      "\u001b[1;31mTypeError\u001b[0m: 'tuple' object doesn't support item deletion"
     ]
    }
   ],
   "source": [
    "del t[3]"
   ]
  },
  {
   "cell_type": "code",
   "execution_count": 17,
   "id": "b884bd23-9e43-44e6-a9fb-e58b3e401bcb",
   "metadata": {},
   "outputs": [
    {
     "ename": "TypeError",
     "evalue": "'set' object doesn't support item deletion",
     "output_type": "error",
     "traceback": [
      "\u001b[1;31m---------------------------------------------------------------------------\u001b[0m",
      "\u001b[1;31mTypeError\u001b[0m                                 Traceback (most recent call last)",
      "Cell \u001b[1;32mIn[17], line 1\u001b[0m\n\u001b[1;32m----> 1\u001b[0m \u001b[38;5;28;01mdel\u001b[39;00m s[\u001b[38;5;241m2\u001b[39m]\n",
      "\u001b[1;31mTypeError\u001b[0m: 'set' object doesn't support item deletion"
     ]
    }
   ],
   "source": [
    "del s[2]   #set unordered"
   ]
  },
  {
   "cell_type": "code",
   "execution_count": 18,
   "id": "19b3cad5-c9de-46c0-83d3-279c501e8ef7",
   "metadata": {},
   "outputs": [],
   "source": [
    "del s   #set delete"
   ]
  },
  {
   "cell_type": "code",
   "execution_count": 19,
   "id": "0000bc10-037b-45a1-a624-6d62309db937",
   "metadata": {},
   "outputs": [
    {
     "ename": "NameError",
     "evalue": "name 's' is not defined",
     "output_type": "error",
     "traceback": [
      "\u001b[1;31m---------------------------------------------------------------------------\u001b[0m",
      "\u001b[1;31mNameError\u001b[0m                                 Traceback (most recent call last)",
      "Cell \u001b[1;32mIn[19], line 1\u001b[0m\n\u001b[1;32m----> 1\u001b[0m s\n",
      "\u001b[1;31mNameError\u001b[0m: name 's' is not defined"
     ]
    }
   ],
   "source": [
    "s"
   ]
  },
  {
   "cell_type": "code",
   "execution_count": 20,
   "id": "dde1db20-60ce-4b65-8389-3c132e054e88",
   "metadata": {},
   "outputs": [],
   "source": [
    "del l"
   ]
  },
  {
   "cell_type": "code",
   "execution_count": 21,
   "id": "d659eb0d-5f7d-44ca-8131-d5b477a35fcb",
   "metadata": {},
   "outputs": [
    {
     "ename": "NameError",
     "evalue": "name 'l' is not defined",
     "output_type": "error",
     "traceback": [
      "\u001b[1;31m---------------------------------------------------------------------------\u001b[0m",
      "\u001b[1;31mNameError\u001b[0m                                 Traceback (most recent call last)",
      "Cell \u001b[1;32mIn[21], line 1\u001b[0m\n\u001b[1;32m----> 1\u001b[0m l\n",
      "\u001b[1;31mNameError\u001b[0m: name 'l' is not defined"
     ]
    }
   ],
   "source": [
    "l"
   ]
  },
  {
   "cell_type": "code",
   "execution_count": 22,
   "id": "959d0c43-1cb0-4990-8e31-1ce0bc2d328e",
   "metadata": {},
   "outputs": [],
   "source": [
    "l=[1,2,3,4]   #mutable\n",
    "t=(1,2,3,4)   #immutable\n",
    "s={4,10,7,8}   #mutable\n",
    "d={\"name\":\"chetana\",\"id\":1}"
   ]
  },
  {
   "cell_type": "code",
   "execution_count": 23,
   "id": "1d3ebf7e-7ef0-40b0-ab32-154f245c47f4",
   "metadata": {},
   "outputs": [
    {
     "data": {
      "text/plain": [
       "4"
      ]
     },
     "execution_count": 23,
     "metadata": {},
     "output_type": "execute_result"
    }
   ],
   "source": [
    "l.pop()   #last element "
   ]
  },
  {
   "cell_type": "code",
   "execution_count": 24,
   "id": "ce077834-4309-4c9a-8a01-c739c18eface",
   "metadata": {},
   "outputs": [
    {
     "data": {
      "text/plain": [
       "[1, 2, 3]"
      ]
     },
     "execution_count": 24,
     "metadata": {},
     "output_type": "execute_result"
    }
   ],
   "source": [
    "l"
   ]
  },
  {
   "cell_type": "code",
   "execution_count": 25,
   "id": "74577ba1-7d09-4f18-87ef-31262ef70935",
   "metadata": {},
   "outputs": [
    {
     "data": {
      "text/plain": [
       "[2, 3]"
      ]
     },
     "execution_count": 25,
     "metadata": {},
     "output_type": "execute_result"
    }
   ],
   "source": [
    "l.pop(0)\n",
    "l"
   ]
  },
  {
   "cell_type": "code",
   "execution_count": 26,
   "id": "e2b25987-2147-46aa-80b5-1f294f0228a8",
   "metadata": {},
   "outputs": [
    {
     "data": {
      "text/plain": [
       "8"
      ]
     },
     "execution_count": 26,
     "metadata": {},
     "output_type": "execute_result"
    }
   ],
   "source": [
    "s.pop()"
   ]
  },
  {
   "cell_type": "code",
   "execution_count": 27,
   "id": "ceb75fdb-0e41-4b63-b1e5-fcb1bfa1433d",
   "metadata": {},
   "outputs": [
    {
     "data": {
      "text/plain": [
       "{4, 7, 10}"
      ]
     },
     "execution_count": 27,
     "metadata": {},
     "output_type": "execute_result"
    }
   ],
   "source": [
    "s"
   ]
  },
  {
   "cell_type": "code",
   "execution_count": 29,
   "id": "17f43500-9c53-466f-a0fd-a2e57695ee3f",
   "metadata": {},
   "outputs": [
    {
     "data": {
      "text/plain": [
       "{'name': 'chetana'}"
      ]
     },
     "execution_count": 29,
     "metadata": {},
     "output_type": "execute_result"
    }
   ],
   "source": [
    "d.pop(\"id\")   #index==>key\n",
    "d"
   ]
  },
  {
   "cell_type": "markdown",
   "id": "9de86480-d221-4085-b3d8-fc32f29a9144",
   "metadata": {},
   "source": [
    "popitem(): delete last inserted key value-pair"
   ]
  },
  {
   "cell_type": "code",
   "execution_count": 31,
   "id": "9847d2cc-8398-4fd3-ab71-7ebd6cfa432d",
   "metadata": {},
   "outputs": [
    {
     "data": {
      "text/plain": [
       "{'name': 'chetana', 'course': 'AI'}"
      ]
     },
     "execution_count": 31,
     "metadata": {},
     "output_type": "execute_result"
    }
   ],
   "source": [
    "d[\"course\"]=\"AI\"\n",
    "d"
   ]
  },
  {
   "cell_type": "code",
   "execution_count": 32,
   "id": "a003fd21-af5a-4e45-9383-78b34a5aa502",
   "metadata": {},
   "outputs": [
    {
     "data": {
      "text/plain": [
       "{'name': 'chetana'}"
      ]
     },
     "execution_count": 32,
     "metadata": {},
     "output_type": "execute_result"
    }
   ],
   "source": [
    "d.popitem()\n",
    "d"
   ]
  },
  {
   "cell_type": "markdown",
   "id": "0581e653-f5b1-43c4-a04e-b260cdcc67af",
   "metadata": {},
   "source": [
    "#### keys(): show only key in the format of list"
   ]
  },
  {
   "cell_type": "code",
   "execution_count": 33,
   "id": "255d3091-f47d-41e0-a2e6-25fa188ac8bb",
   "metadata": {},
   "outputs": [
    {
     "data": {
      "text/plain": [
       "{'name': 'gouri', 'id': 1, 'course': ['python', 'AI'], 'city': 'Ratnagiri'}"
      ]
     },
     "execution_count": 33,
     "metadata": {},
     "output_type": "execute_result"
    }
   ],
   "source": [
    "data"
   ]
  },
  {
   "cell_type": "code",
   "execution_count": 34,
   "id": "3e3bc558-5c23-465b-beba-54feb51246e1",
   "metadata": {},
   "outputs": [
    {
     "data": {
      "text/plain": [
       "dict_keys(['name', 'id', 'course', 'city'])"
      ]
     },
     "execution_count": 34,
     "metadata": {},
     "output_type": "execute_result"
    }
   ],
   "source": [
    "data.keys()"
   ]
  },
  {
   "cell_type": "markdown",
   "id": "25000d4e-5f02-4e34-9da5-d79f74ed2697",
   "metadata": {},
   "source": [
    "#### values: it will show only values"
   ]
  },
  {
   "cell_type": "code",
   "execution_count": 37,
   "id": "54c5533e-19ad-43fe-b224-978cd5efe020",
   "metadata": {},
   "outputs": [
    {
     "data": {
      "text/plain": [
       "dict_values(['gouri', 1, ['python', 'AI'], 'Ratnagiri'])"
      ]
     },
     "execution_count": 37,
     "metadata": {},
     "output_type": "execute_result"
    }
   ],
   "source": [
    "data.values()"
   ]
  },
  {
   "cell_type": "markdown",
   "id": "58b2c117-4f87-4b7d-b809-fb086b4d60f7",
   "metadata": {},
   "source": [
    "#### items(): it will show key value-pair in the format of tuple"
   ]
  },
  {
   "cell_type": "code",
   "execution_count": 35,
   "id": "be929ea8-42ff-4104-a60f-0444da91db60",
   "metadata": {},
   "outputs": [
    {
     "data": {
      "text/plain": [
       "dict_items([('name', 'gouri'), ('id', 1), ('course', ['python', 'AI']), ('city', 'Ratnagiri')])"
      ]
     },
     "execution_count": 35,
     "metadata": {},
     "output_type": "execute_result"
    }
   ],
   "source": [
    "data.items()"
   ]
  },
  {
   "cell_type": "markdown",
   "id": "faea509f-7c78-476a-9bee-29f8c045bdf5",
   "metadata": {},
   "source": [
    "# How to create dataframe by using list and dict"
   ]
  },
  {
   "cell_type": "code",
   "execution_count": 39,
   "id": "f84228ec-e9fb-4d43-bf6b-20b7dbb8e556",
   "metadata": {},
   "outputs": [],
   "source": [
    "list1=[[\"Ram\",25,\"mumbai\"],[\"Sita\",28,\"Delhi\"],[\"John\",23,\"Pune\"]]\n",
    "import pandas"
   ]
  },
  {
   "cell_type": "code",
   "execution_count": 40,
   "id": "6acbd694-1232-44b2-b22d-8edbf4f063c0",
   "metadata": {},
   "outputs": [],
   "source": [
    "df1=pandas.DataFrame(list1,columns=[\"Name\",\"Age\",\"City\"])"
   ]
  },
  {
   "cell_type": "code",
   "execution_count": 41,
   "id": "0504b794-e28f-45e3-87d3-b6fd69393fb7",
   "metadata": {},
   "outputs": [
    {
     "data": {
      "text/html": [
       "<div>\n",
       "<style scoped>\n",
       "    .dataframe tbody tr th:only-of-type {\n",
       "        vertical-align: middle;\n",
       "    }\n",
       "\n",
       "    .dataframe tbody tr th {\n",
       "        vertical-align: top;\n",
       "    }\n",
       "\n",
       "    .dataframe thead th {\n",
       "        text-align: right;\n",
       "    }\n",
       "</style>\n",
       "<table border=\"1\" class=\"dataframe\">\n",
       "  <thead>\n",
       "    <tr style=\"text-align: right;\">\n",
       "      <th></th>\n",
       "      <th>Name</th>\n",
       "      <th>Age</th>\n",
       "      <th>City</th>\n",
       "    </tr>\n",
       "  </thead>\n",
       "  <tbody>\n",
       "    <tr>\n",
       "      <th>0</th>\n",
       "      <td>Ram</td>\n",
       "      <td>25</td>\n",
       "      <td>mumbai</td>\n",
       "    </tr>\n",
       "    <tr>\n",
       "      <th>1</th>\n",
       "      <td>Sita</td>\n",
       "      <td>28</td>\n",
       "      <td>Delhi</td>\n",
       "    </tr>\n",
       "    <tr>\n",
       "      <th>2</th>\n",
       "      <td>John</td>\n",
       "      <td>23</td>\n",
       "      <td>Pune</td>\n",
       "    </tr>\n",
       "  </tbody>\n",
       "</table>\n",
       "</div>"
      ],
      "text/plain": [
       "   Name  Age    City\n",
       "0   Ram   25  mumbai\n",
       "1  Sita   28   Delhi\n",
       "2  John   23    Pune"
      ]
     },
     "execution_count": 41,
     "metadata": {},
     "output_type": "execute_result"
    }
   ],
   "source": [
    "df1"
   ]
  },
  {
   "cell_type": "code",
   "execution_count": 42,
   "id": "7b53025b-4f3d-4eba-8a6d-8d1d0d96b1aa",
   "metadata": {},
   "outputs": [],
   "source": [
    "dict1={\"Name\":[\"Ram\",\"Sita\",\"John\"],\"Age\":[25,28,23],\"City\":[\"mumbai\",\"delhi\",\"Pune\"]}\n",
    "df2=pandas.DataFrame(dict1)"
   ]
  },
  {
   "cell_type": "code",
   "execution_count": 43,
   "id": "95ff29c4-1b61-4915-96cb-51cf966c759d",
   "metadata": {},
   "outputs": [
    {
     "data": {
      "text/html": [
       "<div>\n",
       "<style scoped>\n",
       "    .dataframe tbody tr th:only-of-type {\n",
       "        vertical-align: middle;\n",
       "    }\n",
       "\n",
       "    .dataframe tbody tr th {\n",
       "        vertical-align: top;\n",
       "    }\n",
       "\n",
       "    .dataframe thead th {\n",
       "        text-align: right;\n",
       "    }\n",
       "</style>\n",
       "<table border=\"1\" class=\"dataframe\">\n",
       "  <thead>\n",
       "    <tr style=\"text-align: right;\">\n",
       "      <th></th>\n",
       "      <th>Name</th>\n",
       "      <th>Age</th>\n",
       "      <th>City</th>\n",
       "    </tr>\n",
       "  </thead>\n",
       "  <tbody>\n",
       "    <tr>\n",
       "      <th>0</th>\n",
       "      <td>Ram</td>\n",
       "      <td>25</td>\n",
       "      <td>mumbai</td>\n",
       "    </tr>\n",
       "    <tr>\n",
       "      <th>1</th>\n",
       "      <td>Sita</td>\n",
       "      <td>28</td>\n",
       "      <td>delhi</td>\n",
       "    </tr>\n",
       "    <tr>\n",
       "      <th>2</th>\n",
       "      <td>John</td>\n",
       "      <td>23</td>\n",
       "      <td>Pune</td>\n",
       "    </tr>\n",
       "  </tbody>\n",
       "</table>\n",
       "</div>"
      ],
      "text/plain": [
       "   Name  Age    City\n",
       "0   Ram   25  mumbai\n",
       "1  Sita   28   delhi\n",
       "2  John   23    Pune"
      ]
     },
     "execution_count": 43,
     "metadata": {},
     "output_type": "execute_result"
    }
   ],
   "source": [
    "df2"
   ]
  },
  {
   "cell_type": "code",
   "execution_count": null,
   "id": "de641cfc-9dcb-4b0d-a6e2-0bb08f21a8bb",
   "metadata": {},
   "outputs": [],
   "source": []
  }
 ],
 "metadata": {
  "kernelspec": {
   "display_name": "Python 3 (ipykernel)",
   "language": "python",
   "name": "python3"
  },
  "language_info": {
   "codemirror_mode": {
    "name": "ipython",
    "version": 3
   },
   "file_extension": ".py",
   "mimetype": "text/x-python",
   "name": "python",
   "nbconvert_exporter": "python",
   "pygments_lexer": "ipython3",
   "version": "3.11.7"
  }
 },
 "nbformat": 4,
 "nbformat_minor": 5
}
