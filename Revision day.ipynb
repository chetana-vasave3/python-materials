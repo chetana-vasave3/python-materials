{
 "cells": [
  {
   "cell_type": "markdown",
   "id": "b484f9e6-81d7-4930-9c2d-a96f2576e7a2",
   "metadata": {},
   "source": [
    "# History"
   ]
  },
  {
   "cell_type": "markdown",
   "id": "bac4d8a3-d7ca-4696-85f1-b36fea7f2af0",
   "metadata": {},
   "source": [
    "- 90's: guido van rossam\n",
    "- Monty python\n",
    "- version 0.2\n",
    "- 1.0\n",
    "- 2.0\n",
    "- 3\n",
    "- 3.11\n",
    "- 3.12.5(py3k)\n",
    "- features: list comprehension,lambda==>one line==>reduce,map,filter"
   ]
  },
  {
   "cell_type": "code",
   "execution_count": 1,
   "id": "ad272857-83a0-4546-9d38-89d8c962d3a0",
   "metadata": {},
   "outputs": [],
   "source": [
    "#heading==>alt+m==1,2,3==>shift+enter\n",
    "#points==>alt+m===>das and space==>shift+enter"
   ]
  },
  {
   "cell_type": "markdown",
   "id": "5b9d6e00-a648-4046-bc55-2511ad30d05b",
   "metadata": {},
   "source": [
    "# Advantages"
   ]
  },
  {
   "cell_type": "markdown",
   "id": "be3f152d-eee6-4700-b81f-dbc62cfdd263",
   "metadata": {},
   "source": [
    "- Easy to learn and use\n",
    "from math import pi,sqrt\n",
    "- Extensive libraries: satistics/math(module)/datetime/pandas/seaborn\n",
    "- Multi paradigm and verstile\n",
    "    - Functional ,OOPS oriented\n",
    "    - website, Data anlysis and data science\n",
    "- Cross platform\n",
    "  - windows,MAC, linux\n",
    "- open source\n",
    "   - python.org\n",
    "\n"
   ]
  },
  {
   "cell_type": "markdown",
   "id": "d1f53f62-12dc-4a21-b45b-057c5dcb9ebf",
   "metadata": {},
   "source": [
    "# Disadvantages"
   ]
  },
  {
   "cell_type": "markdown",
   "id": "59c28f5d-394b-4111-9d8d-dccc99fda8ab",
   "metadata": {},
   "source": [
    "- slow excution speed(coz python runs code line by line)\n",
    "- high memory usage\n",
    "  - not suited for memory intensive task: mobile applications\n",
    "- Runtime error"
   ]
  },
  {
   "cell_type": "markdown",
   "id": "98628221-dedc-41d1-b553-d5ed74cd8d94",
   "metadata": {},
   "source": [
    "# Applications"
   ]
  },
  {
   "cell_type": "markdown",
   "id": "0182f2f7-0bba-4022-b785-c9fce343ded7",
   "metadata": {},
   "source": [
    "- Web development(flask/django)  e.g. course recommendation system\n",
    "- Data analysis and data science\n",
    "   - pandas(excel)==>sum(),mean()\n",
    "   - seaborn(graph)\n",
    "   - scikit learn\n",
    "   - tensorflow\n",
    "   - NLTK\n",
    "- machine learning==>recommendation,chatbot,chatgpt\n",
    "- Deskstop application GUI==>Tkinter==>calculator/tic-tac-toe/music player\n",
    "- Webscrapping===>real time data scrap from any website==>tables"
   ]
  },
  {
   "cell_type": "markdown",
   "id": "e5488d09-0b64-47fd-9aa9-441a1c276a4f",
   "metadata": {},
   "source": [
    "### How to Download python application\n",
    "- python.org"
   ]
  },
  {
   "cell_type": "markdown",
   "id": "825602b1-f100-457c-bc3b-545582663066",
   "metadata": {},
   "source": [
    "- Python app\n",
    "- IDLE(script mode)"
   ]
  },
  {
   "cell_type": "markdown",
   "id": "61e3ecf3-ff6e-4642-a2bb-793eca378938",
   "metadata": {},
   "source": [
    "Integrated Development Leraning Environment"
   ]
  },
  {
   "cell_type": "markdown",
   "id": "42f477a3-a810-4468-8c87-4dbf69eb5ed3",
   "metadata": {},
   "source": [
    "- Interactive mode: short code, immediete answer, we cant save our code\n",
    "- 10 line===>5th error==>we cant correct our mistake\n",
    "- we have to write whole code again"
   ]
  },
  {
   "cell_type": "markdown",
   "id": "dd75dd6b-7d4c-486d-b552-4d9eb938428c",
   "metadata": {},
   "source": [
    "- Scrip mode==>IDLE==>new File==>script mode\n",
    "- 10 line===>5th line==>we can correct our error coz we have saved our file\n",
    "- we have to save our file with .py"
   ]
  },
  {
   "cell_type": "markdown",
   "id": "53a37a37-3240-41ae-a83c-44376fbcc592",
   "metadata": {},
   "source": [
    "### User Interface==>where we can write our code"
   ]
  },
  {
   "cell_type": "markdown",
   "id": "51f93d8c-bc83-4831-8624-e21cad0ffa60",
   "metadata": {},
   "source": [
    "- Script mode\n",
    "- Visual studio code\n",
    "- Jupyter Notebook(Anaconda Navigator)==>distribution"
   ]
  },
  {
   "cell_type": "markdown",
   "id": "053d38e9-ef77-4547-a6d9-5ab157f8873c",
   "metadata": {},
   "source": [
    "# Basic Python"
   ]
  },
  {
   "cell_type": "markdown",
   "id": "4f9ad23b-03f8-4e16-b66a-45922ad28b6b",
   "metadata": {},
   "source": [
    "- Structure==>synatx\n",
    "  e.g. print(a)\n",
    "- Tokens: Individual unit in a program\n",
    "  - Variables/ Identifiers/ memory location name/storing the data\n",
    "  - Keywords===>predifined\n",
    "  - Literals: a Data given to a variable  ==>numeric,text,list\n",
    "      \n",
    "  - operators( =,<,>)\n",
    "  - Punctuators===> , : ()"
   ]
  },
  {
   "cell_type": "code",
   "execution_count": 5,
   "id": "c5cc5a59-4045-42fa-b985-24fd73235b30",
   "metadata": {},
   "outputs": [
    {
     "name": "stdout",
     "output_type": "stream",
     "text": [
      "Pass\n"
     ]
    }
   ],
   "source": [
    "marks=78   #marks=vairiable, 78: literal\n",
    "if marks>45:\n",
    "    print(\"Pass\")\n",
    "else:\n",
    "    print(\"Fail\")"
   ]
  },
  {
   "cell_type": "markdown",
   "id": "7447bf02-6843-4b04-a4f7-7b14292e5001",
   "metadata": {},
   "source": [
    "#### Rules For creation of variables"
   ]
  },
  {
   "cell_type": "markdown",
   "id": "dca488cc-d5ac-4ed1-aebb-141a11357715",
   "metadata": {},
   "source": [
    "- varible name must starts with letter(a-z/A-z)\n",
    "- variable name can starts with _\n",
    "- Variable name : we cant use spaces,symbols(@,#,$,*)\n",
    "- Variable name cant starts with numbers\n",
    "  e.g. 1name: wrong, name1=correct\n",
    "- we can use only aplanumeric and _\n",
    "- We cant use keywords as variable name"
   ]
  },
  {
   "cell_type": "markdown",
   "id": "4251cbe3-42fa-4b9d-abe4-790d5acf92f1",
   "metadata": {},
   "source": [
    "### 3 ways to declare variables"
   ]
  },
  {
   "cell_type": "code",
   "execution_count": 7,
   "id": "2566a4d6-42a3-42c3-b137-0633d62c8e00",
   "metadata": {},
   "outputs": [
    {
     "name": "stdout",
     "output_type": "stream",
     "text": [
      "35100\n"
     ]
    }
   ],
   "source": [
    "# 1. complex way\n",
    "afdgasxsvhcbdjc=45\n",
    "asghxhjsgcnmndc=780\n",
    "agxhghcdcsdc=afdgasxsvhcbdjc*asghxhjsgcnmndc\n",
    "print(agxhghcdcsdc)"
   ]
  },
  {
   "cell_type": "code",
   "execution_count": 8,
   "id": "c4435ab7-c443-4e16-a97d-a5dea32392d6",
   "metadata": {},
   "outputs": [
    {
     "name": "stdout",
     "output_type": "stream",
     "text": [
      "35100\n"
     ]
    }
   ],
   "source": [
    "# 2. Easy way\n",
    "x=45\n",
    "y=780\n",
    "z=x*y\n",
    "print(z)"
   ]
  },
  {
   "cell_type": "code",
   "execution_count": 9,
   "id": "866844d3-24ba-4c19-87e8-1caf05af1ff3",
   "metadata": {},
   "outputs": [
    {
     "name": "stdout",
     "output_type": "stream",
     "text": [
      "35100\n"
     ]
    }
   ],
   "source": [
    "#3. understandable way\n",
    "total_days=45\n",
    "salary_per_day=780\n",
    "total_salry=total_days*salary_per_day\n",
    "print(total_salry)"
   ]
  },
  {
   "cell_type": "code",
   "execution_count": 11,
   "id": "52f4acda-3811-4b4c-bf84-900176fff072",
   "metadata": {},
   "outputs": [
    {
     "name": "stdout",
     "output_type": "stream",
     "text": [
      "63.585\n"
     ]
    }
   ],
   "source": [
    "#calculate area of circle\n",
    "#reqauride\n",
    "#formula: pie *r*r\n",
    "#variable: 2==>pie,r\n",
    "r=4.5\n",
    "p=3.14\n",
    "a=p*r*r\n",
    "print(a)"
   ]
  },
  {
   "cell_type": "code",
   "execution_count": 12,
   "id": "ff074d8f-edce-40d4-b57d-1faad1788bec",
   "metadata": {},
   "outputs": [
    {
     "name": "stdout",
     "output_type": "stream",
     "text": [
      "63.585\n"
     ]
    }
   ],
   "source": [
    "radius=4.5\n",
    "pie=3.14\n",
    "area_of_circle=pie*radius*radius\n",
    "print(area_of_circle)"
   ]
  },
  {
   "cell_type": "code",
   "execution_count": 16,
   "id": "f06bd3c3-9a7c-4c21-91b2-0db8c039a906",
   "metadata": {},
   "outputs": [
    {
     "name": "stdout",
     "output_type": "stream",
     "text": [
      "This is our area of circle:\n",
      "69.3626\n"
     ]
    }
   ],
   "source": [
    "radius=4.7\n",
    "pie=3.14\n",
    "area_of_circle=pie*radius*radius\n",
    "print(\"This is our area of circle:\")\n",
    "print(area_of_circle)"
   ]
  },
  {
   "cell_type": "code",
   "execution_count": 21,
   "id": "8a8c3865-003b-42c6-9cb0-157f174254e7",
   "metadata": {},
   "outputs": [
    {
     "name": "stdout",
     "output_type": "stream",
     "text": [
      "This is our area of circle: 75.3914\n"
     ]
    }
   ],
   "source": [
    "radius=4.9\n",
    "pie=3.14\n",
    "area_of_circle=pie*radius*radius\n",
    "# print(\"This is our area of circle:\")   ctrl+/\n",
    "print(\"This is our area of circle:\",area_of_circle)"
   ]
  },
  {
   "cell_type": "markdown",
   "id": "b23f7233-1700-49ab-a79c-7ce464dd4d6b",
   "metadata": {},
   "source": [
    "# Getting Input From user"
   ]
  },
  {
   "cell_type": "code",
   "execution_count": 2,
   "id": "49193e58-67ba-4047-b689-39dd4a42c1a1",
   "metadata": {},
   "outputs": [
    {
     "name": "stdin",
     "output_type": "stream",
     "text": [
      "Enter Radius here: 2\n"
     ]
    },
    {
     "name": "stdout",
     "output_type": "stream",
     "text": [
      "This is our area of circle: 12.56\n"
     ]
    }
   ],
   "source": [
    "radius=float(input(\"Enter Radius here:\"))  #str\n",
    "pie=3.14\n",
    "area_of_circle=pie*radius*radius\n",
    "\n",
    "print(\"This is our area of circle:\",area_of_circle)"
   ]
  },
  {
   "cell_type": "code",
   "execution_count": 24,
   "id": "5bf41735-323d-4110-94ef-0fc7fddde4e9",
   "metadata": {},
   "outputs": [],
   "source": [
    "#if we want to take pie value from inbuilt module===>math"
   ]
  },
  {
   "cell_type": "markdown",
   "id": "ea97ad77-fccf-41a8-8b1f-b0e42fa6a60b",
   "metadata": {},
   "source": [
    "# Introduction of packeges and module"
   ]
  },
  {
   "cell_type": "code",
   "execution_count": 29,
   "id": "bb445e4c-c420-445c-a7b2-088b60c5fc09",
   "metadata": {},
   "outputs": [],
   "source": [
    "import statistics as st   #package\n",
    "#case sensitive"
   ]
  },
  {
   "cell_type": "code",
   "execution_count": 27,
   "id": "2075bb7b-bf08-4cba-912c-934e93a81b34",
   "metadata": {},
   "outputs": [
    {
     "name": "stdout",
     "output_type": "stream",
     "text": [
      "['Counter', 'Decimal', 'Fraction', 'LinearRegression', 'NormalDist', 'StatisticsError', '_SQRT2', '__all__', '__annotations__', '__builtins__', '__cached__', '__doc__', '__file__', '__loader__', '__name__', '__package__', '__spec__', '_coerce', '_convert', '_decimal_sqrt_of_frac', '_exact_ratio', '_fail_neg', '_float_sqrt_of_frac', '_integer_sqrt_of_frac_rto', '_isfinite', '_mean_stdev', '_normal_dist_inv_cdf', '_sqrt_bit_width', '_ss', '_sum', 'bisect_left', 'bisect_right', 'correlation', 'covariance', 'defaultdict', 'erf', 'exp', 'fabs', 'fmean', 'fsum', 'geometric_mean', 'groupby', 'harmonic_mean', 'hypot', 'linear_regression', 'log', 'math', 'mean', 'median', 'median_grouped', 'median_high', 'median_low', 'mode', 'mul', 'multimode', 'namedtuple', 'numbers', 'pstdev', 'pvariance', 'quantiles', 'random', 'reduce', 'repeat', 'sqrt', 'stdev', 'sys', 'tau', 'variance']\n"
     ]
    }
   ],
   "source": [
    "# packege===>modules==>functions\n",
    "#to see which modules and functions present in statistics pacakge===>dir()\n",
    "print(dir(st))"
   ]
  },
  {
   "cell_type": "code",
   "execution_count": 4,
   "id": "e4070c00-0cc8-48b5-b7d0-2c0910bf8cdf",
   "metadata": {},
   "outputs": [],
   "source": [
    "import math\n",
    "#or\n"
   ]
  },
  {
   "cell_type": "code",
   "execution_count": 33,
   "id": "efb2bc12-22c7-441c-a5cf-28e432d18530",
   "metadata": {},
   "outputs": [],
   "source": [
    "from statistics import math\n",
    "#originale name==>package"
   ]
  },
  {
   "cell_type": "code",
   "execution_count": 34,
   "id": "7c6bd116-7b9f-48b7-82d5-d8f0739375a9",
   "metadata": {},
   "outputs": [
    {
     "name": "stdout",
     "output_type": "stream",
     "text": [
      "['__doc__', '__loader__', '__name__', '__package__', '__spec__', 'acos', 'acosh', 'asin', 'asinh', 'atan', 'atan2', 'atanh', 'cbrt', 'ceil', 'comb', 'copysign', 'cos', 'cosh', 'degrees', 'dist', 'e', 'erf', 'erfc', 'exp', 'exp2', 'expm1', 'fabs', 'factorial', 'floor', 'fmod', 'frexp', 'fsum', 'gamma', 'gcd', 'hypot', 'inf', 'isclose', 'isfinite', 'isinf', 'isnan', 'isqrt', 'lcm', 'ldexp', 'lgamma', 'log', 'log10', 'log1p', 'log2', 'modf', 'nan', 'nextafter', 'perm', 'pi', 'pow', 'prod', 'radians', 'remainder', 'sin', 'sinh', 'sqrt', 'tan', 'tanh', 'tau', 'trunc', 'ulp']\n"
     ]
    }
   ],
   "source": [
    "print(dir(math))"
   ]
  },
  {
   "cell_type": "code",
   "execution_count": 3,
   "id": "5c33b4e6-59ea-4023-b531-960ef6ade4dc",
   "metadata": {},
   "outputs": [],
   "source": [
    "from math import pi,sqrt,pow,factorial"
   ]
  },
  {
   "cell_type": "code",
   "execution_count": 36,
   "id": "faa4abac-96cf-4419-9060-49dc4cf50cf5",
   "metadata": {},
   "outputs": [
    {
     "data": {
      "text/plain": [
       "3.141592653589793"
      ]
     },
     "execution_count": 36,
     "metadata": {},
     "output_type": "execute_result"
    }
   ],
   "source": [
    "pi"
   ]
  },
  {
   "cell_type": "code",
   "execution_count": 37,
   "id": "3e6d8994-e6b8-494d-a8a5-1fa875b52c15",
   "metadata": {},
   "outputs": [
    {
     "data": {
      "text/plain": [
       "3.141592653589793"
      ]
     },
     "execution_count": 37,
     "metadata": {},
     "output_type": "execute_result"
    }
   ],
   "source": [
    "math.pi"
   ]
  },
  {
   "cell_type": "code",
   "execution_count": 5,
   "id": "1dc8d939-c3d4-415f-84d6-778d915d4ef9",
   "metadata": {},
   "outputs": [
    {
     "name": "stdin",
     "output_type": "stream",
     "text": [
      "Enter Radius here: 2\n"
     ]
    },
    {
     "name": "stdout",
     "output_type": "stream",
     "text": [
      "This is our area of circle: 12.566370614359172\n"
     ]
    }
   ],
   "source": [
    "radius=float(input(\"Enter Radius here:\"))  #str\n",
    "# pie=3.14\n",
    "area_of_circle=math.pi*radius*radius\n",
    "# area_of_circle=math.pi*radius*radius\n",
    "\n",
    "print(\"This is our area of circle:\",area_of_circle)"
   ]
  },
  {
   "cell_type": "markdown",
   "id": "1aac4afd-25f3-46c1-a525-9fb7ca33cc41",
   "metadata": {},
   "source": [
    "# Datetime package"
   ]
  },
  {
   "cell_type": "code",
   "execution_count": 6,
   "id": "95fd6bad-2542-4f75-a5f4-18cd34baee02",
   "metadata": {},
   "outputs": [],
   "source": [
    "#datetime==>pacakge===>datetime(module)\n",
    "import datetime # packege"
   ]
  },
  {
   "cell_type": "code",
   "execution_count": 7,
   "id": "8a7735fd-f8c7-4a8d-a4c6-9776bcc7960c",
   "metadata": {},
   "outputs": [
    {
     "name": "stdout",
     "output_type": "stream",
     "text": [
      "['MAXYEAR', 'MINYEAR', 'UTC', '__all__', '__builtins__', '__cached__', '__doc__', '__file__', '__loader__', '__name__', '__package__', '__spec__', 'date', 'datetime', 'datetime_CAPI', 'sys', 'time', 'timedelta', 'timezone', 'tzinfo']\n"
     ]
    }
   ],
   "source": [
    "print(dir(datetime))"
   ]
  },
  {
   "cell_type": "code",
   "execution_count": 8,
   "id": "3de15cbe-d75e-42c1-95a4-e55e6c570fba",
   "metadata": {},
   "outputs": [],
   "source": [
    "from datetime import datetime as dt"
   ]
  },
  {
   "cell_type": "code",
   "execution_count": 9,
   "id": "c13fd71e-e919-4027-b556-509e3ae05877",
   "metadata": {},
   "outputs": [
    {
     "name": "stdout",
     "output_type": "stream",
     "text": [
      "['__add__', '__class__', '__delattr__', '__dir__', '__doc__', '__eq__', '__format__', '__ge__', '__getattribute__', '__getstate__', '__gt__', '__hash__', '__init__', '__init_subclass__', '__le__', '__lt__', '__ne__', '__new__', '__radd__', '__reduce__', '__reduce_ex__', '__repr__', '__rsub__', '__setattr__', '__sizeof__', '__str__', '__sub__', '__subclasshook__', 'astimezone', 'combine', 'ctime', 'date', 'day', 'dst', 'fold', 'fromisocalendar', 'fromisoformat', 'fromordinal', 'fromtimestamp', 'hour', 'isocalendar', 'isoformat', 'isoweekday', 'max', 'microsecond', 'min', 'minute', 'month', 'now', 'replace', 'resolution', 'second', 'strftime', 'strptime', 'time', 'timestamp', 'timetuple', 'timetz', 'today', 'toordinal', 'tzinfo', 'tzname', 'utcfromtimestamp', 'utcnow', 'utcoffset', 'utctimetuple', 'weekday', 'year']\n"
     ]
    }
   ],
   "source": [
    "print(dir(dt))"
   ]
  },
  {
   "cell_type": "code",
   "execution_count": 10,
   "id": "d9a0894a-63d5-4ad1-a9f7-dee498cec13f",
   "metadata": {},
   "outputs": [
    {
     "name": "stdout",
     "output_type": "stream",
     "text": [
      "2025-06-22 11:16:24.409270\n"
     ]
    }
   ],
   "source": [
    "current_date_time=dt.now()\n",
    "print(current_date_time)"
   ]
  },
  {
   "cell_type": "code",
   "execution_count": 11,
   "id": "0253e469-5c3f-4439-a037-cdbb9a62a9d9",
   "metadata": {},
   "outputs": [
    {
     "data": {
      "text/plain": [
       "2025"
      ]
     },
     "execution_count": 11,
     "metadata": {},
     "output_type": "execute_result"
    }
   ],
   "source": [
    "current_date_time.year   #attribute"
   ]
  },
  {
   "cell_type": "code",
   "execution_count": 12,
   "id": "3c412a1c-0d80-4a65-b0f6-4f6104a00a63",
   "metadata": {},
   "outputs": [
    {
     "data": {
      "text/plain": [
       "6"
      ]
     },
     "execution_count": 12,
     "metadata": {},
     "output_type": "execute_result"
    }
   ],
   "source": [
    "current_date_time.weekday()"
   ]
  },
  {
   "cell_type": "code",
   "execution_count": 14,
   "id": "811d371e-ef55-4ed2-885e-f4ba6269b082",
   "metadata": {},
   "outputs": [
    {
     "data": {
      "text/plain": [
       "datetime.datetime(2025, 6, 22, 11, 17, 22, 444921)"
      ]
     },
     "execution_count": 14,
     "metadata": {},
     "output_type": "execute_result"
    }
   ],
   "source": [
    "dt.today()"
   ]
  },
  {
   "cell_type": "code",
   "execution_count": 15,
   "id": "750e9725-eaad-4b90-834c-b11b55a8975c",
   "metadata": {},
   "outputs": [
    {
     "data": {
      "text/plain": [
       "'25/06/22    |  11:16:24'"
      ]
     },
     "execution_count": 15,
     "metadata": {},
     "output_type": "execute_result"
    }
   ],
   "source": [
    "#formatting date\n",
    "current_date_time.strftime(\"%y/%m/%d    |  %H:%M:%S\")"
   ]
  },
  {
   "cell_type": "code",
   "execution_count": 16,
   "id": "3658fe06-95f8-4f89-baa0-6ecf8185d8d1",
   "metadata": {},
   "outputs": [
    {
     "data": {
      "text/plain": [
       "'2025/Jun/22    |  11:16:24'"
      ]
     },
     "execution_count": 16,
     "metadata": {},
     "output_type": "execute_result"
    }
   ],
   "source": [
    "current_date_time.strftime(\"%Y/%b/%d    |  %H:%M:%S\")"
   ]
  },
  {
   "cell_type": "markdown",
   "id": "b163fe57-641b-4c01-a0b5-5c282c6baf4b",
   "metadata": {},
   "source": [
    "# Data types in python"
   ]
  },
  {
   "cell_type": "markdown",
   "id": "03ab2573-0fa7-402a-bb5d-5004351356c0",
   "metadata": {},
   "source": [
    "7 types\n",
    "- Numeric: int(),float(),complex()\n",
    "- Text: string: str()\n",
    "- Sequence: multiple data\n",
    "  - list: list()\n",
    "  - tuple: tuple()\n",
    "  - dictionary: dict()\n",
    "  - set: set(): frozenset()\n",
    "- Boolean : bool: True and False\n",
    "\n"
   ]
  },
  {
   "cell_type": "markdown",
   "id": "e86076da-2d83-497d-93fb-9580bedeafb7",
   "metadata": {},
   "source": [
    "int: 123,4,5\n",
    "float: 4.5,4.04.788\n",
    "complex: 2+9j\n",
    "\n",
    "\n"
   ]
  },
  {
   "cell_type": "markdown",
   "id": "430a2e3f-ace1-41db-813c-8e87be8b0fb4",
   "metadata": {},
   "source": [
    "- mutable: we can change,add,remove(LDS:list,dict,set)\n",
    "- immutable: we cant change,add,remove(numeric,string,tuple)"
   ]
  },
  {
   "cell_type": "markdown",
   "id": "3ab3083a-0054-4b21-ada8-5a26059ae126",
   "metadata": {},
   "source": [
    "# String Handling"
   ]
  },
  {
   "cell_type": "code",
   "execution_count": null,
   "id": "fcc42db9-e86d-40fe-84b1-18fb0fc01be7",
   "metadata": {},
   "outputs": [],
   "source": []
  },
  {
   "cell_type": "markdown",
   "id": "4c3e0b36-8ca6-4dcd-b404-04d73cbb216f",
   "metadata": {},
   "source": [
    "- str()\n",
    "- '', \"\",\"\"\"\"\"\n",
    "- immutable\n",
    "- orderd\n",
    "  - e.g. s=chetana===>index==c:0,h:1"
   ]
  },
  {
   "cell_type": "markdown",
   "id": "46ab875f-e11a-401e-bf74-069fd4f9842e",
   "metadata": {},
   "source": [
    "operators\n"
   ]
  },
  {
   "cell_type": "markdown",
   "id": "6d47aae8-f44c-43fe-a453-7a85cad4b843",
   "metadata": {},
   "source": [
    "- + : join/concat\n",
    "- * : multiple times string rept\n",
    "- in and not in: memborship operator"
   ]
  },
  {
   "cell_type": "code",
   "execution_count": 18,
   "id": "e63e77b5-8856-4cea-8efc-f33aaca84224",
   "metadata": {},
   "outputs": [
    {
     "data": {
      "text/plain": [
       "True"
      ]
     },
     "execution_count": 18,
     "metadata": {},
     "output_type": "execute_result"
    }
   ],
   "source": [
    "s1=\"data\"\n",
    "s2=\"data science\"\n",
    "s1 in s2"
   ]
  },
  {
   "cell_type": "code",
   "execution_count": 19,
   "id": "8bf50ee7-2815-4713-a853-c92ff3fe571a",
   "metadata": {},
   "outputs": [
    {
     "data": {
      "text/plain": [
       "False"
      ]
     },
     "execution_count": 19,
     "metadata": {},
     "output_type": "execute_result"
    }
   ],
   "source": [
    "s2 in s1"
   ]
  },
  {
   "cell_type": "code",
   "execution_count": 20,
   "id": "8cbf52e2-807f-4c54-9450-5b0a8df7f2d4",
   "metadata": {},
   "outputs": [
    {
     "data": {
      "text/plain": [
       "False"
      ]
     },
     "execution_count": 20,
     "metadata": {},
     "output_type": "execute_result"
    }
   ],
   "source": [
    "s1 not in s2"
   ]
  },
  {
   "cell_type": "code",
   "execution_count": 21,
   "id": "5f4df7ee-ba1c-4589-8033-831b9806ef07",
   "metadata": {},
   "outputs": [
    {
     "data": {
      "text/plain": [
       "True"
      ]
     },
     "execution_count": 21,
     "metadata": {},
     "output_type": "execute_result"
    }
   ],
   "source": [
    "s2 not in s1"
   ]
  },
  {
   "cell_type": "markdown",
   "id": "d0a3d0eb-54fe-4838-8a0d-b4c2e3fb148d",
   "metadata": {},
   "source": [
    "# String Functions"
   ]
  },
  {
   "cell_type": "markdown",
   "id": "718dc11b-04d4-4990-a4dc-b545ad50edc3",
   "metadata": {},
   "source": [
    "- Python inbuilt functions: print(),type(),len(),sum(),min(),max()\n",
    "- Particular data types fn: string: upper(),lower()/ list: append(),remove()"
   ]
  },
  {
   "cell_type": "code",
   "execution_count": 22,
   "id": "5a7337cd-c210-414b-8472-53e554682a1e",
   "metadata": {},
   "outputs": [
    {
     "data": {
      "text/plain": [
       "'I AM LEARNING PYRHON'"
      ]
     },
     "execution_count": 22,
     "metadata": {},
     "output_type": "execute_result"
    }
   ],
   "source": [
    "s1=\"i am learning pyrhon\"\n",
    "s1.upper()"
   ]
  },
  {
   "cell_type": "code",
   "execution_count": 24,
   "id": "c067142c-98e2-4cc4-9654-03e0cd867405",
   "metadata": {},
   "outputs": [
    {
     "data": {
      "text/plain": [
       "6"
      ]
     },
     "execution_count": 24,
     "metadata": {},
     "output_type": "execute_result"
    }
   ],
   "source": [
    "l=[1,2,3]\n",
    "sum(l)"
   ]
  },
  {
   "cell_type": "code",
   "execution_count": 25,
   "id": "7dd4e0f7-b0cd-47c4-824c-ecc72fa73773",
   "metadata": {},
   "outputs": [
    {
     "data": {
      "text/plain": [
       "'i am learning pyrhon'"
      ]
     },
     "execution_count": 25,
     "metadata": {},
     "output_type": "execute_result"
    }
   ],
   "source": [
    "s1"
   ]
  },
  {
   "cell_type": "code",
   "execution_count": 26,
   "id": "2a07a4ba-c93f-4db1-9509-bccc8b9f746d",
   "metadata": {},
   "outputs": [],
   "source": [
    "l.append(400)"
   ]
  },
  {
   "cell_type": "code",
   "execution_count": 27,
   "id": "16710e0c-a5d8-440d-84c7-cdfebf42c180",
   "metadata": {},
   "outputs": [
    {
     "data": {
      "text/plain": [
       "[1, 2, 3, 400]"
      ]
     },
     "execution_count": 27,
     "metadata": {},
     "output_type": "execute_result"
    }
   ],
   "source": [
    "l"
   ]
  },
  {
   "cell_type": "code",
   "execution_count": 28,
   "id": "397875d0-3356-4e2b-a8cb-3108390b9f97",
   "metadata": {},
   "outputs": [],
   "source": [
    "l.remove(2)"
   ]
  },
  {
   "cell_type": "code",
   "execution_count": 29,
   "id": "ef409774-abd5-4f34-920d-0f57c67ee293",
   "metadata": {},
   "outputs": [
    {
     "data": {
      "text/plain": [
       "[1, 3, 400]"
      ]
     },
     "execution_count": 29,
     "metadata": {},
     "output_type": "execute_result"
    }
   ],
   "source": [
    "l"
   ]
  },
  {
   "cell_type": "markdown",
   "id": "2bf7c1bf-d531-490b-a859-5f587675a314",
   "metadata": {},
   "source": [
    "- lower()\n",
    "- capitalize(): only first words first letter capital\n",
    "- title(): each words first letter capital\n",
    "- replace():accept tewo arguments\n",
    "- count(): mentioned character count/it will take one argument\n",
    "- len(): overall string lentgth"
   ]
  },
  {
   "cell_type": "code",
   "execution_count": 30,
   "id": "89c7542f-d75b-4e92-9b36-74963a971305",
   "metadata": {},
   "outputs": [
    {
     "data": {
      "text/plain": [
       "'i am learning pyrhon'"
      ]
     },
     "execution_count": 30,
     "metadata": {},
     "output_type": "execute_result"
    }
   ],
   "source": [
    "#arguments/parameters: which we can pass in to any function\n",
    "s1"
   ]
  },
  {
   "cell_type": "code",
   "execution_count": 33,
   "id": "c5543e84-9049-47f1-bcc3-caa87c9e1de8",
   "metadata": {},
   "outputs": [
    {
     "data": {
      "text/plain": [
       "'i am learning Data analysis'"
      ]
     },
     "execution_count": 33,
     "metadata": {},
     "output_type": "execute_result"
    }
   ],
   "source": [
    "s1.replace(\"pyrhon\",\"Data analysis\")"
   ]
  },
  {
   "cell_type": "code",
   "execution_count": 34,
   "id": "231c5189-d7bf-43dd-969c-9508477f4ba3",
   "metadata": {},
   "outputs": [
    {
     "data": {
      "text/plain": [
       "'i am learning pyrhon'"
      ]
     },
     "execution_count": 34,
     "metadata": {},
     "output_type": "execute_result"
    }
   ],
   "source": [
    "s1"
   ]
  },
  {
   "cell_type": "code",
   "execution_count": 35,
   "id": "793c665f-8654-4387-a551-0dd6484cb03f",
   "metadata": {},
   "outputs": [
    {
     "data": {
      "text/plain": [
       "'I am learning pyrhon'"
      ]
     },
     "execution_count": 35,
     "metadata": {},
     "output_type": "execute_result"
    }
   ],
   "source": [
    "s1.capitalize()"
   ]
  },
  {
   "cell_type": "code",
   "execution_count": 36,
   "id": "3b17a914-9b3a-4346-8b4a-ecbda4a7a10d",
   "metadata": {},
   "outputs": [
    {
     "data": {
      "text/plain": [
       "'I Am Learning Pyrhon'"
      ]
     },
     "execution_count": 36,
     "metadata": {},
     "output_type": "execute_result"
    }
   ],
   "source": [
    "s1.title()"
   ]
  },
  {
   "cell_type": "code",
   "execution_count": 38,
   "id": "fafdd1b8-88f9-4140-a6b5-fdfb60f89a5e",
   "metadata": {},
   "outputs": [
    {
     "data": {
      "text/plain": [
       "1"
      ]
     },
     "execution_count": 38,
     "metadata": {},
     "output_type": "execute_result"
    }
   ],
   "source": [
    "s1.count(\"learning\")"
   ]
  },
  {
   "cell_type": "code",
   "execution_count": 39,
   "id": "546a782e-2621-46b3-9663-b9faaa69bf68",
   "metadata": {},
   "outputs": [
    {
     "data": {
      "text/plain": [
       "20"
      ]
     },
     "execution_count": 39,
     "metadata": {},
     "output_type": "execute_result"
    }
   ],
   "source": [
    "len(s1)"
   ]
  },
  {
   "cell_type": "code",
   "execution_count": 40,
   "id": "81cdf915-488e-479e-ba0d-9eff06a43f32",
   "metadata": {},
   "outputs": [
    {
     "data": {
      "text/plain": [
       "2"
      ]
     },
     "execution_count": 40,
     "metadata": {},
     "output_type": "execute_result"
    }
   ],
   "source": [
    "l=[4,4,5,8.6]\n",
    "l.count(4)"
   ]
  },
  {
   "cell_type": "code",
   "execution_count": 41,
   "id": "30b7e777-bb19-406c-937e-ec8963427de1",
   "metadata": {},
   "outputs": [
    {
     "data": {
      "text/plain": [
       "4"
      ]
     },
     "execution_count": 41,
     "metadata": {},
     "output_type": "execute_result"
    }
   ],
   "source": [
    "len(l)"
   ]
  },
  {
   "cell_type": "code",
   "execution_count": null,
   "id": "7f927b51-11c2-45c6-9b56-b59d98071bac",
   "metadata": {},
   "outputs": [],
   "source": [
    "l.upper()"
   ]
  }
 ],
 "metadata": {
  "kernelspec": {
   "display_name": "Python 3 (ipykernel)",
   "language": "python",
   "name": "python3"
  },
  "language_info": {
   "codemirror_mode": {
    "name": "ipython",
    "version": 3
   },
   "file_extension": ".py",
   "mimetype": "text/x-python",
   "name": "python",
   "nbconvert_exporter": "python",
   "pygments_lexer": "ipython3",
   "version": "3.11.7"
  }
 },
 "nbformat": 4,
 "nbformat_minor": 5
}
