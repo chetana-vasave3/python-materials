{
 "cells": [
  {
   "cell_type": "markdown",
   "id": "b6ed3057-356b-440b-b3fc-09e782a2eb58",
   "metadata": {},
   "source": [
    "# set"
   ]
  },
  {
   "cell_type": "markdown",
   "id": "a5105026-1ac1-40b6-8fd4-d76ec47558d8",
   "metadata": {},
   "source": [
    "- declare: {}\n",
    "- doesnt allow duplicates==>unique\n",
    "- mutable\n",
    "- unordered : we cant do indexing and slicing\n",
    "- accepts multiple datatypes: but not list,set,dict"
   ]
  },
  {
   "cell_type": "code",
   "execution_count": 18,
   "id": "de588725-d465-4314-b7d2-6f397b4b4d28",
   "metadata": {},
   "outputs": [],
   "source": [
    "s={1,2,\"chetana\",(4,8),7.8,True}\n"
   ]
  },
  {
   "cell_type": "code",
   "execution_count": 16,
   "id": "62df89ac-dd02-4886-82bc-617e965c6ef7",
   "metadata": {},
   "outputs": [],
   "source": [
    "t=(1,2.3,[7,8],\"chetana\",{4,4},{\"name\":\"chetana\"},True,(4,9))"
   ]
  },
  {
   "cell_type": "code",
   "execution_count": 17,
   "id": "4e46a84d-614f-4881-acda-8007188645a7",
   "metadata": {},
   "outputs": [],
   "source": [
    "l=[1,2.3,[7,8],\"chetana\",{4,4},{\"name\":\"chetana\"},True,(4,5)]"
   ]
  },
  {
   "cell_type": "markdown",
   "id": "84bbf2c8-b34e-422f-ab0b-23839a5893c4",
   "metadata": {},
   "source": [
    "### Mutable?"
   ]
  },
  {
   "cell_type": "markdown",
   "id": "0d34be4a-7bc9-4cc3-899c-df4de3712b3d",
   "metadata": {},
   "source": [
    "### Adding elements"
   ]
  },
  {
   "cell_type": "code",
   "execution_count": 19,
   "id": "cd3d0896-060e-4254-b393-e413cb97e74e",
   "metadata": {},
   "outputs": [],
   "source": [
    "l=[1,2,3]\n",
    "l.append(4)  #single: last position\n"
   ]
  },
  {
   "cell_type": "code",
   "execution_count": 20,
   "id": "715dadfe-2f31-407e-903b-b9653f072330",
   "metadata": {},
   "outputs": [
    {
     "data": {
      "text/plain": [
       "[1, 2, 3, 4]"
      ]
     },
     "execution_count": 20,
     "metadata": {},
     "output_type": "execute_result"
    }
   ],
   "source": [
    "l"
   ]
  },
  {
   "cell_type": "code",
   "execution_count": 21,
   "id": "7edfcef4-2329-4546-b69f-04306b077994",
   "metadata": {},
   "outputs": [
    {
     "data": {
      "text/plain": [
       "[1, 2, 3, 4, 8, 6]"
      ]
     },
     "execution_count": 21,
     "metadata": {},
     "output_type": "execute_result"
    }
   ],
   "source": [
    "l.extend([8,6])  #multiple : last position\n",
    "\n",
    "l"
   ]
  },
  {
   "cell_type": "code",
   "execution_count": 22,
   "id": "d0277405-6d02-491b-9609-2a88ecc384af",
   "metadata": {},
   "outputs": [
    {
     "data": {
      "text/plain": [
       "{(4, 8), 1, 2, 7.8, 'chetana'}"
      ]
     },
     "execution_count": 22,
     "metadata": {},
     "output_type": "execute_result"
    }
   ],
   "source": [
    "s"
   ]
  },
  {
   "cell_type": "markdown",
   "id": "5951d235-31ce-4149-ae45-fbe5e12819ff",
   "metadata": {},
   "source": [
    "### add(): single element "
   ]
  },
  {
   "cell_type": "code",
   "execution_count": 23,
   "id": "401255e8-82ad-4f51-baae-146ccacafcd2",
   "metadata": {},
   "outputs": [
    {
     "data": {
      "text/plain": [
       "{(4, 8), 1, 2, 7.8, 'chetana', 'python'}"
      ]
     },
     "execution_count": 23,
     "metadata": {},
     "output_type": "execute_result"
    }
   ],
   "source": [
    "s.add(\"python\")\n",
    "s"
   ]
  },
  {
   "cell_type": "code",
   "execution_count": 24,
   "id": "53b971c6-3b49-4a1f-9510-d7e8e2350cb8",
   "metadata": {},
   "outputs": [],
   "source": [
    "s.add(500)"
   ]
  },
  {
   "cell_type": "code",
   "execution_count": 25,
   "id": "cd081226-5b04-41e6-9a46-d1186c4e069c",
   "metadata": {},
   "outputs": [
    {
     "data": {
      "text/plain": [
       "{(4, 8), 1, 2, 500, 7.8, 'chetana', 'python'}"
      ]
     },
     "execution_count": 25,
     "metadata": {},
     "output_type": "execute_result"
    }
   ],
   "source": [
    "s"
   ]
  },
  {
   "cell_type": "code",
   "execution_count": 26,
   "id": "09fdb146-4dd7-472c-9541-e3c95f77ee03",
   "metadata": {},
   "outputs": [],
   "source": [
    "#tuple==>int==>flot==>string\n",
    "s.add((8,9))"
   ]
  },
  {
   "cell_type": "code",
   "execution_count": 27,
   "id": "3786dd06-3d9c-40ed-a597-f46fbf252bf5",
   "metadata": {},
   "outputs": [
    {
     "data": {
      "text/plain": [
       "{(4, 8), (8, 9), 1, 2, 500, 7.8, 'chetana', 'python'}"
      ]
     },
     "execution_count": 27,
     "metadata": {},
     "output_type": "execute_result"
    }
   ],
   "source": [
    "s"
   ]
  },
  {
   "cell_type": "markdown",
   "id": "c5342007-4e0c-4a4e-bc31-a2b2dd549cf5",
   "metadata": {},
   "source": [
    "#### update(): multiple elements"
   ]
  },
  {
   "cell_type": "code",
   "execution_count": 28,
   "id": "088c5886-4f53-4d30-a865-e03c2ec0abb7",
   "metadata": {},
   "outputs": [
    {
     "data": {
      "text/plain": [
       "{(4, 8), (8, 9), 1, 2, 4, 5.5, 500, 7.8, 'chetana', 'python'}"
      ]
     },
     "execution_count": 28,
     "metadata": {},
     "output_type": "execute_result"
    }
   ],
   "source": [
    "s.update([4,5.5])\n",
    "s"
   ]
  },
  {
   "cell_type": "code",
   "execution_count": 32,
   "id": "fda0480c-c5b6-4167-ada6-9ccdc63ee4c5",
   "metadata": {},
   "outputs": [
    {
     "data": {
      "text/plain": [
       "{(4, 8), (8, 9), 1, 2, 4, 5, 5.5, 500, 7.8, 'chetana', 'data', 'python'}"
      ]
     },
     "execution_count": 32,
     "metadata": {},
     "output_type": "execute_result"
    }
   ],
   "source": [
    "s.update([\"data\",4,5])\n",
    "s"
   ]
  },
  {
   "cell_type": "code",
   "execution_count": 30,
   "id": "e7563547-81b4-4800-9dd5-49e9421313f0",
   "metadata": {},
   "outputs": [
    {
     "ename": "TypeError",
     "evalue": "'set' object is not subscriptable",
     "output_type": "error",
     "traceback": [
      "\u001b[1;31m---------------------------------------------------------------------------\u001b[0m",
      "\u001b[1;31mTypeError\u001b[0m                                 Traceback (most recent call last)",
      "Cell \u001b[1;32mIn[30], line 1\u001b[0m\n\u001b[1;32m----> 1\u001b[0m s[\u001b[38;5;241m1\u001b[39m]\n",
      "\u001b[1;31mTypeError\u001b[0m: 'set' object is not subscriptable"
     ]
    }
   ],
   "source": [
    "s[1]"
   ]
  },
  {
   "cell_type": "code",
   "execution_count": 34,
   "id": "7467f847-ac57-490d-8392-18df2ee38368",
   "metadata": {},
   "outputs": [
    {
     "name": "stdout",
     "output_type": "stream",
     "text": [
      "{8000, 1, 2, 4, 5.5, 5, 7.8, (8, 9), 4000, 'chetana', 6000, 500, (4, 8), 'python', 'data'}\n"
     ]
    }
   ],
   "source": [
    "s.update((4000,6000,8000))\n",
    "print(s)"
   ]
  },
  {
   "cell_type": "code",
   "execution_count": 35,
   "id": "da68f8a9-696a-4185-80c2-c5d49350abfa",
   "metadata": {},
   "outputs": [
    {
     "data": {
      "text/plain": [
       "{(4, 8),\n",
       " (78, 78),\n",
       " (8, 9),\n",
       " 1,\n",
       " 2,\n",
       " 4,\n",
       " 4000,\n",
       " 5,\n",
       " 5.5,\n",
       " 500,\n",
       " 6000,\n",
       " 7.8,\n",
       " 8000,\n",
       " 'chetana',\n",
       " 'data',\n",
       " 'python'}"
      ]
     },
     "execution_count": 35,
     "metadata": {},
     "output_type": "execute_result"
    }
   ],
   "source": [
    "s.add((78,78))\n",
    "s"
   ]
  },
  {
   "cell_type": "code",
   "execution_count": 36,
   "id": "c267e528-14c9-4c30-8c93-e9c5bdc6f805",
   "metadata": {},
   "outputs": [
    {
     "data": {
      "text/plain": [
       "['gouri', 'mayuri']"
      ]
     },
     "execution_count": 36,
     "metadata": {},
     "output_type": "execute_result"
    }
   ],
   "source": [
    "l=[\"chetana\",\"mayuri\"]\n",
    "l[0]=\"gouri\"\n",
    "l"
   ]
  },
  {
   "cell_type": "code",
   "execution_count": 37,
   "id": "9cc0b485-5d7f-4c2b-9680-44a30df98529",
   "metadata": {},
   "outputs": [
    {
     "data": {
      "text/plain": [
       "['chetana', 'mayuri']"
      ]
     },
     "execution_count": 37,
     "metadata": {},
     "output_type": "execute_result"
    }
   ],
   "source": [
    "t=(\"chetana\",\"mayuri\")\n",
    "#immutable\n",
    "#type casting\n",
    "#tuple to list\n",
    "t_list=list(t)\n",
    "t_list"
   ]
  },
  {
   "cell_type": "code",
   "execution_count": 38,
   "id": "51f136b9-9d44-41fd-b8ea-d267403251a1",
   "metadata": {},
   "outputs": [
    {
     "data": {
      "text/plain": [
       "['madhuri', 'mayuri']"
      ]
     },
     "execution_count": 38,
     "metadata": {},
     "output_type": "execute_result"
    }
   ],
   "source": [
    "t_list[0]=\"madhuri\"\n",
    "t_list"
   ]
  },
  {
   "cell_type": "code",
   "execution_count": 39,
   "id": "6cd2aebf-84c1-48d6-b062-16143607255a",
   "metadata": {},
   "outputs": [
    {
     "data": {
      "text/plain": [
       "('madhuri', 'mayuri')"
      ]
     },
     "execution_count": 39,
     "metadata": {},
     "output_type": "execute_result"
    }
   ],
   "source": [
    "t=tuple(t_list)\n",
    "t"
   ]
  },
  {
   "cell_type": "markdown",
   "id": "ab0cf783-6b3b-4709-be1c-d4857dd15928",
   "metadata": {},
   "source": [
    "#### Removing elements from set"
   ]
  },
  {
   "cell_type": "markdown",
   "id": "cc0cf028-ea52-4773-8a8b-f6d2303820de",
   "metadata": {},
   "source": [
    "- remove()\n"
   ]
  },
  {
   "cell_type": "code",
   "execution_count": 40,
   "id": "5226e770-a547-4e7e-b605-453a191989db",
   "metadata": {},
   "outputs": [
    {
     "data": {
      "text/plain": [
       "{(4, 8),\n",
       " (78, 78),\n",
       " (8, 9),\n",
       " 1,\n",
       " 2,\n",
       " 4,\n",
       " 4000,\n",
       " 5,\n",
       " 5.5,\n",
       " 500,\n",
       " 6000,\n",
       " 7.8,\n",
       " 8000,\n",
       " 'chetana',\n",
       " 'data',\n",
       " 'python'}"
      ]
     },
     "execution_count": 40,
     "metadata": {},
     "output_type": "execute_result"
    }
   ],
   "source": [
    "s"
   ]
  },
  {
   "cell_type": "code",
   "execution_count": 41,
   "id": "c3ce84d8-f212-4cfc-b8c4-e7e8970d020d",
   "metadata": {},
   "outputs": [
    {
     "data": {
      "text/plain": [
       "{(4, 8),\n",
       " (78, 78),\n",
       " (8, 9),\n",
       " 1,\n",
       " 2,\n",
       " 4,\n",
       " 4000,\n",
       " 5,\n",
       " 5.5,\n",
       " 500,\n",
       " 6000,\n",
       " 7.8,\n",
       " 8000,\n",
       " 'chetana',\n",
       " 'data'}"
      ]
     },
     "execution_count": 41,
     "metadata": {},
     "output_type": "execute_result"
    }
   ],
   "source": [
    "s.remove(\"python\")\n",
    "s"
   ]
  },
  {
   "cell_type": "code",
   "execution_count": 42,
   "id": "1f3d0d39-1b3f-4218-b509-72b69948f218",
   "metadata": {},
   "outputs": [],
   "source": [
    "s.remove((78, 78))"
   ]
  },
  {
   "cell_type": "code",
   "execution_count": 43,
   "id": "442737de-3bce-45fc-a5db-64a873effc57",
   "metadata": {},
   "outputs": [
    {
     "data": {
      "text/plain": [
       "{(4, 8),\n",
       " (8, 9),\n",
       " 1,\n",
       " 2,\n",
       " 4,\n",
       " 4000,\n",
       " 5,\n",
       " 5.5,\n",
       " 500,\n",
       " 6000,\n",
       " 7.8,\n",
       " 8000,\n",
       " 'chetana',\n",
       " 'data'}"
      ]
     },
     "execution_count": 43,
     "metadata": {},
     "output_type": "execute_result"
    }
   ],
   "source": [
    "s"
   ]
  },
  {
   "cell_type": "code",
   "execution_count": 44,
   "id": "33e806e8-2b77-47ff-833e-202bf0b8d601",
   "metadata": {},
   "outputs": [
    {
     "ename": "KeyError",
     "evalue": "'fddfd'",
     "output_type": "error",
     "traceback": [
      "\u001b[1;31m---------------------------------------------------------------------------\u001b[0m",
      "\u001b[1;31mKeyError\u001b[0m                                  Traceback (most recent call last)",
      "Cell \u001b[1;32mIn[44], line 1\u001b[0m\n\u001b[1;32m----> 1\u001b[0m s\u001b[38;5;241m.\u001b[39mremove(\u001b[38;5;124m\"\u001b[39m\u001b[38;5;124mfddfd\u001b[39m\u001b[38;5;124m\"\u001b[39m)\n\u001b[0;32m      2\u001b[0m s\n",
      "\u001b[1;31mKeyError\u001b[0m: 'fddfd'"
     ]
    }
   ],
   "source": [
    "s.remove(\"fddfd\")\n",
    "s"
   ]
  },
  {
   "cell_type": "markdown",
   "id": "715997a1-23f6-45da-a10f-71d35b9cf97f",
   "metadata": {},
   "source": [
    "- discard()"
   ]
  },
  {
   "cell_type": "code",
   "execution_count": 45,
   "id": "498730c0-c908-4c94-b72f-ece0a41895d5",
   "metadata": {},
   "outputs": [
    {
     "data": {
      "text/plain": [
       "{(4, 8), (8, 9), 1, 2, 4, 4000, 5, 5.5, 6000, 7.8, 8000, 'chetana', 'data'}"
      ]
     },
     "execution_count": 45,
     "metadata": {},
     "output_type": "execute_result"
    }
   ],
   "source": [
    "s.discard(500)\n",
    "s"
   ]
  },
  {
   "cell_type": "code",
   "execution_count": 46,
   "id": "5178f1f4-fc02-4040-abd1-5fa7de910382",
   "metadata": {},
   "outputs": [
    {
     "data": {
      "text/plain": [
       "{(4, 8), (8, 9), 1, 2, 4, 4000, 5, 5.5, 6000, 7.8, 'chetana', 'data'}"
      ]
     },
     "execution_count": 46,
     "metadata": {},
     "output_type": "execute_result"
    }
   ],
   "source": [
    "s.discard(8000)\n",
    "s"
   ]
  },
  {
   "cell_type": "code",
   "execution_count": 47,
   "id": "134bc815-fe06-4fb3-95bf-9b417dd293e6",
   "metadata": {},
   "outputs": [
    {
     "data": {
      "text/plain": [
       "{(4, 8), (8, 9), 1, 2, 4, 4000, 5, 5.5, 6000, 7.8, 'chetana', 'data'}"
      ]
     },
     "execution_count": 47,
     "metadata": {},
     "output_type": "execute_result"
    }
   ],
   "source": [
    "s.discard(\"python\")\n",
    "s"
   ]
  },
  {
   "cell_type": "markdown",
   "id": "bcdecd57-3418-4958-a0af-66b7e7f36b19",
   "metadata": {},
   "source": [
    "## pop()"
   ]
  },
  {
   "cell_type": "code",
   "execution_count": 48,
   "id": "fdd5d595-15d4-487c-863f-b120253ae8af",
   "metadata": {},
   "outputs": [],
   "source": [
    "l=[1,2,3]\n",
    "t=(1,2.5,8,9)\n",
    "s={7,1,1,5,6}"
   ]
  },
  {
   "cell_type": "code",
   "execution_count": 49,
   "id": "29c46848-b515-4141-83b3-9425e4ffdadb",
   "metadata": {},
   "outputs": [
    {
     "data": {
      "text/plain": [
       "3"
      ]
     },
     "execution_count": 49,
     "metadata": {},
     "output_type": "execute_result"
    }
   ],
   "source": [
    "l.pop() #without index: last element pick and then remove in list"
   ]
  },
  {
   "cell_type": "code",
   "execution_count": 50,
   "id": "f2e628bf-0744-4a4d-9b46-e66b01e343be",
   "metadata": {},
   "outputs": [
    {
     "data": {
      "text/plain": [
       "[1, 2]"
      ]
     },
     "execution_count": 50,
     "metadata": {},
     "output_type": "execute_result"
    }
   ],
   "source": [
    "l"
   ]
  },
  {
   "cell_type": "code",
   "execution_count": 51,
   "id": "b502caca-4c55-438c-a246-b22f3be1a811",
   "metadata": {},
   "outputs": [
    {
     "data": {
      "text/plain": [
       "1"
      ]
     },
     "execution_count": 51,
     "metadata": {},
     "output_type": "execute_result"
    }
   ],
   "source": [
    "l.pop(0)  # with index"
   ]
  },
  {
   "cell_type": "code",
   "execution_count": 52,
   "id": "20df9676-2ed4-41ec-a9d4-98bc068a3943",
   "metadata": {},
   "outputs": [
    {
     "data": {
      "text/plain": [
       "[2]"
      ]
     },
     "execution_count": 52,
     "metadata": {},
     "output_type": "execute_result"
    }
   ],
   "source": [
    "l"
   ]
  },
  {
   "cell_type": "code",
   "execution_count": 53,
   "id": "a1a3d7e1-c948-455d-89ed-3c91ba3ebfce",
   "metadata": {},
   "outputs": [
    {
     "ename": "AttributeError",
     "evalue": "'tuple' object has no attribute 'pop'",
     "output_type": "error",
     "traceback": [
      "\u001b[1;31m---------------------------------------------------------------------------\u001b[0m",
      "\u001b[1;31mAttributeError\u001b[0m                            Traceback (most recent call last)",
      "Cell \u001b[1;32mIn[53], line 1\u001b[0m\n\u001b[1;32m----> 1\u001b[0m t\u001b[38;5;241m.\u001b[39mpop()\n",
      "\u001b[1;31mAttributeError\u001b[0m: 'tuple' object has no attribute 'pop'"
     ]
    }
   ],
   "source": [
    "t.pop()"
   ]
  },
  {
   "cell_type": "code",
   "execution_count": 54,
   "id": "7d4ddcaa-a9be-4ec2-a2d1-884b318c69fc",
   "metadata": {},
   "outputs": [
    {
     "data": {
      "text/plain": [
       "1"
      ]
     },
     "execution_count": 54,
     "metadata": {},
     "output_type": "execute_result"
    }
   ],
   "source": [
    "s.pop()"
   ]
  },
  {
   "cell_type": "code",
   "execution_count": 55,
   "id": "d0cc55af-499a-4c6d-9bee-172f32827ae9",
   "metadata": {},
   "outputs": [
    {
     "data": {
      "text/plain": [
       "{5, 6, 7}"
      ]
     },
     "execution_count": 55,
     "metadata": {},
     "output_type": "execute_result"
    }
   ],
   "source": [
    "s"
   ]
  },
  {
   "cell_type": "code",
   "execution_count": 56,
   "id": "888e2b0b-42bc-4167-bcfe-00ee09afe3db",
   "metadata": {},
   "outputs": [
    {
     "ename": "TypeError",
     "evalue": "set.pop() takes no arguments (1 given)",
     "output_type": "error",
     "traceback": [
      "\u001b[1;31m---------------------------------------------------------------------------\u001b[0m",
      "\u001b[1;31mTypeError\u001b[0m                                 Traceback (most recent call last)",
      "Cell \u001b[1;32mIn[56], line 1\u001b[0m\n\u001b[1;32m----> 1\u001b[0m s\u001b[38;5;241m.\u001b[39mpop(\u001b[38;5;241m0\u001b[39m)\n",
      "\u001b[1;31mTypeError\u001b[0m: set.pop() takes no arguments (1 given)"
     ]
    }
   ],
   "source": [
    "s.pop(0)"
   ]
  },
  {
   "cell_type": "markdown",
   "id": "0016fa3c-6aa9-464c-bd4d-0e9858349fbc",
   "metadata": {},
   "source": [
    "# in operator and not in"
   ]
  },
  {
   "cell_type": "code",
   "execution_count": 59,
   "id": "291d1082-1bd6-46b6-95cd-0d4eb0d170f5",
   "metadata": {},
   "outputs": [],
   "source": [
    "string=\"data science\"\n",
    "l=[1,2,3]\n",
    "t=(1,2.5,8,9)\n",
    "s={7,1,1,5,6}"
   ]
  },
  {
   "cell_type": "code",
   "execution_count": 60,
   "id": "072ca46b-9f94-4ae4-96d8-4662274708af",
   "metadata": {},
   "outputs": [
    {
     "name": "stdout",
     "output_type": "stream",
     "text": [
      "12\n",
      "3\n",
      "4\n",
      "4\n"
     ]
    }
   ],
   "source": [
    "print(len(string))\n",
    "print(len(l))\n",
    "print(len(t))\n",
    "print(len(s))"
   ]
  },
  {
   "cell_type": "code",
   "execution_count": 67,
   "id": "81c61c27-ee05-4e09-9009-b3b707136082",
   "metadata": {},
   "outputs": [
    {
     "name": "stdout",
     "output_type": "stream",
     "text": [
      "1\n",
      "1\n",
      "1\n"
     ]
    },
    {
     "ename": "AttributeError",
     "evalue": "'set' object has no attribute 'count'",
     "output_type": "error",
     "traceback": [
      "\u001b[1;31m---------------------------------------------------------------------------\u001b[0m",
      "\u001b[1;31mAttributeError\u001b[0m                            Traceback (most recent call last)",
      "Cell \u001b[1;32mIn[67], line 4\u001b[0m\n\u001b[0;32m      2\u001b[0m \u001b[38;5;28mprint\u001b[39m(l\u001b[38;5;241m.\u001b[39mcount(\u001b[38;5;241m1\u001b[39m))   \u001b[38;5;66;03m#list: duplicates\u001b[39;00m\n\u001b[0;32m      3\u001b[0m \u001b[38;5;28mprint\u001b[39m(t\u001b[38;5;241m.\u001b[39mcount(\u001b[38;5;241m2.5\u001b[39m)) \u001b[38;5;66;03m#tuple: duplicate\u001b[39;00m\n\u001b[1;32m----> 4\u001b[0m \u001b[38;5;28mprint\u001b[39m(s\u001b[38;5;241m.\u001b[39mcount(\u001b[38;5;241m5\u001b[39m))\n",
      "\u001b[1;31mAttributeError\u001b[0m: 'set' object has no attribute 'count'"
     ]
    }
   ],
   "source": [
    "print(string.count(\"d\"))  #duplicate char\n",
    "print(l.count(1))   #list: duplicates\n",
    "print(t.count(2.5)) #tuple: duplicate\n",
    "print(s.count(5))  #set: unique"
   ]
  },
  {
   "cell_type": "code",
   "execution_count": 69,
   "id": "8377385b-5414-4edf-96f2-a2e77e8fc7b2",
   "metadata": {},
   "outputs": [
    {
     "name": "stdout",
     "output_type": "stream",
     "text": [
      "3\n",
      "9\n",
      "7\n",
      "6\n",
      "20.5\n",
      "19\n",
      "1\n",
      "1\n",
      "1\n"
     ]
    }
   ],
   "source": [
    "string=\"data science\"\n",
    "l=[1,2,3]\n",
    "t=(1,2.5,8,9)\n",
    "s={7,1,1,5,6}\n",
    "\n",
    "\n",
    "print(max(l))\n",
    "print(max(t))\n",
    "print(max(s))\n",
    "\n",
    "print(sum(l))\n",
    "print(sum(t))\n",
    "print(sum(s))\n",
    "\n",
    "\n",
    "print(min(l))\n",
    "print(min(t))\n",
    "print(min(s))"
   ]
  },
  {
   "cell_type": "code",
   "execution_count": 73,
   "id": "4f8453b0-581e-4579-b090-ab3fc87156a8",
   "metadata": {},
   "outputs": [
    {
     "name": "stdout",
     "output_type": "stream",
     "text": [
      "True\n",
      "False\n",
      "False\n",
      "True\n",
      "True\n"
     ]
    }
   ],
   "source": [
    "string=\"data science\"\n",
    "l=[1,2,3]\n",
    "t=(1,2.5,8,9)\n",
    "s={7,1,1,5,6}\n",
    "\n",
    "print(\"d\" in string)\n",
    "print(5 in l)\n",
    "print(2.5 not in t)\n",
    "print(1 in s)\n",
    "print(8 not in s)"
   ]
  },
  {
   "cell_type": "markdown",
   "id": "d57f04db-e5d0-40ae-a955-a052b7ae9cb0",
   "metadata": {},
   "source": [
    "# Set operators"
   ]
  },
  {
   "cell_type": "markdown",
   "id": "571b6006-88da-41f9-96c2-06190184deb4",
   "metadata": {},
   "source": [
    "- union()  OR  | : combine the given sets  \n",
    "- intersection()  OR &: common elements\n",
    "- differrence()  OR -: element present in set1 but not in set 2\n",
    "- symmetric_difference() OR ^ :uncommon elements"
   ]
  },
  {
   "cell_type": "code",
   "execution_count": 74,
   "id": "1cfa750d-4dff-402f-9de8-0dcae87ea744",
   "metadata": {},
   "outputs": [],
   "source": [
    "set1={1,1,2,3,4,5,7,67}\n",
    "set2={4,5,8,9,10}"
   ]
  },
  {
   "cell_type": "code",
   "execution_count": 75,
   "id": "4985ec54-65ef-45d6-ade2-32e9c3e71c13",
   "metadata": {},
   "outputs": [
    {
     "data": {
      "text/plain": [
       "{1, 2, 3, 4, 5, 7, 8, 9, 10, 67}"
      ]
     },
     "execution_count": 75,
     "metadata": {},
     "output_type": "execute_result"
    }
   ],
   "source": [
    "set1.union(set2)"
   ]
  },
  {
   "cell_type": "code",
   "execution_count": 76,
   "id": "82378433-a750-412b-9bff-12f7ebf2d1f5",
   "metadata": {},
   "outputs": [
    {
     "data": {
      "text/plain": [
       "{1, 2, 3, 4, 5, 7, 8, 9, 10, 67}"
      ]
     },
     "execution_count": 76,
     "metadata": {},
     "output_type": "execute_result"
    }
   ],
   "source": [
    "set1|set2"
   ]
  },
  {
   "cell_type": "code",
   "execution_count": 77,
   "id": "d31c59a7-eb00-4a97-8d01-5101e2cda7eb",
   "metadata": {},
   "outputs": [
    {
     "data": {
      "text/plain": [
       "{4, 5}"
      ]
     },
     "execution_count": 77,
     "metadata": {},
     "output_type": "execute_result"
    }
   ],
   "source": [
    "#(4,5)\n",
    "set1.intersection(set2)"
   ]
  },
  {
   "cell_type": "code",
   "execution_count": 78,
   "id": "87ec9bb0-1cf0-46ca-a9a7-be08789f4663",
   "metadata": {},
   "outputs": [
    {
     "data": {
      "text/plain": [
       "{4, 5}"
      ]
     },
     "execution_count": 78,
     "metadata": {},
     "output_type": "execute_result"
    }
   ],
   "source": [
    "set1 & set2"
   ]
  },
  {
   "cell_type": "code",
   "execution_count": 79,
   "id": "f60655b7-4d80-457d-8706-c68592f0316a",
   "metadata": {},
   "outputs": [
    {
     "data": {
      "text/plain": [
       "{1, 2, 3, 7, 67}"
      ]
     },
     "execution_count": 79,
     "metadata": {},
     "output_type": "execute_result"
    }
   ],
   "source": [
    "#difference()\n",
    "set1.difference(set2)\n",
    "#1,2,3,7,67"
   ]
  },
  {
   "cell_type": "code",
   "execution_count": 80,
   "id": "3e62e5e7-7931-4090-aad8-b28c2963c1e4",
   "metadata": {},
   "outputs": [
    {
     "data": {
      "text/plain": [
       "{1, 2, 3, 7, 67}"
      ]
     },
     "execution_count": 80,
     "metadata": {},
     "output_type": "execute_result"
    }
   ],
   "source": [
    "set1 - set2"
   ]
  },
  {
   "cell_type": "code",
   "execution_count": 81,
   "id": "6569eeef-b8e1-4084-8de0-2a2b5230e25b",
   "metadata": {},
   "outputs": [
    {
     "data": {
      "text/plain": [
       "{1, 2, 3, 7, 8, 9, 10, 67}"
      ]
     },
     "execution_count": 81,
     "metadata": {},
     "output_type": "execute_result"
    }
   ],
   "source": [
    "#symmetric_difference() \n",
    "set1.symmetric_difference(set2) \n",
    "#"
   ]
  },
  {
   "cell_type": "code",
   "execution_count": 82,
   "id": "31c69e9e-fa57-4728-9c19-b694b9a42171",
   "metadata": {},
   "outputs": [
    {
     "data": {
      "text/plain": [
       "{1, 2, 3, 7, 8, 9, 10, 67}"
      ]
     },
     "execution_count": 82,
     "metadata": {},
     "output_type": "execute_result"
    }
   ],
   "source": [
    "set1 ^ set2"
   ]
  },
  {
   "cell_type": "code",
   "execution_count": 86,
   "id": "08f22dc7-1f6e-406b-90c2-8a1f3225240d",
   "metadata": {},
   "outputs": [
    {
     "name": "stdout",
     "output_type": "stream",
     "text": [
      "{9}\n",
      "{5, 9, 12}\n",
      "{8, 7}\n"
     ]
    }
   ],
   "source": [
    "s={7,8,9}\n",
    "s1={12,7,5,8}\n",
    "print(s-s1)  #9\n",
    "print(s^s1)  #9,12,5\n",
    "print(s&s1)  #7,8"
   ]
  },
  {
   "cell_type": "markdown",
   "id": "81a5e5b2-9e2d-45b0-8cc1-52479f20fc5a",
   "metadata": {},
   "source": [
    "- issubset()\n",
    "- issuperset()\n",
    "- isdisjoint()"
   ]
  },
  {
   "cell_type": "code",
   "execution_count": null,
   "id": "b368862a-042f-4c44-a6c9-2513a79090ee",
   "metadata": {},
   "outputs": [],
   "source": []
  },
  {
   "cell_type": "markdown",
   "id": "c4c4f973-929a-458e-a172-679a978fa132",
   "metadata": {},
   "source": [
    "# Frozenset()"
   ]
  },
  {
   "cell_type": "markdown",
   "id": "238db28e-499c-4b3f-b275-65b4d82da1bc",
   "metadata": {},
   "source": [
    "- Freeze the data type==>immutable\n",
    "- It will take properties from Tuple(immutable) and set(uniqueness)\n",
    "-  it is an immutable version of set"
   ]
  },
  {
   "cell_type": "code",
   "execution_count": 87,
   "id": "21ec5c22-ca39-4c09-9f0f-d2c879499d02",
   "metadata": {},
   "outputs": [
    {
     "data": {
      "text/plain": [
       "[1, 2, 3, 1, 1, 32, 4, 5, 61, 1, 1, 2]"
      ]
     },
     "execution_count": 87,
     "metadata": {},
     "output_type": "execute_result"
    }
   ],
   "source": [
    "l=[1,2,3,1,1,32,4,5,61,1,1,2]\n",
    "l"
   ]
  },
  {
   "cell_type": "code",
   "execution_count": 88,
   "id": "91a11ce4-7e2a-4fd7-8b13-beb338e3791a",
   "metadata": {},
   "outputs": [
    {
     "data": {
      "text/plain": [
       "frozenset({1, 2, 3, 4, 5, 32, 61})"
      ]
     },
     "execution_count": 88,
     "metadata": {},
     "output_type": "execute_result"
    }
   ],
   "source": [
    "l_frozenset=frozenset(l)\n",
    "l_frozenset"
   ]
  },
  {
   "cell_type": "code",
   "execution_count": 89,
   "id": "538c5360-dea4-4155-a74b-6f9d9ceb8fbd",
   "metadata": {},
   "outputs": [
    {
     "data": {
      "text/plain": [
       "frozenset({1, 2, 3})"
      ]
     },
     "execution_count": 89,
     "metadata": {},
     "output_type": "execute_result"
    }
   ],
   "source": [
    "t=(1,2,1,1,2,2,3,1,1,1,2,2)\n",
    "t_frozenset=frozenset(t)\n",
    "t_frozenset"
   ]
  },
  {
   "cell_type": "code",
   "execution_count": 90,
   "id": "e3d202e9-8e37-4d13-a313-667e7a726a62",
   "metadata": {},
   "outputs": [
    {
     "data": {
      "text/plain": [
       "frozenset({1, 2, 3, 5, 6, 34})"
      ]
     },
     "execution_count": 90,
     "metadata": {},
     "output_type": "execute_result"
    }
   ],
   "source": [
    "set1={1,2,3,34,5,6}\n",
    "set1_frozenset=frozenset(set1)\n",
    "set1_frozenset"
   ]
  },
  {
   "cell_type": "code",
   "execution_count": 91,
   "id": "cf768dd9-a08b-4e1d-903b-d4c90711a790",
   "metadata": {},
   "outputs": [
    {
     "ename": "AttributeError",
     "evalue": "'frozenset' object has no attribute 'remove'",
     "output_type": "error",
     "traceback": [
      "\u001b[1;31m---------------------------------------------------------------------------\u001b[0m",
      "\u001b[1;31mAttributeError\u001b[0m                            Traceback (most recent call last)",
      "Cell \u001b[1;32mIn[91], line 1\u001b[0m\n\u001b[1;32m----> 1\u001b[0m set1_frozenset\u001b[38;5;241m.\u001b[39mremove()\n",
      "\u001b[1;31mAttributeError\u001b[0m: 'frozenset' object has no attribute 'remove'"
     ]
    }
   ],
   "source": [
    "set1_frozenset.remove()"
   ]
  },
  {
   "cell_type": "code",
   "execution_count": null,
   "id": "f53f7a14-8745-48bc-959c-e90a7676bedd",
   "metadata": {},
   "outputs": [],
   "source": []
  }
 ],
 "metadata": {
  "kernelspec": {
   "display_name": "Python 3 (ipykernel)",
   "language": "python",
   "name": "python3"
  },
  "language_info": {
   "codemirror_mode": {
    "name": "ipython",
    "version": 3
   },
   "file_extension": ".py",
   "mimetype": "text/x-python",
   "name": "python",
   "nbconvert_exporter": "python",
   "pygments_lexer": "ipython3",
   "version": "3.11.7"
  }
 },
 "nbformat": 4,
 "nbformat_minor": 5
}
