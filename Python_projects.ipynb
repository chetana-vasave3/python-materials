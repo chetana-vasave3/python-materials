{
 "cells": [
  {
   "cell_type": "markdown",
   "id": "c5610d10-4a2b-4b1b-a1a1-b3209da7adcd",
   "metadata": {},
   "source": [
    "## Project-4"
   ]
  },
  {
   "cell_type": "markdown",
   "id": "9b3110b5-710b-491a-9f80-7a102440f146",
   "metadata": {},
   "source": [
    "#### Secure Password Vault"
   ]
  },
  {
   "cell_type": "code",
   "execution_count": 47,
   "id": "6bd8737d-05fd-4c4b-baa4-dd4f65f48862",
   "metadata": {},
   "outputs": [
    {
     "name": "stdout",
     "output_type": "stream",
     "text": [
      "Welcome to secure Password vault!\n",
      "1. Add New Credential\n",
      "2. View All Credentials\n",
      "3. Search by Website\n",
      "4. Exit\n"
     ]
    },
    {
     "name": "stdin",
     "output_type": "stream",
     "text": [
      "enter your choice: 1\n",
      "enter website name: amazon.com\n",
      "enter user name: gouri\n",
      "enter password: fgfd\n"
     ]
    },
    {
     "name": "stdout",
     "output_type": "stream",
     "text": [
      "Password must contain at least 8 char\n",
      "No credentials saved\n",
      "Welcome to secure Password vault!\n",
      "1. Add New Credential\n",
      "2. View All Credentials\n",
      "3. Search by Website\n",
      "4. Exit\n"
     ]
    },
    {
     "name": "stdin",
     "output_type": "stream",
     "text": [
      "enter your choice: 1\n",
      "enter website name: gfgf\n",
      "enter user name: afhgf\n",
      "enter password: twdyfgdhegfhf\n"
     ]
    },
    {
     "name": "stdout",
     "output_type": "stream",
     "text": [
      "Password must contain, uppercase,lowercase,digit and special char\n",
      "No credentials saved\n",
      "Welcome to secure Password vault!\n",
      "1. Add New Credential\n",
      "2. View All Credentials\n",
      "3. Search by Website\n",
      "4. Exit\n"
     ]
    },
    {
     "name": "stdin",
     "output_type": "stream",
     "text": [
      "enter your choice: 1\n",
      "enter website name: jhghj\n",
      "enter user name: fgfg\n",
      "enter password: Agghhsdc123@$$$\n"
     ]
    },
    {
     "name": "stdout",
     "output_type": "stream",
     "text": [
      "Password is strong\n",
      "credentials saved succefully\n",
      "Welcome to secure Password vault!\n",
      "1. Add New Credential\n",
      "2. View All Credentials\n",
      "3. Search by Website\n",
      "4. Exit\n"
     ]
    },
    {
     "name": "stdin",
     "output_type": "stream",
     "text": [
      "enter your choice: 4\n"
     ]
    },
    {
     "name": "stdout",
     "output_type": "stream",
     "text": [
      "exiting game!\n"
     ]
    }
   ],
   "source": [
    "credentials=[\n",
    "    {\"website\":\"speedup.com\",\"username\":\"chetana\",\"password\":\"Chetana123@\"}\n",
    "]#initialization\n",
    "\n",
    "def check_credentials(password):  #str: Chetana123@\n",
    "    if len(password)<8:\n",
    "        return False,\"Password must contain at least 8 char\"\n",
    "    #variables declare===>initialization\n",
    "    else:\n",
    "        has_upper=False\n",
    "        has_lower=False\n",
    "        has_digit=False\n",
    "        special_char=False\n",
    "        for char in password:  #C\n",
    "                if char.isupper():   #true\n",
    "                    has_upper=True\n",
    "                elif char.islower():  #false\n",
    "                    has_lower=True\n",
    "                elif char.isdigit():  #false\n",
    "                    has_digit=True\n",
    "                elif not char.isalnum():\n",
    "                    special_char=True\n",
    "        if all([has_upper,has_lower,has_digit,special_char]):\n",
    "                return True,\"Password is strong\"\n",
    "            \n",
    "                \n",
    "        else:\n",
    "                return False,\"Password must contain, uppercase,lowercase,digit and special char\"\n",
    "                \n",
    "def add_credentials():\n",
    "    website=input(\"enter website name:\")\n",
    "    username=input(\"enter user name:\")\n",
    "    password=input(\"enter password:\")\n",
    "    valid,message=check_credentials(password)   #local\n",
    "    print(message)\n",
    "\n",
    "    if valid:   #valid=true\n",
    "        credentials.append({\"website\":website,\"username\":username,\"password\":password})\n",
    "        print(\"credentials saved succefully\")\n",
    "    else:\n",
    "        print(\"No credentials saved\")\n",
    "\n",
    "\n",
    "def view_credentials():\n",
    "    if credentials:   #true\n",
    "        print(\"credentials are:\")\n",
    "        for dictionary in credentials:\n",
    "            print(dictionary)\n",
    "    else:\n",
    "        print(\"no credential stored\")\n",
    "\n",
    "        \n",
    "def search_credentials():\n",
    "    site=input(\"enter website to search:\")  #speedup.com\n",
    "    found=False\n",
    "    for d in credentials:\n",
    "        if d[\"website\"].lower()==site.lower():\n",
    "            print(\"website found\")\n",
    "            found=True\n",
    "    if not found:  #false\n",
    "        print(\"no website found\")\n",
    "        \n",
    "            \n",
    "        \n",
    "    \n",
    "\n",
    "\n",
    "\n",
    "while True:\n",
    "    print(\"Welcome to secure Password vault!\")\n",
    "    print(\"1. Add New Credential\")\n",
    "    print(\"2. View All Credentials\")\n",
    "    print(\"3. Search by Website\")\n",
    "    print(\"4. Exit\")\n",
    "    choice=input(\"enter your choice:\")\n",
    "    if choice==\"1\":\n",
    "        add_credentials()\n",
    "    elif choice==\"2\":\n",
    "        view_credentials()\n",
    "    elif choice==\"3\":\n",
    "        search_credentials()\n",
    "    elif choice==\"4\":\n",
    "        print(\"exiting game!\")\n",
    "        break\n",
    "    else:\n",
    "        print(\"Invalid choice!plz choose 1,2,3,4\")\n",
    "#Indentation"
   ]
  },
  {
   "cell_type": "code",
   "execution_count": 3,
   "id": "af4eea54-dbc8-4acd-b223-67dd16da7748",
   "metadata": {},
   "outputs": [
    {
     "data": {
      "text/plain": [
       "False"
      ]
     },
     "execution_count": 3,
     "metadata": {},
     "output_type": "execute_result"
    }
   ],
   "source": [
    "\"chetana123#$%\".isalnum()"
   ]
  },
  {
   "cell_type": "code",
   "execution_count": 7,
   "id": "747b1a7a-a75d-48ed-be22-9656dc72ee8c",
   "metadata": {},
   "outputs": [
    {
     "name": "stdout",
     "output_type": "stream",
     "text": [
      "no\n",
      "no\n",
      "no\n",
      "no\n",
      "no\n",
      "no\n",
      "no\n",
      "no\n",
      "no\n",
      "no\n",
      "yes\n",
      "yes\n",
      "yes\n"
     ]
    }
   ],
   "source": [
    "for c in \"chetana123#$%\":\n",
    "    if not c.isalnum():\n",
    "        print(\"yes\")\n",
    "    else:\n",
    "        print(\"no\")\n",
    "        \n",
    "    "
   ]
  },
  {
   "cell_type": "markdown",
   "id": "ee2938ef-32d6-4b34-a697-9682a0c89dec",
   "metadata": {},
   "source": [
    "### all(): not allowed o,False,\"\""
   ]
  },
  {
   "cell_type": "code",
   "execution_count": 9,
   "id": "50854b4b-178c-47e4-b793-f5bd3ae243c4",
   "metadata": {},
   "outputs": [
    {
     "data": {
      "text/plain": [
       "False"
      ]
     },
     "execution_count": 9,
     "metadata": {},
     "output_type": "execute_result"
    }
   ],
   "source": [
    "l=[1,2,3,0]\n",
    "all(l)   #only numbers from 1,2,3......"
   ]
  },
  {
   "cell_type": "code",
   "execution_count": 12,
   "id": "65552a30-0e73-47bb-8a76-94fa0e40ee88",
   "metadata": {},
   "outputs": [
    {
     "data": {
      "text/plain": [
       "False"
      ]
     },
     "execution_count": 12,
     "metadata": {},
     "output_type": "execute_result"
    }
   ],
   "source": [
    "all([\"chetana\",\"AI\",\"\"])"
   ]
  },
  {
   "cell_type": "code",
   "execution_count": 14,
   "id": "9bbd9c5f-348d-4126-b01f-6e40c9c23e26",
   "metadata": {},
   "outputs": [
    {
     "data": {
      "text/plain": [
       "False"
      ]
     },
     "execution_count": 14,
     "metadata": {},
     "output_type": "execute_result"
    }
   ],
   "source": [
    "all([True,False])"
   ]
  },
  {
   "cell_type": "code",
   "execution_count": 40,
   "id": "e4c55129-1349-48d6-8c92-40246605afe2",
   "metadata": {},
   "outputs": [],
   "source": [
    "def check_credentials(password):  #str: Chetana123@\n",
    "    if len(password)<8:\n",
    "        return False,\"Password must contain at least 8 char\"\n",
    "        #variables declare===>initialization\n",
    "        has_upper=has_lower=has_digitspecial_char=False\n",
    "    for char in password:\n",
    "            if char.isupper():   #true\n",
    "                has_upper=True\n",
    "            elif char.islower():\n",
    "                has_lower=True\n",
    "            elif char.isdigit():\n",
    "                has_digit=True\n",
    "            elif not char.isalnum():\n",
    "                special_char=True\n",
    "        if all([has_upper,has_lower,has_digit,special_char]):\n",
    "            return True,\"Password is strong\"\n",
    "        \n",
    "            \n",
    "        # else:\n",
    "            return False,\"Password must contain, uppercase,lowercase,digit and special char\"\n",
    "check_credentials(\"Gojhghjghhjh\")               "
   ]
  },
  {
   "cell_type": "code",
   "execution_count": 25,
   "id": "6205899b-7d2a-473f-acbf-265a86cbab3f",
   "metadata": {},
   "outputs": [
    {
     "name": "stdout",
     "output_type": "stream",
     "text": [
      "speedup.com\n",
      "flipkart.com\n"
     ]
    }
   ],
   "source": [
    "credentials=[\n",
    "    {\"website\":\"speedup.com\",\"username\":\"chetana\",\"password\":\"Chetana123@\"},{\"website\":\"flipkart.com\",\"username\":\"mayuri\",\"password\":\"Mauri123@\"}\n",
    "]\n",
    "for c in credentials:\n",
    "    print(c[\"website\"])"
   ]
  },
  {
   "cell_type": "code",
   "execution_count": 46,
   "id": "294ca99c-a005-4421-b6de-188f35a4c09f",
   "metadata": {},
   "outputs": [
    {
     "data": {
      "text/plain": [
       "(True, 'Password is strong')"
      ]
     },
     "execution_count": 46,
     "metadata": {},
     "output_type": "execute_result"
    }
   ],
   "source": [
    "def check_credentials(password):  #str: Chetana123@\n",
    "    if len(password)<8:\n",
    "        return False,\"Password must contain at least 8 char\"\n",
    "        #variables declare===>initialization\n",
    "    has_upper=False\n",
    "    has_lower=False\n",
    "    has_digit=False\n",
    "    special_char=False\n",
    "    for char in password:\n",
    "        if char.isupper():   #true\n",
    "            has_upper=True\n",
    "        elif char.islower():\n",
    "                has_lower=True\n",
    "        elif char.isdigit():\n",
    "                has_digit=True\n",
    "        elif not char.isalnum():\n",
    "                special_char=True\n",
    "    if all([has_upper,has_lower,has_digit,special_char]):\n",
    "            return True,\"Password is strong\"\n",
    "        \n",
    "            \n",
    "    else:\n",
    "            return False,\"Password must contain, uppercase,lowercase,digit and special char\"\n",
    "check_credentials(\"Fghgjhgv12@##\")"
   ]
  },
  {
   "cell_type": "code",
   "execution_count": null,
   "id": "e421f9a1-8ff4-4220-ae22-72349ac0427f",
   "metadata": {},
   "outputs": [],
   "source": []
  }
 ],
 "metadata": {
  "kernelspec": {
   "display_name": "Python 3 (ipykernel)",
   "language": "python",
   "name": "python3"
  },
  "language_info": {
   "codemirror_mode": {
    "name": "ipython",
    "version": 3
   },
   "file_extension": ".py",
   "mimetype": "text/x-python",
   "name": "python",
   "nbconvert_exporter": "python",
   "pygments_lexer": "ipython3",
   "version": "3.11.7"
  }
 },
 "nbformat": 4,
 "nbformat_minor": 5
}
