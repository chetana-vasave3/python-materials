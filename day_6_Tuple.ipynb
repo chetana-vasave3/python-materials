{
 "cells": [
  {
   "cell_type": "markdown",
   "id": "f0e36826-d959-45d5-9dff-4b067cd004ce",
   "metadata": {},
   "source": [
    "# Tuple()"
   ]
  },
  {
   "cell_type": "markdown",
   "id": "8b63a601-334f-4398-9f8b-ec61d1c3c5ef",
   "metadata": {},
   "source": [
    "- declare using () or comma seperated elemts\n",
    "  - e.g t=(1,2,3) or t=1,2,3\n",
    "- Immutable\n",
    "- orderd: indexing /slicing\n",
    "- allow duplicte element"
   ]
  },
  {
   "cell_type": "code",
   "execution_count": 3,
   "id": "3a422202-48c3-4a1d-a036-82c4519a7086",
   "metadata": {},
   "outputs": [],
   "source": [
    "t=(1,2,1,3,2,1,5)\n"
   ]
  },
  {
   "cell_type": "markdown",
   "id": "62f913d5-3648-487e-9ece-ba7a3b374ec4",
   "metadata": {},
   "source": [
    "#### functions of tuple"
   ]
  },
  {
   "cell_type": "markdown",
   "id": "68f9b6a8-ace7-4851-a9eb-b48695cd9d75",
   "metadata": {},
   "source": [
    "- len()\n",
    "- min()\n",
    "- max()\n",
    "- sum()\n",
    "- tuple()\n"
   ]
  },
  {
   "cell_type": "code",
   "execution_count": 2,
   "id": "399f241f-9900-4fb5-9445-7ae99b8973a4",
   "metadata": {},
   "outputs": [
    {
     "data": {
      "text/plain": [
       "15"
      ]
     },
     "execution_count": 2,
     "metadata": {},
     "output_type": "execute_result"
    }
   ],
   "source": [
    "sum(t)"
   ]
  },
  {
   "cell_type": "code",
   "execution_count": 4,
   "id": "80f75e22-8713-4f50-981d-a82b8e98ac9c",
   "metadata": {},
   "outputs": [
    {
     "data": {
      "text/plain": [
       "5"
      ]
     },
     "execution_count": 4,
     "metadata": {},
     "output_type": "execute_result"
    }
   ],
   "source": [
    "max(t)"
   ]
  },
  {
   "cell_type": "code",
   "execution_count": 5,
   "id": "443955a5-0c54-4cc7-be39-cc347bee37ce",
   "metadata": {},
   "outputs": [
    {
     "data": {
      "text/plain": [
       "1"
      ]
     },
     "execution_count": 5,
     "metadata": {},
     "output_type": "execute_result"
    }
   ],
   "source": [
    "min(t)"
   ]
  },
  {
   "cell_type": "code",
   "execution_count": 6,
   "id": "8fe24d3e-36d3-49bb-9adf-ac2067770428",
   "metadata": {},
   "outputs": [
    {
     "ename": "TypeError",
     "evalue": "unsupported operand type(s) for +: 'int' and 'str'",
     "output_type": "error",
     "traceback": [
      "\u001b[1;31m---------------------------------------------------------------------------\u001b[0m",
      "\u001b[1;31mTypeError\u001b[0m                                 Traceback (most recent call last)",
      "Cell \u001b[1;32mIn[6], line 2\u001b[0m\n\u001b[0;32m      1\u001b[0m t1\u001b[38;5;241m=\u001b[39m(\u001b[38;5;124m\"\u001b[39m\u001b[38;5;124ma\u001b[39m\u001b[38;5;124m\"\u001b[39m,\u001b[38;5;241m7\u001b[39m,\u001b[38;5;241m8\u001b[39m)\n\u001b[1;32m----> 2\u001b[0m \u001b[38;5;28msum\u001b[39m(t1)\n",
      "\u001b[1;31mTypeError\u001b[0m: unsupported operand type(s) for +: 'int' and 'str'"
     ]
    }
   ],
   "source": [
    "t1=(\"a\",7,8)\n",
    "sum(t1)"
   ]
  },
  {
   "cell_type": "markdown",
   "id": "eca3888e-4ceb-4cfd-9e1e-0cb43f6e88a0",
   "metadata": {},
   "source": [
    "- count()\n",
    "- index()\n"
   ]
  },
  {
   "cell_type": "code",
   "execution_count": 1,
   "id": "d6e78566-1676-48f6-83f9-6dbdc6e6338f",
   "metadata": {},
   "outputs": [
    {
     "data": {
      "text/plain": [
       "(1, 2, 3)"
      ]
     },
     "execution_count": 1,
     "metadata": {},
     "output_type": "execute_result"
    }
   ],
   "source": [
    "l=[1,2,3]\n",
    "tuple(l)"
   ]
  },
  {
   "cell_type": "code",
   "execution_count": 4,
   "id": "e5f4adfc-3789-4008-b0eb-d83970e26509",
   "metadata": {},
   "outputs": [
    {
     "data": {
      "text/plain": [
       "3"
      ]
     },
     "execution_count": 4,
     "metadata": {},
     "output_type": "execute_result"
    }
   ],
   "source": [
    "t.count(1)"
   ]
  },
  {
   "cell_type": "code",
   "execution_count": 5,
   "id": "07567232-5b7c-46f4-b72d-0bd080c03d65",
   "metadata": {},
   "outputs": [
    {
     "data": {
      "text/plain": [
       "6"
      ]
     },
     "execution_count": 5,
     "metadata": {},
     "output_type": "execute_result"
    }
   ],
   "source": [
    "t.index(5)"
   ]
  },
  {
   "cell_type": "markdown",
   "id": "63144375-3262-4777-854c-48bba4664645",
   "metadata": {},
   "source": [
    "# Tuple slicing"
   ]
  },
  {
   "cell_type": "code",
   "execution_count": 13,
   "id": "d7fb74f4-266f-4bfd-9547-2433fc8a7400",
   "metadata": {},
   "outputs": [],
   "source": [
    "t=(1,2,3,4,[2,3,4],\"data science\")"
   ]
  },
  {
   "cell_type": "code",
   "execution_count": 14,
   "id": "0088afe0-ddcd-47f6-92bb-e9883045af3a",
   "metadata": {},
   "outputs": [],
   "source": [
    "#extract \"data science\"\n",
    "#extract and reverse \"science\"\n",
    "#extract 3,4\n",
    "#Extract and reverse 1,2,3,4"
   ]
  },
  {
   "cell_type": "code",
   "execution_count": 15,
   "id": "ee340265-49dd-4885-b38a-9345989f4abb",
   "metadata": {},
   "outputs": [
    {
     "data": {
      "text/plain": [
       "'data science'"
      ]
     },
     "execution_count": 15,
     "metadata": {},
     "output_type": "execute_result"
    }
   ],
   "source": [
    "t[5]"
   ]
  },
  {
   "cell_type": "code",
   "execution_count": 17,
   "id": "42528965-371a-4ddd-8aa3-c6920b6d0082",
   "metadata": {},
   "outputs": [
    {
     "data": {
      "text/plain": [
       "'ecneics'"
      ]
     },
     "execution_count": 17,
     "metadata": {},
     "output_type": "execute_result"
    }
   ],
   "source": [
    "t[-1][11:4:-1]"
   ]
  },
  {
   "cell_type": "code",
   "execution_count": 18,
   "id": "d1d102c5-d84a-4e70-8407-c28e521d320e",
   "metadata": {},
   "outputs": [
    {
     "data": {
      "text/plain": [
       "(3, 4)"
      ]
     },
     "execution_count": 18,
     "metadata": {},
     "output_type": "execute_result"
    }
   ],
   "source": [
    "t[2:4]"
   ]
  },
  {
   "cell_type": "code",
   "execution_count": 19,
   "id": "c25f3ff4-ad57-4c81-9c49-2173419181f8",
   "metadata": {},
   "outputs": [
    {
     "data": {
      "text/plain": [
       "(1, 2, 3, 4)"
      ]
     },
     "execution_count": 19,
     "metadata": {},
     "output_type": "execute_result"
    }
   ],
   "source": [
    "t[0:4]"
   ]
  },
  {
   "cell_type": "markdown",
   "id": "aa0d7544-6a76-4e54-93cd-6e6c4f081d34",
   "metadata": {},
   "source": [
    "# packing and unpacking of tuple"
   ]
  },
  {
   "cell_type": "code",
   "execution_count": 20,
   "id": "60eb030d-c904-4aba-89cc-dbd1322ebc15",
   "metadata": {},
   "outputs": [],
   "source": [
    "a,b,c=(1,2,3)  #pack"
   ]
  },
  {
   "cell_type": "code",
   "execution_count": 21,
   "id": "133613b0-6fbc-466a-b0be-099c0499c1ce",
   "metadata": {},
   "outputs": [
    {
     "name": "stdout",
     "output_type": "stream",
     "text": [
      "1\n"
     ]
    }
   ],
   "source": [
    "print(a) #unpack\n"
   ]
  },
  {
   "cell_type": "code",
   "execution_count": 22,
   "id": "10828df5-0d25-46ef-ab53-3a689ef2b05e",
   "metadata": {},
   "outputs": [
    {
     "name": "stdout",
     "output_type": "stream",
     "text": [
      "3\n"
     ]
    }
   ],
   "source": [
    "print(c)"
   ]
  },
  {
   "cell_type": "code",
   "execution_count": 25,
   "id": "be293d63-4c19-4479-b656-726c9344bb41",
   "metadata": {},
   "outputs": [],
   "source": [
    "a,b,c=[10,20,30]"
   ]
  },
  {
   "cell_type": "code",
   "execution_count": 26,
   "id": "30620dec-92e9-4e44-b8c5-3fdbf9d69768",
   "metadata": {},
   "outputs": [
    {
     "data": {
      "text/plain": [
       "10"
      ]
     },
     "execution_count": 26,
     "metadata": {},
     "output_type": "execute_result"
    }
   ],
   "source": [
    "a"
   ]
  },
  {
   "cell_type": "code",
   "execution_count": 27,
   "id": "c6ff4279-4836-479c-baf3-8dc5cd66b82d",
   "metadata": {},
   "outputs": [],
   "source": [
    "x,y,*z=(1,2,3,43,5,6,67,78)"
   ]
  },
  {
   "cell_type": "code",
   "execution_count": 28,
   "id": "d31f63c4-86d0-4eba-9b39-619c81830284",
   "metadata": {},
   "outputs": [
    {
     "data": {
      "text/plain": [
       "1"
      ]
     },
     "execution_count": 28,
     "metadata": {},
     "output_type": "execute_result"
    }
   ],
   "source": [
    "x"
   ]
  },
  {
   "cell_type": "code",
   "execution_count": 29,
   "id": "5d07ee3f-26c2-45af-b496-cc28ec452fbb",
   "metadata": {},
   "outputs": [
    {
     "data": {
      "text/plain": [
       "2"
      ]
     },
     "execution_count": 29,
     "metadata": {},
     "output_type": "execute_result"
    }
   ],
   "source": [
    "y"
   ]
  },
  {
   "cell_type": "code",
   "execution_count": 30,
   "id": "25434aec-c35f-4561-9ab2-c56c0ff13fd9",
   "metadata": {},
   "outputs": [
    {
     "data": {
      "text/plain": [
       "[3, 43, 5, 6, 67, 78]"
      ]
     },
     "execution_count": 30,
     "metadata": {},
     "output_type": "execute_result"
    }
   ],
   "source": [
    "z"
   ]
  },
  {
   "cell_type": "code",
   "execution_count": 32,
   "id": "ff5ce562-9ed1-457f-8786-25979aa70f81",
   "metadata": {},
   "outputs": [],
   "source": [
    "row1=(101,\"chetana\",\"Data Science\",89)"
   ]
  },
  {
   "cell_type": "code",
   "execution_count": 33,
   "id": "ecae6610-2b4b-4684-94ba-8c6c5bed8a14",
   "metadata": {},
   "outputs": [],
   "source": [
    "id,name,course,marks=row1"
   ]
  },
  {
   "cell_type": "code",
   "execution_count": 34,
   "id": "034aa594-7f12-4499-bb27-f6dda3e591ae",
   "metadata": {},
   "outputs": [
    {
     "data": {
      "text/plain": [
       "101"
      ]
     },
     "execution_count": 34,
     "metadata": {},
     "output_type": "execute_result"
    }
   ],
   "source": [
    "id"
   ]
  },
  {
   "cell_type": "code",
   "execution_count": null,
   "id": "df51a8b8-240b-4f4d-afd5-07bfad8edfb0",
   "metadata": {},
   "outputs": [],
   "source": []
  },
  {
   "cell_type": "code",
   "execution_count": 35,
   "id": "b948306c-0a6b-414e-8a80-561816b2308c",
   "metadata": {},
   "outputs": [
    {
     "data": {
      "text/plain": [
       "89"
      ]
     },
     "execution_count": 35,
     "metadata": {},
     "output_type": "execute_result"
    }
   ],
   "source": [
    "marks"
   ]
  },
  {
   "cell_type": "code",
   "execution_count": 36,
   "id": "504f6e40-dde8-436f-acbd-b71e40f5f662",
   "metadata": {},
   "outputs": [],
   "source": [
    "#swapping elements\n",
    "a,b=10,20\n",
    "a,b=b,a"
   ]
  },
  {
   "cell_type": "code",
   "execution_count": 37,
   "id": "d18abbf5-d931-4bf4-ac24-274c3aa1270e",
   "metadata": {},
   "outputs": [
    {
     "data": {
      "text/plain": [
       "20"
      ]
     },
     "execution_count": 37,
     "metadata": {},
     "output_type": "execute_result"
    }
   ],
   "source": [
    "a"
   ]
  },
  {
   "cell_type": "code",
   "execution_count": 38,
   "id": "5f32af65-3187-40f9-becd-c65b0219294d",
   "metadata": {},
   "outputs": [
    {
     "data": {
      "text/plain": [
       "10"
      ]
     },
     "execution_count": 38,
     "metadata": {},
     "output_type": "execute_result"
    }
   ],
   "source": [
    "b"
   ]
  },
  {
   "cell_type": "code",
   "execution_count": null,
   "id": "dab1c2fc-0d5e-4c3e-b411-4aa2f682be48",
   "metadata": {},
   "outputs": [],
   "source": []
  }
 ],
 "metadata": {
  "kernelspec": {
   "display_name": "Python 3 (ipykernel)",
   "language": "python",
   "name": "python3"
  },
  "language_info": {
   "codemirror_mode": {
    "name": "ipython",
    "version": 3
   },
   "file_extension": ".py",
   "mimetype": "text/x-python",
   "name": "python",
   "nbconvert_exporter": "python",
   "pygments_lexer": "ipython3",
   "version": "3.11.7"
  }
 },
 "nbformat": 4,
 "nbformat_minor": 5
}
