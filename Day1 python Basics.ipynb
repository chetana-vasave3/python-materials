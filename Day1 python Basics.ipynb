{
 "cells": [
  {
   "cell_type": "code",
   "execution_count": null,
   "id": "32d725ef-7b20-4ab5-86a2-edd4158764b8",
   "metadata": {},
   "outputs": [],
   "source": []
  },
  {
   "cell_type": "code",
   "execution_count": null,
   "id": "34da0b92-0f26-4932-b8f1-4f0268c2062d",
   "metadata": {},
   "outputs": [],
   "source": []
  },
  {
   "cell_type": "code",
   "execution_count": 14,
   "id": "3fa74336-e85e-4369-9568-5432e3cb4001",
   "metadata": {},
   "outputs": [
    {
     "name": "stdout",
     "output_type": "stream",
     "text": [
      "150\n"
     ]
    }
   ],
   "source": [
    "a=60\n",
    "b=90\n",
    "print(a+b)   #adding two numbers\n",
    "\n",
    "#shift+enter\n",
    "#to add cell below selected cell==>press b\n",
    "#to add cell above selected cell==>press a"
   ]
  },
  {
   "cell_type": "code",
   "execution_count": null,
   "id": "cd66c599-0d2b-49bc-89e2-0c2bb6d8a8dd",
   "metadata": {},
   "outputs": [],
   "source": []
  },
  {
   "cell_type": "code",
   "execution_count": null,
   "id": "fb4abd5d-e321-4419-8cf5-4278641a455c",
   "metadata": {},
   "outputs": [],
   "source": []
  },
  {
   "cell_type": "code",
   "execution_count": 6,
   "id": "76543274-b72c-402d-a1fa-b4f3e23a5983",
   "metadata": {},
   "outputs": [
    {
     "name": "stdout",
     "output_type": "stream",
     "text": [
      "chetana\n"
     ]
    }
   ],
   "source": [
    "name=\"chetana\"\n",
    "print(name)"
   ]
  },
  {
   "cell_type": "markdown",
   "id": "4974a472-403e-4867-b0a8-834193b10235",
   "metadata": {},
   "source": [
    "# Comments"
   ]
  },
  {
   "cell_type": "code",
   "execution_count": 7,
   "id": "61de7312-e5a2-468e-949e-8dd9ebb1cfad",
   "metadata": {},
   "outputs": [
    {
     "ename": "SyntaxError",
     "evalue": "unterminated string literal (detected at line 6) (3998334249.py, line 6)",
     "output_type": "error",
     "traceback": [
      "\u001b[1;36m  Cell \u001b[1;32mIn[7], line 6\u001b[1;36m\u001b[0m\n\u001b[1;33m    fhjgh\"\"\"\"\u001b[0m\n\u001b[1;37m            ^\u001b[0m\n\u001b[1;31mSyntaxError\u001b[0m\u001b[1;31m:\u001b[0m unterminated string literal (detected at line 6)\n"
     ]
    }
   ],
   "source": [
    "# single line/notes\n",
    "\"\"\" fhgfhgfhgf\n",
    "hfghfhggjh\n",
    "fbvghvgv\n",
    "hgfghf\n",
    "fhjgh\"\"\"\""
   ]
  },
  {
   "cell_type": "code",
   "execution_count": 8,
   "id": "60c45cbc-ddab-4d6e-a4d1-d9348f524cf7",
   "metadata": {},
   "outputs": [],
   "source": [
    "# fdfdgcwx\n",
    "# fghvnxvdx\n",
    "# bfgvbnxvd\n",
    "# gdxjhwjdb\n",
    "# dxhjbd\n",
    "#ctrl+/"
   ]
  },
  {
   "cell_type": "markdown",
   "id": "54af0a6d-ada5-4101-9774-bf9eb04136e6",
   "metadata": {},
   "source": [
    "# contents"
   ]
  },
  {
   "cell_type": "raw",
   "id": "a3229237-be3b-4e14-9f3d-3d90d0cd7a6a",
   "metadata": {},
   "source": [
    "learning python basics\n",
    "Raw==>code==>text"
   ]
  },
  {
   "cell_type": "markdown",
   "id": "6ab05da1-1f16-4d58-b482-c1f6ad08e1b6",
   "metadata": {},
   "source": [
    "#### Python Fandamentals"
   ]
  },
  {
   "cell_type": "markdown",
   "id": "91cffa77-bee8-4560-bece-190c32e8c895",
   "metadata": {},
   "source": [
    "- 2.1 Working with interactive mode\n",
    "- 2.2 Working with script mode\n",
    "- 2.3 Intro of IDLEs\n",
    "- 2.4 Python character set\n",
    "- 2.5 Python Token: variables/identifiers, keywords, operators,literals\n",
    "- 2.6 input and ouput\n"
   ]
  },
  {
   "cell_type": "markdown",
   "id": "676dc1f6-c8ba-4ecd-88d4-180d1c58c6e9",
   "metadata": {},
   "source": [
    "- fgfdhgfhc\n",
    "- jhgsdhc\n",
    "#shortcut key to markdown==>cell select==alt+m==>1,2,3,4,5(if uh want to give heading)==>shift+enter"
   ]
  },
  {
   "cell_type": "markdown",
   "id": "6483f469-4e4e-4a12-8876-f0b0c511fc7b",
   "metadata": {},
   "source": [
    "# contents\n",
    "- npython fundamentasl\n",
    "  - hgsdg\n",
    "  - jkhjfkh\n",
    "  - hjfhsd"
   ]
  },
  {
   "cell_type": "markdown",
   "id": "5d7433ea-5605-4750-a9bf-6f5898a71e62",
   "metadata": {},
   "source": [
    "- fdgfdgffgfghf \n",
    "     - ghjgh\n"
   ]
  },
  {
   "cell_type": "markdown",
   "id": "e8e4e2c3-f69a-4f6c-97d0-5667320b7013",
   "metadata": {},
   "source": [
    "### 2.4 Python character set"
   ]
  },
  {
   "cell_type": "code",
   "execution_count": null,
   "id": "1df7eba9-65e7-4f99-ba2c-07138d23d71e",
   "metadata": {},
   "outputs": [],
   "source": [
    "a-z,A-Z,0-9,symbols\n",
    "Ascii codes/unicode character \n"
   ]
  },
  {
   "cell_type": "markdown",
   "id": "f7c7adeb-bcdd-464c-a96a-98593fc040fd",
   "metadata": {},
   "source": [
    "#### 2.5 Python Token: variables/identifiers, keywords, operators,literals"
   ]
  },
  {
   "cell_type": "raw",
   "id": "699a7cfc-27f2-4a12-bb11-0c0a512fe3f6",
   "metadata": {},
   "source": [
    "Token: Individual unit in a program"
   ]
  },
  {
   "cell_type": "markdown",
   "id": "fc0bad06-ac0a-4e11-be8d-0b8e80f62035",
   "metadata": {},
   "source": [
    "#### Variables:\n",
    "- Name Given to a memory Location\n",
    "- To store any data\n"
   ]
  },
  {
   "cell_type": "markdown",
   "id": "48ef3208-aeca-4be5-8ef8-c39a6211667d",
   "metadata": {},
   "source": [
    "##### How to declare variable names"
   ]
  },
  {
   "cell_type": "code",
   "execution_count": null,
   "id": "76f4016b-abe1-41f4-a541-46093b44c579",
   "metadata": {},
   "outputs": [],
   "source": [
    "- 1. varibale name must start with a letter(a-z/A-Z) and underscore (_)\n",
    "   e.g. _name=\"chetana\",a12=90, A=78,A_B_C=75\n",
    "- 2. Can not start with a number\n",
    "    4name="
   ]
  }
 ],
 "metadata": {
  "kernelspec": {
   "display_name": "Python 3 (ipykernel)",
   "language": "python",
   "name": "python3"
  },
  "language_info": {
   "codemirror_mode": {
    "name": "ipython",
    "version": 3
   },
   "file_extension": ".py",
   "mimetype": "text/x-python",
   "name": "python",
   "nbconvert_exporter": "python",
   "pygments_lexer": "ipython3",
   "version": "3.11.7"
  }
 },
 "nbformat": 4,
 "nbformat_minor": 5
}
