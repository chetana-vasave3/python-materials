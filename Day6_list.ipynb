{
 "cells": [
  {
   "cell_type": "markdown",
   "id": "01857fb9-1f7b-4550-a102-271afed0ee7a",
   "metadata": {},
   "source": [
    "# List"
   ]
  },
  {
   "cell_type": "markdown",
   "id": "d6045781-452b-409c-9903-2d02dab9297f",
   "metadata": {},
   "source": [
    "- declare==[]\n",
    "- Multiple Data types element include(int,float,string,list,tuple,set,dict,boolean)\n",
    "- Ordered and we can do indexing and slicing\n",
    "- mutable: we can add ,change,remove\n",
    "- list can allow duplicate elements"
   ]
  },
  {
   "cell_type": "code",
   "execution_count": 3,
   "id": "6ecbb17b-5329-429f-8cef-7cc26225e48a",
   "metadata": {},
   "outputs": [],
   "source": [
    "l=[1,1.2,\"chetana\",[2,3,4],(2,3,4),{2,3,4},{\"name\":\"gouri\"},True]"
   ]
  },
  {
   "cell_type": "markdown",
   "id": "f379eac5-1030-4f10-beea-f138e62620a9",
   "metadata": {},
   "source": [
    "##### Adding elements in existing list"
   ]
  },
  {
   "cell_type": "code",
   "execution_count": 4,
   "id": "939061bf-8e1c-44ae-bbe5-61836a32b726",
   "metadata": {},
   "outputs": [],
   "source": [
    "#add 500 in list l\n",
    "#append: single element\n",
    "l.append(500)"
   ]
  },
  {
   "cell_type": "code",
   "execution_count": 5,
   "id": "33dabe50-0589-47ec-9180-da31fa9214e9",
   "metadata": {},
   "outputs": [
    {
     "name": "stdout",
     "output_type": "stream",
     "text": [
      "[1, 1.2, 'chetana', [2, 3, 4], (2, 3, 4), {2, 3, 4}, {'name': 'gouri'}, True, 500]\n"
     ]
    }
   ],
   "source": [
    "print(l)"
   ]
  },
  {
   "cell_type": "code",
   "execution_count": 6,
   "id": "d7e4039c-f689-4f53-afab-26bd937ade77",
   "metadata": {},
   "outputs": [],
   "source": [
    "#extend:multiple elements adding\n",
    "l.extend([1000,2000,3000,\"chetana\"])"
   ]
  },
  {
   "cell_type": "code",
   "execution_count": 7,
   "id": "991e3be4-601b-4a87-8382-6e97342d0a3b",
   "metadata": {},
   "outputs": [
    {
     "data": {
      "text/plain": [
       "[1,\n",
       " 1.2,\n",
       " 'chetana',\n",
       " [2, 3, 4],\n",
       " (2, 3, 4),\n",
       " {2, 3, 4},\n",
       " {'name': 'gouri'},\n",
       " True,\n",
       " 500,\n",
       " 1000,\n",
       " 2000,\n",
       " 3000,\n",
       " 'chetana']"
      ]
     },
     "execution_count": 7,
     "metadata": {},
     "output_type": "execute_result"
    }
   ],
   "source": [
    "l"
   ]
  },
  {
   "cell_type": "markdown",
   "id": "bf2dfcef-f486-4636-aa88-6167d8d8b6dd",
   "metadata": {},
   "source": [
    "#### Changing particular element"
   ]
  },
  {
   "cell_type": "code",
   "execution_count": 8,
   "id": "1c8e0dfd-bdb8-4181-88a1-fb6a2251a4bd",
   "metadata": {},
   "outputs": [],
   "source": [
    "#by using index\n",
    "l[11]=\"Mayuri\"   #replace"
   ]
  },
  {
   "cell_type": "code",
   "execution_count": 10,
   "id": "cf300e44-1986-43ae-bedc-fd7c8dbe731a",
   "metadata": {},
   "outputs": [
    {
     "name": "stdout",
     "output_type": "stream",
     "text": [
      "[1, 1.2, 'chetana', [2, 3, 4], (2, 3, 4), {2, 3, 4}, {'name': 'gouri'}, True, 500, 1000, 2000, 'Mayuri', 'chetana']\n"
     ]
    }
   ],
   "source": [
    "print(l)"
   ]
  },
  {
   "cell_type": "code",
   "execution_count": 11,
   "id": "539b6c2b-bd3f-4d4d-9514-9accbb0cac32",
   "metadata": {},
   "outputs": [
    {
     "name": "stdout",
     "output_type": "stream",
     "text": [
      "[100, 1.2, 'chetana', [2, 3, 4], (2, 3, 4), {2, 3, 4}, {'name': 'gouri'}, True, 500, 1000, 2000, 'Mayuri', 'chetana']\n"
     ]
    }
   ],
   "source": [
    "l[0]=100\n",
    "print(l)"
   ]
  },
  {
   "cell_type": "markdown",
   "id": "2be5ecdc-693a-4eee-b249-8531b1c5c1eb",
   "metadata": {},
   "source": [
    "#### removing elemts"
   ]
  },
  {
   "cell_type": "code",
   "execution_count": 12,
   "id": "9d95bee8-4d7d-4020-8dd4-6f99853dddf4",
   "metadata": {},
   "outputs": [],
   "source": [
    "l.remove(\"chetana\")"
   ]
  },
  {
   "cell_type": "code",
   "execution_count": 13,
   "id": "d46ecbba-b77a-4d48-a896-e36c6ae3fdb9",
   "metadata": {},
   "outputs": [
    {
     "data": {
      "text/plain": [
       "[100,\n",
       " 1.2,\n",
       " [2, 3, 4],\n",
       " (2, 3, 4),\n",
       " {2, 3, 4},\n",
       " {'name': 'gouri'},\n",
       " True,\n",
       " 500,\n",
       " 1000,\n",
       " 2000,\n",
       " 'Mayuri',\n",
       " 'chetana']"
      ]
     },
     "execution_count": 13,
     "metadata": {},
     "output_type": "execute_result"
    }
   ],
   "source": [
    "l"
   ]
  },
  {
   "cell_type": "code",
   "execution_count": null,
   "id": "2a9e6ee3-d5e7-4241-9c32-b3c6231251c1",
   "metadata": {},
   "outputs": [],
   "source": []
  },
  {
   "cell_type": "markdown",
   "id": "aa25c02f-a488-470e-a9dc-11ae16d0c173",
   "metadata": {},
   "source": [
    "### List Functions"
   ]
  },
  {
   "cell_type": "markdown",
   "id": "c510c662-5735-43e1-a23a-ba5a194683b9",
   "metadata": {},
   "source": [
    "#python fn : list\n",
    "- len()\n",
    "- max()\n",
    "- min()\n",
    "- sum()\n",
    "- sorted()\n",
    "- list(): type casting"
   ]
  },
  {
   "cell_type": "code",
   "execution_count": 17,
   "id": "ff694eef-6e8d-45c3-8333-18bd862e5102",
   "metadata": {},
   "outputs": [],
   "source": [
    "l=[2,3,1,2,10,4,5,5,0,1.2]"
   ]
  },
  {
   "cell_type": "code",
   "execution_count": 16,
   "id": "c47da8c8-747c-454b-91d3-17b7db747f3a",
   "metadata": {},
   "outputs": [
    {
     "data": {
      "text/plain": [
       "10"
      ]
     },
     "execution_count": 16,
     "metadata": {},
     "output_type": "execute_result"
    }
   ],
   "source": [
    "len(l)"
   ]
  },
  {
   "cell_type": "code",
   "execution_count": 18,
   "id": "88bcdb9d-3c4c-4d00-a29b-2f63f347b339",
   "metadata": {},
   "outputs": [
    {
     "data": {
      "text/plain": [
       "10"
      ]
     },
     "execution_count": 18,
     "metadata": {},
     "output_type": "execute_result"
    }
   ],
   "source": [
    "max(l)"
   ]
  },
  {
   "cell_type": "code",
   "execution_count": 19,
   "id": "645b7d69-3306-4f40-aa09-f7eb26545cf1",
   "metadata": {},
   "outputs": [
    {
     "data": {
      "text/plain": [
       "0"
      ]
     },
     "execution_count": 19,
     "metadata": {},
     "output_type": "execute_result"
    }
   ],
   "source": [
    "min(l)"
   ]
  },
  {
   "cell_type": "code",
   "execution_count": 20,
   "id": "f3eb350d-fd32-4559-b51e-fa0967b18c70",
   "metadata": {},
   "outputs": [
    {
     "data": {
      "text/plain": [
       "33.2"
      ]
     },
     "execution_count": 20,
     "metadata": {},
     "output_type": "execute_result"
    }
   ],
   "source": [
    "sum(l)"
   ]
  },
  {
   "cell_type": "code",
   "execution_count": 21,
   "id": "43863f39-a552-4d7f-adae-b7a156d5d267",
   "metadata": {},
   "outputs": [
    {
     "data": {
      "text/plain": [
       "[0, 1, 1.2, 2, 2, 3, 4, 5, 5, 10]"
      ]
     },
     "execution_count": 21,
     "metadata": {},
     "output_type": "execute_result"
    }
   ],
   "source": [
    "sorted(l)   #asn"
   ]
  },
  {
   "cell_type": "code",
   "execution_count": 22,
   "id": "93279c21-12d7-4bcc-b4d0-2ad4e3711da4",
   "metadata": {},
   "outputs": [
    {
     "data": {
      "text/plain": [
       "[10, 5, 5, 4, 3, 2, 2, 1.2, 1, 0]"
      ]
     },
     "execution_count": 22,
     "metadata": {},
     "output_type": "execute_result"
    }
   ],
   "source": [
    "sorted(l,reverse=True)  #desc"
   ]
  },
  {
   "cell_type": "code",
   "execution_count": null,
   "id": "e8ea5b89-752f-4abe-bd9a-260da36ae883",
   "metadata": {},
   "outputs": [],
   "source": []
  },
  {
   "cell_type": "markdown",
   "id": "374ea9e1-3f5f-4e97-a1bc-aae9e7f449be",
   "metadata": {},
   "source": [
    "#list fun\n",
    "- append()\n",
    "- extend()\n",
    "- insert()\n",
    "- count()\n",
    "- remove()\n",
    "- pop()\n",
    "- reverse()\n",
    "- index()\n",
    "- copy()\n",
    "- sort()"
   ]
  },
  {
   "cell_type": "code",
   "execution_count": 23,
   "id": "6508c6bc-6636-481e-86d4-cd96ab9a76c8",
   "metadata": {},
   "outputs": [
    {
     "data": {
      "text/plain": [
       "[2, 3, 1, 2, 10, 4, 5, 5, 0, 1.2]"
      ]
     },
     "execution_count": 23,
     "metadata": {},
     "output_type": "execute_result"
    }
   ],
   "source": [
    "l"
   ]
  },
  {
   "cell_type": "code",
   "execution_count": 24,
   "id": "532fa5cc-15ff-4980-bf64-3e97eec66e76",
   "metadata": {},
   "outputs": [
    {
     "data": {
      "text/plain": [
       "[2, 3, 1, 2, 10, 4, 5, 5, 0, 1.2, 500]"
      ]
     },
     "execution_count": 24,
     "metadata": {},
     "output_type": "execute_result"
    }
   ],
   "source": [
    "l.append(500)\n",
    "l"
   ]
  },
  {
   "cell_type": "code",
   "execution_count": 25,
   "id": "2fda36f5-946f-41af-a5e7-d85401efbf6f",
   "metadata": {},
   "outputs": [
    {
     "data": {
      "text/plain": [
       "[2, 3, 1, 2, 10, 4, 5, 5, 0, 1.2, 500, 7, 7, 8]"
      ]
     },
     "execution_count": 25,
     "metadata": {},
     "output_type": "execute_result"
    }
   ],
   "source": [
    "l.extend([7,7,8])\n",
    "l"
   ]
  },
  {
   "cell_type": "code",
   "execution_count": 26,
   "id": "42df23db-586a-4032-8b35-6f634fbf4d4b",
   "metadata": {},
   "outputs": [
    {
     "data": {
      "text/plain": [
       "['chetana', 2, 3, 1, 2, 10, 4, 5, 5, 0, 1.2, 500, 7, 7, 8]"
      ]
     },
     "execution_count": 26,
     "metadata": {},
     "output_type": "execute_result"
    }
   ],
   "source": [
    "#index \n",
    "l.insert(0,\"chetana\")\n",
    "l"
   ]
  },
  {
   "cell_type": "code",
   "execution_count": 27,
   "id": "2558a4ac-adc3-4826-8b12-517026666b43",
   "metadata": {},
   "outputs": [
    {
     "data": {
      "text/plain": [
       "['chetana', 2, 3, 1, 2, 'python', 10, 4, 5, 5, 0, 1.2, 500, 7, 7, 8]"
      ]
     },
     "execution_count": 27,
     "metadata": {},
     "output_type": "execute_result"
    }
   ],
   "source": [
    "l.insert(5,\"python\")\n",
    "l"
   ]
  },
  {
   "cell_type": "code",
   "execution_count": 29,
   "id": "d4f96ca7-4b99-44a7-acbf-d9ba0f8f7511",
   "metadata": {},
   "outputs": [
    {
     "data": {
      "text/plain": [
       "2"
      ]
     },
     "execution_count": 29,
     "metadata": {},
     "output_type": "execute_result"
    }
   ],
   "source": [
    "l.count(2)"
   ]
  },
  {
   "cell_type": "code",
   "execution_count": 30,
   "id": "6072e5d9-f1e8-42c4-b0dd-a910e532b25e",
   "metadata": {},
   "outputs": [
    {
     "data": {
      "text/plain": [
       "['chetana', 3, 1, 2, 'python', 10, 4, 5, 5, 0, 1.2, 500, 7, 7, 8]"
      ]
     },
     "execution_count": 30,
     "metadata": {},
     "output_type": "execute_result"
    }
   ],
   "source": [
    "l.remove(2)\n",
    "l"
   ]
  },
  {
   "cell_type": "code",
   "execution_count": 31,
   "id": "dde920b6-4fe6-4144-9e92-73a3d7978851",
   "metadata": {},
   "outputs": [
    {
     "ename": "ValueError",
     "evalue": "list.remove(x): x not in list",
     "output_type": "error",
     "traceback": [
      "\u001b[1;31m---------------------------------------------------------------------------\u001b[0m",
      "\u001b[1;31mValueError\u001b[0m                                Traceback (most recent call last)",
      "Cell \u001b[1;32mIn[31], line 1\u001b[0m\n\u001b[1;32m----> 1\u001b[0m l\u001b[38;5;241m.\u001b[39mremove(\u001b[38;5;241m1000\u001b[39m)\n",
      "\u001b[1;31mValueError\u001b[0m: list.remove(x): x not in list"
     ]
    }
   ],
   "source": [
    "l.remove(1000)"
   ]
  },
  {
   "cell_type": "code",
   "execution_count": 32,
   "id": "dcc82609-3b2c-488d-bd24-598c93260944",
   "metadata": {},
   "outputs": [
    {
     "data": {
      "text/plain": [
       "8"
      ]
     },
     "execution_count": 32,
     "metadata": {},
     "output_type": "execute_result"
    }
   ],
   "source": [
    "#pop: last element remove\n",
    "l.pop()\n"
   ]
  },
  {
   "cell_type": "code",
   "execution_count": 33,
   "id": "ba1a8439-c8e2-48bf-a07a-519a89a0696c",
   "metadata": {},
   "outputs": [
    {
     "data": {
      "text/plain": [
       "['chetana', 3, 1, 2, 'python', 10, 4, 5, 5, 0, 1.2, 500, 7, 7]"
      ]
     },
     "execution_count": 33,
     "metadata": {},
     "output_type": "execute_result"
    }
   ],
   "source": [
    "l"
   ]
  },
  {
   "cell_type": "code",
   "execution_count": 34,
   "id": "03e7cfba-57e3-467e-9182-eb1192afc7cf",
   "metadata": {},
   "outputs": [
    {
     "data": {
      "text/plain": [
       "'chetana'"
      ]
     },
     "execution_count": 34,
     "metadata": {},
     "output_type": "execute_result"
    }
   ],
   "source": [
    "l.pop(0)"
   ]
  },
  {
   "cell_type": "code",
   "execution_count": 35,
   "id": "bfd3d0ce-6d7f-4843-8afd-027f5ad11448",
   "metadata": {},
   "outputs": [
    {
     "data": {
      "text/plain": [
       "[3, 1, 2, 'python', 10, 4, 5, 5, 0, 1.2, 500, 7, 7]"
      ]
     },
     "execution_count": 35,
     "metadata": {},
     "output_type": "execute_result"
    }
   ],
   "source": [
    "l"
   ]
  },
  {
   "cell_type": "code",
   "execution_count": 36,
   "id": "982040b7-aea4-4561-9ec6-1661cc5ad864",
   "metadata": {},
   "outputs": [],
   "source": [
    "l.reverse()"
   ]
  },
  {
   "cell_type": "code",
   "execution_count": 37,
   "id": "1d306fde-c8a0-4742-aaa7-a893e2de8f32",
   "metadata": {},
   "outputs": [
    {
     "data": {
      "text/plain": [
       "[7, 7, 500, 1.2, 0, 5, 5, 4, 10, 'python', 2, 1, 3]"
      ]
     },
     "execution_count": 37,
     "metadata": {},
     "output_type": "execute_result"
    }
   ],
   "source": [
    "l"
   ]
  },
  {
   "cell_type": "code",
   "execution_count": 38,
   "id": "58062a24-8741-43e9-9f69-a94cb4a6b96d",
   "metadata": {},
   "outputs": [
    {
     "data": {
      "text/plain": [
       "2"
      ]
     },
     "execution_count": 38,
     "metadata": {},
     "output_type": "execute_result"
    }
   ],
   "source": [
    "l.index(500)"
   ]
  },
  {
   "cell_type": "code",
   "execution_count": 39,
   "id": "f8ef8afd-0485-4b24-b04f-b8be9aea8ddb",
   "metadata": {},
   "outputs": [
    {
     "ename": "AttributeError",
     "evalue": "'list' object has no attribute 'find'",
     "output_type": "error",
     "traceback": [
      "\u001b[1;31m---------------------------------------------------------------------------\u001b[0m",
      "\u001b[1;31mAttributeError\u001b[0m                            Traceback (most recent call last)",
      "Cell \u001b[1;32mIn[39], line 1\u001b[0m\n\u001b[1;32m----> 1\u001b[0m l\u001b[38;5;241m.\u001b[39mfind(\u001b[38;5;241m500\u001b[39m)\n",
      "\u001b[1;31mAttributeError\u001b[0m: 'list' object has no attribute 'find'"
     ]
    }
   ],
   "source": [
    "l.find(500)"
   ]
  },
  {
   "cell_type": "code",
   "execution_count": 40,
   "id": "08dd2779-75c9-43b7-848f-ac874d2f6c3f",
   "metadata": {},
   "outputs": [
    {
     "ename": "TypeError",
     "evalue": "'<' not supported between instances of 'str' and 'int'",
     "output_type": "error",
     "traceback": [
      "\u001b[1;31m---------------------------------------------------------------------------\u001b[0m",
      "\u001b[1;31mTypeError\u001b[0m                                 Traceback (most recent call last)",
      "Cell \u001b[1;32mIn[40], line 1\u001b[0m\n\u001b[1;32m----> 1\u001b[0m l\u001b[38;5;241m.\u001b[39msort()\n",
      "\u001b[1;31mTypeError\u001b[0m: '<' not supported between instances of 'str' and 'int'"
     ]
    }
   ],
   "source": [
    "l.sort()"
   ]
  },
  {
   "cell_type": "code",
   "execution_count": 41,
   "id": "1e389fa3-6623-4b3d-a3e4-afcbba05ba01",
   "metadata": {},
   "outputs": [
    {
     "data": {
      "text/plain": [
       "[0, 1.2, 4, 5, 5, 7, 7, 10, 500, 2, 1, 3]"
      ]
     },
     "execution_count": 41,
     "metadata": {},
     "output_type": "execute_result"
    }
   ],
   "source": [
    "l.remove(\"python\")\n",
    "l"
   ]
  },
  {
   "cell_type": "code",
   "execution_count": 42,
   "id": "ebc130c4-fd82-46b8-a9a2-c2c46e4d5dda",
   "metadata": {},
   "outputs": [],
   "source": [
    "l.sort()"
   ]
  },
  {
   "cell_type": "code",
   "execution_count": 43,
   "id": "31f3b650-bcb9-4363-af83-49aaecd3715d",
   "metadata": {},
   "outputs": [
    {
     "data": {
      "text/plain": [
       "[0, 1, 1.2, 2, 3, 4, 5, 5, 7, 7, 10, 500]"
      ]
     },
     "execution_count": 43,
     "metadata": {},
     "output_type": "execute_result"
    }
   ],
   "source": [
    "l"
   ]
  },
  {
   "cell_type": "code",
   "execution_count": 45,
   "id": "7f80e7ec-3b35-4d33-999d-95b8784efe01",
   "metadata": {},
   "outputs": [],
   "source": [
    "l_copy=l.copy()"
   ]
  },
  {
   "cell_type": "code",
   "execution_count": 47,
   "id": "905f6820-7e42-492a-ab1b-a2203c5dfa67",
   "metadata": {},
   "outputs": [
    {
     "data": {
      "text/plain": [
       "[0, 1, 1.2, 2, 3, 4, 5, 5, 7, 7, 10, 500]"
      ]
     },
     "execution_count": 47,
     "metadata": {},
     "output_type": "execute_result"
    }
   ],
   "source": [
    "l_copy"
   ]
  },
  {
   "cell_type": "markdown",
   "id": "f08460aa-ebac-4dcd-937c-04a66bbd77a8",
   "metadata": {},
   "source": [
    "# List Slicing"
   ]
  },
  {
   "cell_type": "code",
   "execution_count": 51,
   "id": "c5d3cf75-9525-4c03-9a69-617546f8da27",
   "metadata": {},
   "outputs": [],
   "source": [
    "l1=[1,2,3.4,\"python\",[30,40,50],(7,8,9)]"
   ]
  },
  {
   "cell_type": "code",
   "execution_count": 52,
   "id": "44f0e94a-bcf7-453c-9a56-afbe9a9893f9",
   "metadata": {},
   "outputs": [
    {
     "data": {
      "text/plain": [
       "1"
      ]
     },
     "execution_count": 52,
     "metadata": {},
     "output_type": "execute_result"
    }
   ],
   "source": [
    "#listname[start: stop: step]\n",
    "l1[0]"
   ]
  },
  {
   "cell_type": "code",
   "execution_count": 53,
   "id": "4c0c4ab9-d78f-4032-87c8-97800d3450fa",
   "metadata": {},
   "outputs": [
    {
     "data": {
      "text/plain": [
       "(7, 8, 9)"
      ]
     },
     "execution_count": 53,
     "metadata": {},
     "output_type": "execute_result"
    }
   ],
   "source": [
    "l1[-1]"
   ]
  },
  {
   "cell_type": "code",
   "execution_count": 54,
   "id": "32ddb3a2-1041-4cc8-9a7a-752fdfd4ce74",
   "metadata": {},
   "outputs": [
    {
     "data": {
      "text/plain": [
       "[2, 3.4]"
      ]
     },
     "execution_count": 54,
     "metadata": {},
     "output_type": "execute_result"
    }
   ],
   "source": [
    "#slicing\n",
    "l1[1:3]\n",
    "#2,3.4"
   ]
  },
  {
   "cell_type": "code",
   "execution_count": 55,
   "id": "8ccb3e78-8f2d-463b-ba26-7df965129103",
   "metadata": {},
   "outputs": [
    {
     "data": {
      "text/plain": [
       "'python'"
      ]
     },
     "execution_count": 55,
     "metadata": {},
     "output_type": "execute_result"
    }
   ],
   "source": [
    "l1[3]"
   ]
  },
  {
   "cell_type": "code",
   "execution_count": 57,
   "id": "3247e658-2913-4d9e-ae4f-fc12a4f4a2e9",
   "metadata": {},
   "outputs": [
    {
     "data": {
      "text/plain": [
       "['python']"
      ]
     },
     "execution_count": 57,
     "metadata": {},
     "output_type": "execute_result"
    }
   ],
   "source": [
    "l1[3:4]\n",
    "#4 position: stop: extra: exclude"
   ]
  },
  {
   "cell_type": "code",
   "execution_count": 58,
   "id": "89542e54-d87a-4f25-bbdd-a0159be00a3f",
   "metadata": {},
   "outputs": [
    {
     "data": {
      "text/plain": [
       "['python', [30, 40, 50]]"
      ]
     },
     "execution_count": 58,
     "metadata": {},
     "output_type": "execute_result"
    }
   ],
   "source": [
    "l1[3:5]"
   ]
  },
  {
   "cell_type": "code",
   "execution_count": 59,
   "id": "4f66ab66-5c78-450f-afe0-e4a18c1dffd6",
   "metadata": {},
   "outputs": [
    {
     "data": {
      "text/plain": [
       "[1, 2, 3.4, 'python', [30, 40, 50], (7, 8, 9)]"
      ]
     },
     "execution_count": 59,
     "metadata": {},
     "output_type": "execute_result"
    }
   ],
   "source": [
    "l1"
   ]
  },
  {
   "cell_type": "code",
   "execution_count": 60,
   "id": "a2540e36-57a3-4655-b4a6-30d349936c52",
   "metadata": {},
   "outputs": [
    {
     "data": {
      "text/plain": [
       "[(7, 8, 9), [30, 40, 50], 'python', 3.4, 2, 1]"
      ]
     },
     "execution_count": 60,
     "metadata": {},
     "output_type": "execute_result"
    }
   ],
   "source": [
    "l1[::-1]  #reverse"
   ]
  },
  {
   "cell_type": "code",
   "execution_count": 61,
   "id": "3f31834f-29c7-440d-bea3-46ebe26eaae9",
   "metadata": {},
   "outputs": [
    {
     "data": {
      "text/plain": [
       "[1, 2, 3.4, 'python', [30, 40, 50], (7, 8, 9)]"
      ]
     },
     "execution_count": 61,
     "metadata": {},
     "output_type": "execute_result"
    }
   ],
   "source": [
    "l1"
   ]
  },
  {
   "cell_type": "code",
   "execution_count": 62,
   "id": "c4ab350a-ad87-41d5-83b8-2b08a94dbeb3",
   "metadata": {},
   "outputs": [
    {
     "data": {
      "text/plain": [
       "'hon'"
      ]
     },
     "execution_count": 62,
     "metadata": {},
     "output_type": "execute_result"
    }
   ],
   "source": [
    "l1[3][3:]"
   ]
  },
  {
   "cell_type": "code",
   "execution_count": 63,
   "id": "4b389ca5-651b-4e48-a395-c54b42a77114",
   "metadata": {},
   "outputs": [
    {
     "data": {
      "text/plain": [
       "[30, 40]"
      ]
     },
     "execution_count": 63,
     "metadata": {},
     "output_type": "execute_result"
    }
   ],
   "source": [
    "l1[4][0:2]"
   ]
  },
  {
   "cell_type": "code",
   "execution_count": 64,
   "id": "ad98dc94-1749-4ed2-af66-339a6a93cb77",
   "metadata": {},
   "outputs": [
    {
     "data": {
      "text/plain": [
       "'nohtyp'"
      ]
     },
     "execution_count": 64,
     "metadata": {},
     "output_type": "execute_result"
    }
   ],
   "source": [
    "l1[3][::-1]"
   ]
  },
  {
   "cell_type": "code",
   "execution_count": 71,
   "id": "f8192698-d05c-4a22-845d-d7754be5f088",
   "metadata": {},
   "outputs": [
    {
     "data": {
      "text/plain": [
       "[40, 30]"
      ]
     },
     "execution_count": 71,
     "metadata": {},
     "output_type": "execute_result"
    }
   ],
   "source": [
    "#extraxt and reverse 30,40\n",
    "l1[4][1::-1]"
   ]
  },
  {
   "cell_type": "code",
   "execution_count": 72,
   "id": "e30e7252-1f87-40b5-941d-56cf0ff34f31",
   "metadata": {},
   "outputs": [
    {
     "data": {
      "text/plain": [
       "[40, 30]"
      ]
     },
     "execution_count": 72,
     "metadata": {},
     "output_type": "execute_result"
    }
   ],
   "source": [
    "l1[-2][-2:-4:-1]"
   ]
  },
  {
   "cell_type": "code",
   "execution_count": 73,
   "id": "2b53878c-254d-4810-a36a-3b26dd76213a",
   "metadata": {},
   "outputs": [],
   "source": [
    "l2=[1,2,[10,20,[5,6]]]"
   ]
  },
  {
   "cell_type": "code",
   "execution_count": 74,
   "id": "c2495780-3274-4e0d-84b9-7300ed1a8f2c",
   "metadata": {},
   "outputs": [
    {
     "data": {
      "text/plain": [
       "[1, 2]"
      ]
     },
     "execution_count": 74,
     "metadata": {},
     "output_type": "execute_result"
    }
   ],
   "source": [
    "l2[0:2]"
   ]
  },
  {
   "cell_type": "code",
   "execution_count": 75,
   "id": "13be752e-9912-4fa8-bc7b-14b6dc23d5a3",
   "metadata": {},
   "outputs": [
    {
     "data": {
      "text/plain": [
       "3"
      ]
     },
     "execution_count": 75,
     "metadata": {},
     "output_type": "execute_result"
    }
   ],
   "source": [
    "len(l2)"
   ]
  },
  {
   "cell_type": "code",
   "execution_count": 77,
   "id": "121660c9-2c22-4c89-ab64-ee62fec5d9f4",
   "metadata": {},
   "outputs": [
    {
     "data": {
      "text/plain": [
       "[10, 20]"
      ]
     },
     "execution_count": 77,
     "metadata": {},
     "output_type": "execute_result"
    }
   ],
   "source": [
    "l2[2][0:2]"
   ]
  },
  {
   "cell_type": "code",
   "execution_count": 81,
   "id": "9528c26d-2cd5-44bd-ad42-a0bcbd9ec5f2",
   "metadata": {},
   "outputs": [
    {
     "data": {
      "text/plain": [
       "[5, 6]"
      ]
     },
     "execution_count": 81,
     "metadata": {},
     "output_type": "execute_result"
    }
   ],
   "source": [
    "l2[2][-1]"
   ]
  },
  {
   "cell_type": "code",
   "execution_count": 83,
   "id": "7e7daae1-d995-4c32-99f1-146ac2514d6a",
   "metadata": {},
   "outputs": [
    {
     "data": {
      "text/plain": [
       "[20, [5, 6]]"
      ]
     },
     "execution_count": 83,
     "metadata": {},
     "output_type": "execute_result"
    }
   ],
   "source": [
    "l2[2][1:]"
   ]
  },
  {
   "cell_type": "code",
   "execution_count": 86,
   "id": "0bd91ee9-b2e1-4fd7-bf55-cb200e9fc031",
   "metadata": {},
   "outputs": [
    {
     "data": {
      "text/plain": [
       "6"
      ]
     },
     "execution_count": 86,
     "metadata": {},
     "output_type": "execute_result"
    }
   ],
   "source": [
    "#extract 6\n",
    "l2[2][2][-1]"
   ]
  },
  {
   "cell_type": "code",
   "execution_count": 89,
   "id": "1b68af11-bfc3-4beb-8c28-0f4a473a2867",
   "metadata": {},
   "outputs": [],
   "source": [
    "#exercise\n",
    "list1=[10,20,[20,78,90,[3.5,4.5]],\"Data\",\"Science\"]"
   ]
  },
  {
   "cell_type": "code",
   "execution_count": 90,
   "id": "fc0d4717-3007-4677-9e9e-99441b9ba1e0",
   "metadata": {},
   "outputs": [],
   "source": [
    "#Q1. Extract and reverse \"Data\"\n",
    "#Q2. concat \"Data\" and \"science\"\n",
    "#Q3. extract [3.5,4.5]\n",
    "#Q4. Extract and reverse 20,78,90\n",
    "#Q5. Extract and reverse \"Science\""
   ]
  },
  {
   "cell_type": "code",
   "execution_count": 91,
   "id": "aa47f89a-aa11-43f9-a679-c2e2c8bc4b94",
   "metadata": {},
   "outputs": [
    {
     "data": {
      "text/plain": [
       "'ataD'"
      ]
     },
     "execution_count": 91,
     "metadata": {},
     "output_type": "execute_result"
    }
   ],
   "source": [
    "#Q1.\n",
    "list1[-2][3::-1]"
   ]
  },
  {
   "cell_type": "code",
   "execution_count": 92,
   "id": "2840cef1-a75e-46a8-b8a3-0de5b746285b",
   "metadata": {},
   "outputs": [
    {
     "data": {
      "text/plain": [
       "'DataScience'"
      ]
     },
     "execution_count": 92,
     "metadata": {},
     "output_type": "execute_result"
    }
   ],
   "source": [
    "#Q2.\n",
    "list1[3]+list1[4]"
   ]
  },
  {
   "cell_type": "code",
   "execution_count": 94,
   "id": "060c138f-5755-44e1-b234-8e804272dfdd",
   "metadata": {},
   "outputs": [
    {
     "data": {
      "text/plain": [
       "[3.5, 4.5]"
      ]
     },
     "execution_count": 94,
     "metadata": {},
     "output_type": "execute_result"
    }
   ],
   "source": [
    "#Q3.\n",
    "list1[2][-1]"
   ]
  },
  {
   "cell_type": "code",
   "execution_count": 95,
   "id": "b99424d9-5065-4142-aa8e-66a06fd7d637",
   "metadata": {},
   "outputs": [
    {
     "data": {
      "text/plain": [
       "[10, 20, [20, 78, 90, [3.5, 4.5]], 'Data', 'Science']"
      ]
     },
     "execution_count": 95,
     "metadata": {},
     "output_type": "execute_result"
    }
   ],
   "source": [
    "#Q4.\n",
    "list1"
   ]
  },
  {
   "cell_type": "code",
   "execution_count": 96,
   "id": "ce0aff93-79ab-475e-a364-1ad189c93af8",
   "metadata": {},
   "outputs": [
    {
     "data": {
      "text/plain": [
       "[90, 78, 20]"
      ]
     },
     "execution_count": 96,
     "metadata": {},
     "output_type": "execute_result"
    }
   ],
   "source": [
    "list1[2][2::-1]"
   ]
  },
  {
   "cell_type": "code",
   "execution_count": 97,
   "id": "610ef39b-1161-48a7-9f77-45f319de6688",
   "metadata": {},
   "outputs": [
    {
     "data": {
      "text/plain": [
       "'ecneicS'"
      ]
     },
     "execution_count": 97,
     "metadata": {},
     "output_type": "execute_result"
    }
   ],
   "source": [
    "#Q5.\n",
    "list1[4][::-1]"
   ]
  },
  {
   "cell_type": "code",
   "execution_count": null,
   "id": "e8fb2a9c-f7bc-41f5-b33e-b3359fb86e34",
   "metadata": {},
   "outputs": [],
   "source": []
  }
 ],
 "metadata": {
  "kernelspec": {
   "display_name": "Python 3 (ipykernel)",
   "language": "python",
   "name": "python3"
  },
  "language_info": {
   "codemirror_mode": {
    "name": "ipython",
    "version": 3
   },
   "file_extension": ".py",
   "mimetype": "text/x-python",
   "name": "python",
   "nbconvert_exporter": "python",
   "pygments_lexer": "ipython3",
   "version": "3.11.7"
  }
 },
 "nbformat": 4,
 "nbformat_minor": 5
}
