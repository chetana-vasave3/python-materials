{
 "cells": [
  {
   "cell_type": "code",
   "execution_count": 1,
   "id": "bf835cf3-e97b-4016-9dff-73b699cc0033",
   "metadata": {},
   "outputs": [
    {
     "name": "stdout",
     "output_type": "stream",
     "text": [
      "\n",
      "Welcome to Secure Password Vault!\n",
      "1. Add New Credential\n",
      "2. View All Credentials\n",
      "3. Search by Website\n",
      "4. Exit\n"
     ]
    },
    {
     "name": "stdin",
     "output_type": "stream",
     "text": [
      "Enter your choice:  1\n",
      "Enter website name:  speedup.com\n",
      "Enter username:  chetana\n",
      "Enter password:  chetana123@\n"
     ]
    },
    {
     "name": "stdout",
     "output_type": "stream",
     "text": [
      "Password must include uppercase, lowercase, digit, and special character.\n",
      "Credential NOT saved. Try again with a stronger password.\n",
      "\n",
      "Welcome to Secure Password Vault!\n",
      "1. Add New Credential\n",
      "2. View All Credentials\n",
      "3. Search by Website\n",
      "4. Exit\n"
     ]
    },
    {
     "name": "stdin",
     "output_type": "stream",
     "text": [
      "Enter your choice:  1\n",
      "Enter website name:  bxb\n",
      "Enter username:  chetana\n",
      "Enter password:  Chetana123@\n"
     ]
    },
    {
     "name": "stdout",
     "output_type": "stream",
     "text": [
      "Password Strength: Strong\n",
      "Credential Saved Successfully!\n",
      "\n",
      "Welcome to Secure Password Vault!\n",
      "1. Add New Credential\n",
      "2. View All Credentials\n",
      "3. Search by Website\n",
      "4. Exit\n"
     ]
    },
    {
     "name": "stdin",
     "output_type": "stream",
     "text": [
      "Enter your choice:  4\n"
     ]
    },
    {
     "name": "stdout",
     "output_type": "stream",
     "text": [
      "Exiting Password Vault. Goodbye!\n"
     ]
    }
   ],
   "source": [
    "credentials = [\n",
    "    {\"website\": \"gmail\", \"username\": \"abc@gmail.com\", \"password\": \"Strong@123\"}\n",
    "]\n",
    "\n",
    "def validate_password(password):\n",
    "    if len(password) < 8:\n",
    "        return False, \"Password must be at least 8 characters long.\"\n",
    "\n",
    "    has_upper = has_lower = has_digit = has_special = False\n",
    "    for char in password:\n",
    "        if char.isupper():\n",
    "            has_upper = True\n",
    "        elif char.islower():\n",
    "            has_lower = True\n",
    "        elif char.isdigit():\n",
    "            has_digit = True\n",
    "        elif not char.isalnum():\n",
    "            has_special = True\n",
    "\n",
    "    if all([has_upper, has_lower, has_digit, has_special]):\n",
    "        return True, \"Password Strength: Strong\"\n",
    "    else:\n",
    "        return False, \"Password must include uppercase, lowercase, digit, and special character.\"\n",
    "\n",
    "def add_credential():\n",
    "    website = input(\"Enter website name: \")\n",
    "    username = input(\"Enter username: \")\n",
    "    password = input(\"Enter password: \")\n",
    "\n",
    "    valid, message = validate_password(password)\n",
    "    print(message)\n",
    "    if valid:\n",
    "        credentials.append({\n",
    "            \"website\": website,\n",
    "            \"username\": username,\n",
    "            \"password\": password\n",
    "        })\n",
    "        print(\"Credential Saved Successfully!\")\n",
    "    else:\n",
    "        print(\"Credential NOT saved. Try again with a stronger password.\")\n",
    "\n",
    "def view_credentials():\n",
    "    if credentials:\n",
    "        print(\"\\nStored Credentials:\")\n",
    "        for c in credentials:\n",
    "            print(f\"Website: {c['website']}, Username: {c['username']}, Password: {c['password']}\")\n",
    "    else:\n",
    "        print(\"No credentials stored yet.\")\n",
    "\n",
    "def search_credential():\n",
    "    site = input(\"Enter website to search: \")\n",
    "    found = False\n",
    "    for c in credentials:\n",
    "        if c['website'].lower() == site.lower():\n",
    "            print(f\"Found - Website: {c['website']}, Username: {c['username']}, Password: {c['password']}\")\n",
    "            found = True\n",
    "    if not found:\n",
    "        print(\"No credentials found for that website.\")\n",
    "\n",
    "# Main Menu\n",
    "while True:\n",
    "    print(\"\\nWelcome to Secure Password Vault!\")\n",
    "    print(\"1. Add New Credential\")\n",
    "    print(\"2. View All Credentials\")\n",
    "    print(\"3. Search by Website\")\n",
    "    print(\"4. Exit\")\n",
    "\n",
    "    choice = input(\"Enter your choice: \")\n",
    "\n",
    "    if choice == '1':\n",
    "        add_credential()\n",
    "    elif choice == '2':\n",
    "        view_credentials()\n",
    "    elif choice == '3':\n",
    "        search_credential()\n",
    "    elif choice == '4':\n",
    "        print(\"Exiting Password Vault. Goodbye!\")\n",
    "        break\n",
    "    else:\n",
    "        print(\"Invalid choice. Please try again.\")\n"
   ]
  },
  {
   "cell_type": "code",
   "execution_count": null,
   "id": "aa2d6c1a-6ac5-4400-861c-3777c651964e",
   "metadata": {},
   "outputs": [],
   "source": []
  }
 ],
 "metadata": {
  "kernelspec": {
   "display_name": "Python 3 (ipykernel)",
   "language": "python",
   "name": "python3"
  },
  "language_info": {
   "codemirror_mode": {
    "name": "ipython",
    "version": 3
   },
   "file_extension": ".py",
   "mimetype": "text/x-python",
   "name": "python",
   "nbconvert_exporter": "python",
   "pygments_lexer": "ipython3",
   "version": "3.11.7"
  }
 },
 "nbformat": 4,
 "nbformat_minor": 5
}
