{
 "cells": [
  {
   "cell_type": "markdown",
   "id": "896e5676-f8c2-4b8f-a32c-8b98e171c019",
   "metadata": {},
   "source": [
    "- To do specific job\n",
    "- 2 types of functions\n",
    "  - Built-in fn\n",
    "  - User defined fn\n",
    "e.g. factorial"
   ]
  },
  {
   "cell_type": "markdown",
   "id": "d5a7677d-72fb-4412-9a33-829ccbc78f58",
   "metadata": {},
   "source": [
    "Built in functions list in python"
   ]
  },
  {
   "cell_type": "markdown",
   "id": "3a544804-d551-40fc-91aa-01634c271f44",
   "metadata": {},
   "source": [
    "- print()\n",
    "- type()\n",
    "- int()\n",
    "- str()\n",
    "- float()\n",
    "- len()\n",
    "- min()\n",
    "- max()\n",
    "- sum()\n",
    "- sort()\n",
    "- round()\n",
    "- abs()\n",
    "- dir()\n",
    "- help()\n",
    "- id()"
   ]
  },
  {
   "cell_type": "code",
   "execution_count": 85,
   "id": "6aadfbb0-ab5c-4457-857e-2dd403ac9a94",
   "metadata": {},
   "outputs": [
    {
     "data": {
      "text/plain": [
       "8.0"
      ]
     },
     "execution_count": 85,
     "metadata": {},
     "output_type": "execute_result"
    }
   ],
   "source": [
    "#syntax of function\n",
    "#def function_name(parameters):\n",
    "      #statements,logics\n",
    "#sqrt===>math==>readymade\n",
    "import math\n",
    "math.sqrt(64)"
   ]
  },
  {
   "cell_type": "code",
   "execution_count": 3,
   "id": "4681d7a4-eb15-445a-9f2d-4eee288e4fb5",
   "metadata": {},
   "outputs": [
    {
     "name": "stdout",
     "output_type": "stream",
     "text": [
      "8.0\n"
     ]
    }
   ],
   "source": [
    "def squareroot(num):\n",
    "    print(num**0.5)\n",
    "#calling function===>name\n",
    "squareroot(64)\n",
    "    \n",
    "    "
   ]
  },
  {
   "cell_type": "markdown",
   "id": "927c9403-7dda-436f-a56f-525186328335",
   "metadata": {},
   "source": [
    "### sum()"
   ]
  },
  {
   "cell_type": "code",
   "execution_count": 8,
   "id": "3870fcdd-b7f7-412d-afa0-920a97f54473",
   "metadata": {},
   "outputs": [
    {
     "data": {
      "text/plain": [
       "101"
      ]
     },
     "execution_count": 8,
     "metadata": {},
     "output_type": "execute_result"
    }
   ],
   "source": [
    "sum({45,56})  #built-in fn"
   ]
  },
  {
   "cell_type": "code",
   "execution_count": 10,
   "id": "35ad2ffe-2c4f-4eef-81f1-1741ff766d83",
   "metadata": {},
   "outputs": [
    {
     "data": {
      "text/plain": [
       "24"
      ]
     },
     "execution_count": 10,
     "metadata": {},
     "output_type": "execute_result"
    }
   ],
   "source": [
    "l=[1,2,3,5,1,3,4,5]\n",
    "total=0\n",
    "for num in l:\n",
    "    total=total+num\n",
    "total"
   ]
  },
  {
   "cell_type": "code",
   "execution_count": 16,
   "id": "e500bca8-6749-40c7-919d-5eb6ec2b5f17",
   "metadata": {},
   "outputs": [
    {
     "name": "stdout",
     "output_type": "stream",
     "text": [
      "179\n"
     ]
    }
   ],
   "source": [
    "def addition(l):  #sum==>sequence data type==>list,tuple,set\n",
    "    total=0  #45\n",
    "    for num in l:\n",
    "        total=total+num\n",
    "    print(total)\n",
    "    \n",
    "addition({45,78,56})  \n",
    "    "
   ]
  },
  {
   "cell_type": "code",
   "execution_count": 14,
   "id": "626c3d2d-a4b5-4092-b3f1-bef6971ae6ee",
   "metadata": {},
   "outputs": [
    {
     "name": "stdout",
     "output_type": "stream",
     "text": [
      "58\n"
     ]
    }
   ],
   "source": [
    "addition((8,9,0,5,36))"
   ]
  },
  {
   "cell_type": "code",
   "execution_count": 15,
   "id": "bde39808-f708-4cd7-98c2-72c9a42128fa",
   "metadata": {},
   "outputs": [
    {
     "data": {
      "text/plain": [
       "58"
      ]
     },
     "execution_count": 15,
     "metadata": {},
     "output_type": "execute_result"
    }
   ],
   "source": [
    "sum((8,9,0,5,36))"
   ]
  },
  {
   "cell_type": "code",
   "execution_count": 17,
   "id": "0eaa31b8-ff00-4e7f-b7b4-68f183579547",
   "metadata": {},
   "outputs": [],
   "source": [
    "#data cleaning: missing values/duplicates/extra spaces\n",
    "#def data_cleaning(data):\n"
   ]
  },
  {
   "cell_type": "markdown",
   "id": "4b049728-86f8-46eb-9774-0c9a337b6bff",
   "metadata": {},
   "source": [
    "# Arithmetic operations"
   ]
  },
  {
   "cell_type": "code",
   "execution_count": 18,
   "id": "5deaee44-5c61-4b2d-a0b1-5f5357b50d20",
   "metadata": {},
   "outputs": [
    {
     "name": "stdout",
     "output_type": "stream",
     "text": [
      "136\n",
      "20\n",
      "4524\n",
      "1.3448275862068966\n",
      "136 20 4524 1.3448275862068966\n"
     ]
    }
   ],
   "source": [
    "def arithmetic_operation(num1,num2):\n",
    "    addition=num1+num2\n",
    "    sub=num1-num2\n",
    "    mult=num1*num2\n",
    "    div=num1/num2\n",
    "    print(addition)\n",
    "    print(sub)\n",
    "    print(mult)\n",
    "    print(div)\n",
    "    print(addition,sub,mult,div)\n",
    "arithmetic_operation(78,58)"
   ]
  },
  {
   "cell_type": "code",
   "execution_count": 19,
   "id": "df2059aa-dfa2-496e-a077-a791af574602",
   "metadata": {},
   "outputs": [
    {
     "name": "stdout",
     "output_type": "stream",
     "text": [
      "9\n",
      "5\n",
      "14\n",
      "3.5\n",
      "9 5 14 3.5\n"
     ]
    }
   ],
   "source": [
    "arithmetic_operation(7,2)"
   ]
  },
  {
   "cell_type": "code",
   "execution_count": 20,
   "id": "0d9d772b-3a9c-40b1-a320-97ab4334dfbd",
   "metadata": {},
   "outputs": [
    {
     "data": {
      "text/plain": [
       "4"
      ]
     },
     "execution_count": 20,
     "metadata": {},
     "output_type": "execute_result"
    }
   ],
   "source": [
    "min((4,5,8,9))"
   ]
  },
  {
   "cell_type": "code",
   "execution_count": 24,
   "id": "83136a5b-fe97-4b8c-834b-013dfebb3011",
   "metadata": {},
   "outputs": [
    {
     "data": {
      "text/plain": [
       "9"
      ]
     },
     "execution_count": 24,
     "metadata": {},
     "output_type": "execute_result"
    }
   ],
   "source": [
    "max({4,5,8,9})  #list,set,tuple"
   ]
  },
  {
   "cell_type": "code",
   "execution_count": 4,
   "id": "4d6fc612-6ec1-4379-b51e-4edfd210905c",
   "metadata": {},
   "outputs": [
    {
     "name": "stdout",
     "output_type": "stream",
     "text": [
      "800\n"
     ]
    }
   ],
   "source": [
    "#without using fn\n",
    "sequence=[1,5,700,800,6,81]\n",
    "maximum=sequence[-1]\n",
    "#inintialziation\n",
    "for i in sequence:  #700\n",
    "    #logic\n",
    "\n",
    "      #81\n",
    "    if i>maximum:   #700>81\n",
    "        maximum=i\n",
    "print(maximum)   \n",
    "   \n",
    "    \n"
   ]
  },
  {
   "cell_type": "code",
   "execution_count": 19,
   "id": "e9009d34-c525-4962-b890-35f533ff9e29",
   "metadata": {},
   "outputs": [
    {
     "name": "stdout",
     "output_type": "stream",
     "text": [
      "78\n"
     ]
    }
   ],
   "source": [
    "#max\n",
    "def maximum(sequence):\n",
    "    sequence2=list(sequence)\n",
    "    max1=sequence2[-1]   #78\n",
    "    for num in sequence2:  #3rd num=9\n",
    "        if num>max1:  #9>78\n",
    "            max1=num\n",
    "    print(max1)\n",
    "maximum({4,78,9,56})   "
   ]
  },
  {
   "cell_type": "code",
   "execution_count": 13,
   "id": "020a07a1-e895-41d0-afc9-138a697ad73d",
   "metadata": {},
   "outputs": [
    {
     "data": {
      "text/plain": [
       "78"
      ]
     },
     "execution_count": 13,
     "metadata": {},
     "output_type": "execute_result"
    }
   ],
   "source": [
    "max({4,78,9,56})"
   ]
  },
  {
   "cell_type": "code",
   "execution_count": 20,
   "id": "eae0ca3b-9a4a-4bce-9860-52b42adb4fc2",
   "metadata": {},
   "outputs": [
    {
     "name": "stdout",
     "output_type": "stream",
     "text": [
      "4\n"
     ]
    }
   ],
   "source": [
    "def minimum(sequence):\n",
    "    sequence2=list(sequence)\n",
    "    min1=sequence2[-1]   #4\n",
    "    for num in sequence2:  #4\n",
    "        if num<min1:  #78<4\n",
    "            min1=num  #4\n",
    "    print(min1)\n",
    "minimum({4,78,9,56})   "
   ]
  },
  {
   "cell_type": "markdown",
   "id": "e1372240-4e3b-4b33-bacb-69db9f2c986e",
   "metadata": {},
   "source": [
    "# Task"
   ]
  },
  {
   "cell_type": "code",
   "execution_count": 22,
   "id": "7c1e6785-8bbf-4003-9938-f28d5431d824",
   "metadata": {},
   "outputs": [
    {
     "name": "stdout",
     "output_type": "stream",
     "text": [
      "49\n"
     ]
    }
   ],
   "source": [
    "#sqr\n",
    "#cube\n",
    "def sqr(num):\n",
    "    print(num**2)\n",
    "sqr(7)\n",
    "    "
   ]
  },
  {
   "cell_type": "code",
   "execution_count": 23,
   "id": "60ece0bc-a0fc-4a64-a3a5-914761076846",
   "metadata": {},
   "outputs": [
    {
     "name": "stdout",
     "output_type": "stream",
     "text": [
      "81\n"
     ]
    }
   ],
   "source": [
    "sqr(9)"
   ]
  },
  {
   "cell_type": "code",
   "execution_count": 25,
   "id": "08469c92-09b5-4d51-a1a6-5de7db8bc6c2",
   "metadata": {},
   "outputs": [
    {
     "name": "stdout",
     "output_type": "stream",
     "text": [
      "343\n"
     ]
    }
   ],
   "source": [
    "def cube(num):\n",
    "    print(num**3)\n",
    "cube(7)"
   ]
  },
  {
   "cell_type": "markdown",
   "id": "16b35fbb-d807-43cc-a833-b391ac78ffa1",
   "metadata": {},
   "source": [
    "#### Output display using return keyword "
   ]
  },
  {
   "cell_type": "code",
   "execution_count": 26,
   "id": "e85e07ba-84c1-4b90-beb6-2862f98d9c29",
   "metadata": {},
   "outputs": [
    {
     "data": {
      "text/plain": [
       "343"
      ]
     },
     "execution_count": 26,
     "metadata": {},
     "output_type": "execute_result"
    }
   ],
   "source": [
    "def cube(num):\n",
    "    return num**3\n",
    "cube(7)"
   ]
  },
  {
   "cell_type": "markdown",
   "id": "1adcf727-ed1d-433b-9dbe-c987a3cfc205",
   "metadata": {},
   "source": [
    "#### Difference between print and return"
   ]
  },
  {
   "cell_type": "code",
   "execution_count": 27,
   "id": "5cbb6063-8613-4c18-936d-32de6c2a37c0",
   "metadata": {},
   "outputs": [
    {
     "name": "stdout",
     "output_type": "stream",
     "text": [
      "Data Science\n"
     ]
    }
   ],
   "source": [
    "print(\"Data Science\")"
   ]
  },
  {
   "cell_type": "code",
   "execution_count": 28,
   "id": "3e68450b-af6b-4d06-a0d3-43479373491b",
   "metadata": {},
   "outputs": [
    {
     "ename": "SyntaxError",
     "evalue": "'return' outside function (1648353298.py, line 1)",
     "output_type": "error",
     "traceback": [
      "\u001b[1;36m  Cell \u001b[1;32mIn[28], line 1\u001b[1;36m\u001b[0m\n\u001b[1;33m    return \"Data Science\"\u001b[0m\n\u001b[1;37m    ^\u001b[0m\n\u001b[1;31mSyntaxError\u001b[0m\u001b[1;31m:\u001b[0m 'return' outside function\n"
     ]
    }
   ],
   "source": [
    "return \"Data Science\"\n",
    "#return ==>outside"
   ]
  },
  {
   "cell_type": "code",
   "execution_count": 36,
   "id": "977cd9ad-ecd1-4779-8f6c-bf7845e987cf",
   "metadata": {},
   "outputs": [
    {
     "name": "stdout",
     "output_type": "stream",
     "text": [
      "64\n"
     ]
    }
   ],
   "source": [
    "#function inside onather fun==>return\n",
    "def sqr(num):\n",
    "    print(num**2)\n",
    "sqr(8)"
   ]
  },
  {
   "cell_type": "code",
   "execution_count": 38,
   "id": "4bf48152-edfa-48e8-b3b6-4d2ebf23b5cf",
   "metadata": {},
   "outputs": [
    {
     "name": "stdout",
     "output_type": "stream",
     "text": [
      "4\n"
     ]
    },
    {
     "ename": "TypeError",
     "evalue": "unsupported operand type(s) for *: 'NoneType' and 'int'",
     "output_type": "error",
     "traceback": [
      "\u001b[1;31m---------------------------------------------------------------------------\u001b[0m",
      "\u001b[1;31mTypeError\u001b[0m                                 Traceback (most recent call last)",
      "Cell \u001b[1;32mIn[38], line 4\u001b[0m\n\u001b[0;32m      1\u001b[0m \u001b[38;5;28;01mdef\u001b[39;00m \u001b[38;5;21mcube\u001b[39m(num):   \u001b[38;5;66;03m#4\u001b[39;00m\n\u001b[0;32m      2\u001b[0m     \u001b[38;5;28mprint\u001b[39m(sqr(num)\u001b[38;5;241m*\u001b[39mnum) \u001b[38;5;66;03m#16*num\u001b[39;00m\n\u001b[1;32m----> 4\u001b[0m cube(\u001b[38;5;241m2\u001b[39m)\n",
      "Cell \u001b[1;32mIn[38], line 2\u001b[0m, in \u001b[0;36mcube\u001b[1;34m(num)\u001b[0m\n\u001b[0;32m      1\u001b[0m \u001b[38;5;28;01mdef\u001b[39;00m \u001b[38;5;21mcube\u001b[39m(num):   \u001b[38;5;66;03m#4\u001b[39;00m\n\u001b[1;32m----> 2\u001b[0m     \u001b[38;5;28mprint\u001b[39m(sqr(num)\u001b[38;5;241m*\u001b[39mnum)\n",
      "\u001b[1;31mTypeError\u001b[0m: unsupported operand type(s) for *: 'NoneType' and 'int'"
     ]
    }
   ],
   "source": [
    "def cube(num):   #4\n",
    "    print(sqr(num)*num) #16*num\n",
    "    \n",
    "cube(2)    \n",
    "    "
   ]
  },
  {
   "cell_type": "code",
   "execution_count": 39,
   "id": "da770a74-7246-453a-ad33-46ec3ebd9391",
   "metadata": {},
   "outputs": [
    {
     "data": {
      "text/plain": [
       "64"
      ]
     },
     "execution_count": 39,
     "metadata": {},
     "output_type": "execute_result"
    }
   ],
   "source": [
    "def sqr(num):\n",
    "    return num**2\n",
    "sqr(8)"
   ]
  },
  {
   "cell_type": "code",
   "execution_count": 41,
   "id": "1ede62fc-8c93-4ef8-8597-aaef99fb4ef5",
   "metadata": {},
   "outputs": [
    {
     "name": "stdout",
     "output_type": "stream",
     "text": [
      "64\n"
     ]
    }
   ],
   "source": [
    "def cube(num):   #4\n",
    "    print(sqr(num)*num) #16*num\n",
    "    \n",
    "cube(4) "
   ]
  },
  {
   "cell_type": "code",
   "execution_count": 46,
   "id": "1611a7d3-6f94-4f72-ac05-a180defa4b28",
   "metadata": {},
   "outputs": [
    {
     "name": "stdout",
     "output_type": "stream",
     "text": [
      "Your tatal bill is: 2500\n",
      "None\n"
     ]
    }
   ],
   "source": [
    "def calculate_sales(price,qty):\n",
    "    total=price*qty\n",
    "    print(\"Your tatal bill is:\",total)\n",
    "fn=calculate_sales(500,5)\n",
    "print(fn)"
   ]
  },
  {
   "cell_type": "code",
   "execution_count": 45,
   "id": "8e7d92ad-fc40-46eb-8949-3848ff2546f3",
   "metadata": {},
   "outputs": [
    {
     "name": "stdout",
     "output_type": "stream",
     "text": [
      "('Your tatal bill is:', 2500)\n"
     ]
    }
   ],
   "source": [
    "def calculate_sales(price,qty):\n",
    "    total=price*qty\n",
    "    return \"Your tatal bill is:\",total\n",
    "fn=calculate_sales(500,5)\n",
    "print(fn)"
   ]
  },
  {
   "cell_type": "markdown",
   "id": "8d2ed079-4930-4e59-a754-2c02f5d33d5e",
   "metadata": {},
   "source": [
    "#### Task"
   ]
  },
  {
   "cell_type": "code",
   "execution_count": 1,
   "id": "8d1fd8f0-1440-4098-82a6-9749710c4a7c",
   "metadata": {},
   "outputs": [],
   "source": [
    "#fact function\n",
    "#length(),countele5ment()"
   ]
  },
  {
   "cell_type": "code",
   "execution_count": 6,
   "id": "bae1cd75-53dd-4113-aff0-a10b71d1422b",
   "metadata": {},
   "outputs": [
    {
     "data": {
      "text/plain": [
       "3628800"
      ]
     },
     "execution_count": 6,
     "metadata": {},
     "output_type": "execute_result"
    }
   ],
   "source": [
    "import math\n",
    "#bult-in\n",
    "math.factorial(10)   #variable,parameter,arguments"
   ]
  },
  {
   "cell_type": "code",
   "execution_count": 3,
   "id": "fa904fd3-0875-4c1e-9d57-b76050e6a7ae",
   "metadata": {},
   "outputs": [
    {
     "data": {
      "text/plain": [
       "125.0"
      ]
     },
     "execution_count": 3,
     "metadata": {},
     "output_type": "execute_result"
    }
   ],
   "source": [
    "math.pow(5,3)"
   ]
  },
  {
   "cell_type": "code",
   "execution_count": null,
   "id": "b4124d36-863d-418f-bb34-b72392c24f35",
   "metadata": {},
   "outputs": [],
   "source": [
    "#5*4*3*2*1\n",
    "#total=0"
   ]
  },
  {
   "cell_type": "code",
   "execution_count": 7,
   "id": "b12c7d3a-6221-4a3a-acb0-e067e66aeb9f",
   "metadata": {},
   "outputs": [
    {
     "data": {
      "text/plain": [
       "3628800"
      ]
     },
     "execution_count": 7,
     "metadata": {},
     "output_type": "execute_result"
    }
   ],
   "source": [
    "#user defined\n",
    "def fact(num):   #5\n",
    "    f=1   #120\n",
    "    for i in range(1,num+1):  #1,6==>1\n",
    "        f=f*i\n",
    "    return f\n",
    "    \n",
    "fact(10)    "
   ]
  },
  {
   "cell_type": "code",
   "execution_count": 12,
   "id": "b3f28651-9d4d-4960-bc49-2e52d7dc8fc2",
   "metadata": {},
   "outputs": [
    {
     "name": "stdout",
     "output_type": "stream",
     "text": [
      "6\n",
      "4\n",
      "6\n",
      "8\n",
      "2\n"
     ]
    }
   ],
   "source": [
    "print(len(\"python\"))\n",
    "print(len([1,2,3,4]))\n",
    "print(len((1,2,3,4,5,6)))\n",
    "print(len({1,2,3,4,5,6,7,8}))\n",
    "print(len({\"name\":\"chetana\",\"city\":\"Ratnagiri\"}))\n",
    "#iterable objects\n",
    "#num=2345"
   ]
  },
  {
   "cell_type": "code",
   "execution_count": 14,
   "id": "ae949d55-d2d9-4261-afa5-4a102e79e71e",
   "metadata": {},
   "outputs": [
    {
     "data": {
      "text/plain": [
       "0"
      ]
     },
     "execution_count": 14,
     "metadata": {},
     "output_type": "execute_result"
    }
   ],
   "source": [
    "def length(iterable):   #l=[1,2,3,4]\n",
    "    l=0\n",
    "    for i in iterable:  \n",
    "        l=l+1\n",
    "    return l\n",
    "length(\"\")       \n",
    "    "
   ]
  },
  {
   "cell_type": "code",
   "execution_count": 16,
   "id": "b410a014-b80c-495a-b483-55598e0fe548",
   "metadata": {},
   "outputs": [
    {
     "data": {
      "text/plain": [
       "5"
      ]
     },
     "execution_count": 16,
     "metadata": {},
     "output_type": "execute_result"
    }
   ],
   "source": [
    "length([1,2,3,5,8])"
   ]
  },
  {
   "cell_type": "code",
   "execution_count": 18,
   "id": "a48695f4-efec-418d-85e8-2fc89896985c",
   "metadata": {},
   "outputs": [
    {
     "name": "stdout",
     "output_type": "stream",
     "text": [
      "5\n"
     ]
    }
   ],
   "source": [
    "print(length((1,2,3,5,8)))"
   ]
  },
  {
   "cell_type": "code",
   "execution_count": 20,
   "id": "e21e84a5-191c-4698-b159-4848ebca395a",
   "metadata": {},
   "outputs": [
    {
     "data": {
      "text/plain": [
       "7"
      ]
     },
     "execution_count": 20,
     "metadata": {},
     "output_type": "execute_result"
    }
   ],
   "source": [
    "length({1,2,3,5,8,7,9})"
   ]
  },
  {
   "cell_type": "code",
   "execution_count": 21,
   "id": "e95d7f96-d570-4ea3-9d06-982f5f538069",
   "metadata": {},
   "outputs": [
    {
     "data": {
      "text/plain": [
       "2"
      ]
     },
     "execution_count": 21,
     "metadata": {},
     "output_type": "execute_result"
    }
   ],
   "source": [
    "length({\"name\":\"gouri\",\"course\":\"DA\"})"
   ]
  },
  {
   "cell_type": "code",
   "execution_count": 27,
   "id": "b98e67f2-a7b8-42ab-b2a9-41bb7cb469dd",
   "metadata": {},
   "outputs": [
    {
     "data": {
      "text/plain": [
       "1"
      ]
     },
     "execution_count": 27,
     "metadata": {},
     "output_type": "execute_result"
    }
   ],
   "source": [
    "s=\"python\"\n",
    "l=[1,2,3,4,2]\n",
    "t=(1,2,3,4,5,6)\n",
    "s1={1,2,3,4,5,6,7,8,8}\n",
    "d={\"name\":\"chetana\",\"city\":\"Ratnagiri\"}\n",
    "s.count(\"p\")"
   ]
  },
  {
   "cell_type": "code",
   "execution_count": 28,
   "id": "91a68d6a-8def-4d60-b02d-8d82192d5a64",
   "metadata": {},
   "outputs": [
    {
     "data": {
      "text/plain": [
       "2"
      ]
     },
     "execution_count": 28,
     "metadata": {},
     "output_type": "execute_result"
    }
   ],
   "source": [
    "l.count(2)"
   ]
  },
  {
   "cell_type": "code",
   "execution_count": 24,
   "id": "a396d5e2-3106-49f2-916a-f113458714a4",
   "metadata": {},
   "outputs": [
    {
     "data": {
      "text/plain": [
       "0"
      ]
     },
     "execution_count": 24,
     "metadata": {},
     "output_type": "execute_result"
    }
   ],
   "source": [
    "t.count(10)"
   ]
  },
  {
   "cell_type": "code",
   "execution_count": 25,
   "id": "2c8ef3de-33ec-4b03-b5f7-13ffe57b8546",
   "metadata": {},
   "outputs": [
    {
     "ename": "AttributeError",
     "evalue": "'set' object has no attribute 'count'",
     "output_type": "error",
     "traceback": [
      "\u001b[1;31m---------------------------------------------------------------------------\u001b[0m",
      "\u001b[1;31mAttributeError\u001b[0m                            Traceback (most recent call last)",
      "Cell \u001b[1;32mIn[25], line 1\u001b[0m\n\u001b[1;32m----> 1\u001b[0m s1\u001b[38;5;241m.\u001b[39mcount(\u001b[38;5;241m8\u001b[39m)\n",
      "\u001b[1;31mAttributeError\u001b[0m: 'set' object has no attribute 'count'"
     ]
    }
   ],
   "source": [
    "s1.count(8)  #reason: unique"
   ]
  },
  {
   "cell_type": "code",
   "execution_count": 29,
   "id": "87171f1b-f446-4744-ad50-5ad53cab2cd5",
   "metadata": {},
   "outputs": [
    {
     "ename": "AttributeError",
     "evalue": "'dict' object has no attribute 'count'",
     "output_type": "error",
     "traceback": [
      "\u001b[1;31m---------------------------------------------------------------------------\u001b[0m",
      "\u001b[1;31mAttributeError\u001b[0m                            Traceback (most recent call last)",
      "Cell \u001b[1;32mIn[29], line 1\u001b[0m\n\u001b[1;32m----> 1\u001b[0m d\u001b[38;5;241m.\u001b[39mcount(\u001b[38;5;124m\"\u001b[39m\u001b[38;5;124mname\u001b[39m\u001b[38;5;124m\"\u001b[39m)\n",
      "\u001b[1;31mAttributeError\u001b[0m: 'dict' object has no attribute 'count'"
     ]
    }
   ],
   "source": [
    "d.count(\"name\")   #unique"
   ]
  },
  {
   "cell_type": "code",
   "execution_count": 48,
   "id": "7cd2b99e-d7a4-42e6-8079-e47610683603",
   "metadata": {},
   "outputs": [
    {
     "name": "stdin",
     "output_type": "stream",
     "text": [
      "Enter iterable \"chetana\"\n"
     ]
    },
    {
     "data": {
      "text/plain": [
       "1"
      ]
     },
     "execution_count": 48,
     "metadata": {},
     "output_type": "execute_result"
    }
   ],
   "source": [
    "def countelement(element):  #2\n",
    "    c=0\n",
    "    iterable=eval(input(\"Enter iterable\")) #\"chetana\"\n",
    "    for i in iterable:  #c\n",
    "        \n",
    "        if i==element:\n",
    "            c=c+1\n",
    "    return c\n",
    "countelement(\"c\")   "
   ]
  },
  {
   "cell_type": "code",
   "execution_count": 49,
   "id": "51ea904b-324e-4482-9b91-b97702064503",
   "metadata": {},
   "outputs": [],
   "source": [
    "#abs===>absolute value\n",
    "#round===>roundup"
   ]
  },
  {
   "cell_type": "code",
   "execution_count": 50,
   "id": "ca40867a-fdd5-45ef-9d23-c2dbc201cc85",
   "metadata": {},
   "outputs": [
    {
     "data": {
      "text/plain": [
       "78"
      ]
     },
     "execution_count": 50,
     "metadata": {},
     "output_type": "execute_result"
    }
   ],
   "source": [
    "#inbuilt\n",
    "abs(-78)"
   ]
  },
  {
   "cell_type": "code",
   "execution_count": 51,
   "id": "a5cd4d63-e429-49b0-b61c-6c5d18a8edfa",
   "metadata": {},
   "outputs": [
    {
     "data": {
      "text/plain": [
       "78"
      ]
     },
     "execution_count": 51,
     "metadata": {},
     "output_type": "execute_result"
    }
   ],
   "source": [
    "abs(78)"
   ]
  },
  {
   "cell_type": "code",
   "execution_count": 53,
   "id": "6223f679-5a46-44be-961d-288a2789ca7e",
   "metadata": {},
   "outputs": [
    {
     "data": {
      "text/plain": [
       "45.6"
      ]
     },
     "execution_count": 53,
     "metadata": {},
     "output_type": "execute_result"
    }
   ],
   "source": [
    "abs(-45.6)"
   ]
  },
  {
   "cell_type": "code",
   "execution_count": 70,
   "id": "4f7f4c29-0451-4d1d-9c97-35b3478160cb",
   "metadata": {},
   "outputs": [
    {
     "name": "stdout",
     "output_type": "stream",
     "text": [
      "-75\n"
     ]
    },
    {
     "data": {
      "text/plain": [
       "75"
      ]
     },
     "execution_count": 70,
     "metadata": {},
     "output_type": "execute_result"
    }
   ],
   "source": [
    "#user Defined\n",
    "def absolute(num):   #75.8\n",
    "    str_num=str(num)  #\"75.8\"\n",
    "    print(str_num)\n",
    "    if str_num[0]==\"-\":\n",
    "        return int(str_num[1:])\n",
    "    else:\n",
    "        return num #\"789\"\n",
    "        \n",
    "    \n",
    "absolute(-75)    \n"
   ]
  },
  {
   "cell_type": "code",
   "execution_count": 62,
   "id": "e1a2e8eb-08a4-4ea3-8141-2530a2e01cdd",
   "metadata": {},
   "outputs": [
    {
     "data": {
      "text/plain": [
       "78.3"
      ]
     },
     "execution_count": 62,
     "metadata": {},
     "output_type": "execute_result"
    }
   ],
   "source": [
    "abs(78.3)"
   ]
  },
  {
   "cell_type": "code",
   "execution_count": 74,
   "id": "fae865d3-3cdd-4e8f-a0df-0697b7f5ce59",
   "metadata": {},
   "outputs": [
    {
     "data": {
      "text/plain": [
       "78.9"
      ]
     },
     "execution_count": 74,
     "metadata": {},
     "output_type": "execute_result"
    }
   ],
   "source": [
    "def my_abs(num):\n",
    "    if num<0:\n",
    "        return -num   #--45\n",
    "    else:\n",
    "        return num\n",
    "my_abs(-78.9)"
   ]
  },
  {
   "cell_type": "code",
   "execution_count": 75,
   "id": "1f857e56-4d5b-4050-a494-5cf35c937a31",
   "metadata": {},
   "outputs": [
    {
     "data": {
      "text/plain": [
       "78"
      ]
     },
     "execution_count": 75,
     "metadata": {},
     "output_type": "execute_result"
    }
   ],
   "source": [
    "#built in \n",
    "round(78)"
   ]
  },
  {
   "cell_type": "code",
   "execution_count": 77,
   "id": "ee978db3-706d-488e-b648-0487f8f94d1a",
   "metadata": {},
   "outputs": [
    {
     "data": {
      "text/plain": [
       "78"
      ]
     },
     "execution_count": 77,
     "metadata": {},
     "output_type": "execute_result"
    }
   ],
   "source": [
    "round(78.3)  #78\n",
    "#decimal>0.5\n",
    "#78+1=79"
   ]
  },
  {
   "cell_type": "code",
   "execution_count": 80,
   "id": "f37f0237-9e47-4769-9213-5a03add19a07",
   "metadata": {},
   "outputs": [
    {
     "data": {
      "text/plain": [
       "79"
      ]
     },
     "execution_count": 80,
     "metadata": {},
     "output_type": "execute_result"
    }
   ],
   "source": [
    "round(78.55)"
   ]
  },
  {
   "cell_type": "code",
   "execution_count": 81,
   "id": "350850a5-154b-4626-9da5-53ba6da6b1ff",
   "metadata": {},
   "outputs": [
    {
     "data": {
      "text/plain": [
       "0.5999999999999943"
      ]
     },
     "execution_count": 81,
     "metadata": {},
     "output_type": "execute_result"
    }
   ],
   "source": [
    "#extract decimal_part\n",
    "num=123.6   #float\n",
    "#type casting\n",
    "num-int(num)\n",
    "#123.6-123"
   ]
  },
  {
   "cell_type": "code",
   "execution_count": 84,
   "id": "0d78e1b5-5faf-4e65-afdd-e900c3b5e155",
   "metadata": {},
   "outputs": [
    {
     "data": {
      "text/plain": [
       "124"
      ]
     },
     "execution_count": 84,
     "metadata": {},
     "output_type": "execute_result"
    }
   ],
   "source": [
    "def round_up(num):  #123.5\n",
    "    decimal_part=num-int(num)\n",
    "    if decimal_part>0.5:\n",
    "        return int(num)+1  #123+1\n",
    "    else:\n",
    "        return int(num)\n",
    "round_up(123.8)        "
   ]
  },
  {
   "cell_type": "code",
   "execution_count": 86,
   "id": "fd0d6d76-f4d0-4798-ae3b-9231694585bb",
   "metadata": {},
   "outputs": [],
   "source": [
    "#data analysis\n",
    "#data cleaning ==>extra spaces,upper,missingvalues,duplicats remove\n",
    "# def data_cleaning(data):\n",
    "#     remove_extra_spaces=trim(data)\n",
    "#     upper_case=upper(remove_extra_spaces)\n",
    "#     missingavlues=fillna(upper_case).mean()\n",
    "#     remove_duplicates=duplicated(missingavlues)\n",
    "# data_cleaning(customer_data)\n",
    "#10 datasets"
   ]
  },
  {
   "cell_type": "code",
   "execution_count": 87,
   "id": "e9d2b6d2-d259-4834-99f2-c0dc740a7156",
   "metadata": {},
   "outputs": [],
   "source": [
    "a=1234\n",
    "b=\"python\""
   ]
  },
  {
   "cell_type": "code",
   "execution_count": 88,
   "id": "e0bf3780-8530-459a-be95-cab9ba5837e8",
   "metadata": {},
   "outputs": [
    {
     "data": {
      "text/plain": [
       "1401029557520"
      ]
     },
     "execution_count": 88,
     "metadata": {},
     "output_type": "execute_result"
    }
   ],
   "source": [
    "#memory location\n",
    "id(a)"
   ]
  },
  {
   "cell_type": "code",
   "execution_count": 89,
   "id": "42d86937-14e3-4df8-8e79-43ab17131da2",
   "metadata": {},
   "outputs": [
    {
     "data": {
      "text/plain": [
       "1400963937584"
      ]
     },
     "execution_count": 89,
     "metadata": {},
     "output_type": "execute_result"
    }
   ],
   "source": [
    "id(b)"
   ]
  },
  {
   "cell_type": "code",
   "execution_count": 90,
   "id": "3a06a5dc-b7f0-427b-9241-62dfe9be8410",
   "metadata": {},
   "outputs": [
    {
     "data": {
      "text/plain": [
       "1400977903264"
      ]
     },
     "execution_count": 90,
     "metadata": {},
     "output_type": "execute_result"
    }
   ],
   "source": [
    "id(round_up)"
   ]
  },
  {
   "cell_type": "code",
   "execution_count": 91,
   "id": "bf90a2d9-7cfc-45c9-b33f-304ce72b8024",
   "metadata": {},
   "outputs": [
    {
     "name": "stdout",
     "output_type": "stream",
     "text": [
      "Help on built-in module math:\n",
      "\n",
      "NAME\n",
      "    math\n",
      "\n",
      "DESCRIPTION\n",
      "    This module provides access to the mathematical functions\n",
      "    defined by the C standard.\n",
      "\n",
      "FUNCTIONS\n",
      "    acos(x, /)\n",
      "        Return the arc cosine (measured in radians) of x.\n",
      "        \n",
      "        The result is between 0 and pi.\n",
      "    \n",
      "    acosh(x, /)\n",
      "        Return the inverse hyperbolic cosine of x.\n",
      "    \n",
      "    asin(x, /)\n",
      "        Return the arc sine (measured in radians) of x.\n",
      "        \n",
      "        The result is between -pi/2 and pi/2.\n",
      "    \n",
      "    asinh(x, /)\n",
      "        Return the inverse hyperbolic sine of x.\n",
      "    \n",
      "    atan(x, /)\n",
      "        Return the arc tangent (measured in radians) of x.\n",
      "        \n",
      "        The result is between -pi/2 and pi/2.\n",
      "    \n",
      "    atan2(y, x, /)\n",
      "        Return the arc tangent (measured in radians) of y/x.\n",
      "        \n",
      "        Unlike atan(y/x), the signs of both x and y are considered.\n",
      "    \n",
      "    atanh(x, /)\n",
      "        Return the inverse hyperbolic tangent of x.\n",
      "    \n",
      "    cbrt(x, /)\n",
      "        Return the cube root of x.\n",
      "    \n",
      "    ceil(x, /)\n",
      "        Return the ceiling of x as an Integral.\n",
      "        \n",
      "        This is the smallest integer >= x.\n",
      "    \n",
      "    comb(n, k, /)\n",
      "        Number of ways to choose k items from n items without repetition and without order.\n",
      "        \n",
      "        Evaluates to n! / (k! * (n - k)!) when k <= n and evaluates\n",
      "        to zero when k > n.\n",
      "        \n",
      "        Also called the binomial coefficient because it is equivalent\n",
      "        to the coefficient of k-th term in polynomial expansion of the\n",
      "        expression (1 + x)**n.\n",
      "        \n",
      "        Raises TypeError if either of the arguments are not integers.\n",
      "        Raises ValueError if either of the arguments are negative.\n",
      "    \n",
      "    copysign(x, y, /)\n",
      "        Return a float with the magnitude (absolute value) of x but the sign of y.\n",
      "        \n",
      "        On platforms that support signed zeros, copysign(1.0, -0.0)\n",
      "        returns -1.0.\n",
      "    \n",
      "    cos(x, /)\n",
      "        Return the cosine of x (measured in radians).\n",
      "    \n",
      "    cosh(x, /)\n",
      "        Return the hyperbolic cosine of x.\n",
      "    \n",
      "    degrees(x, /)\n",
      "        Convert angle x from radians to degrees.\n",
      "    \n",
      "    dist(p, q, /)\n",
      "        Return the Euclidean distance between two points p and q.\n",
      "        \n",
      "        The points should be specified as sequences (or iterables) of\n",
      "        coordinates.  Both inputs must have the same dimension.\n",
      "        \n",
      "        Roughly equivalent to:\n",
      "            sqrt(sum((px - qx) ** 2.0 for px, qx in zip(p, q)))\n",
      "    \n",
      "    erf(x, /)\n",
      "        Error function at x.\n",
      "    \n",
      "    erfc(x, /)\n",
      "        Complementary error function at x.\n",
      "    \n",
      "    exp(x, /)\n",
      "        Return e raised to the power of x.\n",
      "    \n",
      "    exp2(x, /)\n",
      "        Return 2 raised to the power of x.\n",
      "    \n",
      "    expm1(x, /)\n",
      "        Return exp(x)-1.\n",
      "        \n",
      "        This function avoids the loss of precision involved in the direct evaluation of exp(x)-1 for small x.\n",
      "    \n",
      "    fabs(x, /)\n",
      "        Return the absolute value of the float x.\n",
      "    \n",
      "    factorial(n, /)\n",
      "        Find n!.\n",
      "        \n",
      "        Raise a ValueError if x is negative or non-integral.\n",
      "    \n",
      "    floor(x, /)\n",
      "        Return the floor of x as an Integral.\n",
      "        \n",
      "        This is the largest integer <= x.\n",
      "    \n",
      "    fmod(x, y, /)\n",
      "        Return fmod(x, y), according to platform C.\n",
      "        \n",
      "        x % y may differ.\n",
      "    \n",
      "    frexp(x, /)\n",
      "        Return the mantissa and exponent of x, as pair (m, e).\n",
      "        \n",
      "        m is a float and e is an int, such that x = m * 2.**e.\n",
      "        If x is 0, m and e are both 0.  Else 0.5 <= abs(m) < 1.0.\n",
      "    \n",
      "    fsum(seq, /)\n",
      "        Return an accurate floating point sum of values in the iterable seq.\n",
      "        \n",
      "        Assumes IEEE-754 floating point arithmetic.\n",
      "    \n",
      "    gamma(x, /)\n",
      "        Gamma function at x.\n",
      "    \n",
      "    gcd(*integers)\n",
      "        Greatest Common Divisor.\n",
      "    \n",
      "    hypot(...)\n",
      "        hypot(*coordinates) -> value\n",
      "        \n",
      "        Multidimensional Euclidean distance from the origin to a point.\n",
      "        \n",
      "        Roughly equivalent to:\n",
      "            sqrt(sum(x**2 for x in coordinates))\n",
      "        \n",
      "        For a two dimensional point (x, y), gives the hypotenuse\n",
      "        using the Pythagorean theorem:  sqrt(x*x + y*y).\n",
      "        \n",
      "        For example, the hypotenuse of a 3/4/5 right triangle is:\n",
      "        \n",
      "            >>> hypot(3.0, 4.0)\n",
      "            5.0\n",
      "    \n",
      "    isclose(a, b, *, rel_tol=1e-09, abs_tol=0.0)\n",
      "        Determine whether two floating point numbers are close in value.\n",
      "        \n",
      "          rel_tol\n",
      "            maximum difference for being considered \"close\", relative to the\n",
      "            magnitude of the input values\n",
      "          abs_tol\n",
      "            maximum difference for being considered \"close\", regardless of the\n",
      "            magnitude of the input values\n",
      "        \n",
      "        Return True if a is close in value to b, and False otherwise.\n",
      "        \n",
      "        For the values to be considered close, the difference between them\n",
      "        must be smaller than at least one of the tolerances.\n",
      "        \n",
      "        -inf, inf and NaN behave similarly to the IEEE 754 Standard.  That\n",
      "        is, NaN is not close to anything, even itself.  inf and -inf are\n",
      "        only close to themselves.\n",
      "    \n",
      "    isfinite(x, /)\n",
      "        Return True if x is neither an infinity nor a NaN, and False otherwise.\n",
      "    \n",
      "    isinf(x, /)\n",
      "        Return True if x is a positive or negative infinity, and False otherwise.\n",
      "    \n",
      "    isnan(x, /)\n",
      "        Return True if x is a NaN (not a number), and False otherwise.\n",
      "    \n",
      "    isqrt(n, /)\n",
      "        Return the integer part of the square root of the input.\n",
      "    \n",
      "    lcm(*integers)\n",
      "        Least Common Multiple.\n",
      "    \n",
      "    ldexp(x, i, /)\n",
      "        Return x * (2**i).\n",
      "        \n",
      "        This is essentially the inverse of frexp().\n",
      "    \n",
      "    lgamma(x, /)\n",
      "        Natural logarithm of absolute value of Gamma function at x.\n",
      "    \n",
      "    log(...)\n",
      "        log(x, [base=math.e])\n",
      "        Return the logarithm of x to the given base.\n",
      "        \n",
      "        If the base not specified, returns the natural logarithm (base e) of x.\n",
      "    \n",
      "    log10(x, /)\n",
      "        Return the base 10 logarithm of x.\n",
      "    \n",
      "    log1p(x, /)\n",
      "        Return the natural logarithm of 1+x (base e).\n",
      "        \n",
      "        The result is computed in a way which is accurate for x near zero.\n",
      "    \n",
      "    log2(x, /)\n",
      "        Return the base 2 logarithm of x.\n",
      "    \n",
      "    modf(x, /)\n",
      "        Return the fractional and integer parts of x.\n",
      "        \n",
      "        Both results carry the sign of x and are floats.\n",
      "    \n",
      "    nextafter(x, y, /)\n",
      "        Return the next floating-point value after x towards y.\n",
      "    \n",
      "    perm(n, k=None, /)\n",
      "        Number of ways to choose k items from n items without repetition and with order.\n",
      "        \n",
      "        Evaluates to n! / (n - k)! when k <= n and evaluates\n",
      "        to zero when k > n.\n",
      "        \n",
      "        If k is not specified or is None, then k defaults to n\n",
      "        and the function returns n!.\n",
      "        \n",
      "        Raises TypeError if either of the arguments are not integers.\n",
      "        Raises ValueError if either of the arguments are negative.\n",
      "    \n",
      "    pow(x, y, /)\n",
      "        Return x**y (x to the power of y).\n",
      "    \n",
      "    prod(iterable, /, *, start=1)\n",
      "        Calculate the product of all the elements in the input iterable.\n",
      "        \n",
      "        The default start value for the product is 1.\n",
      "        \n",
      "        When the iterable is empty, return the start value.  This function is\n",
      "        intended specifically for use with numeric values and may reject\n",
      "        non-numeric types.\n",
      "    \n",
      "    radians(x, /)\n",
      "        Convert angle x from degrees to radians.\n",
      "    \n",
      "    remainder(x, y, /)\n",
      "        Difference between x and the closest integer multiple of y.\n",
      "        \n",
      "        Return x - n*y where n*y is the closest integer multiple of y.\n",
      "        In the case where x is exactly halfway between two multiples of\n",
      "        y, the nearest even value of n is used. The result is always exact.\n",
      "    \n",
      "    sin(x, /)\n",
      "        Return the sine of x (measured in radians).\n",
      "    \n",
      "    sinh(x, /)\n",
      "        Return the hyperbolic sine of x.\n",
      "    \n",
      "    sqrt(x, /)\n",
      "        Return the square root of x.\n",
      "    \n",
      "    tan(x, /)\n",
      "        Return the tangent of x (measured in radians).\n",
      "    \n",
      "    tanh(x, /)\n",
      "        Return the hyperbolic tangent of x.\n",
      "    \n",
      "    trunc(x, /)\n",
      "        Truncates the Real x to the nearest Integral toward 0.\n",
      "        \n",
      "        Uses the __trunc__ magic method.\n",
      "    \n",
      "    ulp(x, /)\n",
      "        Return the value of the least significant bit of the float x.\n",
      "\n",
      "DATA\n",
      "    e = 2.718281828459045\n",
      "    inf = inf\n",
      "    nan = nan\n",
      "    pi = 3.141592653589793\n",
      "    tau = 6.283185307179586\n",
      "\n",
      "FILE\n",
      "    (built-in)\n",
      "\n",
      "\n"
     ]
    }
   ],
   "source": [
    "help(math)"
   ]
  },
  {
   "cell_type": "code",
   "execution_count": 94,
   "id": "d80c8e9d-0c3b-4043-aa1d-976c89641f26",
   "metadata": {},
   "outputs": [
    {
     "name": "stdout",
     "output_type": "stream",
     "text": [
      "[0, 1, 1, 2, 3, 5, 8, 13, 21, 34]\n"
     ]
    }
   ],
   "source": [
    "#fibonacci series\n",
    "#0,1,1,2,3,5,8,13....\n",
    "#uisng for loop\n",
    "fib=[0,1]   #inintialization\n",
    "for i in range(0,8):  #0,1,2,3,4,5,6,7\n",
    "    \n",
    "    next_term=fib[-1]+fib[-2]   #2+1  =3\n",
    "    fib.append(next_term)\n",
    "print(fib)\n",
    "#first 10 num in fibonaaci"
   ]
  },
  {
   "cell_type": "code",
   "execution_count": 2,
   "id": "30f51ae1-68b5-4fea-86dc-4aba4b7b84b6",
   "metadata": {},
   "outputs": [
    {
     "data": {
      "text/plain": [
       "[0,\n",
       " 1,\n",
       " 1,\n",
       " 2,\n",
       " 3,\n",
       " 5,\n",
       " 8,\n",
       " 13,\n",
       " 21,\n",
       " 34,\n",
       " 55,\n",
       " 89,\n",
       " 144,\n",
       " 233,\n",
       " 377,\n",
       " 610,\n",
       " 987,\n",
       " 1597,\n",
       " 2584,\n",
       " 4181]"
      ]
     },
     "execution_count": 2,
     "metadata": {},
     "output_type": "execute_result"
    }
   ],
   "source": [
    "#write function to print Fibonacci\n",
    "def fibonacci(n):   #10\n",
    "    fib=[0,1]   #inintialization\n",
    "    for i in range(0,n-2):  #0,8\n",
    "        next_term=fib[-1]+fib[-2]   #2+1  =3\n",
    "        fib.append(next_term)\n",
    "    return fib\n",
    "fibonacci(20)"
   ]
  },
  {
   "cell_type": "markdown",
   "id": "635e0fce-2c01-4d27-abb9-e678f9a6c93c",
   "metadata": {},
   "source": [
    "# 4 Types of functions"
   ]
  },
  {
   "cell_type": "markdown",
   "id": "611175a9-3a29-480e-9393-004389c1a168",
   "metadata": {},
   "source": [
    "##### 1. fun with parameter and with return"
   ]
  },
  {
   "cell_type": "code",
   "execution_count": 4,
   "id": "d3f289e6-f3ee-40ce-b192-81dee253d866",
   "metadata": {},
   "outputs": [
    {
     "data": {
      "text/plain": [
       "20"
      ]
     },
     "execution_count": 4,
     "metadata": {},
     "output_type": "execute_result"
    }
   ],
   "source": [
    "#addition\n",
    "def add(a,b,c,d):\n",
    "    return a+b+c+d\n",
    "add(1,4,7,8)"
   ]
  },
  {
   "cell_type": "code",
   "execution_count": 5,
   "id": "3a3a8b6f-b81f-4d3f-9168-62194a542595",
   "metadata": {},
   "outputs": [
    {
     "data": {
      "text/plain": [
       "52"
      ]
     },
     "execution_count": 5,
     "metadata": {},
     "output_type": "execute_result"
    }
   ],
   "source": [
    "def add(a,b,c,d=40):\n",
    "    return a+b+c+d\n",
    "add(1,4,7)"
   ]
  },
  {
   "cell_type": "code",
   "execution_count": 6,
   "id": "36bba321-168d-4d84-aa95-e97dc03f2367",
   "metadata": {},
   "outputs": [
    {
     "ename": "TypeError",
     "evalue": "add() missing 1 required positional argument: 'd'",
     "output_type": "error",
     "traceback": [
      "\u001b[1;31m---------------------------------------------------------------------------\u001b[0m",
      "\u001b[1;31mTypeError\u001b[0m                                 Traceback (most recent call last)",
      "Cell \u001b[1;32mIn[6], line 3\u001b[0m\n\u001b[0;32m      1\u001b[0m \u001b[38;5;28;01mdef\u001b[39;00m \u001b[38;5;21madd\u001b[39m(a,b,c,d):\n\u001b[0;32m      2\u001b[0m     \u001b[38;5;28;01mreturn\u001b[39;00m a\u001b[38;5;241m+\u001b[39mb\u001b[38;5;241m+\u001b[39mc\u001b[38;5;241m+\u001b[39md\n\u001b[1;32m----> 3\u001b[0m add(\u001b[38;5;241m1\u001b[39m,\u001b[38;5;241m4\u001b[39m,\u001b[38;5;241m7\u001b[39m)\n",
      "\u001b[1;31mTypeError\u001b[0m: add() missing 1 required positional argument: 'd'"
     ]
    }
   ],
   "source": [
    "def add(a,b,c,d):\n",
    "    return a+b+c+d\n",
    "add(1,4,7)"
   ]
  },
  {
   "cell_type": "code",
   "execution_count": 7,
   "id": "b6dac033-951f-4bc0-a0f1-e9e72c3429d5",
   "metadata": {},
   "outputs": [
    {
     "data": {
      "text/plain": [
       "17"
      ]
     },
     "execution_count": 7,
     "metadata": {},
     "output_type": "execute_result"
    }
   ],
   "source": [
    "def add(a,b,c,d=40):\n",
    "    return a+b+c+d\n",
    "add(1,4,7,5)"
   ]
  },
  {
   "cell_type": "markdown",
   "id": "66ac852b-e55a-484c-874f-e1f2cc73d55c",
   "metadata": {},
   "source": [
    "### 2. fun with parameter and without return"
   ]
  },
  {
   "cell_type": "code",
   "execution_count": 9,
   "id": "a7f6cec6-bd8e-43d1-b78d-bc050cd41e7d",
   "metadata": {},
   "outputs": [
    {
     "name": "stdout",
     "output_type": "stream",
     "text": [
      "12\n"
     ]
    }
   ],
   "source": [
    "def adding_10(n):   #parameter pass==>n\n",
    "    print(n+10)\n",
    "\n",
    "adding_10(2)    "
   ]
  },
  {
   "cell_type": "markdown",
   "id": "3dcf1685-4498-4f6b-8a32-0cfa253b0c44",
   "metadata": {},
   "source": [
    "#### 3. fun without parameter and with return"
   ]
  },
  {
   "cell_type": "code",
   "execution_count": 12,
   "id": "d397ddba-42e5-444b-a7bd-f0480fcfd115",
   "metadata": {},
   "outputs": [
    {
     "name": "stdin",
     "output_type": "stream",
     "text": [
      "Enter num1: 6\n",
      "Enter num2: 9\n",
      "Enter num3: 0\n"
     ]
    },
    {
     "data": {
      "text/plain": [
       "0.0"
      ]
     },
     "execution_count": 12,
     "metadata": {},
     "output_type": "execute_result"
    }
   ],
   "source": [
    "#multiplication of 3 numbers\n",
    "def mult():\n",
    "    # a=5\n",
    "    # b=8\n",
    "    # c=2\n",
    "    a=float(input(\"Enter num1:\"))\n",
    "    b=float(input(\"Enter num2:\"))\n",
    "    c=float(input(\"Enter num3:\"))\n",
    "    return a*b*c\n",
    "mult()\n",
    "    "
   ]
  },
  {
   "cell_type": "markdown",
   "id": "f7aec99c-fda0-4651-8272-65724a44f463",
   "metadata": {},
   "source": [
    "##### 4. fun without parameter and without return"
   ]
  },
  {
   "cell_type": "code",
   "execution_count": 13,
   "id": "c0369f1b-7bf7-4952-8431-3a133470925c",
   "metadata": {},
   "outputs": [
    {
     "name": "stdin",
     "output_type": "stream",
     "text": [
      "Enter num1: 4\n",
      "Enter num2: 5\n",
      "Enter num3: 5\n"
     ]
    },
    {
     "name": "stdout",
     "output_type": "stream",
     "text": [
      "100.0\n"
     ]
    }
   ],
   "source": [
    "def mult():\n",
    "    # a=5\n",
    "    # b=8\n",
    "    # c=2\n",
    "    a=float(input(\"Enter num1:\"))\n",
    "    b=float(input(\"Enter num2:\"))\n",
    "    c=float(input(\"Enter num3:\"))\n",
    "    print(a*b*c)\n",
    "mult()"
   ]
  },
  {
   "cell_type": "markdown",
   "id": "7c320f85-0b8f-46d6-983d-0788f83e1292",
   "metadata": {},
   "source": [
    "# non keyword arguments and keyword arguments"
   ]
  },
  {
   "cell_type": "code",
   "execution_count": 15,
   "id": "f9540f8c-095f-40e1-b04b-2924b5752c08",
   "metadata": {},
   "outputs": [
    {
     "name": "stdout",
     "output_type": "stream",
     "text": [
      "['__doc__', '__loader__', '__name__', '__package__', '__spec__', 'acos', 'acosh', 'asin', 'asinh', 'atan', 'atan2', 'atanh', 'cbrt', 'ceil', 'comb', 'copysign', 'cos', 'cosh', 'degrees', 'dist', 'e', 'erf', 'erfc', 'exp', 'exp2', 'expm1', 'fabs', 'factorial', 'floor', 'fmod', 'frexp', 'fsum', 'gamma', 'gcd', 'hypot', 'inf', 'isclose', 'isfinite', 'isinf', 'isnan', 'isqrt', 'lcm', 'ldexp', 'lgamma', 'log', 'log10', 'log1p', 'log2', 'modf', 'nan', 'nextafter', 'perm', 'pi', 'pow', 'prod', 'radians', 'remainder', 'sin', 'sinh', 'sqrt', 'tan', 'tanh', 'tau', 'trunc', 'ulp']\n"
     ]
    }
   ],
   "source": [
    "import math\n",
    "print(dir(math))"
   ]
  },
  {
   "cell_type": "markdown",
   "id": "4cc8fa84-169d-454e-bb78-103dd84fc60b",
   "metadata": {},
   "source": [
    "from math import *"
   ]
  },
  {
   "cell_type": "code",
   "execution_count": 19,
   "id": "9c2b5510-4ca6-411a-9e65-7707ff00777f",
   "metadata": {},
   "outputs": [
    {
     "data": {
      "text/plain": [
       "78"
      ]
     },
     "execution_count": 19,
     "metadata": {},
     "output_type": "execute_result"
    }
   ],
   "source": [
    "#non keyword arguments   *variablename\n",
    "#Allows a fn to accept any numbers of positional arguments\n",
    "#10 numbers addition\n",
    "def total(*l):  #collected as a tuple\n",
    "    t=0\n",
    "    for num in l:\n",
    "        t=t+num\n",
    "    return t\n",
    "        \n",
    "total(1,2,3,4,5,6,45,6,3,3)    "
   ]
  },
  {
   "cell_type": "code",
   "execution_count": 22,
   "id": "7fe636ae-6ef8-4d85-bd4c-e71c8f135fcc",
   "metadata": {},
   "outputs": [
    {
     "name": "stdout",
     "output_type": "stream",
     "text": [
      "name=chetana\n",
      "city=Pune\n",
      "course=AI\n",
      "age=29\n"
     ]
    }
   ],
   "source": [
    "#keyword arguments   **variablename\n",
    "#Allows a fn to accept any number of keyword argumnents\n",
    "#collected as a dictionary\n",
    "def my_func(**details):  #dict   def my_func(name,city,course,age)\n",
    "    for key ,value in details.items():\n",
    "        print(f\"{key}={value}\")\n",
    "my_func(name=\"chetana\",city=\"Pune\",course=\"AI\",age=29)"
   ]
  },
  {
   "cell_type": "markdown",
   "id": "676e5b9f-a73f-4e77-89ee-08d8b3cd2a2d",
   "metadata": {},
   "source": [
    "# Scope Of variables"
   ]
  },
  {
   "cell_type": "code",
   "execution_count": 23,
   "id": "9144a6ca-eafd-49ad-a6ff-917d576bc25c",
   "metadata": {},
   "outputs": [],
   "source": [
    "#limit"
   ]
  },
  {
   "cell_type": "markdown",
   "id": "d06a1061-5c60-4a1b-ade6-2af441a21947",
   "metadata": {},
   "source": [
    "### Local scope"
   ]
  },
  {
   "cell_type": "code",
   "execution_count": 24,
   "id": "0c679a8c-dc21-4fbe-8ba5-1f351b17dd9a",
   "metadata": {},
   "outputs": [
    {
     "data": {
      "text/plain": [
       "21"
      ]
     },
     "execution_count": 24,
     "metadata": {},
     "output_type": "execute_result"
    }
   ],
   "source": [
    "#variable scope inside only in function\n",
    "def add(p,q):  #with parameter\n",
    "    l=10   #a,b,c: Local variables\n",
    "    return p+q+l\n",
    "add(5,6)\n",
    "    "
   ]
  },
  {
   "cell_type": "code",
   "execution_count": 25,
   "id": "30ca55fc-1f0b-4697-84b2-88712197d858",
   "metadata": {},
   "outputs": [
    {
     "ename": "NameError",
     "evalue": "name 'p' is not defined",
     "output_type": "error",
     "traceback": [
      "\u001b[1;31m---------------------------------------------------------------------------\u001b[0m",
      "\u001b[1;31mNameError\u001b[0m                                 Traceback (most recent call last)",
      "Cell \u001b[1;32mIn[25], line 1\u001b[0m\n\u001b[1;32m----> 1\u001b[0m \u001b[38;5;28mprint\u001b[39m(p)\n",
      "\u001b[1;31mNameError\u001b[0m: name 'p' is not defined"
     ]
    }
   ],
   "source": [
    "print(p)"
   ]
  },
  {
   "cell_type": "code",
   "execution_count": 26,
   "id": "2532a90e-21b9-4de2-bdf3-4e07448ea8d6",
   "metadata": {},
   "outputs": [
    {
     "ename": "NameError",
     "evalue": "name 'l' is not defined",
     "output_type": "error",
     "traceback": [
      "\u001b[1;31m---------------------------------------------------------------------------\u001b[0m",
      "\u001b[1;31mNameError\u001b[0m                                 Traceback (most recent call last)",
      "Cell \u001b[1;32mIn[26], line 1\u001b[0m\n\u001b[1;32m----> 1\u001b[0m \u001b[38;5;28mprint\u001b[39m(l)\n",
      "\u001b[1;31mNameError\u001b[0m: name 'l' is not defined"
     ]
    }
   ],
   "source": [
    "print(l)"
   ]
  },
  {
   "cell_type": "code",
   "execution_count": 27,
   "id": "3312dbbd-6e3a-4e85-9cc4-499674443702",
   "metadata": {},
   "outputs": [
    {
     "data": {
      "text/plain": [
       "80"
      ]
     },
     "execution_count": 27,
     "metadata": {},
     "output_type": "execute_result"
    }
   ],
   "source": [
    "v=55   #global variable\n",
    "def add(m):\n",
    "    return v+m\n",
    "add(25)"
   ]
  },
  {
   "cell_type": "code",
   "execution_count": 28,
   "id": "c1bd9af9-ba53-4635-a006-03716bb763cc",
   "metadata": {},
   "outputs": [
    {
     "ename": "NameError",
     "evalue": "name 'm' is not defined",
     "output_type": "error",
     "traceback": [
      "\u001b[1;31m---------------------------------------------------------------------------\u001b[0m",
      "\u001b[1;31mNameError\u001b[0m                                 Traceback (most recent call last)",
      "Cell \u001b[1;32mIn[28], line 1\u001b[0m\n\u001b[1;32m----> 1\u001b[0m \u001b[38;5;28mprint\u001b[39m(m)\n",
      "\u001b[1;31mNameError\u001b[0m: name 'm' is not defined"
     ]
    }
   ],
   "source": [
    "print(m)  #local var"
   ]
  },
  {
   "cell_type": "code",
   "execution_count": 29,
   "id": "43628044-dbe3-4521-be0d-127756ec2451",
   "metadata": {},
   "outputs": [
    {
     "name": "stdout",
     "output_type": "stream",
     "text": [
      "55\n"
     ]
    }
   ],
   "source": [
    "print(v)"
   ]
  },
  {
   "cell_type": "markdown",
   "id": "201e89dc-85a1-47cc-9ffe-992588c4b861",
   "metadata": {},
   "source": [
    "# Nested Function"
   ]
  },
  {
   "cell_type": "code",
   "execution_count": 36,
   "id": "ff903325-4a74-41b4-bcde-bc6706125f0f",
   "metadata": {},
   "outputs": [],
   "source": [
    "g=40   #global: Outside fun\n",
    "def arithmetic(n,h):  #n,h: local variable  main fun\n",
    "    print(n,h,g)\n",
    "    def inner_fn(e,r):   #local\n",
    "        return e+r+g+n+h\n",
    "    return inner_fn(4,5)   #bottom to top\n",
    " "
   ]
  },
  {
   "cell_type": "code",
   "execution_count": 35,
   "id": "f1733783-87a8-4b28-9e93-fd91731c5df3",
   "metadata": {},
   "outputs": [
    {
     "name": "stdout",
     "output_type": "stream",
     "text": [
      "2 3 40\n"
     ]
    },
    {
     "data": {
      "text/plain": [
       "54"
      ]
     },
     "execution_count": 35,
     "metadata": {},
     "output_type": "execute_result"
    }
   ],
   "source": [
    "arithmetic(2,3)       "
   ]
  },
  {
   "cell_type": "code",
   "execution_count": 37,
   "id": "05763b2e-5c7c-43aa-a1b0-31bbfd10c24c",
   "metadata": {},
   "outputs": [],
   "source": [
    "#step 1: n=2,h=3\n",
    "#step 2: 2,3,40\n",
    "#step 3: bottom:last line: inner_fun call\n",
    "\n"
   ]
  },
  {
   "cell_type": "code",
   "execution_count": 39,
   "id": "1eeb656f-4b75-4855-bbd3-fb9db42a2bf6",
   "metadata": {},
   "outputs": [
    {
     "name": "stdout",
     "output_type": "stream",
     "text": [
      "5 6 40\n"
     ]
    },
    {
     "data": {
      "text/plain": [
       "(60, 54)"
      ]
     },
     "execution_count": 39,
     "metadata": {},
     "output_type": "execute_result"
    }
   ],
   "source": [
    "def arithmetic(n,h):  #n,h: local variable  main fun\n",
    "    print(n,h,g)\n",
    "    def inner_fn(e,r):   #local\n",
    "        return e+r+g+n+h\n",
    "    def inner2(a,b):\n",
    "        return a+b+n+h+g\n",
    "    return inner_fn(4,5) ,inner2(1,2)\n",
    "arithmetic(5,6)"
   ]
  },
  {
   "cell_type": "code",
   "execution_count": 46,
   "id": "b335058f-8fe3-411e-8dc2-e60d82b78299",
   "metadata": {},
   "outputs": [
    {
     "name": "stdout",
     "output_type": "stream",
     "text": [
      "start making tea\n"
     ]
    },
    {
     "data": {
      "text/plain": [
       "('Boiling water', 'adding tea powder', 'adding milk and suger')"
      ]
     },
     "execution_count": 46,
     "metadata": {},
     "output_type": "execute_result"
    }
   ],
   "source": [
    "def make_tea():\n",
    "    print(\"start making tea\")\n",
    "    def boil_water():\n",
    "        return \"Boiling water\"\n",
    "    def add_tea_powder():\n",
    "        return \"adding tea powder\"\n",
    "    def add_milk_suger():\n",
    "        return \"adding milk and suger\"\n",
    "    return boil_water(),add_tea_powder(),add_milk_suger()\n",
    "\n",
    "make_tea()  \n",
    "#in one function we can write only one return\n",
    "#we can use multiple print"
   ]
  },
  {
   "cell_type": "code",
   "execution_count": 45,
   "id": "d3910f2d-dcb4-4dde-a74e-731a15edce2a",
   "metadata": {},
   "outputs": [
    {
     "data": {
      "text/plain": [
       "(10, 7)"
      ]
     },
     "execution_count": 45,
     "metadata": {},
     "output_type": "execute_result"
    }
   ],
   "source": [
    "def add_mult(a,b):\n",
    "      #first return\n",
    "    return a*b,a+b\n",
    "add_mult(2,5)"
   ]
  },
  {
   "cell_type": "code",
   "execution_count": 51,
   "id": "5ae6253c-0943-4771-a6e6-d2a6683d1a8a",
   "metadata": {},
   "outputs": [
    {
     "name": "stdout",
     "output_type": "stream",
     "text": [
      "start making tea\n",
      "Boiling water\n",
      "adding tea powder\n",
      "adding milk and suger\n",
      "Tea is ready!\n",
      "None\n"
     ]
    }
   ],
   "source": [
    "def make_tea():\n",
    "    print(\"start making tea\")\n",
    "    def boil_water():\n",
    "        return \"Boiling water\"\n",
    "        \n",
    "    def add_tea_powder():\n",
    "        return \"adding tea powder\"\n",
    "    def add_milk_suger():\n",
    "        def tea_ready():\n",
    "            print(\"Tea is ready!\")\n",
    "        print(\"adding milk and suger\")\n",
    "        return tea_ready()\n",
    "    print(boil_water())\n",
    "    print(add_tea_powder())\n",
    "    print(add_milk_suger())\n",
    "make_tea()\n"
   ]
  },
  {
   "cell_type": "code",
   "execution_count": null,
   "id": "80568d2a-aad6-4d67-8efd-bb8167c957b5",
   "metadata": {},
   "outputs": [],
   "source": [
    "#lambda fun\n",
    "#list comprehension\n",
    "#one liner of python"
   ]
  }
 ],
 "metadata": {
  "kernelspec": {
   "display_name": "Python 3 (ipykernel)",
   "language": "python",
   "name": "python3"
  },
  "language_info": {
   "codemirror_mode": {
    "name": "ipython",
    "version": 3
   },
   "file_extension": ".py",
   "mimetype": "text/x-python",
   "name": "python",
   "nbconvert_exporter": "python",
   "pygments_lexer": "ipython3",
   "version": "3.11.7"
  }
 },
 "nbformat": 4,
 "nbformat_minor": 5
}
