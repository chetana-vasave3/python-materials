{
 "cells": [
  {
   "cell_type": "markdown",
   "id": "fd3b4b25-1b9e-48a2-8b09-ea1285065996",
   "metadata": {},
   "source": [
    "- Netset If : if inside another if\n",
    "- more than one condition\n",
    "- Dependent condition"
   ]
  },
  {
   "cell_type": "markdown",
   "id": "74bf4a56-86cb-46f2-b8df-2b9e6e32a37d",
   "metadata": {},
   "source": [
    "### To check Voting eligiblity with voting ID verification"
   ]
  },
  {
   "cell_type": "code",
   "execution_count": 2,
   "id": "38f68ed9-b6cc-4051-a18a-bc9c415ceccd",
   "metadata": {},
   "outputs": [
    {
     "name": "stdin",
     "output_type": "stream",
     "text": [
      "plz enter your age: 45\n"
     ]
    },
    {
     "name": "stdout",
     "output_type": "stream",
     "text": [
      "You are eligible\n"
     ]
    }
   ],
   "source": [
    "age=int(input(\"plz enter your age:\"))\n",
    "if age>18:\n",
    "    print(\"You are eligible\")\n",
    "else:\n",
    "    print(\"you are not eligible\")"
   ]
  },
  {
   "cell_type": "code",
   "execution_count": 5,
   "id": "491e7994-4838-4c88-9cfe-022f33df6ea3",
   "metadata": {},
   "outputs": [
    {
     "name": "stdin",
     "output_type": "stream",
     "text": [
      "plz enter your age: 7\n",
      "Do uh have voting Id card?(yes/no) yes\n"
     ]
    },
    {
     "name": "stdout",
     "output_type": "stream",
     "text": [
      "You are not eligible\n"
     ]
    }
   ],
   "source": [
    "age=int(input(\"plz enter your age:\"))\n",
    "has_id=input(\"Do uh have voting Id card?(yes/no)\")\n",
    "if age>18:  #2\n",
    "    if has_id==\"yes\":\n",
    "        print(\"You are eligible\")\n",
    "    else:\n",
    "        print(\"Plz bring your voting ID card\")\n",
    "else:\n",
    "    print(\"You are not eligible\")\n",
    "        \n",
    "    "
   ]
  },
  {
   "cell_type": "code",
   "execution_count": 8,
   "id": "d33e5010-173d-4032-a1e2-3d68d88aadef",
   "metadata": {},
   "outputs": [
    {
     "name": "stdin",
     "output_type": "stream",
     "text": [
      "plz enter your age: 28\n",
      "Do uh have voting Id card?(yes/no) no\n"
     ]
    },
    {
     "name": "stdout",
     "output_type": "stream",
     "text": [
      "Plz bring your voting ID card\n"
     ]
    }
   ],
   "source": [
    "age=int(input(\"plz enter your age:\"))\n",
    "if age>18:  #2\n",
    "    has_id=input(\"Do uh have voting Id card?(yes/no)\")\n",
    "    if has_id==\"yes\":\n",
    "        print(\"You are eligible\")\n",
    "    else:\n",
    "        print(\"Plz bring your voting ID card\")\n",
    "else:\n",
    "    print(\"You are not eligible\")"
   ]
  },
  {
   "cell_type": "code",
   "execution_count": 14,
   "id": "33fd9e97-c5ab-4acd-99ae-aa3071e09b85",
   "metadata": {},
   "outputs": [
    {
     "name": "stdin",
     "output_type": "stream",
     "text": [
      "plz enter your age: 45\n",
      "Do uh have voting Id card?(yes/no) n\n"
     ]
    },
    {
     "name": "stdout",
     "output_type": "stream",
     "text": [
      "Plz bring your voting ID card\n"
     ]
    }
   ],
   "source": [
    "age=int(input(\"plz enter your age:\"))\n",
    "if age>18:  #2\n",
    "    has_id=input(\"Do uh have voting Id card?(yes/no)\").lower()\n",
    "    if has_id==\"yes\" or has_id==\"y\":\n",
    "        print(\"You are eligible\")\n",
    "    else:\n",
    "        print(\"Plz bring your voting ID card\")\n",
    "else:\n",
    "    print(\"You are not eligible\")"
   ]
  },
  {
   "cell_type": "code",
   "execution_count": 17,
   "id": "1800ecd9-9d7d-4dc3-ba63-925e2d8568d6",
   "metadata": {},
   "outputs": [
    {
     "name": "stdin",
     "output_type": "stream",
     "text": [
      "enter num: 5\n"
     ]
    },
    {
     "name": "stdout",
     "output_type": "stream",
     "text": [
      "num is not above 10\n"
     ]
    }
   ],
   "source": [
    "x=int(input(\"enter num:\"))\n",
    "if x>10:  #False\n",
    "    print(\"num is above 10\")\n",
    "    if x>20:  #false\n",
    "        print(\"Also above 20\")\n",
    "    else:\n",
    "        print(\"num is above 10 but not above 20\")\n",
    "else:\n",
    "    print(\"num is not above 10\")\n",
    "    \n",
    "        \n",
    "      "
   ]
  },
  {
   "cell_type": "markdown",
   "id": "d6d9196c-c45c-4fa0-a870-cb137963b58e",
   "metadata": {},
   "source": [
    "# Ticket Pricing based on age and type"
   ]
  },
  {
   "cell_type": "code",
   "execution_count": 30,
   "id": "d34ca4d4-b577-4ec5-ac2d-fb6fa338d463",
   "metadata": {},
   "outputs": [
    {
     "name": "stdin",
     "output_type": "stream",
     "text": [
      "plz enter your age: 25\n",
      "enter ticket type(adult/child) child\n"
     ]
    },
    {
     "name": "stdout",
     "output_type": "stream",
     "text": [
      "plz give proper age for child\n",
      "ticket price 0\n"
     ]
    }
   ],
   "source": [
    "age =int(input(\"plz enter your age:\"))\n",
    "ticket_type=input(\"enter ticket type(adult/child)\").lower()\n",
    "if ticket_type==\"adult\":\n",
    "    if age>=25:\n",
    "        price=100\n",
    "    elif 15<=age<25:\n",
    "        price=50\n",
    "    else:\n",
    "        price=0\n",
    "        print(\"plz give proper age for adult\")\n",
    "else:\n",
    "    if 1<=age<=6:\n",
    "        price=20\n",
    "    elif 6<age<15:\n",
    "        price=30\n",
    "    else:\n",
    "        price=0\n",
    "        print(\"plz give proper age for child\")\n",
    "        \n",
    "        \n",
    "print(\"ticket price\",price)        "
   ]
  },
  {
   "cell_type": "markdown",
   "id": "20f33819-2edd-4ef5-a774-e4bed1e7e14c",
   "metadata": {},
   "source": [
    "# Calculate Discount Based on Purchase amount and membership"
   ]
  },
  {
   "cell_type": "code",
   "execution_count": 38,
   "id": "7754e000-6c5c-4420-9d3b-b29bceea97c5",
   "metadata": {},
   "outputs": [
    {
     "name": "stdin",
     "output_type": "stream",
     "text": [
      "enter purchase amount: 2000\n",
      "Are you member ?(yes/no): yes\n",
      "enter your id no: sdsfd\n"
     ]
    },
    {
     "name": "stdout",
     "output_type": "stream",
     "text": [
      "total amount after discount: 1900.0\n"
     ]
    }
   ],
   "source": [
    "purchase_amount=float(input(\"enter purchase amount:\"))\n",
    "is_member=input(\"Are you member ?(yes/no):\")\n",
    "id=\"S101\"\n",
    "if is_member==\"yes\":\n",
    "    id_no=input(\"enter your id no:\")\n",
    "    if purchase_amount>=500 and id_no==id:  #10%\n",
    "        discount=0.1*purchase_amount\n",
    "    else:\n",
    "        discount=0.05*purchase_amount\n",
    "\n",
    "else:\n",
    "    if purchase_amount>=500:\n",
    "        discount=0.02*purchase_amount\n",
    "    else:\n",
    "        discount=0\n",
    "\n",
    "paid_amount=purchase_amount-discount\n",
    "print(\"total amount after discount:\",paid_amount)\n",
    "        \n",
    "    \n",
    "    \n",
    "    "
   ]
  },
  {
   "cell_type": "code",
   "execution_count": 39,
   "id": "76e96a8c-7b1d-4155-acce-537bd28f2007",
   "metadata": {},
   "outputs": [
    {
     "data": {
      "text/plain": [
       "100.0"
      ]
     },
     "execution_count": 39,
     "metadata": {},
     "output_type": "execute_result"
    }
   ],
   "source": [
    "2000*0.05"
   ]
  },
  {
   "cell_type": "markdown",
   "id": "adcc8180-465a-4345-a4cc-8e5c102da3f3",
   "metadata": {},
   "source": [
    "# password checker"
   ]
  },
  {
   "cell_type": "code",
   "execution_count": 41,
   "id": "aa7af13b-93d3-4e0b-b64b-29b84584c96c",
   "metadata": {},
   "outputs": [
    {
     "name": "stdin",
     "output_type": "stream",
     "text": [
      "Plz enter your password: csfdfd\n"
     ]
    },
    {
     "name": "stdout",
     "output_type": "stream",
     "text": [
      "wrong password\n"
     ]
    }
   ],
   "source": [
    "#First letter capital: isupper()\n",
    "#Letters must be alphanumeric: isalnum()\n",
    "#last letter Lower case: islower()\n",
    "#len of password must be greater that =8 len()\n",
    "password=input(\"Plz enter your password:\")   #Chetana  slicing \n",
    "if password[0].isupper():\n",
    "    if password.isalnum():\n",
    "        if password[-1].islower():\n",
    "            if len(password)>=8:\n",
    "                print(\"Right Password\")\n",
    "else:\n",
    "    print(\"wrong password\")\n",
    "                "
   ]
  },
  {
   "cell_type": "code",
   "execution_count": 45,
   "id": "445e90bf-10ad-44cb-bb98-26488029a886",
   "metadata": {},
   "outputs": [
    {
     "name": "stdin",
     "output_type": "stream",
     "text": [
      "Plz enter your password: cgfgfgdh\n"
     ]
    },
    {
     "name": "stdout",
     "output_type": "stream",
     "text": [
      "First letter must be capital\n"
     ]
    }
   ],
   "source": [
    "password=input(\"Plz enter your password:\")   #Chetana  slicing \n",
    "if password[0].isupper():\n",
    "    if password.isalnum():\n",
    "        if password[-1].islower():\n",
    "            if len(password)>=8:\n",
    "                print(\"Right Password\")\n",
    "            else:\n",
    "                print(\"password len must be greater than 8\")\n",
    "        else:\n",
    "            print(\"Last letter must be in lower case\")\n",
    "    else:\n",
    "        print(\"paswword must contain alpha numeric letters\")\n",
    "            \n",
    "else:\n",
    "    print(\"First letter must be capital\")\n",
    "                "
   ]
  },
  {
   "cell_type": "code",
   "execution_count": null,
   "id": "13b1e033-3dbe-42fd-921a-7b585b78a357",
   "metadata": {},
   "outputs": [],
   "source": []
  }
 ],
 "metadata": {
  "kernelspec": {
   "display_name": "Python 3 (ipykernel)",
   "language": "python",
   "name": "python3"
  },
  "language_info": {
   "codemirror_mode": {
    "name": "ipython",
    "version": 3
   },
   "file_extension": ".py",
   "mimetype": "text/x-python",
   "name": "python",
   "nbconvert_exporter": "python",
   "pygments_lexer": "ipython3",
   "version": "3.11.7"
  }
 },
 "nbformat": 4,
 "nbformat_minor": 5
}
