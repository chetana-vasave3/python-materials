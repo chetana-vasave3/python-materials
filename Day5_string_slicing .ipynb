{
 "cells": [
  {
   "cell_type": "markdown",
   "id": "739063a8-8282-4fbd-a559-e65c6afad850",
   "metadata": {},
   "source": [
    "Slicing: extract part of the string using index"
   ]
  },
  {
   "cell_type": "code",
   "execution_count": 1,
   "id": "88f0f475-c99e-4aae-8dfa-4da8bb7f1cf3",
   "metadata": {},
   "outputs": [
    {
     "data": {
      "text/plain": [
       "'S'"
      ]
     },
     "execution_count": 1,
     "metadata": {},
     "output_type": "execute_result"
    }
   ],
   "source": [
    "s=\"Data Science\"\n",
    "# only one charcter==>stringname[index]\n",
    "s[5]   #positive\n"
   ]
  },
  {
   "cell_type": "code",
   "execution_count": 2,
   "id": "d789c8c0-3992-468d-b958-1c6f18f140e6",
   "metadata": {},
   "outputs": [
    {
     "data": {
      "text/plain": [
       "'S'"
      ]
     },
     "execution_count": 2,
     "metadata": {},
     "output_type": "execute_result"
    }
   ],
   "source": [
    "s[-7]"
   ]
  },
  {
   "cell_type": "code",
   "execution_count": 4,
   "id": "4fcddce2-7cb8-446e-a38d-ebb9661a2133",
   "metadata": {},
   "outputs": [
    {
     "name": "stdout",
     "output_type": "stream",
     "text": [
      "Science\n"
     ]
    }
   ],
   "source": [
    "#part of the string==>stringname[startnum:stopvalue(1 extra):stepsize]\n",
    "#startnum: bydefault 0\n",
    "#stop value: bydefault: last char\n",
    "#stepsize bydefault=1\n",
    "#1 char skip: stepsize: 2\n",
    "#2 char skip: stepsize:3\n",
    "print(s[5:12:1])  #positive slicing\n"
   ]
  },
  {
   "cell_type": "code",
   "execution_count": 6,
   "id": "353d9a0c-f704-4621-8920-194bfb9a8dda",
   "metadata": {},
   "outputs": [
    {
     "name": "stdout",
     "output_type": "stream",
     "text": [
      "Science\n"
     ]
    }
   ],
   "source": [
    "print(s[5:12])"
   ]
  },
  {
   "cell_type": "code",
   "execution_count": 7,
   "id": "8979226e-f442-49cc-834e-b12d45902d41",
   "metadata": {},
   "outputs": [
    {
     "name": "stdout",
     "output_type": "stream",
     "text": [
      "Data Science\n"
     ]
    }
   ],
   "source": [
    "print(s[:12:1])"
   ]
  },
  {
   "cell_type": "code",
   "execution_count": 8,
   "id": "df28e44b-45e5-4604-bf77-5c84b9864733",
   "metadata": {},
   "outputs": [
    {
     "name": "stdout",
     "output_type": "stream",
     "text": [
      "Science\n"
     ]
    }
   ],
   "source": [
    "print(s[5::1])"
   ]
  },
  {
   "cell_type": "code",
   "execution_count": 9,
   "id": "9ef1be9f-f1df-43b7-a1d9-cda43dfac5b0",
   "metadata": {},
   "outputs": [
    {
     "data": {
      "text/plain": [
       "'ta Sc'"
      ]
     },
     "execution_count": 9,
     "metadata": {},
     "output_type": "execute_result"
    }
   ],
   "source": [
    "#ta Sc\n",
    "#positive slicing\n",
    "s[2:7]"
   ]
  },
  {
   "cell_type": "code",
   "execution_count": 12,
   "id": "a32ce467-a887-4882-9628-f1a488e5acbf",
   "metadata": {},
   "outputs": [
    {
     "data": {
      "text/plain": [
       "'Dt ce'"
      ]
     },
     "execution_count": 12,
     "metadata": {},
     "output_type": "execute_result"
    }
   ],
   "source": [
    "s=\"Data Science\"\n",
    "#extract: Dt ce\n",
    "s[0:9:2]"
   ]
  },
  {
   "cell_type": "code",
   "execution_count": 15,
   "id": "e8885c6e-a46f-41df-b4ff-a9d3b7f826d2",
   "metadata": {},
   "outputs": [
    {
     "data": {
      "text/plain": [
       "'Science'"
      ]
     },
     "execution_count": 15,
     "metadata": {},
     "output_type": "execute_result"
    }
   ],
   "source": [
    "#extract  Science using negative slicing\n",
    "#e stop charcter==>-1\n",
    "s[-7::1]"
   ]
  },
  {
   "cell_type": "code",
   "execution_count": 16,
   "id": "0e9150d1-d799-4aed-8adb-92c20fcacdb4",
   "metadata": {},
   "outputs": [
    {
     "data": {
      "text/plain": [
       "'Scien'"
      ]
     },
     "execution_count": 16,
     "metadata": {},
     "output_type": "execute_result"
    }
   ],
   "source": [
    "s[-7:-2:1]\n",
    "#S"
   ]
  },
  {
   "cell_type": "code",
   "execution_count": 17,
   "id": "b0864880-6703-4eda-8424-875f531a26ec",
   "metadata": {},
   "outputs": [
    {
     "data": {
      "text/plain": [
       "'ecneicS ataD'"
      ]
     },
     "execution_count": 17,
     "metadata": {},
     "output_type": "execute_result"
    }
   ],
   "source": [
    "#reverse whole string\n",
    "s[::-1]"
   ]
  },
  {
   "cell_type": "code",
   "execution_count": 19,
   "id": "17ac4bc9-b402-4e6a-9fe7-c4b79466ed6d",
   "metadata": {},
   "outputs": [
    {
     "data": {
      "text/plain": [
       "'ataD'"
      ]
     },
     "execution_count": 19,
     "metadata": {},
     "output_type": "execute_result"
    }
   ],
   "source": [
    "#reverse \"Data\" word==>\"ataD\n",
    "s=\"Data Science\"\n",
    "#positive\n",
    "s[3::-1]"
   ]
  },
  {
   "cell_type": "code",
   "execution_count": 20,
   "id": "bba2f8fd-648f-459f-a439-c2164cc4fb9c",
   "metadata": {},
   "outputs": [
    {
     "data": {
      "text/plain": [
       "'ecneicS'"
      ]
     },
     "execution_count": 20,
     "metadata": {},
     "output_type": "execute_result"
    }
   ],
   "source": [
    "#reverse \"Science\"\n",
    "s[11:4:-1]"
   ]
  },
  {
   "cell_type": "code",
   "execution_count": 21,
   "id": "ee474fd2-3949-45fb-8541-772728022a6a",
   "metadata": {},
   "outputs": [],
   "source": [
    "s=\"Data Science and data analysis\""
   ]
  },
  {
   "cell_type": "code",
   "execution_count": 22,
   "id": "e1419e67-c7d2-4c67-a867-6d10f20fc6c7",
   "metadata": {},
   "outputs": [
    {
     "data": {
      "text/plain": [
       "'Science'"
      ]
     },
     "execution_count": 22,
     "metadata": {},
     "output_type": "execute_result"
    }
   ],
   "source": [
    "#extract Science word using +ve and -ve\n",
    "#+ve\n",
    "s[5:12]"
   ]
  },
  {
   "cell_type": "code",
   "execution_count": 23,
   "id": "41dd059f-3c31-4cad-a1d6-dd4ad0109598",
   "metadata": {},
   "outputs": [
    {
     "data": {
      "text/plain": [
       "'Science'"
      ]
     },
     "execution_count": 23,
     "metadata": {},
     "output_type": "execute_result"
    }
   ],
   "source": [
    "#-ve\n",
    "s[-25:-18]"
   ]
  },
  {
   "cell_type": "code",
   "execution_count": 24,
   "id": "9e5613a3-46ae-46d5-bb59-60364cdb9203",
   "metadata": {},
   "outputs": [
    {
     "data": {
      "text/plain": [
       "'ecneicS'"
      ]
     },
     "execution_count": 24,
     "metadata": {},
     "output_type": "execute_result"
    }
   ],
   "source": [
    "#reverse \"Science word\"\n",
    "#+ve\n",
    "s[11:4:-1]"
   ]
  },
  {
   "cell_type": "code",
   "execution_count": 25,
   "id": "f8dab1d1-690d-451e-a066-4e326d830ebc",
   "metadata": {},
   "outputs": [
    {
     "data": {
      "text/plain": [
       "'ecneicS'"
      ]
     },
     "execution_count": 25,
     "metadata": {},
     "output_type": "execute_result"
    }
   ],
   "source": [
    "#-ve\n",
    "s[-19:-26:-1]"
   ]
  },
  {
   "cell_type": "code",
   "execution_count": 30,
   "id": "a46ce80a-9788-4d2a-8c33-84e40cb67fb9",
   "metadata": {},
   "outputs": [
    {
     "data": {
      "text/plain": [
       "'analysis'"
      ]
     },
     "execution_count": 30,
     "metadata": {},
     "output_type": "execute_result"
    }
   ],
   "source": [
    "#extract analysis word\n",
    "#+ve\n",
    "s[22:30]"
   ]
  },
  {
   "cell_type": "code",
   "execution_count": 28,
   "id": "ebe376cb-775c-42cc-957c-8935d9c6f07c",
   "metadata": {},
   "outputs": [],
   "source": [
    "#-ve"
   ]
  },
  {
   "cell_type": "code",
   "execution_count": 29,
   "id": "8f986826-e534-448c-b3e2-c54e611e1de0",
   "metadata": {},
   "outputs": [
    {
     "data": {
      "text/plain": [
       "'analysis'"
      ]
     },
     "execution_count": 29,
     "metadata": {},
     "output_type": "execute_result"
    }
   ],
   "source": [
    "s[-8:]"
   ]
  },
  {
   "cell_type": "code",
   "execution_count": 31,
   "id": "02a1e7f6-46f9-4e7f-b92d-04b235fec527",
   "metadata": {},
   "outputs": [
    {
     "data": {
      "text/plain": [
       "'sisylana'"
      ]
     },
     "execution_count": 31,
     "metadata": {},
     "output_type": "execute_result"
    }
   ],
   "source": [
    "#reverse analysis word\n",
    "#+ve\n",
    "s[29:21:-1]"
   ]
  },
  {
   "cell_type": "code",
   "execution_count": 33,
   "id": "50afdba3-9788-48b1-942d-3633e4a91dbe",
   "metadata": {},
   "outputs": [
    {
     "data": {
      "text/plain": [
       "'sisylana'"
      ]
     },
     "execution_count": 33,
     "metadata": {},
     "output_type": "execute_result"
    }
   ],
   "source": [
    "#-ve slicing\n",
    "s[:-9:-1]"
   ]
  },
  {
   "cell_type": "code",
   "execution_count": 34,
   "id": "e1423123-8983-4a53-b398-9d960c764faf",
   "metadata": {},
   "outputs": [
    {
     "data": {
      "text/plain": [
       "'sisylana atad dna ecneicS ataD'"
      ]
     },
     "execution_count": 34,
     "metadata": {},
     "output_type": "execute_result"
    }
   ],
   "source": [
    "s[::-1]"
   ]
  },
  {
   "cell_type": "code",
   "execution_count": 35,
   "id": "04cabf37-d7f3-4436-a762-309da5111f7c",
   "metadata": {},
   "outputs": [
    {
     "data": {
      "text/plain": [
       "[4, 5]"
      ]
     },
     "execution_count": 35,
     "metadata": {},
     "output_type": "execute_result"
    }
   ],
   "source": [
    "l=[1,2,3,4,5]\n",
    "l[3:]"
   ]
  },
  {
   "cell_type": "code",
   "execution_count": 36,
   "id": "e3505e9f-4256-47d4-abb1-85704cd99660",
   "metadata": {},
   "outputs": [
    {
     "data": {
      "text/plain": [
       "[5, 4]"
      ]
     },
     "execution_count": 36,
     "metadata": {},
     "output_type": "execute_result"
    }
   ],
   "source": [
    "l[-1:-3:-1]"
   ]
  },
  {
   "cell_type": "code",
   "execution_count": 37,
   "id": "d884058c-6dc9-41ce-96a4-d31ffca56463",
   "metadata": {},
   "outputs": [
    {
     "data": {
      "text/plain": [
       "[5, 4, 3, 2, 1]"
      ]
     },
     "execution_count": 37,
     "metadata": {},
     "output_type": "execute_result"
    }
   ],
   "source": [
    "l[::-1]"
   ]
  },
  {
   "cell_type": "code",
   "execution_count": 39,
   "id": "f1ccbcf4-69d9-41d9-958e-c8f12fb76bcf",
   "metadata": {},
   "outputs": [
    {
     "data": {
      "text/plain": [
       "[5, 3, 1]"
      ]
     },
     "execution_count": 39,
     "metadata": {},
     "output_type": "execute_result"
    }
   ],
   "source": [
    "#1,3,5\n",
    "l[::-2]"
   ]
  },
  {
   "cell_type": "code",
   "execution_count": 1,
   "id": "7f27bb9c-5d81-4d76-b6e4-0d5703454b80",
   "metadata": {},
   "outputs": [],
   "source": [
    "s=\"I am Learning Python from SPEEDUP\"\n"
   ]
  },
  {
   "cell_type": "code",
   "execution_count": 2,
   "id": "a411256d-ca30-4277-bcf6-6cc4f43bc372",
   "metadata": {},
   "outputs": [
    {
     "data": {
      "text/plain": [
       "26"
      ]
     },
     "execution_count": 2,
     "metadata": {},
     "output_type": "execute_result"
    }
   ],
   "source": [
    "s.find(\"S\")"
   ]
  },
  {
   "cell_type": "code",
   "execution_count": 4,
   "id": "6dccb5b0-b918-4ded-bbba-c19e0c50a476",
   "metadata": {},
   "outputs": [
    {
     "data": {
      "text/plain": [
       "'SPEEDUP'"
      ]
     },
     "execution_count": 4,
     "metadata": {},
     "output_type": "execute_result"
    }
   ],
   "source": [
    "#1. extarct SPEEDUP word \n",
    "#positive slicing\n",
    "s[26:]"
   ]
  },
  {
   "cell_type": "code",
   "execution_count": 5,
   "id": "ba86d80c-39f0-4de4-96d1-622f1bc45c91",
   "metadata": {},
   "outputs": [
    {
     "data": {
      "text/plain": [
       "'SPEEDUP'"
      ]
     },
     "execution_count": 5,
     "metadata": {},
     "output_type": "execute_result"
    }
   ],
   "source": [
    "s[26:33]"
   ]
  },
  {
   "cell_type": "code",
   "execution_count": 8,
   "id": "c76a8e21-5937-4f33-96ec-617797cae23b",
   "metadata": {},
   "outputs": [
    {
     "data": {
      "text/plain": [
       "'SPEEDUP'"
      ]
     },
     "execution_count": 8,
     "metadata": {},
     "output_type": "execute_result"
    }
   ],
   "source": [
    "#negative Slicing\n",
    "s[-7:]"
   ]
  },
  {
   "cell_type": "code",
   "execution_count": 9,
   "id": "5fb7e4df-ef03-4747-9e12-7f84f802b3a5",
   "metadata": {},
   "outputs": [
    {
     "data": {
      "text/plain": [
       "'PUDEEPS'"
      ]
     },
     "execution_count": 9,
     "metadata": {},
     "output_type": "execute_result"
    }
   ],
   "source": [
    "#2. extarct and reverse SPEEDUP word \n",
    "#positive\n",
    "s[32:25:-1]"
   ]
  },
  {
   "cell_type": "code",
   "execution_count": 10,
   "id": "9a47ef66-2b16-4a8a-a69e-50bffc3089f0",
   "metadata": {},
   "outputs": [
    {
     "data": {
      "text/plain": [
       "'PUDEEPS'"
      ]
     },
     "execution_count": 10,
     "metadata": {},
     "output_type": "execute_result"
    }
   ],
   "source": [
    "#negative\n",
    "s[-1:-8:-1]"
   ]
  },
  {
   "cell_type": "code",
   "execution_count": 11,
   "id": "88a7933b-9961-46fc-824c-87681440c3a0",
   "metadata": {},
   "outputs": [
    {
     "data": {
      "text/plain": [
       "'PDES'"
      ]
     },
     "execution_count": 11,
     "metadata": {},
     "output_type": "execute_result"
    }
   ],
   "source": [
    "s[-1:-8:-2]"
   ]
  },
  {
   "cell_type": "code",
   "execution_count": null,
   "id": "41ad7053-f91e-427a-9ff8-ed7716e7e0fe",
   "metadata": {},
   "outputs": [],
   "source": []
  }
 ],
 "metadata": {
  "kernelspec": {
   "display_name": "Python 3 (ipykernel)",
   "language": "python",
   "name": "python3"
  },
  "language_info": {
   "codemirror_mode": {
    "name": "ipython",
    "version": 3
   },
   "file_extension": ".py",
   "mimetype": "text/x-python",
   "name": "python",
   "nbconvert_exporter": "python",
   "pygments_lexer": "ipython3",
   "version": "3.11.7"
  }
 },
 "nbformat": 4,
 "nbformat_minor": 5
}
