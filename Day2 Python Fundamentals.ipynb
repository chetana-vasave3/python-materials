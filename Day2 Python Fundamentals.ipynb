{
 "cells": [
  {
   "cell_type": "markdown",
   "id": "bb92cb03-d0b3-419a-a129-c27a583f3ffb",
   "metadata": {},
   "source": [
    "### Python iterpreted lang / compiler"
   ]
  },
  {
   "cell_type": "code",
   "execution_count": 1,
   "id": "8e410368-bff1-45a5-8454-15024fcd3f09",
   "metadata": {},
   "outputs": [
    {
     "name": "stdout",
     "output_type": "stream",
     "text": [
      "Chetana\n",
      "Aditya\n",
      "gouri\n"
     ]
    }
   ],
   "source": [
    "#shift +enter\n",
    "#heading===>cell select==>alt +m===>1,2,3,4==>shift +enter\n",
    "print(\"Chetana\")\n",
    "print(\"Aditya\")\n",
    "print(\"gouri\")"
   ]
  },
  {
   "cell_type": "code",
   "execution_count": 2,
   "id": "dedc9dd6-acee-452d-93d6-cd065e04e666",
   "metadata": {},
   "outputs": [
    {
     "name": "stdout",
     "output_type": "stream",
     "text": [
      "Chetana\n"
     ]
    },
    {
     "ename": "NameError",
     "evalue": "name 'Aditya' is not defined",
     "output_type": "error",
     "traceback": [
      "\u001b[1;31m---------------------------------------------------------------------------\u001b[0m",
      "\u001b[1;31mNameError\u001b[0m                                 Traceback (most recent call last)",
      "Cell \u001b[1;32mIn[2], line 2\u001b[0m\n\u001b[0;32m      1\u001b[0m \u001b[38;5;28mprint\u001b[39m(\u001b[38;5;124m\"\u001b[39m\u001b[38;5;124mChetana\u001b[39m\u001b[38;5;124m\"\u001b[39m)\n\u001b[1;32m----> 2\u001b[0m \u001b[38;5;28mprint\u001b[39m(Aditya)\n\u001b[0;32m      3\u001b[0m \u001b[38;5;28mprint\u001b[39m(\u001b[38;5;124m\"\u001b[39m\u001b[38;5;124mgouri\u001b[39m\u001b[38;5;124m\"\u001b[39m)\n",
      "\u001b[1;31mNameError\u001b[0m: name 'Aditya' is not defined"
     ]
    }
   ],
   "source": [
    "print(\"Chetana\")\n",
    "print(Aditya)\n",
    "print(\"gouri\")\n",
    "#line by line\n",
    "#if there is error in any line python interpreter will stop"
   ]
  },
  {
   "cell_type": "markdown",
   "id": "2d6b69d8-8be6-4cde-880e-f9179c612e21",
   "metadata": {},
   "source": [
    "# Python is iterpreted lang coz it runs code line by line"
   ]
  },
  {
   "cell_type": "raw",
   "id": "e129bfc0-dbf2-4ea6-99a4-affaee176fd0",
   "metadata": {},
   "source": [
    "#c===>comiler based\n",
    "#include <studio.h>\n",
    "int main() {\n",
    "    print(\"Chetana\")\n",
    "    print(Aditya)\n",
    "    print(\"gouri\")\n",
    "    return 0;\n",
    "}\n"
   ]
  },
  {
   "cell_type": "markdown",
   "id": "35032a1f-fd9d-440d-94a8-1cc3c37f3744",
   "metadata": {},
   "source": [
    "#Tokens : individual unit in a program\n",
    "- Keywords: predefined word\n",
    "- variables/ indentifiers: data storing===>memory location name\n",
    "- literals: a data given to a variable\n",
    "   - e.g. a=90(numeric), name=\"chetana\"(text), l=[1,2,3](list)\n",
    "- operators(= : assignment operator),<,>,<=\n",
    "- punctuators(\"\" ,,:)"
   ]
  },
  {
   "cell_type": "code",
   "execution_count": 1,
   "id": "290b70be-dd8f-4b57-a062-8f13093e43d3",
   "metadata": {},
   "outputs": [
    {
     "name": "stdin",
     "output_type": "stream",
     "text": [
      "Enter your name: chetana\n"
     ]
    },
    {
     "name": "stdout",
     "output_type": "stream",
     "text": [
      "chetana\n"
     ]
    },
    {
     "name": "stdin",
     "output_type": "stream",
     "text": [
      "enter your marks: 90\n"
     ]
    },
    {
     "name": "stdout",
     "output_type": "stream",
     "text": [
      "pass\n"
     ]
    }
   ],
   "source": [
    "name=str(input(\"Enter your name:\"))\n",
    "print(name)\n",
    "marks=float(input(\"enter your marks:\"))\n",
    "if marks>60:\n",
    "    print(\"pass\")\n",
    "else: \n",
    "    print(\"fail\")"
   ]
  },
  {
   "cell_type": "code",
   "execution_count": 2,
   "id": "7f466b2b-a8d2-4a76-ba60-92df61f27c46",
   "metadata": {},
   "outputs": [
    {
     "name": "stdout",
     "output_type": "stream",
     "text": [
      "168\n"
     ]
    }
   ],
   "source": [
    "a=90\n",
    "b=78\n",
    "print(a+b)"
   ]
  },
  {
   "cell_type": "code",
   "execution_count": 3,
   "id": "f6d209c2-f1a5-4f52-bc15-67c8c1656fc9",
   "metadata": {},
   "outputs": [
    {
     "name": "stdout",
     "output_type": "stream",
     "text": [
      "266\n"
     ]
    }
   ],
   "source": [
    "a=188\n",
    "b=78\n",
    "print(a+b)"
   ]
  },
  {
   "cell_type": "markdown",
   "id": "8a3bd0aa-9d63-4629-802f-feefead92c07",
   "metadata": {},
   "source": [
    "# variables"
   ]
  },
  {
   "cell_type": "markdown",
   "id": "a5c0c606-87ac-4d07-a747-27a9a996862a",
   "metadata": {},
   "source": [
    "# Rules for creating variables"
   ]
  },
  {
   "cell_type": "markdown",
   "id": "19cafae8-ec1c-4c16-893b-2c07378155c6",
   "metadata": {},
   "source": [
    "- variable name : starts with letter (a-z/A-Z/ starts with _)\n",
    "                                      \n",
    "_name=\"chetana\"\n",
    "radius_of_circle=4.5\n",
    "- in variable name ===>dont use spaces or dashes\n",
    "- variable name : dont starts with number\n",
    "   1a=45(wrong)\n",
    "   a1=45(correct)\n",
    "- we cant use keywords as a vaiable name\n",
    "-  variable name are case sensitive"
   ]
  },
  {
   "cell_type": "code",
   "execution_count": 4,
   "id": "b1ae8983-ef19-4ae5-b848-960fb00087e8",
   "metadata": {},
   "outputs": [
    {
     "name": "stdout",
     "output_type": "stream",
     "text": [
      "chetana\n"
     ]
    }
   ],
   "source": [
    "print(\"chetana\")\n",
    "#display"
   ]
  },
  {
   "cell_type": "code",
   "execution_count": 5,
   "id": "abc88df1-691c-47a9-a18c-a66ab31d45ef",
   "metadata": {},
   "outputs": [],
   "source": [
    "#print=90"
   ]
  },
  {
   "cell_type": "code",
   "execution_count": 1,
   "id": "59cbecac-61ce-4845-8148-da72dabbe3df",
   "metadata": {},
   "outputs": [
    {
     "name": "stdout",
     "output_type": "stream",
     "text": [
      "112\n"
     ]
    }
   ],
   "source": [
    "print(45+67)"
   ]
  },
  {
   "cell_type": "code",
   "execution_count": 7,
   "id": "b19d0748-29df-4525-8a74-9bb9c7cfaf1c",
   "metadata": {},
   "outputs": [
    {
     "data": {
      "text/plain": [
       "90"
      ]
     },
     "execution_count": 7,
     "metadata": {},
     "output_type": "execute_result"
    }
   ],
   "source": [
    "print"
   ]
  },
  {
   "cell_type": "code",
   "execution_count": 2,
   "id": "bf9e53ea-b9ff-4d78-9173-5072d00a5d6d",
   "metadata": {},
   "outputs": [],
   "source": [
    "#kernel restart "
   ]
  },
  {
   "cell_type": "code",
   "execution_count": 3,
   "id": "3ce46319-87d3-4b84-9705-32dbc9e270eb",
   "metadata": {},
   "outputs": [],
   "source": [
    "NAME=\"chetana\"\n",
    "Name=\"gouri\"\n",
    "name=\"mayuri\""
   ]
  },
  {
   "cell_type": "code",
   "execution_count": 4,
   "id": "d144ee68-c37d-4683-987c-89a169d3ad69",
   "metadata": {},
   "outputs": [
    {
     "ename": "SyntaxError",
     "evalue": "invalid decimal literal (1390083940.py, line 7)",
     "output_type": "error",
     "traceback": [
      "\u001b[1;36m  Cell \u001b[1;32mIn[4], line 7\u001b[1;36m\u001b[0m\n\u001b[1;33m    2myvar=\"john\"  #incorrect\u001b[0m\n\u001b[1;37m    ^\u001b[0m\n\u001b[1;31mSyntaxError\u001b[0m\u001b[1;31m:\u001b[0m invalid decimal literal\n"
     ]
    }
   ],
   "source": [
    "myvar=\"john\"  #correct\n",
    "my_var=\"john\" #correct\n",
    "_my_var=\"john\" #correct\n",
    "myVar=\"john\"  #correct\n",
    "MYVAR=\"john\"   #correct\n",
    "myvar2=\"john\"  #correct\n",
    "2myvar=\"john\"  #incorrect\n",
    "my-var=\"john\"  #incorrect\n",
    "my var=\"john\"   #incorrect"
   ]
  },
  {
   "cell_type": "raw",
   "id": "d584d02e-6e12-4251-a642-82b6559dd02d",
   "metadata": {},
   "source": [
    "we can name the variable in 3 ways\n",
    "- 1. complex way\n",
    "fdfdfcbcvbv=450\n",
    "jyiunbmnb=78\n",
    "trtfgfgff=fdfdfcbcvbv*jyiunbmnb\n",
    "print(trtfgfgff)"
   ]
  },
  {
   "cell_type": "raw",
   "id": "7a9cd0f0-1de7-4390-a21b-4827d10f8d6e",
   "metadata": {},
   "source": [
    "- 2.easier way\n",
    "x=450\n",
    "y=78\n",
    "z=x*y\n",
    "\n",
    "- 3.understandable way\n",
    "payment_per_day=450\n",
    "days_of_working=78\n",
    "total_salary=payment_per_day*days_of_working"
   ]
  },
  {
   "cell_type": "markdown",
   "id": "185425af-31b9-46e9-90a9-39aba854c23f",
   "metadata": {},
   "source": [
    "### More on variables"
   ]
  },
  {
   "cell_type": "code",
   "execution_count": 5,
   "id": "f5c4dc50-eca9-4a6f-9902-196eddc9e1d1",
   "metadata": {},
   "outputs": [],
   "source": [
    "a=1\n",
    "b=1\n",
    "c=1"
   ]
  },
  {
   "cell_type": "code",
   "execution_count": 6,
   "id": "983a5317-5fae-4660-8f52-b2420ccc14f3",
   "metadata": {},
   "outputs": [],
   "source": [
    "a=b=c=1\n",
    "name,sirname,age,course=\"chetana\",\"vasave\",29,\"AI\""
   ]
  },
  {
   "cell_type": "markdown",
   "id": "f35c3d7f-cf4d-41bf-8543-e3a2be71d2bb",
   "metadata": {},
   "source": [
    "# Literals: a data which is given in a variable or constant"
   ]
  },
  {
   "cell_type": "markdown",
   "id": "dee1a1ef-75d1-4dcc-9854-2141c9673d37",
   "metadata": {},
   "source": [
    "- 1. numeric/float\n",
    "- 2. text /string literal\n",
    "- 3. Boolean literals e.g. a=True\n",
    "- 4. collection : to store multiple values\n",
    "    - list: l=[1,2,3,\"chetana\"]\n",
    "    - tuple: t=(1,2,5)\n",
    "    - set : {1,2,3}\n",
    "- 5. special literal\n",
    "    - dict :key and value pair\n",
    "    d={\"name\":\"chetana\"}"
   ]
  },
  {
   "cell_type": "markdown",
   "id": "7724c43b-15c1-4cbd-977d-5dbec671a4d9",
   "metadata": {},
   "source": [
    "### Example 1"
   ]
  },
  {
   "cell_type": "code",
   "execution_count": 8,
   "id": "66958699-f0c6-41d1-a269-931e4653fdd1",
   "metadata": {},
   "outputs": [
    {
     "name": "stdout",
     "output_type": "stream",
     "text": [
      "113.03999999999999\n"
     ]
    }
   ],
   "source": [
    "#calcualte area of circle(r=6)\n",
    "#Required: formula===>pie *radius*radius\n",
    "radius=6  #var1\n",
    "pie=3.14  #var2\n",
    "area_of_circle=pie*radius*radius\n",
    "print(area_of_circle)\n"
   ]
  },
  {
   "cell_type": "code",
   "execution_count": 11,
   "id": "4bfac685-2545-43de-8c83-4b276d412749",
   "metadata": {},
   "outputs": [
    {
     "name": "stdout",
     "output_type": "stream",
     "text": [
      "113.14285714285714\n"
     ]
    }
   ],
   "source": [
    "radius=6  #var1\n",
    "pie=22/7  #var2\n",
    "area_of_circle=pie*radius**2\n",
    "print(area_of_circle)"
   ]
  },
  {
   "cell_type": "code",
   "execution_count": 10,
   "id": "7696744d-0eae-4de5-846e-743cf6255a68",
   "metadata": {},
   "outputs": [
    {
     "data": {
      "text/plain": [
       "3.142857142857143"
      ]
     },
     "execution_count": 10,
     "metadata": {},
     "output_type": "execute_result"
    }
   ],
   "source": [
    "22/7"
   ]
  },
  {
   "cell_type": "code",
   "execution_count": 13,
   "id": "0c9fefa2-410f-45ca-bd33-49e0cd737474",
   "metadata": {},
   "outputs": [
    {
     "name": "stdout",
     "output_type": "stream",
     "text": [
      "4.0\n"
     ]
    }
   ],
   "source": [
    "#calculate area of triangle\n",
    "base=4\n",
    "height=2\n",
    "area_of_triangle=1/2*base*height\n",
    "print(area_of_triangle)"
   ]
  },
  {
   "cell_type": "code",
   "execution_count": null,
   "id": "7f784e8e-efac-4edd-bdb3-b41ab7a379c8",
   "metadata": {},
   "outputs": [],
   "source": []
  }
 ],
 "metadata": {
  "kernelspec": {
   "display_name": "Python 3 (ipykernel)",
   "language": "python",
   "name": "python3"
  },
  "language_info": {
   "codemirror_mode": {
    "name": "ipython",
    "version": 3
   },
   "file_extension": ".py",
   "mimetype": "text/x-python",
   "name": "python",
   "nbconvert_exporter": "python",
   "pygments_lexer": "ipython3",
   "version": "3.11.7"
  }
 },
 "nbformat": 4,
 "nbformat_minor": 5
}
