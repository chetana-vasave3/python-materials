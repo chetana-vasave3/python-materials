{
 "cells": [
  {
   "cell_type": "code",
   "execution_count": 1,
   "id": "6dae0b6f-fa1f-40ea-b991-09e0da27fd28",
   "metadata": {},
   "outputs": [
    {
     "name": "stdin",
     "output_type": "stream",
     "text": [
      "Enter no1: 7\n",
      "Enter no1: 8\n"
     ]
    },
    {
     "name": "stdout",
     "output_type": "stream",
     "text": [
      "15\n"
     ]
    }
   ],
   "source": [
    "#addition\n",
    "a=int(input(\"Enter no1:\"))\n",
    "b=int(input(\"Enter no1:\"))\n",
    "#print(a+b)\n",
    "c=a+b\n",
    "print(c)"
   ]
  },
  {
   "cell_type": "markdown",
   "id": "3af959a2-77ed-4761-b957-a78dd7949117",
   "metadata": {},
   "source": [
    "## eval() : function: expressions"
   ]
  },
  {
   "cell_type": "code",
   "execution_count": 2,
   "id": "3e3967f5-3dc8-4914-8c29-0f0e67ec5869",
   "metadata": {},
   "outputs": [
    {
     "name": "stdin",
     "output_type": "stream",
     "text": [
      "Enter no1: 4\n",
      "Enter no1: 5\n"
     ]
    },
    {
     "name": "stdout",
     "output_type": "stream",
     "text": [
      "45\n"
     ]
    }
   ],
   "source": [
    "#addition\n",
    "a=(input(\"Enter no1:\"))  #str\n",
    "b=(input(\"Enter no1:\"))\n",
    "#print(a+b)\n",
    "c=a+b\n",
    "print(c)"
   ]
  },
  {
   "cell_type": "code",
   "execution_count": 3,
   "id": "2b1403ee-9fe4-47a4-9ed5-5c6f054fa65a",
   "metadata": {},
   "outputs": [
    {
     "name": "stdin",
     "output_type": "stream",
     "text": [
      "Enter no1: 4.5\n",
      "Enter no1: 8.6\n"
     ]
    },
    {
     "name": "stdout",
     "output_type": "stream",
     "text": [
      "13.1\n"
     ]
    }
   ],
   "source": [
    "#addition\n",
    "a=float(input(\"Enter no1:\"))\n",
    "b=float(input(\"Enter no1:\"))\n",
    "#print(a+b)\n",
    "c=a+b\n",
    "print(c)"
   ]
  },
  {
   "cell_type": "code",
   "execution_count": 4,
   "id": "8be87a4a-3d87-4afd-b596-5e05813a5fa1",
   "metadata": {},
   "outputs": [
    {
     "name": "stdin",
     "output_type": "stream",
     "text": [
      "Enter no1: \"chetana\"\n",
      "Enter no1: \"vasave\"\n"
     ]
    },
    {
     "name": "stdout",
     "output_type": "stream",
     "text": [
      "chetanavasave\n"
     ]
    }
   ],
   "source": [
    "#addition\n",
    "a=eval(input(\"Enter no1:\"))   #any data type \n",
    "b=eval(input(\"Enter no1:\"))\n",
    "#print(a+b)\n",
    "c=a+b\n",
    "print(c)"
   ]
  },
  {
   "cell_type": "code",
   "execution_count": 5,
   "id": "2bc0ab5d-af70-42a8-bcf2-2c84046588cf",
   "metadata": {},
   "outputs": [
    {
     "name": "stdin",
     "output_type": "stream",
     "text": [
      "Enter no1: 78\n",
      "Enter no1: 89\n"
     ]
    },
    {
     "name": "stdout",
     "output_type": "stream",
     "text": [
      "167\n"
     ]
    }
   ],
   "source": [
    "#addition\n",
    "a=eval(input(\"Enter no1:\"))   #any data type \n",
    "b=eval(input(\"Enter no1:\"))\n",
    "#print(a+b)\n",
    "c=a+b\n",
    "print(c)"
   ]
  },
  {
   "cell_type": "code",
   "execution_count": 6,
   "id": "74ea5077-4fde-46df-bcb0-1467db35efd0",
   "metadata": {},
   "outputs": [
    {
     "name": "stdin",
     "output_type": "stream",
     "text": [
      "Enter no1: [1,2,3]\n",
      "Enter no1: [3,4,5]\n"
     ]
    },
    {
     "name": "stdout",
     "output_type": "stream",
     "text": [
      "[1, 2, 3, 3, 4, 5]\n"
     ]
    }
   ],
   "source": [
    "#addition\n",
    "a=eval(input(\"Enter no1:\"))   #any data type \n",
    "b=eval(input(\"Enter no1:\"))\n",
    "#print(a+b)\n",
    "c=a+b\n",
    "print(c)"
   ]
  },
  {
   "cell_type": "code",
   "execution_count": 8,
   "id": "b1e73684-0fe0-4a3a-858d-a4b746a3b2fd",
   "metadata": {},
   "outputs": [
    {
     "name": "stdin",
     "output_type": "stream",
     "text": [
      "Enter no1: {1,2,1,1}\n",
      "Enter no1: {1,1,1,2}\n"
     ]
    },
    {
     "name": "stdout",
     "output_type": "stream",
     "text": [
      "{1, 2}\n"
     ]
    }
   ],
   "source": [
    "#addition\n",
    "a=eval(input(\"Enter no1:\"))   #any data type \n",
    "b=eval(input(\"Enter no1:\"))\n",
    "#print(a+b)\n",
    "c=a|b\n",
    "print(c)"
   ]
  },
  {
   "cell_type": "code",
   "execution_count": 14,
   "id": "b888013f-aae5-484a-bce9-5935a2c1322c",
   "metadata": {},
   "outputs": [
    {
     "data": {
      "text/plain": [
       "-41"
      ]
     },
     "execution_count": 14,
     "metadata": {},
     "output_type": "execute_result"
    }
   ],
   "source": [
    "#To solve Mathematical expressions\n",
    "#2*x+3*y-8*Z\n",
    "expression=\"2*x+3*y-8*z\"   #expression==>string format\n",
    "x=1\n",
    "y=7\n",
    "z=8\n",
    "eval(expression)\n"
   ]
  },
  {
   "cell_type": "code",
   "execution_count": 12,
   "id": "dc9258a9-0742-45d8-aa3a-66133cff3509",
   "metadata": {},
   "outputs": [
    {
     "data": {
      "text/plain": [
       "-41"
      ]
     },
     "execution_count": 12,
     "metadata": {},
     "output_type": "execute_result"
    }
   ],
   "source": [
    "x=1\n",
    "y=7\n",
    "z=8\n",
    "2*x+3*y-8*z"
   ]
  },
  {
   "cell_type": "code",
   "execution_count": 13,
   "id": "04bb8ed6-ae89-43e1-a647-e1f9b156abc4",
   "metadata": {},
   "outputs": [
    {
     "data": {
      "text/plain": [
       "57"
      ]
     },
     "execution_count": 13,
     "metadata": {},
     "output_type": "execute_result"
    }
   ],
   "source": [
    "a=2\n",
    "b=9\n",
    "c=10\n",
    "eval(\"a*a-3*b+8*c\")"
   ]
  },
  {
   "cell_type": "markdown",
   "id": "b6a25ebc-0c0e-4701-858b-fd8416fedcb4",
   "metadata": {},
   "source": [
    "# Logical control statements"
   ]
  },
  {
   "cell_type": "markdown",
   "id": "758f9e48-5114-4b34-b0a5-861e1218711e",
   "metadata": {},
   "source": [
    "- only if\n",
    "- if-else\n",
    "- nested if\n",
    "- if-elif"
   ]
  },
  {
   "cell_type": "code",
   "execution_count": 16,
   "id": "f5d8776b-d91d-444c-8058-7c4d1e0b9648",
   "metadata": {},
   "outputs": [
    {
     "name": "stdin",
     "output_type": "stream",
     "text": [
      "Enter your age: 4\n"
     ]
    }
   ],
   "source": [
    "age=eval(input(\"Enter your age:\"))\n",
    "#syntax\n",
    "#if condition:(after entering bydefault space(indentation))\n",
    "#statement\n",
    "if age>18:\n",
    "    print(\"You are eligible\")\n",
    "    \n"
   ]
  },
  {
   "cell_type": "code",
   "execution_count": 19,
   "id": "aff627f5-f0c3-458d-90c0-7ef7860eb968",
   "metadata": {},
   "outputs": [
    {
     "name": "stdin",
     "output_type": "stream",
     "text": [
      "Enter your age: 4\n"
     ]
    },
    {
     "name": "stdout",
     "output_type": "stream",
     "text": [
      "You are not eligible\n"
     ]
    }
   ],
   "source": [
    "age=eval(input(\"Enter your age:\"))\n",
    "if age>18:\n",
    "    print(\"You are eligible\")\n",
    "else:\n",
    "    print(\"You are not eligible\")"
   ]
  },
  {
   "cell_type": "markdown",
   "id": "8a3dcb7c-8209-46f8-85bf-94061b1c5b5c",
   "metadata": {},
   "source": [
    "## Even and odd checker"
   ]
  },
  {
   "cell_type": "code",
   "execution_count": 21,
   "id": "86b1c71f-eabe-4bcf-af80-e31bdc656152",
   "metadata": {},
   "outputs": [
    {
     "name": "stdin",
     "output_type": "stream",
     "text": [
      "Enter number: 7\n"
     ]
    },
    {
     "name": "stdout",
     "output_type": "stream",
     "text": [
      "odd\n"
     ]
    }
   ],
   "source": [
    "#8%2===0\n",
    "num=float(input(\"Enter number:\"))  #8\n",
    "if num % 2==0:\n",
    "    print(\"even\")\n",
    "else:\n",
    "    print(\"odd\")"
   ]
  },
  {
   "cell_type": "markdown",
   "id": "81c7a37f-4514-4400-8468-873e4ea79a11",
   "metadata": {},
   "source": [
    "#### Check if given num is divisible by 5 or not"
   ]
  },
  {
   "cell_type": "code",
   "execution_count": 23,
   "id": "79f7422f-cc06-4435-a88f-37c473f06c7a",
   "metadata": {},
   "outputs": [
    {
     "name": "stdin",
     "output_type": "stream",
     "text": [
      "enter number: 225\n"
     ]
    },
    {
     "name": "stdout",
     "output_type": "stream",
     "text": [
      "divisible by 5\n"
     ]
    }
   ],
   "source": [
    "num=eval(input(\"enter number:\"))\n",
    "if num%5==0:\n",
    "    print(\"divisible by 5\")\n",
    "else:\n",
    "    print(\"not divisible by 5\")"
   ]
  },
  {
   "cell_type": "markdown",
   "id": "0a848e66-8712-4cb0-86db-f35700ceebeb",
   "metadata": {},
   "source": [
    "### Check pass or fail"
   ]
  },
  {
   "cell_type": "code",
   "execution_count": 25,
   "id": "7ee9f814-9c89-4092-9876-b409c02f9087",
   "metadata": {},
   "outputs": [
    {
     "name": "stdin",
     "output_type": "stream",
     "text": [
      "enter marks: 45\n"
     ]
    },
    {
     "name": "stdout",
     "output_type": "stream",
     "text": [
      "fail\n"
     ]
    }
   ],
   "source": [
    "marks=float(input(\"enter marks:\"))\n",
    "if marks>45:\n",
    "    print(\"Pass\")\n",
    "else:\n",
    "    print(\"fail\")"
   ]
  },
  {
   "cell_type": "markdown",
   "id": "d3326e3c-afd1-458f-9130-00d8bfbccfee",
   "metadata": {},
   "source": [
    "### Larger between 2 numbers"
   ]
  },
  {
   "cell_type": "code",
   "execution_count": 26,
   "id": "75165e1e-c42a-4152-855a-ebe20476fa8f",
   "metadata": {},
   "outputs": [
    {
     "name": "stdout",
     "output_type": "stream",
     "text": [
      "50 is greater\n"
     ]
    }
   ],
   "source": [
    "n1=45\n",
    "n2=50\n",
    "if n1>n2:\n",
    "    print(n1, \"is greater\")\n",
    "else:\n",
    "    print(n2,\"is greater\")"
   ]
  },
  {
   "cell_type": "code",
   "execution_count": 27,
   "id": "5343424e-4691-473d-94c8-c13a83b6003c",
   "metadata": {},
   "outputs": [
    {
     "name": "stdout",
     "output_type": "stream",
     "text": [
      "45 is smaller\n"
     ]
    }
   ],
   "source": [
    "n1=45\n",
    "n2=50\n",
    "if n1<n2:\n",
    "    print(n1, \"is smaller\")\n",
    "else:\n",
    "    print(n2,\"is smaller\")"
   ]
  },
  {
   "cell_type": "markdown",
   "id": "383eb4f3-7fb8-41b8-b312-55cf7bb08d01",
   "metadata": {},
   "source": [
    "### if-elif: more than 2 conditions(independent)"
   ]
  },
  {
   "cell_type": "code",
   "execution_count": null,
   "id": "c753cd3c-e5fa-4a89-9fe4-c2636f1a1bb2",
   "metadata": {},
   "outputs": [],
   "source": []
  },
  {
   "cell_type": "markdown",
   "id": "df48bc08-b13d-4a26-bc53-9469e1427fce",
   "metadata": {},
   "source": [
    "### larger between 3 numbers"
   ]
  },
  {
   "cell_type": "code",
   "execution_count": 29,
   "id": "ec7efeac-2100-4e41-8e08-ba5de3de3d5e",
   "metadata": {},
   "outputs": [
    {
     "name": "stdin",
     "output_type": "stream",
     "text": [
      "enter num1: 7\n",
      "enter num2: 9\n",
      "enter num3: 2\n"
     ]
    },
    {
     "name": "stdout",
     "output_type": "stream",
     "text": [
      "9 n2 is greater\n"
     ]
    }
   ],
   "source": [
    "n1=int(input(\"enter num1:\"))\n",
    "n2=int(input(\"enter num2:\"))\n",
    "n3=int(input(\"enter num3:\"))\n",
    "if n1>n2 and n1>n3:   #F and T==>F\n",
    "    print(n1,\"n1 is greater\")\n",
    "elif n2>n1 and n2> n3:  #T and T=T\n",
    "    print(n2,\"n2 is greater\")\n",
    "else:\n",
    "    print(n3,\"n3 is greater\")\n",
    "    \n",
    "    \n",
    "    \n",
    "    \n",
    "    \n"
   ]
  },
  {
   "cell_type": "markdown",
   "id": "c2ede9ec-9d5b-4794-8ce6-dc54fcd9b94d",
   "metadata": {},
   "source": [
    "# Simple calculator Using if-elif"
   ]
  },
  {
   "cell_type": "code",
   "execution_count": 34,
   "id": "e4107b16-1031-448f-b89e-c7e616ae7ceb",
   "metadata": {},
   "outputs": [
    {
     "name": "stdin",
     "output_type": "stream",
     "text": [
      "Enter no1: 7\n",
      "Enter no2: 7\n",
      "Enter operator(+,-,*,/): %\n"
     ]
    },
    {
     "name": "stdout",
     "output_type": "stream",
     "text": [
      "Invalid Operator\n",
      "Answer is:\n",
      "20\n"
     ]
    }
   ],
   "source": [
    "#0-9\n",
    "num1=eval(input(\"Enter no1:\"))  #int/float\n",
    "num2=eval(input(\"Enter no2:\"))   #int/float\n",
    "operator=input(\"Enter operator(+,-,*,/):\")  #str\n",
    "if operator==\"+\":\n",
    "    result=num1+num2\n",
    "    # print(result)\n",
    "elif operator==\"-\":\n",
    "    result=num1-num2\n",
    "    # print(result)\n",
    "elif operator==\"*\":\n",
    "    result=num1*num2\n",
    "    # print(result)\n",
    "\n",
    "elif operator==\"/\":\n",
    "    result=num1/num2\n",
    "    # print(result) \n",
    "else:\n",
    "    print(\"Invalid Operator\")\n",
    "print(\"Answer is:\")\n",
    "print(result)\n",
    "\n"
   ]
  },
  {
   "cell_type": "code",
   "execution_count": 36,
   "id": "ba4d0235-30b5-4947-9297-72613a76f2fa",
   "metadata": {},
   "outputs": [
    {
     "name": "stdin",
     "output_type": "stream",
     "text": [
      "Enter no1: 7\n",
      "Enter no2: 5\n",
      "Enter operator(+,-,*,/): *\n"
     ]
    },
    {
     "name": "stdout",
     "output_type": "stream",
     "text": [
      "Multiplication is: 35\n"
     ]
    }
   ],
   "source": [
    "num1=eval(input(\"Enter no1:\"))  #int/float\n",
    "num2=eval(input(\"Enter no2:\"))   #int/float\n",
    "operator=input(\"Enter operator(+,-,*,/):\")  #str\n",
    "if operator==\"+\":\n",
    "    result=num1+num2\n",
    "    print(\"Addition is:\",result)\n",
    "elif operator==\"-\":\n",
    "    result=num1-num2\n",
    "    print(\"substraction is:\",result)\n",
    "elif operator==\"*\":\n",
    "    result=num1*num2\n",
    "    print(\"Multiplication is:\",result)\n",
    "\n",
    "elif operator==\"/\":\n",
    "    result=num1/num2\n",
    "    print(\"Division is:\",result)\n",
    "else:\n",
    "    print(\"Invalid Operator\")\n"
   ]
  },
  {
   "cell_type": "markdown",
   "id": "36fe3014-21f9-4683-aef4-96812a124d06",
   "metadata": {},
   "source": [
    "#### Classify senior,teenager,child using age"
   ]
  },
  {
   "cell_type": "code",
   "execution_count": 41,
   "id": "958af275-bce1-46b3-ad81-940ba4307607",
   "metadata": {},
   "outputs": [
    {
     "name": "stdin",
     "output_type": "stream",
     "text": [
      "enter your age: 39\n"
     ]
    },
    {
     "name": "stdout",
     "output_type": "stream",
     "text": [
      "Teenager\n"
     ]
    }
   ],
   "source": [
    "age=int(input(\"enter your age:\"))\n",
    "if age>40:\n",
    "    print(\"Senior\")\n",
    "elif age>18:\n",
    "    print(\"Teenager\")\n",
    "else:\n",
    "    print(\"child\")"
   ]
  },
  {
   "cell_type": "markdown",
   "id": "7ab62f78-9693-46e0-a93b-a74c0ffdb10b",
   "metadata": {},
   "source": [
    "# leap year checker"
   ]
  },
  {
   "cell_type": "code",
   "execution_count": 44,
   "id": "f31c2a04-0229-4e01-9504-6b14e62f263d",
   "metadata": {},
   "outputs": [
    {
     "name": "stdin",
     "output_type": "stream",
     "text": [
      "enter year 1800\n"
     ]
    },
    {
     "name": "stdout",
     "output_type": "stream",
     "text": [
      "Leap year\n"
     ]
    }
   ],
   "source": [
    "#2025: not leap year\n",
    "#2024: leap year\n",
    "year=int(input(\"enter year\"))\n",
    "if year%4==0:\n",
    "    print(\"Leap year\")\n",
    "else:\n",
    "    print(\"not leap year\")"
   ]
  },
  {
   "cell_type": "code",
   "execution_count": 63,
   "id": "8424aac0-f6f7-486f-b77b-866144f996b4",
   "metadata": {},
   "outputs": [
    {
     "name": "stdin",
     "output_type": "stream",
     "text": [
      "enter year 2000\n"
     ]
    },
    {
     "name": "stdout",
     "output_type": "stream",
     "text": [
      "Leap year\n"
     ]
    }
   ],
   "source": [
    "#year/4==>remainder :0\n",
    "#year/100==> remainder not 0\n",
    "#year/400==>remaider 0\n",
    "\n",
    "year=int(input(\"enter year\"))\n",
    "if (year%4==0 and year % 100!=0) or (year%400==0):   #1800 and 2000\n",
    "    print(\"Leap year\")\n",
    "else:\n",
    "    print(\"not leap year\")"
   ]
  },
  {
   "cell_type": "code",
   "execution_count": 62,
   "id": "3b8321ce-37c8-4479-b238-e66f6b9bd0b3",
   "metadata": {},
   "outputs": [
    {
     "data": {
      "text/plain": [
       "0"
      ]
     },
     "execution_count": 62,
     "metadata": {},
     "output_type": "execute_result"
    }
   ],
   "source": [
    "2000%400#(T and F) or T  =>ForT==T"
   ]
  },
  {
   "cell_type": "markdown",
   "id": "0d6c428e-30af-4606-8042-f329e5f7bf0d",
   "metadata": {},
   "source": [
    "## Positive and Negative number checker"
   ]
  },
  {
   "cell_type": "code",
   "execution_count": 66,
   "id": "8676b941-b8e0-4a05-aa04-a69be3d08a27",
   "metadata": {},
   "outputs": [
    {
     "name": "stdin",
     "output_type": "stream",
     "text": [
      "Enter num : 0\n"
     ]
    },
    {
     "name": "stdout",
     "output_type": "stream",
     "text": [
      "0.0 is Negative\n"
     ]
    }
   ],
   "source": [
    "#positive>0\n",
    "num=float(input(\"Enter num :\"))\n",
    "if num>0:\n",
    "    print(num, \"is positive\")\n",
    "else:\n",
    "    print(num, \"is Negative\")\n",
    "    "
   ]
  },
  {
   "cell_type": "code",
   "execution_count": 67,
   "id": "005e4789-a121-42cc-a4bb-8149f9da0d94",
   "metadata": {},
   "outputs": [
    {
     "name": "stdin",
     "output_type": "stream",
     "text": [
      "Enter num : 0\n"
     ]
    },
    {
     "name": "stdout",
     "output_type": "stream",
     "text": [
      "0 is neutral\n"
     ]
    }
   ],
   "source": [
    "num=float(input(\"Enter num :\"))\n",
    "if num>0:\n",
    "    print(num, \"is positive\")\n",
    "elif num==0:\n",
    "    print(\"0 is neutral\")\n",
    "else:\n",
    "    print(num, \"is Negative\")"
   ]
  },
  {
   "cell_type": "markdown",
   "id": "b99845b3-cc30-43e9-b17e-fea2b9fe9c66",
   "metadata": {},
   "source": [
    "### in which range does the given number fall :1-10,11-20,21-30 or above 30"
   ]
  },
  {
   "cell_type": "code",
   "execution_count": 70,
   "id": "7d86cd1c-3051-47c1-b4b6-df909fb7c8c0",
   "metadata": {},
   "outputs": [
    {
     "name": "stdin",
     "output_type": "stream",
     "text": [
      " 21\n"
     ]
    },
    {
     "name": "stdout",
     "output_type": "stream",
     "text": [
      "in range of 21-30\n"
     ]
    }
   ],
   "source": [
    "n=int(input())\n",
    "if 1<=n<=10:\n",
    "    print(\"in range of 1-10\")\n",
    "elif 11<=n<=20:\n",
    "    print(\"in range of 11-20\")\n",
    "elif 21<=n<=30:\n",
    "    print(\"in range of 21-30\")\n",
    "else:\n",
    "    print(\"above 30\")\n",
    "    \n",
    "    \n",
    "    "
   ]
  },
  {
   "cell_type": "markdown",
   "id": "9571d494-5ca8-487a-a84e-52b6f28ffd0c",
   "metadata": {},
   "source": [
    "# Homework"
   ]
  },
  {
   "cell_type": "code",
   "execution_count": 1,
   "id": "9a8007db-13cd-4ab7-81ae-57740aad224d",
   "metadata": {},
   "outputs": [],
   "source": [
    "#1. classify temperatue ranges: <=0:freezing, <10: cold,<30:warm >30:hot\n",
    "#2. student grade checker\n",
    "#90-100: A+ grade\n",
    "#70-90: B+ grade\n",
    "#60-70 : B grade\n",
    "#50-60 : C+ grade\n",
    "#40-50 : C grade\n",
    "#<40: fail\n",
    "\n",
    "#3. check two numbers are equl or not"
   ]
  },
  {
   "cell_type": "code",
   "execution_count": 4,
   "id": "21181bbc-11dd-4bad-b0fa-113c08e02276",
   "metadata": {},
   "outputs": [
    {
     "name": "stdin",
     "output_type": "stream",
     "text": [
      "Plz Enter Temp: 35\n"
     ]
    },
    {
     "name": "stdout",
     "output_type": "stream",
     "text": [
      "Hot\n"
     ]
    }
   ],
   "source": [
    "#Independent conditions: if -elif\n",
    "Temperature=float(input(\"Plz Enter Temp:\"))\n",
    "if Temperature<=0:\n",
    "    print(\"freezing\")\n",
    "elif Temperature<=10:\n",
    "    print(\"Cold\")\n",
    "elif Temperature<=30:\n",
    "    print(\"warm\")\n",
    "else:\n",
    "    print(\"Hot\")"
   ]
  },
  {
   "cell_type": "markdown",
   "id": "5375e12a-0b19-4133-9109-efacdfe6880b",
   "metadata": {},
   "source": [
    "# Student Grade Checker"
   ]
  },
  {
   "cell_type": "code",
   "execution_count": 6,
   "id": "401c0a2e-2d25-424f-808d-75c0e30b247b",
   "metadata": {},
   "outputs": [
    {
     "name": "stdin",
     "output_type": "stream",
     "text": [
      "plz enter your name 35\n",
      "enter your marks: 35\n"
     ]
    },
    {
     "name": "stdout",
     "output_type": "stream",
     "text": [
      "Fail\n"
     ]
    }
   ],
   "source": [
    "name=input(\"plz enter your name\")\n",
    "marks=float(input(\"enter your marks:\"))\n",
    "if 90<=marks<=100:\n",
    "    print(\"A+\")\n",
    "elif 70<=marks<90:\n",
    "    print(\"B+\")\n",
    "elif 60<=marks<70:\n",
    "    print(\"B\")\n",
    "elif 50<=marks<60:\n",
    "    print(\"C+\")\n",
    "elif 40<=marks<50:\n",
    "    print(\"C\")\n",
    "else:\n",
    "    print(\"Fail\")"
   ]
  },
  {
   "cell_type": "code",
   "execution_count": 8,
   "id": "e3cb8b60-7ad2-4286-82b8-064d02f92d4f",
   "metadata": {},
   "outputs": [
    {
     "name": "stdin",
     "output_type": "stream",
     "text": [
      "Enter num1: 74\n",
      "Enter num2: 85\n"
     ]
    },
    {
     "name": "stdout",
     "output_type": "stream",
     "text": [
      "They are not eqaul\n"
     ]
    }
   ],
   "source": [
    "num1=float(input(\"Enter num1:\"))\n",
    "num2=float(input(\"Enter num2:\"))\n",
    "if num1==num2:\n",
    "    print(\"They are equal\")\n",
    "else:\n",
    "    print(\"They are not eqaul\")"
   ]
  },
  {
   "cell_type": "code",
   "execution_count": null,
   "id": "0a123a1e-ddb8-42a8-a1c1-41d38d48565a",
   "metadata": {},
   "outputs": [],
   "source": []
  }
 ],
 "metadata": {
  "kernelspec": {
   "display_name": "Python 3 (ipykernel)",
   "language": "python",
   "name": "python3"
  },
  "language_info": {
   "codemirror_mode": {
    "name": "ipython",
    "version": 3
   },
   "file_extension": ".py",
   "mimetype": "text/x-python",
   "name": "python",
   "nbconvert_exporter": "python",
   "pygments_lexer": "ipython3",
   "version": "3.11.7"
  }
 },
 "nbformat": 4,
 "nbformat_minor": 5
}
